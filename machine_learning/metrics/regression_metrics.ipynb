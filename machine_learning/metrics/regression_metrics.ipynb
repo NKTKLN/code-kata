{
 "cells": [
  {
   "cell_type": "markdown",
   "id": "4d34ba7a",
   "metadata": {},
   "source": [
    "# 🧪 Regression Metrics Analysis\n",
    "\n",
    "In this notebook, we explore and compare various **regression evaluation metrics** using `scikit-learn`.  \n",
    "Through different test cases, we highlight how metrics like **MAE, RMSE, R², EVS, MAPE, SMAPE, WAPE, RMSLE** behave under perfect predictions, outliers, constant shifts, and edge conditions."
   ]
  },
  {
   "cell_type": "markdown",
   "id": "09ae7e75",
   "metadata": {},
   "source": [
    "### ⚙️ Importing Libraries & Environment Setup"
   ]
  },
  {
   "cell_type": "code",
   "execution_count": 248,
   "id": "8dfd5356",
   "metadata": {},
   "outputs": [],
   "source": [
    "import numpy as np\n",
    "import pandas as pd\n",
    "from colorama import Fore, Style\n",
    "from numpy.typing import NDArray\n",
    "from sklearn.metrics import (\n",
    "    explained_variance_score,\n",
    "    mean_absolute_error,\n",
    "    mean_absolute_percentage_error,\n",
    "    mean_squared_error,\n",
    "    r2_score,\n",
    "    root_mean_squared_error,\n",
    "    root_mean_squared_log_error,\n",
    ")"
   ]
  },
  {
   "cell_type": "code",
   "execution_count": 249,
   "id": "d14d1df6",
   "metadata": {},
   "outputs": [],
   "source": [
    "%matplotlib inline\n",
    "\n",
    "pd.set_option(\"display.width\", 150)\n",
    "pd.set_option(\"display.max_rows\", 100)\n",
    "pd.set_option(\"display.max_columns\", None)"
   ]
  },
  {
   "cell_type": "markdown",
   "id": "0ca6735b",
   "metadata": {},
   "source": [
    "### 🧰 Utility Functions"
   ]
  },
  {
   "cell_type": "code",
   "execution_count": null,
   "id": "c9707a79",
   "metadata": {},
   "outputs": [],
   "source": [
    "def highlight_invalid_regression_metrics(column: pd.Series) -> list[str]:\n",
    "    \"\"\"Returns a list of CSS styles to highlight regression metric values.\n",
    "\n",
    "    Highlights depend on the metric type (column name) and value ranges:\n",
    "    - Green: good values,\n",
    "    - Orange: warning,\n",
    "    - Red: poor values.\n",
    "\n",
    "    Args:\n",
    "        column (pd.Series): Metric values.\n",
    "\n",
    "    Returns:\n",
    "        list[str]: CSS styles for each cell in the column.\n",
    "    \"\"\"\n",
    "    metric = column.name\n",
    "    highlight_styles = []\n",
    "    for val in column:\n",
    "        if val == \"NaN\" or (isinstance(val, float) and np.isnan(val)):\n",
    "            highlight_styles.append(\"\")\n",
    "            continue\n",
    "\n",
    "        try:\n",
    "            val_float = float(val)\n",
    "        except (ValueError, TypeError):\n",
    "            highlight_styles.append(\"\")\n",
    "            continue\n",
    "\n",
    "        # R² / EVS\n",
    "        if metric in {\"R²\", \"EVS\"}:\n",
    "            if val_float < 0.5:\n",
    "                style = \"background-color: red; color: white\"\n",
    "            elif val_float <= 0.8:\n",
    "                style = \"background-color: orange; color: white\"\n",
    "            else:\n",
    "                style = \"background-color: green; color: white\"\n",
    "\n",
    "        # MAPE / SMAPE / WAPE / RMSLE\n",
    "        elif metric in {\"MAPE\", \"SMAPE\", \"RMSLE\", \"WAPE\"}:\n",
    "            if val_float > 0.2:\n",
    "                style = \"background-color: red; color: white\"\n",
    "            elif val_float >= 0.1:\n",
    "                style = \"background-color: orange; color: white\"\n",
    "            else:\n",
    "                style = \"background-color: green; color: white\"\n",
    "\n",
    "        else:\n",
    "            style = \"\"\n",
    "\n",
    "        highlight_styles.append(style)\n",
    "\n",
    "    return highlight_styles"
   ]
  },
  {
   "cell_type": "code",
   "execution_count": 251,
   "id": "a3c72a92",
   "metadata": {},
   "outputs": [],
   "source": [
    "def symmetric_mean_absolute_percentage_error(\n",
    "    y_true: NDArray[np.float64], y_pred: NDArray[np.float64]\n",
    ") -> float:\n",
    "    \"\"\"Compute the Symmetric Mean Absolute Percentage Error.\n",
    "\n",
    "    Args:\n",
    "        y_true (NDArray[np.float64]): Ground truth (actual) values.\n",
    "        y_pred (NDArray[np.float64]): Predicted values.\n",
    "\n",
    "    Returns:\n",
    "        float: SMAPE value (between 0 and 2). Multiply by 100 to get percentage.\n",
    "    \"\"\"\n",
    "    diff = 2 * np.abs(y_true - y_pred)\n",
    "\n",
    "    denominator = np.abs(y_true) + np.abs(y_pred)\n",
    "    denominator = np.where(denominator == 0, 1, denominator)  # Avoid division by zero\n",
    "\n",
    "    return np.mean(diff / denominator)"
   ]
  },
  {
   "cell_type": "code",
   "execution_count": 252,
   "id": "5b9c4a46",
   "metadata": {},
   "outputs": [],
   "source": [
    "def evaluate_regression_metrics(\n",
    "    y_true: NDArray[np.float64], y_pred: NDArray[np.float64]\n",
    ") -> pd.io.formats.style.Styler:\n",
    "    \"\"\"Evaluate regression metrics for a single prediction result.\n",
    "\n",
    "    Args:\n",
    "        y_true (np.ndarray): Ground truth values.\n",
    "        y_pred (np.ndarray): Predicted values.\n",
    "\n",
    "    Returns:\n",
    "        pd.io.formats.style.Styler: Styler object with highlighted problematic metrics.\n",
    "    \"\"\"\n",
    "    metrics = {\n",
    "        \"MAE\": mean_absolute_error(y_true, y_pred),\n",
    "        \"MSE\": mean_squared_error(y_true, y_pred),\n",
    "        \"RMSE\": root_mean_squared_error(y_true, y_pred),\n",
    "        \"R²\": r2_score(y_true, y_pred),\n",
    "        \"EVS\": explained_variance_score(y_true, y_pred),\n",
    "        \"MAPE\": mean_absolute_percentage_error(y_true, y_pred),\n",
    "        \"SMAPE\": symmetric_mean_absolute_percentage_error(y_true, y_pred),\n",
    "        \"RMSLE\": root_mean_squared_log_error(y_true, y_pred),\n",
    "        \"WAPE\": np.sum(np.abs(y_true - y_pred)) / np.sum(np.abs(y_true)),\n",
    "    }\n",
    "\n",
    "    def clean_number(val: float) -> str:\n",
    "        \"\"\"Format a numeric metric value into a string.\n",
    "\n",
    "        - Returns \"NaN\" if the value is NaN.\n",
    "        - Converts to integer string if the value is integer.\n",
    "        - Otherwise, rounds to 4 decimal places and converts to string.\n",
    "\n",
    "        Args:\n",
    "            val (float): The numeric value to format.\n",
    "\n",
    "        Returns:\n",
    "            str: Formatted string representation of the number.\n",
    "        \"\"\"\n",
    "        if np.isnan(val):\n",
    "            return \"NaN\"\n",
    "        if float(val).is_integer():\n",
    "            return str(int(val))\n",
    "        return str(round(val, 4))\n",
    "\n",
    "    df = pd.DataFrame([metrics], index=[\"Value\"])\n",
    "    df = df.map(clean_number)\n",
    "    df = df.style.apply(highlight_invalid_regression_metrics, axis=0)\n",
    "    return df"
   ]
  },
  {
   "cell_type": "markdown",
   "id": "37549ace",
   "metadata": {},
   "source": [
    "### 📊 Comparing Metrics Versions"
   ]
  },
  {
   "cell_type": "markdown",
   "id": "96ac5371",
   "metadata": {},
   "source": [
    "#### Perfect Prediction"
   ]
  },
  {
   "cell_type": "code",
   "execution_count": 253,
   "id": "8e17bc60",
   "metadata": {},
   "outputs": [
    {
     "data": {
      "text/html": [
       "<style type=\"text/css\">\n",
       "#T_a63df_row0_col3, #T_a63df_row0_col4, #T_a63df_row0_col5, #T_a63df_row0_col6, #T_a63df_row0_col7, #T_a63df_row0_col8 {\n",
       "  background-color: green;\n",
       "  color: white;\n",
       "}\n",
       "</style>\n",
       "<table id=\"T_a63df\">\n",
       "  <thead>\n",
       "    <tr>\n",
       "      <th class=\"blank level0\" >&nbsp;</th>\n",
       "      <th id=\"T_a63df_level0_col0\" class=\"col_heading level0 col0\" >MAE</th>\n",
       "      <th id=\"T_a63df_level0_col1\" class=\"col_heading level0 col1\" >MSE</th>\n",
       "      <th id=\"T_a63df_level0_col2\" class=\"col_heading level0 col2\" >RMSE</th>\n",
       "      <th id=\"T_a63df_level0_col3\" class=\"col_heading level0 col3\" >R²</th>\n",
       "      <th id=\"T_a63df_level0_col4\" class=\"col_heading level0 col4\" >EVS</th>\n",
       "      <th id=\"T_a63df_level0_col5\" class=\"col_heading level0 col5\" >MAPE</th>\n",
       "      <th id=\"T_a63df_level0_col6\" class=\"col_heading level0 col6\" >SMAPE</th>\n",
       "      <th id=\"T_a63df_level0_col7\" class=\"col_heading level0 col7\" >RMSLE</th>\n",
       "      <th id=\"T_a63df_level0_col8\" class=\"col_heading level0 col8\" >WAPE</th>\n",
       "    </tr>\n",
       "  </thead>\n",
       "  <tbody>\n",
       "    <tr>\n",
       "      <th id=\"T_a63df_level0_row0\" class=\"row_heading level0 row0\" >Value</th>\n",
       "      <td id=\"T_a63df_row0_col0\" class=\"data row0 col0\" >0</td>\n",
       "      <td id=\"T_a63df_row0_col1\" class=\"data row0 col1\" >0</td>\n",
       "      <td id=\"T_a63df_row0_col2\" class=\"data row0 col2\" >0</td>\n",
       "      <td id=\"T_a63df_row0_col3\" class=\"data row0 col3\" >1</td>\n",
       "      <td id=\"T_a63df_row0_col4\" class=\"data row0 col4\" >1</td>\n",
       "      <td id=\"T_a63df_row0_col5\" class=\"data row0 col5\" >0</td>\n",
       "      <td id=\"T_a63df_row0_col6\" class=\"data row0 col6\" >0</td>\n",
       "      <td id=\"T_a63df_row0_col7\" class=\"data row0 col7\" >0</td>\n",
       "      <td id=\"T_a63df_row0_col8\" class=\"data row0 col8\" >0</td>\n",
       "    </tr>\n",
       "  </tbody>\n",
       "</table>\n"
      ],
      "text/plain": [
       "<pandas.io.formats.style.Styler at 0x11fcbb9d0>"
      ]
     },
     "execution_count": 253,
     "metadata": {},
     "output_type": "execute_result"
    }
   ],
   "source": [
    "y_true = np.array([1, 2, 3, 4, 5])\n",
    "y_pred = np.array([1, 2, 3, 4, 5])\n",
    "evaluate_regression_metrics(y_true, y_pred)"
   ]
  },
  {
   "cell_type": "markdown",
   "id": "55383311",
   "metadata": {},
   "source": [
    "**Conclusion:**  \n",
    "All metrics return ideal values:\n",
    "- MAE, MSE, RMSE = 0\n",
    "- R² = EVS = 1 → perfect model, explains 100% of the variance\n",
    "- MAPE, RMSLE, WAPE = 0%"
   ]
  },
  {
   "cell_type": "markdown",
   "id": "e6837f05",
   "metadata": {},
   "source": [
    "#### Small, Uniform Errors"
   ]
  },
  {
   "cell_type": "code",
   "execution_count": 254,
   "id": "c4baa28c",
   "metadata": {},
   "outputs": [
    {
     "data": {
      "text/html": [
       "<style type=\"text/css\">\n",
       "#T_8ad77_row0_col3, #T_8ad77_row0_col4, #T_8ad77_row0_col5, #T_8ad77_row0_col6, #T_8ad77_row0_col7, #T_8ad77_row0_col8 {\n",
       "  background-color: green;\n",
       "  color: white;\n",
       "}\n",
       "</style>\n",
       "<table id=\"T_8ad77\">\n",
       "  <thead>\n",
       "    <tr>\n",
       "      <th class=\"blank level0\" >&nbsp;</th>\n",
       "      <th id=\"T_8ad77_level0_col0\" class=\"col_heading level0 col0\" >MAE</th>\n",
       "      <th id=\"T_8ad77_level0_col1\" class=\"col_heading level0 col1\" >MSE</th>\n",
       "      <th id=\"T_8ad77_level0_col2\" class=\"col_heading level0 col2\" >RMSE</th>\n",
       "      <th id=\"T_8ad77_level0_col3\" class=\"col_heading level0 col3\" >R²</th>\n",
       "      <th id=\"T_8ad77_level0_col4\" class=\"col_heading level0 col4\" >EVS</th>\n",
       "      <th id=\"T_8ad77_level0_col5\" class=\"col_heading level0 col5\" >MAPE</th>\n",
       "      <th id=\"T_8ad77_level0_col6\" class=\"col_heading level0 col6\" >SMAPE</th>\n",
       "      <th id=\"T_8ad77_level0_col7\" class=\"col_heading level0 col7\" >RMSLE</th>\n",
       "      <th id=\"T_8ad77_level0_col8\" class=\"col_heading level0 col8\" >WAPE</th>\n",
       "    </tr>\n",
       "  </thead>\n",
       "  <tbody>\n",
       "    <tr>\n",
       "      <th id=\"T_8ad77_level0_row0\" class=\"row_heading level0 row0\" >Value</th>\n",
       "      <td id=\"T_8ad77_row0_col0\" class=\"data row0 col0\" >10</td>\n",
       "      <td id=\"T_8ad77_row0_col1\" class=\"data row0 col1\" >100</td>\n",
       "      <td id=\"T_8ad77_row0_col2\" class=\"data row0 col2\" >10</td>\n",
       "      <td id=\"T_8ad77_row0_col3\" class=\"data row0 col3\" >0.995</td>\n",
       "      <td id=\"T_8ad77_row0_col4\" class=\"data row0 col4\" >0.9952</td>\n",
       "      <td id=\"T_8ad77_row0_col5\" class=\"data row0 col5\" >0.0457</td>\n",
       "      <td id=\"T_8ad77_row0_col6\" class=\"data row0 col6\" >0.0449</td>\n",
       "      <td id=\"T_8ad77_row0_col7\" class=\"data row0 col7\" >0.0522</td>\n",
       "      <td id=\"T_8ad77_row0_col8\" class=\"data row0 col8\" >0.0333</td>\n",
       "    </tr>\n",
       "  </tbody>\n",
       "</table>\n"
      ],
      "text/plain": [
       "<pandas.io.formats.style.Styler at 0x11fd44190>"
      ]
     },
     "execution_count": 254,
     "metadata": {},
     "output_type": "execute_result"
    }
   ],
   "source": [
    "y_true = np.array([100, 200, 300, 400, 500])\n",
    "y_pred = np.array([110, 190, 310, 390, 510])\n",
    "evaluate_regression_metrics(y_true, y_pred)"
   ]
  },
  {
   "cell_type": "markdown",
   "id": "84f32fdc",
   "metadata": {},
   "source": [
    "**Conclusion:**\n",
    "- MAE ≈ RMSE → errors are evenly distributed.\n",
    "- R² ≈ 0.99 and EVS ≈ 0.99 → strong fit.\n",
    "- MAPE and WAPE are both around 5% — very good.\n",
    "- RMSLE is also low, indicating minimal shift in magnitude."
   ]
  },
  {
   "cell_type": "markdown",
   "id": "c7a47928",
   "metadata": {},
   "source": [
    "#### Outlier in One Prediction"
   ]
  },
  {
   "cell_type": "code",
   "execution_count": 255,
   "id": "5a1e9abe",
   "metadata": {},
   "outputs": [
    {
     "data": {
      "text/html": [
       "<style type=\"text/css\">\n",
       "#T_b805e_row0_col3, #T_b805e_row0_col4, #T_b805e_row0_col5, #T_b805e_row0_col7, #T_b805e_row0_col8 {\n",
       "  background-color: red;\n",
       "  color: white;\n",
       "}\n",
       "#T_b805e_row0_col6 {\n",
       "  background-color: orange;\n",
       "  color: white;\n",
       "}\n",
       "</style>\n",
       "<table id=\"T_b805e\">\n",
       "  <thead>\n",
       "    <tr>\n",
       "      <th class=\"blank level0\" >&nbsp;</th>\n",
       "      <th id=\"T_b805e_level0_col0\" class=\"col_heading level0 col0\" >MAE</th>\n",
       "      <th id=\"T_b805e_level0_col1\" class=\"col_heading level0 col1\" >MSE</th>\n",
       "      <th id=\"T_b805e_level0_col2\" class=\"col_heading level0 col2\" >RMSE</th>\n",
       "      <th id=\"T_b805e_level0_col3\" class=\"col_heading level0 col3\" >R²</th>\n",
       "      <th id=\"T_b805e_level0_col4\" class=\"col_heading level0 col4\" >EVS</th>\n",
       "      <th id=\"T_b805e_level0_col5\" class=\"col_heading level0 col5\" >MAPE</th>\n",
       "      <th id=\"T_b805e_level0_col6\" class=\"col_heading level0 col6\" >SMAPE</th>\n",
       "      <th id=\"T_b805e_level0_col7\" class=\"col_heading level0 col7\" >RMSLE</th>\n",
       "      <th id=\"T_b805e_level0_col8\" class=\"col_heading level0 col8\" >WAPE</th>\n",
       "    </tr>\n",
       "  </thead>\n",
       "  <tbody>\n",
       "    <tr>\n",
       "      <th id=\"T_b805e_level0_row0\" class=\"row_heading level0 row0\" >Value</th>\n",
       "      <td id=\"T_b805e_row0_col0\" class=\"data row0 col0\" >108</td>\n",
       "      <td id=\"T_b805e_row0_col1\" class=\"data row0 col1\" >50080</td>\n",
       "      <td id=\"T_b805e_row0_col2\" class=\"data row0 col2\" >223.7856</td>\n",
       "      <td id=\"T_b805e_row0_col3\" class=\"data row0 col3\" >-1.504</td>\n",
       "      <td id=\"T_b805e_row0_col4\" class=\"data row0 col4\" >-1.004</td>\n",
       "      <td id=\"T_b805e_row0_col5\" class=\"data row0 col5\" >0.2417</td>\n",
       "      <td id=\"T_b805e_row0_col6\" class=\"data row0 col6\" >0.1743</td>\n",
       "      <td id=\"T_b805e_row0_col7\" class=\"data row0 col7\" >0.3138</td>\n",
       "      <td id=\"T_b805e_row0_col8\" class=\"data row0 col8\" >0.36</td>\n",
       "    </tr>\n",
       "  </tbody>\n",
       "</table>\n"
      ],
      "text/plain": [
       "<pandas.io.formats.style.Styler at 0x11fd44550>"
      ]
     },
     "execution_count": 255,
     "metadata": {},
     "output_type": "execute_result"
    }
   ],
   "source": [
    "y_true = np.array([100, 200, 300, 400, 500])\n",
    "y_pred = np.array([110, 190, 310, 390, 1000])  # large outlier at the end\n",
    "evaluate_regression_metrics(y_true, y_pred)"
   ]
  },
  {
   "cell_type": "markdown",
   "id": "56d610bb",
   "metadata": {},
   "source": [
    "**Conclusion:**\n",
    "- RMSE increases sharply → confirms its sensitivity to outliers.\n",
    "- R² and EVS becomes negative → model performs worse than the mean.\n",
    "- MAPE and WAPE worsen significantly.\n",
    "- RMSLE is heavily affected by the outlier."
   ]
  },
  {
   "cell_type": "markdown",
   "id": "05aacf27",
   "metadata": {},
   "source": [
    "#### Division by Zero in MAPE"
   ]
  },
  {
   "cell_type": "code",
   "execution_count": 256,
   "id": "1bb4998d",
   "metadata": {},
   "outputs": [
    {
     "data": {
      "text/html": [
       "<style type=\"text/css\">\n",
       "#T_c494b_row0_col3, #T_c494b_row0_col4, #T_c494b_row0_col7, #T_c494b_row0_col8 {\n",
       "  background-color: green;\n",
       "  color: white;\n",
       "}\n",
       "#T_c494b_row0_col5, #T_c494b_row0_col6 {\n",
       "  background-color: red;\n",
       "  color: white;\n",
       "}\n",
       "</style>\n",
       "<table id=\"T_c494b\">\n",
       "  <thead>\n",
       "    <tr>\n",
       "      <th class=\"blank level0\" >&nbsp;</th>\n",
       "      <th id=\"T_c494b_level0_col0\" class=\"col_heading level0 col0\" >MAE</th>\n",
       "      <th id=\"T_c494b_level0_col1\" class=\"col_heading level0 col1\" >MSE</th>\n",
       "      <th id=\"T_c494b_level0_col2\" class=\"col_heading level0 col2\" >RMSE</th>\n",
       "      <th id=\"T_c494b_level0_col3\" class=\"col_heading level0 col3\" >R²</th>\n",
       "      <th id=\"T_c494b_level0_col4\" class=\"col_heading level0 col4\" >EVS</th>\n",
       "      <th id=\"T_c494b_level0_col5\" class=\"col_heading level0 col5\" >MAPE</th>\n",
       "      <th id=\"T_c494b_level0_col6\" class=\"col_heading level0 col6\" >SMAPE</th>\n",
       "      <th id=\"T_c494b_level0_col7\" class=\"col_heading level0 col7\" >RMSLE</th>\n",
       "      <th id=\"T_c494b_level0_col8\" class=\"col_heading level0 col8\" >WAPE</th>\n",
       "    </tr>\n",
       "  </thead>\n",
       "  <tbody>\n",
       "    <tr>\n",
       "      <th id=\"T_c494b_level0_row0\" class=\"row_heading level0 row0\" >Value</th>\n",
       "      <td id=\"T_c494b_row0_col0\" class=\"data row0 col0\" >0.14</td>\n",
       "      <td id=\"T_c494b_row0_col1\" class=\"data row0 col1\" >0.022</td>\n",
       "      <td id=\"T_c494b_row0_col2\" class=\"data row0 col2\" >0.1483</td>\n",
       "      <td id=\"T_c494b_row0_col3\" class=\"data row0 col3\" >0.989</td>\n",
       "      <td id=\"T_c494b_row0_col4\" class=\"data row0 col4\" >0.994</td>\n",
       "      <td id=\"T_c494b_row0_col5\" class=\"data row0 col5\" >90071992547410</td>\n",
       "      <td id=\"T_c494b_row0_col6\" class=\"data row0 col6\" >0.4627</td>\n",
       "      <td id=\"T_c494b_row0_col7\" class=\"data row0 col7\" >0.0655</td>\n",
       "      <td id=\"T_c494b_row0_col8\" class=\"data row0 col8\" >0.07</td>\n",
       "    </tr>\n",
       "  </tbody>\n",
       "</table>\n"
      ],
      "text/plain": [
       "<pandas.io.formats.style.Styler at 0x11fd44410>"
      ]
     },
     "execution_count": 256,
     "metadata": {},
     "output_type": "execute_result"
    }
   ],
   "source": [
    "y_true = np.array([0, 1, 2, 3, 4])\n",
    "y_pred = np.array([0.1, 1.2, 2.1, 2.9, 4.2])\n",
    "evaluate_regression_metrics(y_true, y_pred)"
   ]
  },
  {
   "cell_type": "markdown",
   "id": "1516e81e",
   "metadata": {},
   "source": [
    "**Conclusion:**\n",
    "- MAPE returns a huge value (sometimes `inf`) due to division by zero.\n",
    "- RMSLE handles zeros but requires all values ≥ 0.\n",
    "- R², EVS, MAE, RMSE behave normally.\n",
    "\n",
    "⚠️ MAPE is not safe when `y_true` contains zeros."
   ]
  },
  {
   "cell_type": "markdown",
   "id": "5c4eb9b7",
   "metadata": {},
   "source": [
    "#### Large Value Masks Small Errors (WAPE is Misleading)"
   ]
  },
  {
   "cell_type": "code",
   "execution_count": 257,
   "id": "02448a8a",
   "metadata": {},
   "outputs": [
    {
     "data": {
      "text/html": [
       "<style type=\"text/css\">\n",
       "#T_03433_row0_col3, #T_03433_row0_col4 {\n",
       "  background-color: green;\n",
       "  color: white;\n",
       "}\n",
       "#T_03433_row0_col5, #T_03433_row0_col6, #T_03433_row0_col7 {\n",
       "  background-color: red;\n",
       "  color: white;\n",
       "}\n",
       "#T_03433_row0_col8 {\n",
       "  background-color: orange;\n",
       "  color: white;\n",
       "}\n",
       "</style>\n",
       "<table id=\"T_03433\">\n",
       "  <thead>\n",
       "    <tr>\n",
       "      <th class=\"blank level0\" >&nbsp;</th>\n",
       "      <th id=\"T_03433_level0_col0\" class=\"col_heading level0 col0\" >MAE</th>\n",
       "      <th id=\"T_03433_level0_col1\" class=\"col_heading level0 col1\" >MSE</th>\n",
       "      <th id=\"T_03433_level0_col2\" class=\"col_heading level0 col2\" >RMSE</th>\n",
       "      <th id=\"T_03433_level0_col3\" class=\"col_heading level0 col3\" >R²</th>\n",
       "      <th id=\"T_03433_level0_col4\" class=\"col_heading level0 col4\" >EVS</th>\n",
       "      <th id=\"T_03433_level0_col5\" class=\"col_heading level0 col5\" >MAPE</th>\n",
       "      <th id=\"T_03433_level0_col6\" class=\"col_heading level0 col6\" >SMAPE</th>\n",
       "      <th id=\"T_03433_level0_col7\" class=\"col_heading level0 col7\" >RMSLE</th>\n",
       "      <th id=\"T_03433_level0_col8\" class=\"col_heading level0 col8\" >WAPE</th>\n",
       "    </tr>\n",
       "  </thead>\n",
       "  <tbody>\n",
       "    <tr>\n",
       "      <th id=\"T_03433_level0_row0\" class=\"row_heading level0 row0\" >Value</th>\n",
       "      <td id=\"T_03433_row0_col0\" class=\"data row0 col0\" >20.8</td>\n",
       "      <td id=\"T_03433_row0_col1\" class=\"data row0 col1\" >2000.8</td>\n",
       "      <td id=\"T_03433_row0_col2\" class=\"data row0 col2\" >44.7303</td>\n",
       "      <td id=\"T_03433_row0_col3\" class=\"data row0 col3\" >0.9875</td>\n",
       "      <td id=\"T_03433_row0_col4\" class=\"data row0 col4\" >0.9902</td>\n",
       "      <td id=\"T_03433_row0_col5\" class=\"data row0 col5\" >0.82</td>\n",
       "      <td id=\"T_03433_row0_col6\" class=\"data row0 col6\" >1.6211</td>\n",
       "      <td id=\"T_03433_row0_col7\" class=\"data row0 col7\" >0.6218</td>\n",
       "      <td id=\"T_03433_row0_col8\" class=\"data row0 col8\" >0.1036</td>\n",
       "    </tr>\n",
       "  </tbody>\n",
       "</table>\n"
      ],
      "text/plain": [
       "<pandas.io.formats.style.Styler at 0x11fd44690>"
      ]
     },
     "execution_count": 257,
     "metadata": {},
     "output_type": "execute_result"
    }
   ],
   "source": [
    "y_true = np.array([1, 1, 1, 1, 1000])\n",
    "y_pred = np.array([0, 0, 0, 0, 900])\n",
    "evaluate_regression_metrics(y_true, y_pred)"
   ]
  },
  {
   "cell_type": "markdown",
   "id": "8923ca3f",
   "metadata": {},
   "source": [
    "**Conclusion:**\n",
    "- WAPE is ~10% → looks acceptable, but small values have 100% errors!\n",
    "- WAPE underrepresents small absolute errors when dominated by large values."
   ]
  },
  {
   "cell_type": "markdown",
   "id": "abe14ff6",
   "metadata": {},
   "source": [
    "#### Predicting the Mean"
   ]
  },
  {
   "cell_type": "code",
   "execution_count": 258,
   "id": "70bd2a72",
   "metadata": {},
   "outputs": [
    {
     "data": {
      "text/html": [
       "<style type=\"text/css\">\n",
       "#T_08337_row0_col3, #T_08337_row0_col4, #T_08337_row0_col5, #T_08337_row0_col6, #T_08337_row0_col7, #T_08337_row0_col8 {\n",
       "  background-color: red;\n",
       "  color: white;\n",
       "}\n",
       "</style>\n",
       "<table id=\"T_08337\">\n",
       "  <thead>\n",
       "    <tr>\n",
       "      <th class=\"blank level0\" >&nbsp;</th>\n",
       "      <th id=\"T_08337_level0_col0\" class=\"col_heading level0 col0\" >MAE</th>\n",
       "      <th id=\"T_08337_level0_col1\" class=\"col_heading level0 col1\" >MSE</th>\n",
       "      <th id=\"T_08337_level0_col2\" class=\"col_heading level0 col2\" >RMSE</th>\n",
       "      <th id=\"T_08337_level0_col3\" class=\"col_heading level0 col3\" >R²</th>\n",
       "      <th id=\"T_08337_level0_col4\" class=\"col_heading level0 col4\" >EVS</th>\n",
       "      <th id=\"T_08337_level0_col5\" class=\"col_heading level0 col5\" >MAPE</th>\n",
       "      <th id=\"T_08337_level0_col6\" class=\"col_heading level0 col6\" >SMAPE</th>\n",
       "      <th id=\"T_08337_level0_col7\" class=\"col_heading level0 col7\" >RMSLE</th>\n",
       "      <th id=\"T_08337_level0_col8\" class=\"col_heading level0 col8\" >WAPE</th>\n",
       "    </tr>\n",
       "  </thead>\n",
       "  <tbody>\n",
       "    <tr>\n",
       "      <th id=\"T_08337_level0_row0\" class=\"row_heading level0 row0\" >Value</th>\n",
       "      <td id=\"T_08337_row0_col0\" class=\"data row0 col0\" >12</td>\n",
       "      <td id=\"T_08337_row0_col1\" class=\"data row0 col1\" >200</td>\n",
       "      <td id=\"T_08337_row0_col2\" class=\"data row0 col2\" >14.1421</td>\n",
       "      <td id=\"T_08337_row0_col3\" class=\"data row0 col3\" >0</td>\n",
       "      <td id=\"T_08337_row0_col4\" class=\"data row0 col4\" >0</td>\n",
       "      <td id=\"T_08337_row0_col5\" class=\"data row0 col5\" >0.63</td>\n",
       "      <td id=\"T_08337_row0_col6\" class=\"data row0 col6\" >0.4371</td>\n",
       "      <td id=\"T_08337_row0_col7\" class=\"data row0 col7\" >0.557</td>\n",
       "      <td id=\"T_08337_row0_col8\" class=\"data row0 col8\" >0.4</td>\n",
       "    </tr>\n",
       "  </tbody>\n",
       "</table>\n"
      ],
      "text/plain": [
       "<pandas.io.formats.style.Styler at 0x11fd447d0>"
      ]
     },
     "execution_count": 258,
     "metadata": {},
     "output_type": "execute_result"
    }
   ],
   "source": [
    "y_true = np.array([10, 20, 30, 40, 50])\n",
    "y_pred = np.array([30, 30, 30, 30, 30])\n",
    "evaluate_regression_metrics(y_true, y_pred)"
   ]
  },
  {
   "cell_type": "markdown",
   "id": "636a4f10",
   "metadata": {},
   "source": [
    "**Conclusion:**\n",
    "- MAE and RMSE reflect the average distance from the mean.\n",
    "- R² = 0 → the model is no better than simply predicting the mean.\n",
    "- EVS = 0 → the model does not explain the dispersion in the data better than simply predicting the mean value.\n",
    "- WAPE and MAPE are moderate.\n",
    "\n",
    "⚠️ **R² is not an error — it's a measure of explained variance** and can be misleading on constant predictions."
   ]
  },
  {
   "cell_type": "markdown",
   "id": "cd2163d9",
   "metadata": {},
   "source": [
    "#### RMSLE Fails on Negative Values"
   ]
  },
  {
   "cell_type": "code",
   "execution_count": 259,
   "id": "2d687258",
   "metadata": {},
   "outputs": [
    {
     "name": "stdout",
     "output_type": "stream",
     "text": [
      "\u001b[31mError: Root Mean Squared Logarithmic Error cannot be used when targets contain values less than or equal to -1.\u001b[0m\n"
     ]
    }
   ],
   "source": [
    "y_true = np.array([10, 20, 30])\n",
    "y_pred = np.array([12, -5, 25])\n",
    "\n",
    "try:\n",
    "    evaluate_regression_metrics(y_true, y_pred)\n",
    "except ValueError as e:\n",
    "    print(f\"{Fore.RED}Error: {e}{Style.RESET_ALL}\")"
   ]
  },
  {
   "cell_type": "markdown",
   "id": "9c4a4646",
   "metadata": {},
   "source": [
    "**Conclusion:**\n",
    "- RMSLE cannot be computed with negative values.    \n",
    "- Raises a ValueError: all values for RMSLE must be non-negative.\n",
    "    \n",
    "⚠️ Use caution when applying RMSLE — it assumes all values ≥ 0."
   ]
  },
  {
   "cell_type": "markdown",
   "id": "11818a22",
   "metadata": {},
   "source": [
    "#### Constant Shift (+20)"
   ]
  },
  {
   "cell_type": "code",
   "execution_count": 260,
   "id": "777256ce",
   "metadata": {},
   "outputs": [
    {
     "data": {
      "text/html": [
       "<style type=\"text/css\">\n",
       "#T_a1d1b_row0_col3, #T_a1d1b_row0_col5, #T_a1d1b_row0_col6, #T_a1d1b_row0_col7, #T_a1d1b_row0_col8 {\n",
       "  background-color: red;\n",
       "  color: white;\n",
       "}\n",
       "#T_a1d1b_row0_col4 {\n",
       "  background-color: green;\n",
       "  color: white;\n",
       "}\n",
       "</style>\n",
       "<table id=\"T_a1d1b\">\n",
       "  <thead>\n",
       "    <tr>\n",
       "      <th class=\"blank level0\" >&nbsp;</th>\n",
       "      <th id=\"T_a1d1b_level0_col0\" class=\"col_heading level0 col0\" >MAE</th>\n",
       "      <th id=\"T_a1d1b_level0_col1\" class=\"col_heading level0 col1\" >MSE</th>\n",
       "      <th id=\"T_a1d1b_level0_col2\" class=\"col_heading level0 col2\" >RMSE</th>\n",
       "      <th id=\"T_a1d1b_level0_col3\" class=\"col_heading level0 col3\" >R²</th>\n",
       "      <th id=\"T_a1d1b_level0_col4\" class=\"col_heading level0 col4\" >EVS</th>\n",
       "      <th id=\"T_a1d1b_level0_col5\" class=\"col_heading level0 col5\" >MAPE</th>\n",
       "      <th id=\"T_a1d1b_level0_col6\" class=\"col_heading level0 col6\" >SMAPE</th>\n",
       "      <th id=\"T_a1d1b_level0_col7\" class=\"col_heading level0 col7\" >RMSLE</th>\n",
       "      <th id=\"T_a1d1b_level0_col8\" class=\"col_heading level0 col8\" >WAPE</th>\n",
       "    </tr>\n",
       "  </thead>\n",
       "  <tbody>\n",
       "    <tr>\n",
       "      <th id=\"T_a1d1b_level0_row0\" class=\"row_heading level0 row0\" >Value</th>\n",
       "      <td id=\"T_a1d1b_row0_col0\" class=\"data row0 col0\" >20</td>\n",
       "      <td id=\"T_a1d1b_row0_col1\" class=\"data row0 col1\" >400</td>\n",
       "      <td id=\"T_a1d1b_row0_col2\" class=\"data row0 col2\" >20</td>\n",
       "      <td id=\"T_a1d1b_row0_col3\" class=\"data row0 col3\" >-1</td>\n",
       "      <td id=\"T_a1d1b_row0_col4\" class=\"data row0 col4\" >1</td>\n",
       "      <td id=\"T_a1d1b_row0_col5\" class=\"data row0 col5\" >0.9133</td>\n",
       "      <td id=\"T_a1d1b_row0_col6\" class=\"data row0 col6\" >0.58</td>\n",
       "      <td id=\"T_a1d1b_row0_col7\" class=\"data row0 col7\" >0.6382</td>\n",
       "      <td id=\"T_a1d1b_row0_col8\" class=\"data row0 col8\" >0.6667</td>\n",
       "    </tr>\n",
       "  </tbody>\n",
       "</table>\n"
      ],
      "text/plain": [
       "<pandas.io.formats.style.Styler at 0x11fd44910>"
      ]
     },
     "execution_count": 260,
     "metadata": {},
     "output_type": "execute_result"
    }
   ],
   "source": [
    "y_true = np.array([10, 20, 30, 40, 50])\n",
    "y_pred = np.array([30, 40, 50, 60, 70])\n",
    "evaluate_regression_metrics(y_true, y_pred)"
   ]
  },
  {
   "cell_type": "markdown",
   "id": "afdc1191",
   "metadata": {},
   "source": [
    "**Conclusion:**\n",
    "- MAE and RMSE = 20 → consistent error.\n",
    "- R² = -1 → model performs worse than predicting the mean.\n",
    "- EVS = 1 → the predictions perfectly replicate the dispersion of the target variable (the shape of the graph is identical).\n",
    "- MAPE ≈ 66% → significant relative error.\n",
    "- RMSLE is large → strong mismatch in scale.\n",
    "- WAPE shows 66% total absolute error relative to `y_true`."
   ]
  },
  {
   "cell_type": "markdown",
   "id": "acb7708d",
   "metadata": {},
   "source": [
    "#### Small Values Dominate MAPE"
   ]
  },
  {
   "cell_type": "code",
   "execution_count": 261,
   "id": "210a6ff0",
   "metadata": {},
   "outputs": [
    {
     "data": {
      "text/html": [
       "<style type=\"text/css\">\n",
       "#T_15efd_row0_col3, #T_15efd_row0_col4, #T_15efd_row0_col8 {\n",
       "  background-color: green;\n",
       "  color: white;\n",
       "}\n",
       "#T_15efd_row0_col5, #T_15efd_row0_col6, #T_15efd_row0_col7 {\n",
       "  background-color: red;\n",
       "  color: white;\n",
       "}\n",
       "</style>\n",
       "<table id=\"T_15efd\">\n",
       "  <thead>\n",
       "    <tr>\n",
       "      <th class=\"blank level0\" >&nbsp;</th>\n",
       "      <th id=\"T_15efd_level0_col0\" class=\"col_heading level0 col0\" >MAE</th>\n",
       "      <th id=\"T_15efd_level0_col1\" class=\"col_heading level0 col1\" >MSE</th>\n",
       "      <th id=\"T_15efd_level0_col2\" class=\"col_heading level0 col2\" >RMSE</th>\n",
       "      <th id=\"T_15efd_level0_col3\" class=\"col_heading level0 col3\" >R²</th>\n",
       "      <th id=\"T_15efd_level0_col4\" class=\"col_heading level0 col4\" >EVS</th>\n",
       "      <th id=\"T_15efd_level0_col5\" class=\"col_heading level0 col5\" >MAPE</th>\n",
       "      <th id=\"T_15efd_level0_col6\" class=\"col_heading level0 col6\" >SMAPE</th>\n",
       "      <th id=\"T_15efd_level0_col7\" class=\"col_heading level0 col7\" >RMSLE</th>\n",
       "      <th id=\"T_15efd_level0_col8\" class=\"col_heading level0 col8\" >WAPE</th>\n",
       "    </tr>\n",
       "  </thead>\n",
       "  <tbody>\n",
       "    <tr>\n",
       "      <th id=\"T_15efd_level0_row0\" class=\"row_heading level0 row0\" >Value</th>\n",
       "      <td id=\"T_15efd_row0_col0\" class=\"data row0 col0\" >1</td>\n",
       "      <td id=\"T_15efd_row0_col1\" class=\"data row0 col1\" >1</td>\n",
       "      <td id=\"T_15efd_row0_col2\" class=\"data row0 col2\" >1</td>\n",
       "      <td id=\"T_15efd_row0_col3\" class=\"data row0 col3\" >0.9995</td>\n",
       "      <td id=\"T_15efd_row0_col4\" class=\"data row0 col4\" >1</td>\n",
       "      <td id=\"T_15efd_row0_col5\" class=\"data row0 col5\" >0.37</td>\n",
       "      <td id=\"T_15efd_row0_col6\" class=\"data row0 col6\" >0.2573</td>\n",
       "      <td id=\"T_15efd_row0_col7\" class=\"data row0 col7\" >0.2395</td>\n",
       "      <td id=\"T_15efd_row0_col8\" class=\"data row0 col8\" >0.027</td>\n",
       "    </tr>\n",
       "  </tbody>\n",
       "</table>\n"
      ],
      "text/plain": [
       "<pandas.io.formats.style.Styler at 0x11fd44a50>"
      ]
     },
     "execution_count": 261,
     "metadata": {},
     "output_type": "execute_result"
    }
   ],
   "source": [
    "y_true = np.array([1, 10, 100])\n",
    "y_pred = np.array([2, 11, 101])  # constant error +1\n",
    "evaluate_regression_metrics(y_true, y_pred)"
   ]
  },
  {
   "cell_type": "markdown",
   "id": "c1a9cc03",
   "metadata": {},
   "source": [
    "**Conclusion:**\n",
    "- MAE = RMSE = 1 → errors are consistent and small in absolute terms.\n",
    "- MAPE = 37% → heavily influenced by the first point (1 → 2 is 100% error).\n",
    "- RMSLE is slightly inflated as well.\n",
    "\n",
    "⚠️ MAPE overreacts to small values — even tiny absolute errors can create large percentages."
   ]
  }
 ],
 "metadata": {
  "kernelspec": {
   "display_name": "python-project-template-py3.13",
   "language": "python",
   "name": "python3"
  },
  "language_info": {
   "codemirror_mode": {
    "name": "ipython",
    "version": 3
   },
   "file_extension": ".py",
   "mimetype": "text/x-python",
   "name": "python",
   "nbconvert_exporter": "python",
   "pygments_lexer": "ipython3",
   "version": "3.13.1"
  }
 },
 "nbformat": 4,
 "nbformat_minor": 5
}
