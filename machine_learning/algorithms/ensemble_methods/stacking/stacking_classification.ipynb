{
 "cells": [
  {
   "cell_type": "markdown",
   "id": "4d34ba7a",
   "metadata": {},
   "source": [
    "# 🧪 Custom Stacking Classification\n",
    "\n",
    "In this notebook, we implement a stacking ensemble classifier **from scratch** using base classifiers and a meta-model. We then compare the performance of these implementations with **scikit-learn**'s `StackingClassifier` model."
   ]
  },
  {
   "cell_type": "markdown",
   "id": "09ae7e75",
   "metadata": {},
   "source": [
    "### ⚙️ Importing Libraries & Environment Setup"
   ]
  },
  {
   "cell_type": "code",
   "execution_count": null,
   "id": "8dfd5356",
   "metadata": {},
   "outputs": [],
   "source": [
    "from copy import deepcopy\n",
    "from math import ceil\n",
    "from typing import Any\n",
    "\n",
    "import matplotlib.pyplot as plt\n",
    "import numpy as np\n",
    "import pandas as pd\n",
    "import seaborn as sns\n",
    "from numpy.typing import NDArray\n",
    "from sklearn.datasets import make_classification\n",
    "from sklearn.ensemble import (\n",
    "    RandomForestClassifier,\n",
    "    StackingClassifier,\n",
    ")\n",
    "from sklearn.linear_model import LogisticRegression\n",
    "from sklearn.metrics import (\n",
    "    accuracy_score,\n",
    "    confusion_matrix,\n",
    "    f1_score,\n",
    "    precision_score,\n",
    "    recall_score,\n",
    "    roc_auc_score,\n",
    ")\n",
    "from sklearn.model_selection import KFold, train_test_split\n",
    "from sklearn.tree import DecisionTreeClassifier"
   ]
  },
  {
   "cell_type": "code",
   "execution_count": 207,
   "id": "d14d1df6",
   "metadata": {},
   "outputs": [],
   "source": [
    "%matplotlib inline\n",
    "\n",
    "pd.set_option(\"display.width\", 150)\n",
    "pd.set_option(\"display.max_rows\", 100)\n",
    "pd.set_option(\"display.max_columns\", None)"
   ]
  },
  {
   "cell_type": "markdown",
   "id": "0ca6735b",
   "metadata": {},
   "source": [
    "### 🧰 Utility Functions"
   ]
  },
  {
   "cell_type": "code",
   "execution_count": 208,
   "id": "5b9c4a46",
   "metadata": {},
   "outputs": [],
   "source": [
    "def evaluate_classification_models(\n",
    "    predictions: dict[str, NDArray[np.float64]], y: NDArray[np.float64]\n",
    ") -> pd.DataFrame:\n",
    "    \"\"\"Evaluate multiple classification model predictions on the provided dataset.\n",
    "\n",
    "    Args:\n",
    "        predictions (dict[str, NDArray[np.float64]]): Dictionary mapping model names\n",
    "            to predicted target arrays (binary or probabilities) for the dataset.\n",
    "        y (NDArray[np.float64]): True binary target values of shape (n_samples,).\n",
    "\n",
    "    Returns:\n",
    "        pd.DataFrame: DataFrame containing classification metrics — Accuracy, Precision,\n",
    "            Recall, F1-score, and ROC AUC — for each model. Columns correspond to\n",
    "            model names, rows correspond to the metric names.\n",
    "    \"\"\"\n",
    "    evaluations = pd.DataFrame(\n",
    "        columns=predictions.keys(),\n",
    "        index=[\"Accuracy\", \"Precision\", \"Recall\", \"F1-score\", \"ROC AUC\"],\n",
    "    )\n",
    "\n",
    "    for name, y_pred in predictions.items():\n",
    "        accuracy = accuracy_score(y, y_pred)\n",
    "        precision = precision_score(y, y_pred)\n",
    "        recall = recall_score(y, y_pred)\n",
    "        f1 = f1_score(y, y_pred)\n",
    "        roc_auc = roc_auc_score(y, y_pred)\n",
    "\n",
    "        evaluations.loc[:, name] = [accuracy, precision, recall, f1, roc_auc]\n",
    "\n",
    "    return evaluations.astype(float)"
   ]
  },
  {
   "cell_type": "code",
   "execution_count": 209,
   "id": "fafdcbd5",
   "metadata": {},
   "outputs": [],
   "source": [
    "def plot_confusion_matrices(\n",
    "    predictions: dict[str, NDArray[np.int64]],\n",
    "    y_true: NDArray[np.int64],\n",
    "    n_cols: int = 2,\n",
    ") -> None:\n",
    "    \"\"\"Plot confusion matrices for multiple classification models.\n",
    "\n",
    "    Each confusion matrix compares the true labels to predictions from one model.\n",
    "    The plots are arranged in a grid layout for easy comparison.\n",
    "\n",
    "    Args:\n",
    "        predictions (dict[str, NDArray[np.int64]]): A dictionary mapping model names to\n",
    "            their predicted labels (1D array of shape (n_samples,)).\n",
    "        y_true (NDArray[np.int64]): True class labels (1D array of shape (n_samples,)).\n",
    "        n_cols (int, optional): Number of columns in the subplot grid layout.\n",
    "            Default is 2.\n",
    "    \"\"\"\n",
    "    n_models = len(predictions)\n",
    "    n_cols = min(n_models, n_cols)\n",
    "    n_rows = ceil(n_models / n_cols)\n",
    "    fig, axes = plt.subplots(n_rows, n_cols, figsize=(6 * n_cols, 5 * n_rows))\n",
    "    axes = np.array(axes).reshape(-1)\n",
    "\n",
    "    for ax, (name, y_pred) in zip(axes, predictions.items(), strict=False):\n",
    "        conf_matrix = confusion_matrix(y_true, y_pred)\n",
    "        sns.heatmap(conf_matrix, annot=True, fmt=\"d\", cmap=\"Blues\", cbar=False, ax=ax)\n",
    "        ax.set_xlabel(\"Predicted Labels\")\n",
    "        ax.set_ylabel(\"True Labels\")\n",
    "        ax.set_title(name)\n",
    "\n",
    "    for i in range(n_models, len(axes)):\n",
    "        fig.delaxes(axes[i])\n",
    "\n",
    "    plt.tight_layout()\n",
    "    plt.show()"
   ]
  },
  {
   "cell_type": "markdown",
   "id": "9f5f36ff",
   "metadata": {},
   "source": [
    "### 📥 Loading the Dataset"
   ]
  },
  {
   "cell_type": "code",
   "execution_count": 210,
   "id": "6b607b28",
   "metadata": {},
   "outputs": [],
   "source": [
    "# Generate dataset\n",
    "X, y = make_classification(\n",
    "    n_samples=1000,\n",
    "    n_features=5,\n",
    "    n_informative=2,\n",
    "    n_classes=2,\n",
    "    n_redundant=0,\n",
    "    random_state=42,\n",
    ")"
   ]
  },
  {
   "cell_type": "code",
   "execution_count": 211,
   "id": "c28f6c2b",
   "metadata": {},
   "outputs": [],
   "source": [
    "# Split data into training and testing sets\n",
    "X_train, X_test, y_train, y_test = train_test_split(\n",
    "    X, y, test_size=0.2, random_state=42\n",
    ")"
   ]
  },
  {
   "cell_type": "markdown",
   "id": "3d82f363",
   "metadata": {},
   "source": [
    "### 🧠 Implementing Custom Model Algorithms"
   ]
  },
  {
   "cell_type": "code",
   "execution_count": 212,
   "id": "20631c25",
   "metadata": {},
   "outputs": [],
   "source": [
    "class MyStackingClassifier:\n",
    "    \"\"\"Stacking ensemble classifier.\n",
    "\n",
    "    Combines multiple base estimators by training them on the original dataset,\n",
    "    then uses their out-of-fold predictions as input features for a final estimator.\n",
    "    This approach leverages the strengths of diverse models and often improves\n",
    "    predictive performance.\n",
    "\n",
    "    Attributes:\n",
    "        estimators (list[tuple[str, Any]]): List of (name, estimator) tuples as\n",
    "            base models.\n",
    "        final_estimator (Any): The meta-estimator that aggregates base estimators'\n",
    "            predictions.\n",
    "        cv (int): Number of folds for cross-validation used to generate out-of-fold\n",
    "            predictions.\n",
    "        random_state (int): Seed for reproducibility.\n",
    "        base_estimators_ (list[Any] | None): Fitted clones of the base estimators.\n",
    "        final_estimator_ (Any | None): Fitted final meta-estimator.\n",
    "    \"\"\"\n",
    "\n",
    "    def __init__(\n",
    "        self,\n",
    "        estimators: list[tuple[str, Any]],\n",
    "        final_estimator: Any,\n",
    "        cv: int = 5,\n",
    "        random_state: int = 42,\n",
    "    ) -> None:\n",
    "        \"\"\"Initialize the stacking classifier.\n",
    "\n",
    "        Args:\n",
    "            estimators (list[tuple[str, Any]]): Base estimators as (name, estimator)\n",
    "                pairs.\n",
    "            final_estimator (Any): Meta-estimator to combine base predictions.\n",
    "            cv (int, optional): Number of cross-validation folds for out-of-fold\n",
    "                predictions. Defaults to 5.\n",
    "            random_state (int, optional): Seed for random number generation.\n",
    "                Defaults to 42.\n",
    "        \"\"\"\n",
    "        self.estimators = estimators\n",
    "        self.final_estimator = final_estimator\n",
    "        self.cv = cv\n",
    "        self.random_state = random_state\n",
    "\n",
    "        self.base_estimators_: list[Any] | None = None\n",
    "        self.final_estimator_: Any = None\n",
    "\n",
    "    def fit(self, X: NDArray[np.float64], y: NDArray[np.int64]) -> None:\n",
    "        \"\"\"Fit the stacking classifier.\n",
    "\n",
    "        Trains base estimators using cross-validation to generate out-of-fold\n",
    "        predictions which are then used as features to train the final meta-estimator.\n",
    "\n",
    "        Args:\n",
    "            X (NDArray[np.float64]): Training input data, shape (n_samples, n_features).\n",
    "            y (NDArray[np.int64]): Target labels, shape (n_samples,).\n",
    "        \"\"\"\n",
    "        self.base_estimators_ = [deepcopy(est[1]) for est in self.estimators]\n",
    "        self.final_estimator_ = deepcopy(self.final_estimator)\n",
    "\n",
    "        n_samples = X.shape[0]\n",
    "        n_estimators = len(self.base_estimators_)\n",
    "        meta_features = np.zeros((n_samples, n_estimators))\n",
    "\n",
    "        kf = KFold(n_splits=self.cv, shuffle=True, random_state=self.random_state)\n",
    "\n",
    "        for i, estimator in enumerate(self.base_estimators_):\n",
    "            oof_preds = np.zeros(n_samples)\n",
    "            for train_idx, valid_idx in kf.split(X):\n",
    "                estimator.fit(X[train_idx], y[train_idx])\n",
    "                oof_preds[valid_idx] = estimator.predict(X[valid_idx])\n",
    "            meta_features[:, i] = oof_preds\n",
    "\n",
    "            estimator.fit(X, y)\n",
    "\n",
    "        self.final_estimator_.fit(meta_features, y)\n",
    "\n",
    "    def predict(self, X: NDArray[np.float64]) -> NDArray[np.int64]:\n",
    "        \"\"\"Predict class labels for samples in X.\n",
    "\n",
    "        Args:\n",
    "            X (NDArray[np.float64]): Input data of shape (n_samples, n_features).\n",
    "\n",
    "        Returns:\n",
    "            NDArray[np.int64]: Predicted class labels.\n",
    "        \"\"\"\n",
    "        meta_features = np.column_stack(\n",
    "            [est.predict(X) for est in self.base_estimators_]\n",
    "        )\n",
    "        return self.final_estimator_.predict(meta_features)"
   ]
  },
  {
   "cell_type": "markdown",
   "id": "6f37469d",
   "metadata": {},
   "source": [
    "### 🏋️‍♂️ Model Training"
   ]
  },
  {
   "cell_type": "code",
   "execution_count": null,
   "id": "f1e200ba",
   "metadata": {},
   "outputs": [],
   "source": [
    "# Base models\n",
    "base_estimators = [\n",
    "    (\"dt\", DecisionTreeClassifier(max_depth=3, random_state=42)),\n",
    "    (\"rf\", RandomForestClassifier(max_depth=3, random_state=42)),\n",
    "]\n",
    "\n",
    "final_estimator = LogisticRegression(random_state=42)\n",
    "\n",
    "# Scikit-learn stacking classifier model\n",
    "sklearn_model = StackingClassifier(\n",
    "    estimators=base_estimators, final_estimator=final_estimator\n",
    ")\n",
    "sklearn_model.fit(X_train, y_train)\n",
    "\n",
    "# My stacking classifier model\n",
    "model = MyStackingClassifier(\n",
    "    estimators=base_estimators, final_estimator=final_estimator\n",
    ")\n",
    "model.fit(X_train, y_train)"
   ]
  },
  {
   "cell_type": "markdown",
   "id": "37549ace",
   "metadata": {},
   "source": [
    "### 📊 Comparing Algorithm Versions"
   ]
  },
  {
   "cell_type": "code",
   "execution_count": null,
   "id": "2dcbb87d",
   "metadata": {},
   "outputs": [],
   "source": [
    "predictions = {\n",
    "    \"sklearn\": sklearn_model.predict(X_test),\n",
    "    \"my\": model.predict(X_test),\n",
    "}"
   ]
  },
  {
   "cell_type": "code",
   "execution_count": 215,
   "id": "5a1e9abe",
   "metadata": {},
   "outputs": [
    {
     "data": {
      "text/html": [
       "<div>\n",
       "<style scoped>\n",
       "    .dataframe tbody tr th:only-of-type {\n",
       "        vertical-align: middle;\n",
       "    }\n",
       "\n",
       "    .dataframe tbody tr th {\n",
       "        vertical-align: top;\n",
       "    }\n",
       "\n",
       "    .dataframe thead th {\n",
       "        text-align: right;\n",
       "    }\n",
       "</style>\n",
       "<table border=\"1\" class=\"dataframe\">\n",
       "  <thead>\n",
       "    <tr style=\"text-align: right;\">\n",
       "      <th></th>\n",
       "      <th>sklearn</th>\n",
       "      <th>my</th>\n",
       "    </tr>\n",
       "  </thead>\n",
       "  <tbody>\n",
       "    <tr>\n",
       "      <th>Accuracy</th>\n",
       "      <td>0.850000</td>\n",
       "      <td>0.850000</td>\n",
       "    </tr>\n",
       "    <tr>\n",
       "      <th>Precision</th>\n",
       "      <td>0.833333</td>\n",
       "      <td>0.820755</td>\n",
       "    </tr>\n",
       "    <tr>\n",
       "      <th>Recall</th>\n",
       "      <td>0.867347</td>\n",
       "      <td>0.887755</td>\n",
       "    </tr>\n",
       "    <tr>\n",
       "      <th>F1-score</th>\n",
       "      <td>0.850000</td>\n",
       "      <td>0.852941</td>\n",
       "    </tr>\n",
       "    <tr>\n",
       "      <th>ROC AUC</th>\n",
       "      <td>0.850340</td>\n",
       "      <td>0.850740</td>\n",
       "    </tr>\n",
       "  </tbody>\n",
       "</table>\n",
       "</div>"
      ],
      "text/plain": [
       "            sklearn        my\n",
       "Accuracy   0.850000  0.850000\n",
       "Precision  0.833333  0.820755\n",
       "Recall     0.867347  0.887755\n",
       "F1-score   0.850000  0.852941\n",
       "ROC AUC    0.850340  0.850740"
      ]
     },
     "execution_count": 215,
     "metadata": {},
     "output_type": "execute_result"
    }
   ],
   "source": [
    "evaluate_classification_models(predictions, y_test)"
   ]
  },
  {
   "cell_type": "code",
   "execution_count": 216,
   "id": "8e17bc60",
   "metadata": {},
   "outputs": [
    {
     "data": {
      "image/png": "[encoded data removed]",
      "text/plain": [
       "<Figure size 1200x500 with 2 Axes>"
      ]
     },
     "metadata": {},
     "output_type": "display_data"
    }
   ],
   "source": [
    "plot_confusion_matrices(predictions, y_test)"
   ]
  }
 ],
 "metadata": {
  "kernelspec": {
   "display_name": "python-project-template-py3.13",
   "language": "python",
   "name": "python3"
  },
  "language_info": {
   "codemirror_mode": {
    "name": "ipython",
    "version": 3
   },
   "file_extension": ".py",
   "mimetype": "text/x-python",
   "name": "python",
   "nbconvert_exporter": "python",
   "pygments_lexer": "ipython3",
   "version": "3.13.3"
  }
 },
 "nbformat": 4,
 "nbformat_minor": 5
}
