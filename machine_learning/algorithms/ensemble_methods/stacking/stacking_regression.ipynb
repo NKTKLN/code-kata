{
 "cells": [
  {
   "cell_type": "markdown",
   "id": "4d34ba7a",
   "metadata": {},
   "source": [
    "# 🧪 Custom Stacking Regression\n",
    "\n",
    "In this notebook, we implement a stacking ensemble regressor **from scratch** using base regressors and a meta-model. We then compare the performance of these implementations with **scikit-learn**'s `StackingRegressor` model."
   ]
  },
  {
   "cell_type": "markdown",
   "id": "09ae7e75",
   "metadata": {},
   "source": [
    "### ⚙️ Importing Libraries & Environment Setup"
   ]
  },
  {
   "cell_type": "code",
   "execution_count": 29,
   "id": "8dfd5356",
   "metadata": {},
   "outputs": [],
   "source": [
    "from copy import deepcopy\n",
    "from typing import Any\n",
    "\n",
    "import matplotlib.pyplot as plt\n",
    "import numpy as np\n",
    "import pandas as pd\n",
    "import seaborn as sns\n",
    "from numpy.typing import NDArray\n",
    "from sklearn.datasets import make_regression\n",
    "from sklearn.ensemble import RandomForestRegressor, StackingRegressor\n",
    "from sklearn.linear_model import LinearRegression\n",
    "from sklearn.metrics import mean_absolute_error, mean_squared_error, r2_score\n",
    "from sklearn.model_selection import KFold, train_test_split\n",
    "from sklearn.neighbors import KNeighborsRegressor"
   ]
  },
  {
   "cell_type": "code",
   "execution_count": 30,
   "id": "d14d1df6",
   "metadata": {},
   "outputs": [],
   "source": [
    "%matplotlib inline\n",
    "\n",
    "pd.set_option(\"display.width\", 150)\n",
    "pd.set_option(\"display.max_rows\", 100)\n",
    "pd.set_option(\"display.max_columns\", None)"
   ]
  },
  {
   "cell_type": "markdown",
   "id": "0ca6735b",
   "metadata": {},
   "source": [
    "### 🧰 Utility Functions"
   ]
  },
  {
   "cell_type": "code",
   "execution_count": 31,
   "id": "5b9c4a46",
   "metadata": {},
   "outputs": [],
   "source": [
    "def evaluate_regression_models(\n",
    "    predictions: dict[str, NDArray[np.float64]], y: NDArray[np.float64]\n",
    ") -> pd.DataFrame:\n",
    "    \"\"\"Evaluate multiple regression model predictions on the given dataset.\n",
    "\n",
    "    Args:\n",
    "        predictions (dict[str, NDArray[np.float64]]): Dictionary where keys are\n",
    "            model names and values are predicted target arrays corresponding to X.\n",
    "        y (NDArray[np.float64]): True target values of shape (n_samples,).\n",
    "\n",
    "    Returns:\n",
    "        pd.DataFrame: DataFrame with evaluation metrics (MAE, MSE, R2) for each model.\n",
    "            Columns correspond to model names; rows correspond to metrics.\n",
    "    \"\"\"\n",
    "    evaluations = pd.DataFrame(columns=predictions.keys(), index=[\"MAE\", \"MSE\", \"R2\"])\n",
    "\n",
    "    for name, y_pred in predictions.items():\n",
    "        mae = mean_absolute_error(y, y_pred)\n",
    "        mse = mean_squared_error(y, y_pred)\n",
    "        r2 = r2_score(y, y_pred)\n",
    "\n",
    "        evaluations.loc[:, name] = [mae, mse, r2]\n",
    "\n",
    "    return evaluations.astype(float)"
   ]
  },
  {
   "cell_type": "code",
   "execution_count": 32,
   "id": "5ebcb568",
   "metadata": {},
   "outputs": [],
   "source": [
    "def plot_regression_models(\n",
    "    predictions: dict[str, NDArray[np.float64]],\n",
    "    X: NDArray[np.float64],\n",
    "    y: NDArray[np.float64],\n",
    "    X_test: NDArray[np.float64],\n",
    ") -> None:\n",
    "    \"\"\"Plot regression results for multiple models on scatter data.\n",
    "\n",
    "    Args:\n",
    "        predictions (dict[str, NDArray[np.float64]]): Dictionary mapping model names\n",
    "            to predicted values for X_test.\n",
    "        X (NDArray[np.float64]): Original feature data of shape (n_samples, 1)\n",
    "            for scatter plot.\n",
    "        y (NDArray[np.float64]): True target values corresponding to X.\n",
    "        X_test (NDArray[np.float64]): Feature values where predictions are\n",
    "            evaluated and plotted.\n",
    "    \"\"\"\n",
    "    sns.scatterplot(x=X.flatten(), y=y.flatten(), alpha=0.3, label=\"Noisy data points\")\n",
    "\n",
    "    palette = sns.color_palette(\"Set1\")\n",
    "    for index, (name, y_pred) in enumerate(predictions.items()):\n",
    "        sns.lineplot(\n",
    "            x=X_test.flatten(),\n",
    "            y=y_pred.flatten(),\n",
    "            alpha=0.6,\n",
    "            color=palette[index],\n",
    "            label=name,\n",
    "        )\n",
    "\n",
    "    plt.xlabel(\"Feature\")\n",
    "    plt.ylabel(\"Target\")\n",
    "    plt.legend()\n",
    "    plt.tight_layout()\n",
    "    plt.show()"
   ]
  },
  {
   "cell_type": "markdown",
   "id": "9f5f36ff",
   "metadata": {},
   "source": [
    "### 📥 Loading the Dataset"
   ]
  },
  {
   "cell_type": "code",
   "execution_count": 33,
   "id": "6b607b28",
   "metadata": {},
   "outputs": [],
   "source": [
    "# Generate dataset\n",
    "X, y = make_regression(\n",
    "    n_samples=100, n_features=1, noise=10, bias=37.0, random_state=42\n",
    ")"
   ]
  },
  {
   "cell_type": "code",
   "execution_count": 34,
   "id": "c28f6c2b",
   "metadata": {},
   "outputs": [],
   "source": [
    "# Split data into training and testing sets\n",
    "X_train, X_test, y_train, y_test = train_test_split(\n",
    "    X, y, test_size=0.2, random_state=42\n",
    ")"
   ]
  },
  {
   "cell_type": "markdown",
   "id": "56902d14",
   "metadata": {},
   "source": [
    "### 🧠 Implementing Custom Model Algorithms"
   ]
  },
  {
   "cell_type": "code",
   "execution_count": 35,
   "id": "19b2063f",
   "metadata": {},
   "outputs": [],
   "source": [
    "class MyStackingRegressor:\n",
    "    \"\"\"Stacking ensemble regressor.\n",
    "\n",
    "    Combines multiple base estimators by training them on the original dataset,\n",
    "    then uses their out-of-fold predictions as input features for a final estimator.\n",
    "    This approach leverages the strengths of diverse models and often improves\n",
    "    predictive performance.\n",
    "\n",
    "    Attributes:\n",
    "        estimators (list[tuple[str, Any]]): List of (name, estimator) tuples as\n",
    "            base models.\n",
    "        final_estimator (Any): The meta-estimator that aggregates base estimators'\n",
    "            predictions.\n",
    "        cv (int): Number of folds for cross-validation used to generate out-of-fold\n",
    "            predictions.\n",
    "        random_state (int): Seed for reproducibility.\n",
    "        base_estimators_ (list[Any] | None): Fitted clones of the base estimators.\n",
    "        final_estimator_ (Any | None): Fitted final meta-estimator.\n",
    "    \"\"\"\n",
    "\n",
    "    def __init__(\n",
    "        self,\n",
    "        estimators: list[tuple[str, Any]],\n",
    "        final_estimator: Any,\n",
    "        cv: int = 5,\n",
    "        random_state: int = 42,\n",
    "    ) -> None:\n",
    "        \"\"\"Initialize the stacking regressor.\n",
    "\n",
    "        Args:\n",
    "            estimators (list[tuple[str, Any]]): Base estimators as (name, estimator)\n",
    "                pairs.\n",
    "            final_estimator (Any): Meta-estimator to combine base predictions.\n",
    "            cv (int, optional): Number of cross-validation folds for out-of-fold\n",
    "                predictions. Defaults to 5.\n",
    "            random_state (int, optional): Seed for random number generation.\n",
    "                Defaults to 42.\n",
    "        \"\"\"\n",
    "        self.estimators = estimators\n",
    "        self.final_estimator = final_estimator\n",
    "        self.cv = cv\n",
    "        self.random_state = random_state\n",
    "\n",
    "        self.base_estimators_: list[Any] | None = None\n",
    "        self.final_estimator_: Any = None\n",
    "\n",
    "    def fit(self, X: NDArray[np.float64], y: NDArray[np.float64]) -> None:\n",
    "        \"\"\"Fit the stacking regressor.\n",
    "\n",
    "        Trains base estimators using cross-validation to generate out-of-fold\n",
    "        predictions which are then used as features to train the final meta-estimator.\n",
    "\n",
    "        Args:\n",
    "            X (NDArray[np.float64]): Training input data, shape (n_samples, n_features).\n",
    "            y (NDArray[np.float64]): Target values, shape (n_samples,).\n",
    "        \"\"\"\n",
    "        self.base_estimators_ = [deepcopy(est[1]) for est in self.estimators]\n",
    "        self.final_estimator_ = deepcopy(self.final_estimator)\n",
    "\n",
    "        n_samples = X.shape[0]\n",
    "        n_estimators = len(self.base_estimators_)\n",
    "        meta_features = np.zeros((n_samples, n_estimators))\n",
    "\n",
    "        kf = KFold(n_splits=self.cv, shuffle=True, random_state=self.random_state)\n",
    "\n",
    "        for i, estimator in enumerate(self.base_estimators_):\n",
    "            oof_preds = np.zeros(n_samples)\n",
    "            for train_idx, valid_idx in kf.split(X):\n",
    "                estimator.fit(X[train_idx], y[train_idx])\n",
    "                oof_preds[valid_idx] = estimator.predict(X[valid_idx])\n",
    "            meta_features[:, i] = oof_preds\n",
    "\n",
    "            estimator.fit(X, y)\n",
    "\n",
    "        self.final_estimator_.fit(meta_features, y)\n",
    "\n",
    "    def predict(self, X: NDArray[np.float64]) -> NDArray[np.float64]:\n",
    "        \"\"\"Predict target values for samples in X.\n",
    "\n",
    "        Args:\n",
    "            X (NDArray[np.float64]): Input data, shape (n_samples, n_features).\n",
    "\n",
    "        Returns:\n",
    "            NDArray[np.float64]: Predicted values.\n",
    "        \"\"\"\n",
    "        meta_features = np.column_stack(\n",
    "            [est.predict(X) for est in self.base_estimators_]\n",
    "        )\n",
    "        return self.final_estimator_.predict(meta_features)"
   ]
  },
  {
   "cell_type": "markdown",
   "id": "6f37469d",
   "metadata": {},
   "source": [
    "### 🏋️‍♂️ Model Training"
   ]
  },
  {
   "cell_type": "code",
   "execution_count": 36,
   "id": "f1e200ba",
   "metadata": {},
   "outputs": [],
   "source": [
    "# Base models\n",
    "base_estimators = [\n",
    "    (\"knn\", KNeighborsRegressor(n_neighbors=5)),\n",
    "    (\"rf\", RandomForestRegressor(n_estimators=100, max_depth=3, random_state=42)),\n",
    "]\n",
    "\n",
    "final_estimator = LinearRegression()\n",
    "\n",
    "# Scikit-learn linear regression model\n",
    "sklearn_linear_model = deepcopy(final_estimator)\n",
    "sklearn_linear_model.fit(X_train, y_train)\n",
    "\n",
    "# Scikit-learn stacking regressor model\n",
    "sklearn_model = StackingRegressor(\n",
    "    estimators=base_estimators, final_estimator=final_estimator\n",
    ")\n",
    "sklearn_model.fit(X_train, y_train)\n",
    "\n",
    "# My stacking regressor model\n",
    "my_model = MyStackingRegressor(\n",
    "    estimators=base_estimators, final_estimator=final_estimator\n",
    ")\n",
    "my_model.fit(X_train, y_train)"
   ]
  },
  {
   "cell_type": "markdown",
   "id": "37549ace",
   "metadata": {},
   "source": [
    "### 📊 Comparing Algorithm Versions"
   ]
  },
  {
   "cell_type": "code",
   "execution_count": 37,
   "id": "c4baa28c",
   "metadata": {},
   "outputs": [],
   "source": [
    "predictions = {\n",
    "    \"scikit-learn_linear\": sklearn_linear_model.predict(X_test),\n",
    "    \"scikit-learn\": sklearn_model.predict(X_test),\n",
    "    \"my\": my_model.predict(X_test),\n",
    "}"
   ]
  },
  {
   "cell_type": "code",
   "execution_count": 38,
   "id": "5a1e9abe",
   "metadata": {},
   "outputs": [
    {
     "data": {
      "text/html": [
       "<div>\n",
       "<style scoped>\n",
       "    .dataframe tbody tr th:only-of-type {\n",
       "        vertical-align: middle;\n",
       "    }\n",
       "\n",
       "    .dataframe tbody tr th {\n",
       "        vertical-align: top;\n",
       "    }\n",
       "\n",
       "    .dataframe thead th {\n",
       "        text-align: right;\n",
       "    }\n",
       "</style>\n",
       "<table border=\"1\" class=\"dataframe\">\n",
       "  <thead>\n",
       "    <tr style=\"text-align: right;\">\n",
       "      <th></th>\n",
       "      <th>scikit-learn_linear</th>\n",
       "      <th>scikit-learn</th>\n",
       "      <th>my</th>\n",
       "    </tr>\n",
       "  </thead>\n",
       "  <tbody>\n",
       "    <tr>\n",
       "      <th>MAE</th>\n",
       "      <td>8.416660</td>\n",
       "      <td>9.623612</td>\n",
       "      <td>9.220344</td>\n",
       "    </tr>\n",
       "    <tr>\n",
       "      <th>MSE</th>\n",
       "      <td>104.202227</td>\n",
       "      <td>130.436308</td>\n",
       "      <td>122.435627</td>\n",
       "    </tr>\n",
       "    <tr>\n",
       "      <th>R2</th>\n",
       "      <td>0.937415</td>\n",
       "      <td>0.921659</td>\n",
       "      <td>0.926464</td>\n",
       "    </tr>\n",
       "  </tbody>\n",
       "</table>\n",
       "</div>"
      ],
      "text/plain": [
       "     scikit-learn_linear  scikit-learn          my\n",
       "MAE             8.416660      9.623612    9.220344\n",
       "MSE           104.202227    130.436308  122.435627\n",
       "R2              0.937415      0.921659    0.926464"
      ]
     },
     "execution_count": 38,
     "metadata": {},
     "output_type": "execute_result"
    }
   ],
   "source": [
    "evaluate_regression_models(predictions, y_test)"
   ]
  },
  {
   "cell_type": "code",
   "execution_count": 39,
   "id": "30a42fb1",
   "metadata": {},
   "outputs": [
    {
     "data": {
      "image/png": "[encoded data removed]",
      "text/plain": [
       "<Figure size 640x480 with 1 Axes>"
      ]
     },
     "metadata": {},
     "output_type": "display_data"
    }
   ],
   "source": [
    "plot_regression_models(predictions, X, y, X_test)"
   ]
  }
 ],
 "metadata": {
  "kernelspec": {
   "display_name": "python-project-template-py3.13",
   "language": "python",
   "name": "python3"
  },
  "language_info": {
   "codemirror_mode": {
    "name": "ipython",
    "version": 3
   },
   "file_extension": ".py",
   "mimetype": "text/x-python",
   "name": "python",
   "nbconvert_exporter": "python",
   "pygments_lexer": "ipython3",
   "version": "3.13.3"
  }
 },
 "nbformat": 4,
 "nbformat_minor": 5
}
