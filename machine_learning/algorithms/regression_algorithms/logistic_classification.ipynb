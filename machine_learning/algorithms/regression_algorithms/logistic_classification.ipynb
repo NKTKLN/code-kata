{
 "cells": [
  {
   "cell_type": "markdown",
   "id": "836482e5",
   "metadata": {},
   "source": [
    "# 👥 Logistic Classification one-vs-rest (OvR)\n",
    "\n",
    "In this notebook, we implement and compare logistic classification models using:\n",
    "\n",
    "- **Synthetic data** generated with Gaussian noise\n",
    "- **Stochastic gradient descent (SGD)**\n",
    "  \n",
    "Evaluation metrics and visualizations are included for comparison."
   ]
  },
  {
   "cell_type": "code",
   "execution_count": 19,
   "id": "4d9f2bbc",
   "metadata": {},
   "outputs": [],
   "source": [
    "import matplotlib.pyplot as plt\n",
    "import numpy as np\n",
    "import seaborn as sns\n",
    "from colorama import Fore, Style\n",
    "from numpy.typing import NDArray\n",
    "from sklearn.metrics import (\n",
    "    accuracy_score,\n",
    "    confusion_matrix,\n",
    "    f1_score,\n",
    "    precision_score,\n",
    "    recall_score,\n",
    ")\n",
    "from sklearn.model_selection import train_test_split\n",
    "from tqdm.notebook import tqdm"
   ]
  },
  {
   "cell_type": "markdown",
   "id": "be940944",
   "metadata": {},
   "source": [
    "## 🛠️ Utils"
   ]
  },
  {
   "cell_type": "code",
   "execution_count": 20,
   "id": "d2d18f55",
   "metadata": {},
   "outputs": [],
   "source": [
    "def evaluate_classification(\n",
    "    y_true: NDArray[np.int64], y_pred: NDArray[np.int64]\n",
    ") -> dict[str, float]:\n",
    "    \"\"\"Print and return classification metrics.\n",
    "\n",
    "    Args:\n",
    "        y_true (NDArray[np.int64]): Ground truth labels.\n",
    "        y_pred (NDArray[np.int64]): Predicted labels.\n",
    "\n",
    "    Returns:\n",
    "        dict[str, float]: Dictionary with accuracy, precision, recall, and F1-score.\n",
    "    \"\"\"\n",
    "    accuracy: float = accuracy_score(y_true, y_pred)\n",
    "    precision: float = precision_score(\n",
    "        y_true, y_pred, average=\"weighted\", zero_division=0\n",
    "    )\n",
    "    recall: float = recall_score(y_true, y_pred, average=\"weighted\", zero_division=0)\n",
    "    f1: float = f1_score(y_true, y_pred, average=\"weighted\", zero_division=0)\n",
    "\n",
    "    print(f\"{Fore.CYAN}Accuracy:  {Style.RESET_ALL}{accuracy:.4f}\")\n",
    "    print(f\"{Fore.CYAN}Precision: {Style.RESET_ALL}{precision:.4f}\")\n",
    "    print(f\"{Fore.CYAN}Recall:    {Style.RESET_ALL}{recall:.4f}\")\n",
    "    print(f\"{Fore.CYAN}F1 Score:  {Style.RESET_ALL}{f1:.4f}\")\n",
    "\n",
    "    return {\"accuracy\": accuracy, \"precision\": precision, \"recall\": recall, \"f1\": f1}"
   ]
  },
  {
   "cell_type": "code",
   "execution_count": 21,
   "id": "2687d992",
   "metadata": {},
   "outputs": [],
   "source": [
    "def plot_confusion_matrix(y_true: NDArray[np.int64], y_pred: NDArray[np.int64]) -> None:\n",
    "    \"\"\"Display a confusion matrix using seaborn heatmap.\n",
    "\n",
    "    Args:\n",
    "        y_true (NDArray[np.int64]): True labels.\n",
    "        y_pred (NDArray[np.int64]): Predicted labels.\n",
    "    \"\"\"\n",
    "    conf_matrix = confusion_matrix(y_true, y_pred)\n",
    "\n",
    "    sns.heatmap(\n",
    "        conf_matrix,\n",
    "        annot=True,\n",
    "        fmt=\"d\",\n",
    "        cmap=\"Blues\",\n",
    "        cbar=False,\n",
    "    )\n",
    "    plt.xlabel(\"Predicted Labels\")\n",
    "    plt.ylabel(\"True Labels\")\n",
    "    plt.title(\"Confusion Matrix\")\n",
    "    plt.show()"
   ]
  },
  {
   "cell_type": "markdown",
   "id": "95870957",
   "metadata": {},
   "source": [
    "## 📊 Generate Dataset"
   ]
  },
  {
   "cell_type": "code",
   "execution_count": 22,
   "id": "ea134522",
   "metadata": {},
   "outputs": [],
   "source": [
    "def generate_data(\n",
    "    n_per_cluster: int,\n",
    "    num_clusters: int,\n",
    "    space_size: float,\n",
    "    noise_level: float = 1.0,\n",
    "    dim: int = 2,\n",
    "    seed: int = 42,\n",
    ") -> tuple[NDArray[np.float64], NDArray[np.int32], NDArray[np.float64]]:\n",
    "    \"\"\"Generates synthetic data for clustering.\n",
    "\n",
    "    Args:\n",
    "        n_per_cluster (int): Number of points per cluster.\n",
    "        num_clusters (int): Total number of clusters.\n",
    "        space_size (float): Range for generating cluster centers.\n",
    "        noise_level (float): Standard deviation of Gaussian noise.\n",
    "        dim (int): Dimensionality of the data.\n",
    "        seed (int): Random seed.\n",
    "\n",
    "    Returns:\n",
    "        tuple[\n",
    "            data (NDArray[np.float64]): Shape (num_clusters * n_per_cluster, dim)\n",
    "            labels (NDArray[np.int32]): Cluster labels\n",
    "            centers (NDArray[np.float64]): Cluster center coordinates\n",
    "        ]\n",
    "    \"\"\"\n",
    "    rng = np.random.default_rng(seed)\n",
    "\n",
    "    # Generate random cluster centers\n",
    "    centers = rng.uniform(0, space_size, size=(num_clusters, dim))\n",
    "\n",
    "    total_points = n_per_cluster * num_clusters\n",
    "    data = np.empty((total_points, dim))\n",
    "    labels = np.empty(total_points, dtype=np.int32)\n",
    "\n",
    "    # Generate data points around each center\n",
    "    for i, center in enumerate(centers):\n",
    "        start = i * n_per_cluster\n",
    "        end = start + n_per_cluster\n",
    "        data[start:end] = center + rng.normal(0, noise_level, size=(n_per_cluster, dim))\n",
    "        labels[start:end] = i\n",
    "\n",
    "    return data, labels, centers\n",
    "\n",
    "\n",
    "# Generate dataset\n",
    "data, labels, centers = generate_data(\n",
    "    n_per_cluster=250, num_clusters=4, space_size=150, noise_level=7, dim=1, seed=412\n",
    ")"
   ]
  },
  {
   "cell_type": "code",
   "execution_count": 23,
   "id": "d7ec885b",
   "metadata": {},
   "outputs": [],
   "source": [
    "# Split data into training and testing sets\n",
    "X_train, X_test, y_train, y_test = train_test_split(\n",
    "    data, labels, test_size=0.2, random_state=42\n",
    ")"
   ]
  },
  {
   "cell_type": "markdown",
   "id": "bf09499d",
   "metadata": {},
   "source": [
    "## 📑 One-vs-rest (OvR)"
   ]
  },
  {
   "cell_type": "code",
   "execution_count": 24,
   "id": "2e947569",
   "metadata": {},
   "outputs": [],
   "source": [
    "def sigmoid(z: NDArray[np.float64]) -> NDArray[np.float64]:\n",
    "    \"\"\"Compute the sigmoid activation function.\n",
    "\n",
    "    Args:\n",
    "        z (NDArray[np.float64]): Input array (can be a scalar, vector, or matrix).\n",
    "\n",
    "    Returns:\n",
    "        NDArray[np.float64]: Output after applying the sigmoid function element-wise.\n",
    "    \"\"\"\n",
    "    return 1 / (1 + np.exp(-z))"
   ]
  },
  {
   "cell_type": "code",
   "execution_count": 25,
   "id": "5d48f223",
   "metadata": {},
   "outputs": [
    {
     "data": {
      "application/vnd.jupyter.widget-view+json": {
       "model_id": "e672df032e0f47709fcc102ba451fef1",
       "version_major": 2,
       "version_minor": 0
      },
      "text/plain": [
       "  0%|          | 0/10000 [00:00<?, ?it/s]"
      ]
     },
     "metadata": {},
     "output_type": "display_data"
    },
    {
     "data": {
      "application/vnd.jupyter.widget-view+json": {
       "model_id": "08e48ea0a1214c1898017d7dd9b437e3",
       "version_major": 2,
       "version_minor": 0
      },
      "text/plain": [
       "  0%|          | 0/10000 [00:00<?, ?it/s]"
      ]
     },
     "metadata": {},
     "output_type": "display_data"
    },
    {
     "data": {
      "application/vnd.jupyter.widget-view+json": {
       "model_id": "e69d0f589ad24f1589747b8920afc305",
       "version_major": 2,
       "version_minor": 0
      },
      "text/plain": [
       "  0%|          | 0/10000 [00:00<?, ?it/s]"
      ]
     },
     "metadata": {},
     "output_type": "display_data"
    },
    {
     "name": "stdout",
     "output_type": "stream",
     "text": [
      "Converged at epoch 5016\n"
     ]
    },
    {
     "data": {
      "application/vnd.jupyter.widget-view+json": {
       "model_id": "73ed68e0df79419897d06ea4a0ac6ebe",
       "version_major": 2,
       "version_minor": 0
      },
      "text/plain": [
       "  0%|          | 0/10000 [00:00<?, ?it/s]"
      ]
     },
     "metadata": {},
     "output_type": "display_data"
    },
    {
     "name": "stdout",
     "output_type": "stream",
     "text": [
      "Converged at epoch 9908\n"
     ]
    }
   ],
   "source": [
    "# Initialize parameters\n",
    "max_epochs = 10000\n",
    "alpha = 1e-4  # learning rate\n",
    "tolerance = 1e-8\n",
    "lambda_rate = 0.05\n",
    "\n",
    "num_classes = len(np.unique(y_train))\n",
    "m, n_features = X_train.shape\n",
    "\n",
    "w_all = np.zeros((num_classes, n_features))\n",
    "b_all = np.zeros(num_classes)\n",
    "\n",
    "for c in range(num_classes):\n",
    "    y_binary = (y_train == c).astype(int)\n",
    "\n",
    "    w_pred = np.zeros(n_features)  # initial weight\n",
    "    b_pred = 0.0  # initial bias\n",
    "    prev_loss = float(\"inf\")\n",
    "\n",
    "    for epoch in tqdm(range(max_epochs)):\n",
    "        indices = np.random.permutation(m)\n",
    "        X_train_shuffled = X_train[indices]\n",
    "        y_train_shuffled = y_binary[indices]\n",
    "\n",
    "        for i in range(m):\n",
    "            xi = X_train_shuffled[i]\n",
    "            yi = y_train_shuffled[i]\n",
    "\n",
    "            y_pred = sigmoid(xi @ w_pred + b_pred)\n",
    "            error_i = y_pred - yi + w_pred**2 * lambda_rate  # L2 penalty\n",
    "\n",
    "            grad_w = xi * error_i\n",
    "            grad_b = error_i\n",
    "\n",
    "            # Gradient descent update rules\n",
    "            w_pred -= alpha * grad_w\n",
    "            b_pred -= alpha * grad_b\n",
    "\n",
    "        y_pred_all = sigmoid(X_train @ w_pred + b_pred)\n",
    "        loss = -np.mean(\n",
    "            y_binary * np.log(y_pred_all + 1e-8)\n",
    "            + (1 - y_binary) * np.log(1 - y_pred_all + 1e-8)\n",
    "        )\n",
    "\n",
    "        # Check for convergence\n",
    "        if abs(prev_loss - loss) < tolerance:\n",
    "            print(f\"Converged at epoch {epoch}\")\n",
    "            break\n",
    "\n",
    "        prev_loss = loss\n",
    "\n",
    "    w_all[c] = w_pred\n",
    "    b_all[c] = b_pred.item()\n",
    "\n",
    "# Predict on test data\n",
    "probs_all = sigmoid(X_test @ w_all.T + b_all)\n",
    "predicted = np.argmax(probs_all, axis=1)"
   ]
  },
  {
   "cell_type": "code",
   "execution_count": 26,
   "id": "c295ed5c",
   "metadata": {},
   "outputs": [
    {
     "name": "stdout",
     "output_type": "stream",
     "text": [
      "\u001b[36mAccuracy:  \u001b[0m0.8450\n",
      "\u001b[36mPrecision: \u001b[0m0.8591\n",
      "\u001b[36mRecall:    \u001b[0m0.8450\n",
      "\u001b[36mF1 Score:  \u001b[0m0.8428\n"
     ]
    },
    {
     "data": {
      "image/png": "[encoded data removed]",
      "text/plain": [
       "<Figure size 640x480 with 1 Axes>"
      ]
     },
     "metadata": {},
     "output_type": "display_data"
    }
   ],
   "source": [
    "evaluate_classification(y_test, predicted)\n",
    "plot_confusion_matrix(y_test, predicted)"
   ]
  }
 ],
 "metadata": {
  "kernelspec": {
   "display_name": ".venv",
   "language": "python",
   "name": "python3"
  },
  "language_info": {
   "codemirror_mode": {
    "name": "ipython",
    "version": 3
   },
   "file_extension": ".py",
   "mimetype": "text/x-python",
   "name": "python",
   "nbconvert_exporter": "python",
   "pygments_lexer": "ipython3",
   "version": "3.12.8"
  }
 },
 "nbformat": 4,
 "nbformat_minor": 5
}
