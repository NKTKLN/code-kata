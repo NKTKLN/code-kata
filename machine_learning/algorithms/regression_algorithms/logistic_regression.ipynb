{
 "cells": [
  {
   "cell_type": "markdown",
   "id": "4d34ba7a",
   "metadata": {},
   "source": [
    "# 🧪 Custom Logistic Regression\n",
    "\n",
    "In this notebook, we implement logistic regression **from scratch** using Stochastic Gradient Descent. We then compare the performance of these implementations with **scikit-learn**'s `LogisticRegression` model."
   ]
  },
  {
   "cell_type": "markdown",
   "id": "09ae7e75",
   "metadata": {},
   "source": [
    "### ⚙️ Importing Libraries & Environment Setup"
   ]
  },
  {
   "cell_type": "code",
   "execution_count": 36,
   "id": "8dfd5356",
   "metadata": {},
   "outputs": [],
   "source": [
    "from math import ceil\n",
    "\n",
    "import matplotlib.pyplot as plt\n",
    "import numpy as np\n",
    "import pandas as pd\n",
    "import seaborn as sns\n",
    "from numpy.typing import NDArray\n",
    "from sklearn.datasets import make_classification\n",
    "from sklearn.linear_model import LogisticRegression\n",
    "from sklearn.metrics import (\n",
    "    accuracy_score,\n",
    "    confusion_matrix,\n",
    "    f1_score,\n",
    "    precision_score,\n",
    "    recall_score,\n",
    "    roc_auc_score,\n",
    ")\n",
    "from sklearn.model_selection import train_test_split"
   ]
  },
  {
   "cell_type": "code",
   "execution_count": 37,
   "id": "d14d1df6",
   "metadata": {},
   "outputs": [],
   "source": [
    "%matplotlib inline\n",
    "\n",
    "pd.set_option(\"display.width\", 150)\n",
    "pd.set_option(\"display.max_rows\", 100)\n",
    "pd.set_option(\"display.max_columns\", None)"
   ]
  },
  {
   "cell_type": "markdown",
   "id": "0ca6735b",
   "metadata": {},
   "source": [
    "### 🧰 Utility Functions"
   ]
  },
  {
   "cell_type": "code",
   "execution_count": null,
   "id": "5b9c4a46",
   "metadata": {},
   "outputs": [],
   "source": [
    "def evaluate_classification_models(\n",
    "    predictions: dict[str, NDArray[np.float64]], y: NDArray[np.float64]\n",
    ") -> pd.DataFrame:\n",
    "    \"\"\"Evaluate multiple classification model predictions on the provided dataset.\n",
    "\n",
    "    Args:\n",
    "        predictions (dict[str, NDArray[np.float64]]): Dictionary mapping model names\n",
    "            to predicted target arrays (binary or probabilities) for the dataset.\n",
    "        y (NDArray[np.float64]): True binary target values of shape (n_samples,).\n",
    "\n",
    "    Returns:\n",
    "        pd.DataFrame: DataFrame containing classification metrics — Accuracy, Precision,\n",
    "            Recall, F1-score, and ROC AUC — for each model. Columns correspond to\n",
    "            model names, rows correspond to the metric names.\n",
    "    \"\"\"\n",
    "    evaluations = pd.DataFrame(\n",
    "        columns=predictions.keys(),\n",
    "        index=[\"Accuracy\", \"Precision\", \"Recall\", \"F1-score\", \"ROC AUC\"],\n",
    "    )\n",
    "\n",
    "    for name, y_pred in predictions.items():\n",
    "        accuracy = accuracy_score(y, y_pred)\n",
    "        precision = precision_score(y, y_pred)\n",
    "        recall = recall_score(y, y_pred)\n",
    "        f1 = f1_score(y, y_pred)\n",
    "        roc_auc = roc_auc_score(y, y_pred)\n",
    "\n",
    "        evaluations.loc[:, name] = [accuracy, precision, recall, f1, roc_auc]\n",
    "\n",
    "    return evaluations.astype(float)"
   ]
  },
  {
   "cell_type": "code",
   "execution_count": 39,
   "id": "52fd504e",
   "metadata": {},
   "outputs": [],
   "source": [
    "def plot_confusion_matrices(\n",
    "    predictions: dict[str, NDArray[np.int64]],\n",
    "    y_true: NDArray[np.int64],\n",
    "    n_cols: int = 2,\n",
    ") -> None:\n",
    "    \"\"\"Plot confusion matrices for multiple classification models.\n",
    "\n",
    "    Each confusion matrix compares the true labels to predictions from one model.\n",
    "    The plots are arranged in a grid layout for easy comparison.\n",
    "\n",
    "    Args:\n",
    "        predictions (dict[str, NDArray[np.int64]]): A dictionary mapping model names to\n",
    "            their predicted labels (1D array of shape (n_samples,)).\n",
    "        y_true (NDArray[np.int64]): True class labels (1D array of shape (n_samples,)).\n",
    "        n_cols (int, optional): Number of columns in the subplot grid layout.\n",
    "            Default is 2.\n",
    "    \"\"\"\n",
    "    n_models = len(predictions)\n",
    "    n_cols = min(n_models, n_cols)\n",
    "    n_rows = ceil(n_models / n_cols)\n",
    "    _, axes = plt.subplots(n_rows, n_cols, figsize=(6 * n_cols, 5 * n_rows))\n",
    "    axes = np.array(axes).reshape(-1)\n",
    "\n",
    "    for ax, (name, y_pred) in zip(axes, predictions.items(), strict=False):\n",
    "        conf_matrix = confusion_matrix(y_true, y_pred)\n",
    "        sns.heatmap(conf_matrix, annot=True, fmt=\"d\", cmap=\"Blues\", cbar=False, ax=ax)\n",
    "        ax.set_xlabel(\"Predicted Labels\")\n",
    "        ax.set_ylabel(\"True Labels\")\n",
    "        ax.set_title(name)\n",
    "\n",
    "    plt.tight_layout()\n",
    "    plt.show()"
   ]
  },
  {
   "cell_type": "markdown",
   "id": "9f5f36ff",
   "metadata": {},
   "source": [
    "### 📥 Loading the Dataset"
   ]
  },
  {
   "cell_type": "code",
   "execution_count": 40,
   "id": "6b607b28",
   "metadata": {},
   "outputs": [],
   "source": [
    "# Generate dataset\n",
    "X, y = make_classification(\n",
    "    n_samples=100,\n",
    "    n_features=5,\n",
    "    n_informative=3,\n",
    "    n_classes=2,\n",
    "    n_redundant=0,\n",
    "    random_state=42,\n",
    ")"
   ]
  },
  {
   "cell_type": "code",
   "execution_count": 41,
   "id": "c28f6c2b",
   "metadata": {},
   "outputs": [],
   "source": [
    "# Split data into training and testing sets\n",
    "X_train, X_test, y_train, y_test = train_test_split(\n",
    "    X, y, test_size=0.2, random_state=42\n",
    ")"
   ]
  },
  {
   "cell_type": "markdown",
   "id": "56902d14",
   "metadata": {},
   "source": [
    "### 🧠 Implementing Custom Model Algorithms"
   ]
  },
  {
   "cell_type": "code",
   "execution_count": 42,
   "id": "19b2063f",
   "metadata": {},
   "outputs": [],
   "source": [
    "class MyLogisticRegression:\n",
    "    \"\"\"Logistic Regression classifier using SGD with L1 and L2 regularization.\n",
    "\n",
    "    This implementation uses batch size 1 (pure SGD) to optimize the logistic loss,\n",
    "    supporting both L1 (Lasso) and L2 (Ridge) penalties to reduce overfitting and\n",
    "    promote sparsity.\n",
    "\n",
    "    Attributes:\n",
    "        max_epochs (int): Maximum number of training epochs.\n",
    "        learning_rate (float): Learning rate for parameter updates.\n",
    "        tolerance (float): Threshold for convergence based on change in loss.\n",
    "        lambda_l1 (float): Strength of L1 regularization.\n",
    "        lambda_l2 (float): Strength of L2 regularization.\n",
    "        coef_ (NDArray[np.float64] | None): Model coefficients (weights).\n",
    "        intercept_ (float): Model intercept (bias) term.\n",
    "    \"\"\"\n",
    "\n",
    "    def __init__(\n",
    "        self,\n",
    "        max_epochs: int = 10000,\n",
    "        learning_rate: float = 1e-4,\n",
    "        tolerance: float = 1e-7,\n",
    "        lambda_l1: float = 0,\n",
    "        lambda_l2: float = 0,\n",
    "        random_state: int | None = None,\n",
    "    ):\n",
    "        \"\"\"Initialize the MyLogisticRegression model.\n",
    "\n",
    "        Args:\n",
    "            max_epochs (int): Number of epochs for SGD. Default is 10,000.\n",
    "            learning_rate (float): Step size for weight updates. Default is 1e-4.\n",
    "            tolerance (float): Early stopping threshold for change in loss.\n",
    "                Default is 1e-7.\n",
    "            lambda_l1 (float): L1 regularization strength (sparsity). Default is 0.\n",
    "            lambda_l2 (float): L2 regularization strength (weight decay). Default is 0.\n",
    "            random_state (int | None): Seed for reproducible training. Default is None.\n",
    "        \"\"\"\n",
    "        self.max_epochs = max_epochs\n",
    "        self.learning_rate = learning_rate\n",
    "        self.tolerance = tolerance\n",
    "        self.lambda_l1 = lambda_l1\n",
    "        self.lambda_l2 = lambda_l2\n",
    "        self.rng = np.random.default_rng(random_state)\n",
    "\n",
    "        self.coef_: NDArray[np.float64] | None = None\n",
    "        self.intercept_: float = 0.0\n",
    "\n",
    "    def _sigmoid(self, z: NDArray[np.float64]) -> NDArray[np.float64]:\n",
    "        \"\"\"Compute the sigmoid activation function.\n",
    "\n",
    "        Args:\n",
    "            z (NDArray[np.float64]): Input array (can be a scalar, vector, or matrix).\n",
    "\n",
    "        Returns:\n",
    "            NDArray[np.float64]: Output after applying the sigmoid function.\n",
    "        \"\"\"\n",
    "        return 1 / (1 + np.exp(-z))\n",
    "\n",
    "    def _log_loss(\n",
    "        self, y_true: NDArray[np.float64], y_pred: NDArray[np.float64]\n",
    "    ) -> float:\n",
    "        \"\"\"Compute logistic loss between true and predicted probabilities.\n",
    "\n",
    "        Args:\n",
    "            y_true (NDArray[np.float64]): True target values.\n",
    "            y_pred (NDArray[np.float64]): Predicted values.\n",
    "\n",
    "        Returns:\n",
    "            float: Mean logistic loss value.\n",
    "        \"\"\"\n",
    "        return -np.mean(\n",
    "            y_true * np.log(y_pred + 1e-8) + (1 - y_true) * np.log(1 - y_pred + 1e-8)\n",
    "        )\n",
    "\n",
    "    def _compute_gradients(\n",
    "        self, x_i: NDArray[np.float64], y_i: float\n",
    "    ) -> tuple[NDArray[np.float64], float]:\n",
    "        \"\"\"Compute gradients of the loss function with respect to weights and bias.\n",
    "\n",
    "        Args:\n",
    "            x_i (NDArray[np.float64]): Single input sample of shape (n_features,).\n",
    "            y_i (float): True target value for the input sample.\n",
    "\n",
    "        Returns:\n",
    "            Tuple containing:\n",
    "                - grad_coef (NDArray[np.float64]): Gradient w.r.t. coefficients.\n",
    "                - grad_intercept (float): Gradient w.r.t. intercept.\n",
    "        \"\"\"\n",
    "        y_i_pred = self.predict(x_i)\n",
    "        error_i = y_i_pred - y_i\n",
    "\n",
    "        grad_coef = x_i * error_i\n",
    "        if self.lambda_l1 > 0:\n",
    "            grad_coef += self.lambda_l1 * np.sign(self.coef_)\n",
    "        if self.lambda_l2 > 0:\n",
    "            grad_coef += self.lambda_l2 * self.coef_\n",
    "\n",
    "        grad_intercept = error_i\n",
    "\n",
    "        return grad_coef, grad_intercept\n",
    "\n",
    "    def fit(self, X: NDArray[np.float64], y: NDArray[np.float64]) -> None:\n",
    "        \"\"\"Fit the logistic regression model to training data using SGD.\n",
    "\n",
    "        Args:\n",
    "            X (NDArray[np.float64]): Feature matrix of shape (n_samples, n_features).\n",
    "            y (NDArray[np.float64]): Target vector of shape (n_samples,).\n",
    "        \"\"\"\n",
    "        m, n_features = X.shape\n",
    "        self.coef_ = np.zeros(n_features)\n",
    "\n",
    "        prev_loss = float(\"inf\")\n",
    "\n",
    "        for _ in range(self.max_epochs):\n",
    "            indices = self.rng.permutation(m)\n",
    "            X_shuffled = X[indices]\n",
    "            y_shuffled = y[indices]\n",
    "\n",
    "            for x_i, y_i in zip(X_shuffled, y_shuffled, strict=False):\n",
    "                grad_coef, grad_intercept = self._compute_gradients(x_i, y_i)\n",
    "                self.coef_ -= self.learning_rate * grad_coef\n",
    "                self.intercept_ -= self.learning_rate * grad_intercept\n",
    "\n",
    "            y_pred = self.predict(X)\n",
    "            loss = self._log_loss(y, y_pred)\n",
    "            loss += self.lambda_l2 * np.sum(self.coef_**2)\n",
    "            loss += self.lambda_l1 * np.sum(np.abs(self.coef_))\n",
    "\n",
    "            if abs(prev_loss - loss) < self.tolerance:\n",
    "                break\n",
    "\n",
    "            prev_loss = loss\n",
    "\n",
    "    def predict(self, X: NDArray[np.float64]) -> NDArray[np.float64]:\n",
    "        \"\"\"Predict target values using the trained model.\n",
    "\n",
    "        Args:\n",
    "            X (NDArray[np.float64]): Feature matrix of shape (n_samples, n_features).\n",
    "\n",
    "        Returns:\n",
    "            NDArray[np.float64]: Predicted values of shape (n_samples,).\n",
    "\n",
    "        Raises:\n",
    "            ValueError: If model has not been trained yet.\n",
    "        \"\"\"\n",
    "        if self.coef_ is None:\n",
    "            raise ValueError(\"Model is not trained yet. Call `fit` first.\")\n",
    "        probs = self._sigmoid(X @ self.coef_ + self.intercept_)\n",
    "        return (probs > 0.5).astype(int)"
   ]
  },
  {
   "cell_type": "markdown",
   "id": "6f37469d",
   "metadata": {},
   "source": [
    "### 🏋️‍♂️ Model Training"
   ]
  },
  {
   "cell_type": "code",
   "execution_count": 43,
   "id": "f1e200ba",
   "metadata": {},
   "outputs": [],
   "source": [
    "# Scikit-learn logistic regression model\n",
    "sklearn_model = LogisticRegression()\n",
    "sklearn_model.fit(X_train, y_train)\n",
    "\n",
    "# My SGD logistic regression model\n",
    "my_model = MyLogisticRegression(lambda_l1=1e-2, lambda_l2=1e-2, random_state=42)\n",
    "my_model.fit(X_train, y_train)"
   ]
  },
  {
   "cell_type": "markdown",
   "id": "37549ace",
   "metadata": {},
   "source": [
    "### 📊 Comparing Algorithm Versions"
   ]
  },
  {
   "cell_type": "code",
   "execution_count": 44,
   "id": "c4baa28c",
   "metadata": {},
   "outputs": [],
   "source": [
    "predictions = {\n",
    "    \"scikit-learn\": sklearn_model.predict(X_test),\n",
    "    \"my\": my_model.predict(X_test),\n",
    "}"
   ]
  },
  {
   "cell_type": "code",
   "execution_count": 45,
   "id": "8b837418",
   "metadata": {},
   "outputs": [
    {
     "data": {
      "text/html": [
       "<div>\n",
       "<style scoped>\n",
       "    .dataframe tbody tr th:only-of-type {\n",
       "        vertical-align: middle;\n",
       "    }\n",
       "\n",
       "    .dataframe tbody tr th {\n",
       "        vertical-align: top;\n",
       "    }\n",
       "\n",
       "    .dataframe thead th {\n",
       "        text-align: right;\n",
       "    }\n",
       "</style>\n",
       "<table border=\"1\" class=\"dataframe\">\n",
       "  <thead>\n",
       "    <tr style=\"text-align: right;\">\n",
       "      <th></th>\n",
       "      <th>Coefficients</th>\n",
       "      <th>Intercepts</th>\n",
       "    </tr>\n",
       "  </thead>\n",
       "  <tbody>\n",
       "    <tr>\n",
       "      <th>scikit-learn</th>\n",
       "      <td>[[1.8238816074743904, 0.6794919894400718, 0.65...</td>\n",
       "      <td>-0.0002</td>\n",
       "    </tr>\n",
       "    <tr>\n",
       "      <th>my</th>\n",
       "      <td>[[1.8238816074743904, 0.6794919894400718, 0.65...</td>\n",
       "      <td>-0.0002</td>\n",
       "    </tr>\n",
       "  </tbody>\n",
       "</table>\n",
       "</div>"
      ],
      "text/plain": [
       "                                                   Coefficients  Intercepts\n",
       "scikit-learn  [[1.8238816074743904, 0.6794919894400718, 0.65...     -0.0002\n",
       "my            [[1.8238816074743904, 0.6794919894400718, 0.65...     -0.0002"
      ]
     },
     "execution_count": 45,
     "metadata": {},
     "output_type": "execute_result"
    }
   ],
   "source": [
    "pd.DataFrame(\n",
    "    data={\n",
    "        \"Coefficients\": [sklearn_model.coef_, sklearn_model.coef_],\n",
    "        \"Intercepts\": [my_model.intercept_, my_model.intercept_],\n",
    "    },\n",
    "    index=[\"scikit-learn\", \"my\"],\n",
    ")"
   ]
  },
  {
   "cell_type": "code",
   "execution_count": 46,
   "id": "057e8901",
   "metadata": {},
   "outputs": [
    {
     "data": {
      "text/html": [
       "<div>\n",
       "<style scoped>\n",
       "    .dataframe tbody tr th:only-of-type {\n",
       "        vertical-align: middle;\n",
       "    }\n",
       "\n",
       "    .dataframe tbody tr th {\n",
       "        vertical-align: top;\n",
       "    }\n",
       "\n",
       "    .dataframe thead th {\n",
       "        text-align: right;\n",
       "    }\n",
       "</style>\n",
       "<table border=\"1\" class=\"dataframe\">\n",
       "  <thead>\n",
       "    <tr style=\"text-align: right;\">\n",
       "      <th></th>\n",
       "      <th>scikit-learn</th>\n",
       "      <th>my</th>\n",
       "    </tr>\n",
       "  </thead>\n",
       "  <tbody>\n",
       "    <tr>\n",
       "      <th>Accuracy</th>\n",
       "      <td>0.850000</td>\n",
       "      <td>0.850000</td>\n",
       "    </tr>\n",
       "    <tr>\n",
       "      <th>Precision</th>\n",
       "      <td>0.818182</td>\n",
       "      <td>0.818182</td>\n",
       "    </tr>\n",
       "    <tr>\n",
       "      <th>Recall</th>\n",
       "      <td>0.900000</td>\n",
       "      <td>0.900000</td>\n",
       "    </tr>\n",
       "    <tr>\n",
       "      <th>F1-score</th>\n",
       "      <td>0.857143</td>\n",
       "      <td>0.857143</td>\n",
       "    </tr>\n",
       "    <tr>\n",
       "      <th>ROC AUC</th>\n",
       "      <td>0.850000</td>\n",
       "      <td>0.850000</td>\n",
       "    </tr>\n",
       "  </tbody>\n",
       "</table>\n",
       "</div>"
      ],
      "text/plain": [
       "           scikit-learn        my\n",
       "Accuracy       0.850000  0.850000\n",
       "Precision      0.818182  0.818182\n",
       "Recall         0.900000  0.900000\n",
       "F1-score       0.857143  0.857143\n",
       "ROC AUC        0.850000  0.850000"
      ]
     },
     "execution_count": 46,
     "metadata": {},
     "output_type": "execute_result"
    }
   ],
   "source": [
    "evaluate_classification_models(predictions, y_test)"
   ]
  },
  {
   "cell_type": "code",
   "execution_count": 47,
   "id": "2d77bcaf",
   "metadata": {},
   "outputs": [
    {
     "data": {
      "image/png": "[encoded data removed]",
      "text/plain": [
       "<Figure size 1200x500 with 2 Axes>"
      ]
     },
     "metadata": {},
     "output_type": "display_data"
    }
   ],
   "source": [
    "plot_confusion_matrices(predictions, y_test)"
   ]
  }
 ],
 "metadata": {
  "kernelspec": {
   "display_name": "python-project-template-py3.13",
   "language": "python",
   "name": "python3"
  },
  "language_info": {
   "codemirror_mode": {
    "name": "ipython",
    "version": 3
   },
   "file_extension": ".py",
   "mimetype": "text/x-python",
   "name": "python",
   "nbconvert_exporter": "python",
   "pygments_lexer": "ipython3",
   "version": "3.13.3"
  }
 },
 "nbformat": 4,
 "nbformat_minor": 5
}
