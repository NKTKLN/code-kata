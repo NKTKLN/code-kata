{
 "cells": [
  {
   "cell_type": "markdown",
   "id": "4d34ba7a",
   "metadata": {},
   "source": [
    "# 🧪 Custom Linear Regression: From Scratch vs scikit-learn\n",
    "\n",
    "In this notebook, we implement linear regression **from scratch** using Stochastic Gradient Descent. We then compare the performance of these implementations with **scikit-learn**'s `LinearRegression` model."
   ]
  },
  {
   "cell_type": "markdown",
   "id": "09ae7e75",
   "metadata": {},
   "source": [
    "### ⚙️ Importing Libraries & Environment Setup"
   ]
  },
  {
   "cell_type": "code",
   "execution_count": 14,
   "id": "8dfd5356",
   "metadata": {},
   "outputs": [],
   "source": [
    "import matplotlib.pyplot as plt\n",
    "import numpy as np\n",
    "import pandas as pd\n",
    "import seaborn as sns\n",
    "from numpy.typing import NDArray\n",
    "from sklearn.datasets import make_regression\n",
    "from sklearn.linear_model import LinearRegression\n",
    "from sklearn.metrics import mean_absolute_error, mean_squared_error, r2_score\n",
    "from sklearn.model_selection import train_test_split"
   ]
  },
  {
   "cell_type": "code",
   "execution_count": 15,
   "id": "d14d1df6",
   "metadata": {},
   "outputs": [],
   "source": [
    "%matplotlib inline\n",
    "\n",
    "pd.set_option(\"display.width\", 150)\n",
    "pd.set_option(\"display.max_rows\", 100)\n",
    "pd.set_option(\"display.max_columns\", None)"
   ]
  },
  {
   "cell_type": "markdown",
   "id": "0ca6735b",
   "metadata": {},
   "source": [
    "### 🧰 Utility Functions"
   ]
  },
  {
   "cell_type": "code",
   "execution_count": 16,
   "id": "5b9c4a46",
   "metadata": {},
   "outputs": [],
   "source": [
    "def evaluate_regression_models(\n",
    "    predictions: dict[str, NDArray[np.float64]], y: NDArray[np.float64]\n",
    ") -> pd.DataFrame:\n",
    "    \"\"\"Evaluate multiple regression model predictions on the given dataset.\n",
    "\n",
    "    Args:\n",
    "        predictions (dict[str, NDArray[np.float64]]): Dictionary where keys are\n",
    "            model names and values are predicted target arrays corresponding to X.\n",
    "        y (NDArray[np.float64]): True target values of shape (n_samples,).\n",
    "\n",
    "    Returns:\n",
    "        pd.DataFrame: DataFrame with evaluation metrics (MAE, MSE, R2) for each model.\n",
    "            Rows correspond to model names; columns correspond to metrics.\n",
    "    \"\"\"\n",
    "    evaluations = pd.DataFrame(columns=[\"MAE\", \"MSE\", \"R2\"], index=predictions.keys())\n",
    "\n",
    "    for name, y_pred in predictions.items():\n",
    "        mae = mean_absolute_error(y, y_pred)\n",
    "        mse = mean_squared_error(y, y_pred)\n",
    "        r2 = r2_score(y, y_pred)\n",
    "\n",
    "        evaluations.loc[name] = [mae, mse, r2]\n",
    "\n",
    "    return evaluations.astype(float)"
   ]
  },
  {
   "cell_type": "code",
   "execution_count": 17,
   "id": "52fd504e",
   "metadata": {},
   "outputs": [],
   "source": [
    "def plot_regression_models(\n",
    "    predictions: dict[str, NDArray[np.float64]],\n",
    "    X: NDArray[np.float64],\n",
    "    y: NDArray[np.float64],\n",
    "    X_test: NDArray[np.float64],\n",
    ") -> None:\n",
    "    \"\"\"Plot regression results for multiple models on scatter data.\n",
    "\n",
    "    Args:\n",
    "        predictions (dict[str, NDArray[np.float64]]): Dictionary mapping model names\n",
    "            to predicted values for X_test.\n",
    "        X (NDArray[np.float64]): Original feature data of shape (n_samples, 1)\n",
    "            for scatter plot.\n",
    "        y (NDArray[np.float64]): True target values corresponding to X.\n",
    "        X_test (NDArray[np.float64]): Feature values where predictions are\n",
    "            evaluated and plotted.\n",
    "    \"\"\"\n",
    "    plt.figure(figsize=(12, 10))\n",
    "    sns.scatterplot(x=X.flatten(), y=y.flatten(), alpha=0.3, label=\"Noisy data points\")\n",
    "\n",
    "    palette = sns.color_palette(\"Set1\")\n",
    "    for index, (name, y_pred) in enumerate(predictions.items()):\n",
    "        plt.plot(\n",
    "            X_test, y_pred, alpha=0.6, color=palette[index], linewidth=2, label=name\n",
    "        )\n",
    "\n",
    "    plt.xlabel(\"Feature\")\n",
    "    plt.ylabel(\"Target\")\n",
    "    plt.legend()\n",
    "    plt.tight_layout()\n",
    "    plt.show()"
   ]
  },
  {
   "cell_type": "markdown",
   "id": "9f5f36ff",
   "metadata": {},
   "source": [
    "### 📥 Loading the Dataset"
   ]
  },
  {
   "cell_type": "code",
   "execution_count": 18,
   "id": "6b607b28",
   "metadata": {},
   "outputs": [],
   "source": [
    "# Generate dataset\n",
    "X, y = make_regression(\n",
    "    n_samples=100, n_features=1, noise=10, bias=37.0, random_state=42\n",
    ")"
   ]
  },
  {
   "cell_type": "code",
   "execution_count": 19,
   "id": "c28f6c2b",
   "metadata": {},
   "outputs": [],
   "source": [
    "# Split data into training and testing sets\n",
    "X_train, X_test, y_train, y_test = train_test_split(\n",
    "    X, y, test_size=0.2, random_state=42\n",
    ")"
   ]
  },
  {
   "cell_type": "markdown",
   "id": "56902d14",
   "metadata": {},
   "source": [
    "### 🧠 Implementing Custom Model Algorithms"
   ]
  },
  {
   "cell_type": "code",
   "execution_count": 20,
   "id": "19b2063f",
   "metadata": {},
   "outputs": [],
   "source": [
    "class MyLinearRegression:\n",
    "    \"\"\"Linear Regression using SGD with L1 and L2 regularization.\n",
    "\n",
    "    This implementation performs optimization using batch size 1 (pure SGD)\n",
    "    and supports both L1 (Lasso) and L2 (Ridge) regularization to reduce overfitting\n",
    "    and encourage sparsity.\n",
    "\n",
    "    Attributes:\n",
    "        max_epochs (int): Maximum number of training iterations.\n",
    "        learning_rate (float): Step size for parameter updates.\n",
    "        tolerance (float): Threshold to determine convergence based on loss change.\n",
    "        lambda_l1 (float): Coefficient for L1 regularization (Lasso).\n",
    "        lambda_l2 (float): Coefficient for L2 regularization (Ridge).\n",
    "        coef_ (NDArray[np.float64] | None): Learned weights for the linear model.\n",
    "        intercept_ (float): Learned intercept (bias) term.\n",
    "    \"\"\"\n",
    "\n",
    "    def __init__(\n",
    "        self,\n",
    "        max_epochs: int = 10000,\n",
    "        learning_rate: float = 1e-4,\n",
    "        tolerance: float = 1e-7,\n",
    "        lambda_l1: float = 0,\n",
    "        lambda_l2: float = 0,\n",
    "        random_state: int | None = None,\n",
    "    ):\n",
    "        \"\"\"Initialize the MyLinearRegression model.\n",
    "\n",
    "        Args:\n",
    "            max_epochs (int): Number of epochs for SGD. Default is 10,000.\n",
    "            learning_rate (float): Step size for weight updates. Default is 1e-4.\n",
    "            tolerance (float): Early stopping threshold for change in loss.\n",
    "                Default is 1e-7.\n",
    "            lambda_l1 (float): L1 regularization strength (sparsity). Default is 0.\n",
    "            lambda_l2 (float): L2 regularization strength (weight decay). Default is 0.\n",
    "            random_state (int | None): Seed for reproducible training. Default is None.\n",
    "        \"\"\"\n",
    "        self.max_epochs = max_epochs\n",
    "        self.learning_rate = learning_rate\n",
    "        self.tolerance = tolerance\n",
    "        self.lambda_l1 = lambda_l1\n",
    "        self.lambda_l2 = lambda_l2\n",
    "        self.rng = np.random.default_rng(random_state)\n",
    "\n",
    "        self.coef_: NDArray[np.float64] | None = None\n",
    "        self.intercept_: float = 0.0\n",
    "\n",
    "    def _mse(self, y_true: NDArray[np.float64], y_pred: NDArray[np.float64]) -> float:\n",
    "        \"\"\"Compute mean squared error between true and predicted values.\n",
    "\n",
    "        Args:\n",
    "            y_true (NDArray[np.float64]): True target values.\n",
    "            y_pred (NDArray[np.float64]): Predicted values.\n",
    "\n",
    "        Returns:\n",
    "            float: Mean squared error.\n",
    "        \"\"\"\n",
    "        return np.mean((y_pred - y_true) ** 2)\n",
    "\n",
    "    def _compute_gradients(\n",
    "        self, x_i: NDArray[np.float64], y_i: float\n",
    "    ) -> tuple[NDArray[np.float64], float]:\n",
    "        \"\"\"Compute gradients of the loss function with respect to weights and bias.\n",
    "\n",
    "        Args:\n",
    "            x_i (NDArray[np.float64]): Single input sample of shape (n_features,).\n",
    "            y_i (float): True target value for the input sample.\n",
    "\n",
    "        Returns:\n",
    "            Tuple containing:\n",
    "                - grad_coef (NDArray[np.float64]): Gradient w.r.t. coefficients.\n",
    "                - grad_intercept (float): Gradient w.r.t. intercept.\n",
    "        \"\"\"\n",
    "        y_i_pred = self.predict(x_i)\n",
    "        error_i = y_i_pred - y_i\n",
    "\n",
    "        grad_coef = x_i * error_i\n",
    "        if self.lambda_l1 > 0:\n",
    "            grad_coef += self.lambda_l1 * np.sign(self.coef_)\n",
    "        if self.lambda_l2 > 0:\n",
    "            grad_coef += self.lambda_l2 * self.coef_\n",
    "\n",
    "        grad_intercept = error_i\n",
    "\n",
    "        return grad_coef, grad_intercept\n",
    "\n",
    "    def fit(self, X: NDArray[np.float64], y: NDArray[np.float64]) -> None:\n",
    "        \"\"\"Fit the linear regression model to training data using SGD.\n",
    "\n",
    "        Args:\n",
    "            X (NDArray[np.float64]): Feature matrix of shape (n_samples, n_features).\n",
    "            y (NDArray[np.float64]): Target vector of shape (n_samples,).\n",
    "        \"\"\"\n",
    "        m, n_features = X.shape\n",
    "        self.coef_ = np.zeros(n_features)\n",
    "\n",
    "        prev_loss = float(\"inf\")\n",
    "\n",
    "        for _ in range(self.max_epochs):\n",
    "            indices = self.rng.permutation(m)\n",
    "            X_shuffled = X[indices]\n",
    "            y_shuffled = y[indices]\n",
    "\n",
    "            for x_i, y_i in zip(X_shuffled, y_shuffled, strict=False):\n",
    "                grad_coef, grad_intercept = self._compute_gradients(x_i, y_i)\n",
    "                self.coef_ -= self.learning_rate * grad_coef\n",
    "                self.intercept_ -= self.learning_rate * grad_intercept\n",
    "\n",
    "            y_pred = self.predict(X)\n",
    "            loss = self._mse(y, y_pred)\n",
    "            loss += self.lambda_l2 * np.sum(self.coef_**2)\n",
    "            loss += self.lambda_l1 * np.sum(np.abs(self.coef_))\n",
    "\n",
    "            if abs(prev_loss - loss) < self.tolerance:\n",
    "                break\n",
    "\n",
    "            prev_loss = loss\n",
    "\n",
    "    def predict(self, X: NDArray[np.float64]) -> NDArray[np.float64]:\n",
    "        \"\"\"Predict target values using the trained model.\n",
    "\n",
    "        Args:\n",
    "            X (NDArray[np.float64]): Feature matrix of shape (n_samples, n_features).\n",
    "\n",
    "        Returns:\n",
    "            NDArray[np.float64]: Predicted values of shape (n_samples,).\n",
    "\n",
    "        Raises:\n",
    "            ValueError: If model has not been trained yet.\n",
    "        \"\"\"\n",
    "        if self.coef_ is None:\n",
    "            raise ValueError(\"Model is not trained yet. Call `fit` first.\")\n",
    "        return X @ self.coef_ + self.intercept_"
   ]
  },
  {
   "cell_type": "markdown",
   "id": "6f37469d",
   "metadata": {},
   "source": [
    "### 🏋️‍♂️ Model Training"
   ]
  },
  {
   "cell_type": "code",
   "execution_count": 21,
   "id": "f1e200ba",
   "metadata": {},
   "outputs": [],
   "source": [
    "# Scikit-learn linear regression model\n",
    "sklearn_model = LinearRegression()\n",
    "sklearn_model.fit(X_train, y_train)\n",
    "\n",
    "# My SGD linear regression model\n",
    "my_model = MyLinearRegression(lambda_l1=1e-3, lambda_l2=1e-3, random_state=42)\n",
    "my_model.fit(X_train, y_train)"
   ]
  },
  {
   "cell_type": "markdown",
   "id": "37549ace",
   "metadata": {},
   "source": [
    "### 📊 Comparing Algorithm Versions"
   ]
  },
  {
   "cell_type": "code",
   "execution_count": 22,
   "id": "c4baa28c",
   "metadata": {},
   "outputs": [],
   "source": [
    "predictions = {\n",
    "    \"scikit-learn\": sklearn_model.predict(X_test),\n",
    "    \"my\": my_model.predict(X_test),\n",
    "}"
   ]
  },
  {
   "cell_type": "code",
   "execution_count": 23,
   "id": "8b837418",
   "metadata": {},
   "outputs": [
    {
     "data": {
      "text/html": [
       "<div>\n",
       "<style scoped>\n",
       "    .dataframe tbody tr th:only-of-type {\n",
       "        vertical-align: middle;\n",
       "    }\n",
       "\n",
       "    .dataframe tbody tr th {\n",
       "        vertical-align: top;\n",
       "    }\n",
       "\n",
       "    .dataframe thead th {\n",
       "        text-align: right;\n",
       "    }\n",
       "</style>\n",
       "<table border=\"1\" class=\"dataframe\">\n",
       "  <thead>\n",
       "    <tr style=\"text-align: right;\">\n",
       "      <th></th>\n",
       "      <th>Coefficients</th>\n",
       "      <th>Intercepts</th>\n",
       "    </tr>\n",
       "  </thead>\n",
       "  <tbody>\n",
       "    <tr>\n",
       "      <th>scikit-learn</th>\n",
       "      <td>[44.244182155974194]</td>\n",
       "      <td>37.089619</td>\n",
       "    </tr>\n",
       "    <tr>\n",
       "      <th>my</th>\n",
       "      <td>[44.244182155974194]</td>\n",
       "      <td>37.089619</td>\n",
       "    </tr>\n",
       "  </tbody>\n",
       "</table>\n",
       "</div>"
      ],
      "text/plain": [
       "                      Coefficients  Intercepts\n",
       "scikit-learn  [44.244182155974194]   37.089619\n",
       "my            [44.244182155974194]   37.089619"
      ]
     },
     "execution_count": 23,
     "metadata": {},
     "output_type": "execute_result"
    }
   ],
   "source": [
    "pd.DataFrame(data={\n",
    "    \"Coefficients\": [sklearn_model.coef_, sklearn_model.coef_],\n",
    "    \"Intercepts\": [my_model.intercept_, my_model.intercept_],\n",
    "}, index=[\"scikit-learn\", \"my\"])"
   ]
  },
  {
   "cell_type": "code",
   "execution_count": 24,
   "id": "057e8901",
   "metadata": {},
   "outputs": [
    {
     "data": {
      "text/html": [
       "<div>\n",
       "<style scoped>\n",
       "    .dataframe tbody tr th:only-of-type {\n",
       "        vertical-align: middle;\n",
       "    }\n",
       "\n",
       "    .dataframe tbody tr th {\n",
       "        vertical-align: top;\n",
       "    }\n",
       "\n",
       "    .dataframe thead th {\n",
       "        text-align: right;\n",
       "    }\n",
       "</style>\n",
       "<table border=\"1\" class=\"dataframe\">\n",
       "  <thead>\n",
       "    <tr style=\"text-align: right;\">\n",
       "      <th></th>\n",
       "      <th>MAE</th>\n",
       "      <th>MSE</th>\n",
       "      <th>R2</th>\n",
       "    </tr>\n",
       "  </thead>\n",
       "  <tbody>\n",
       "    <tr>\n",
       "      <th>scikit-learn</th>\n",
       "      <td>8.416660</td>\n",
       "      <td>104.202227</td>\n",
       "      <td>0.937415</td>\n",
       "    </tr>\n",
       "    <tr>\n",
       "      <th>my</th>\n",
       "      <td>8.420751</td>\n",
       "      <td>104.334542</td>\n",
       "      <td>0.937336</td>\n",
       "    </tr>\n",
       "  </tbody>\n",
       "</table>\n",
       "</div>"
      ],
      "text/plain": [
       "                   MAE         MSE        R2\n",
       "scikit-learn  8.416660  104.202227  0.937415\n",
       "my            8.420751  104.334542  0.937336"
      ]
     },
     "execution_count": 24,
     "metadata": {},
     "output_type": "execute_result"
    }
   ],
   "source": [
    "evaluate_regression_models(predictions, y_test)"
   ]
  },
  {
   "cell_type": "code",
   "execution_count": 25,
   "id": "2d77bcaf",
   "metadata": {},
   "outputs": [
    {
     "data": {
      "image/png": "[encoded data removed]",
      "text/plain": [
       "<Figure size 1200x1000 with 1 Axes>"
      ]
     },
     "metadata": {},
     "output_type": "display_data"
    }
   ],
   "source": [
    "plot_regression_models(predictions, X, y, X_test)"
   ]
  }
 ],
 "metadata": {
  "kernelspec": {
   "display_name": "python-project-template-py3.13",
   "language": "python",
   "name": "python3"
  },
  "language_info": {
   "codemirror_mode": {
    "name": "ipython",
    "version": 3
   },
   "file_extension": ".py",
   "mimetype": "text/x-python",
   "name": "python",
   "nbconvert_exporter": "python",
   "pygments_lexer": "ipython3",
   "version": "3.13.3"
  }
 },
 "nbformat": 4,
 "nbformat_minor": 5
}
