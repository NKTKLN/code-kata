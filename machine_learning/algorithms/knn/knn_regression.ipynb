{
 "cells": [
  {
   "cell_type": "markdown",
   "id": "4d34ba7a",
   "metadata": {},
   "source": [
    "# 🧪 Custom kNN Regression\n",
    "\n",
    "In this notebook, we implement kNN regressor **from scratch**. We then compare the performance of these implementations with **scikit-learn**'s `KNeighborsRegressor` and `LinearRegression` models."
   ]
  },
  {
   "cell_type": "markdown",
   "id": "09ae7e75",
   "metadata": {},
   "source": [
    "### ⚙️ Importing Libraries & Environment Setup"
   ]
  },
  {
   "cell_type": "code",
   "execution_count": 23,
   "id": "8dfd5356",
   "metadata": {},
   "outputs": [],
   "source": [
    "import matplotlib.pyplot as plt\n",
    "import numpy as np\n",
    "import pandas as pd\n",
    "import seaborn as sns\n",
    "from numpy.typing import NDArray\n",
    "from sklearn.datasets import make_regression\n",
    "from sklearn.linear_model import LinearRegression\n",
    "from sklearn.metrics import mean_absolute_error, mean_squared_error, r2_score\n",
    "from sklearn.model_selection import train_test_split\n",
    "from sklearn.neighbors import KNeighborsRegressor"
   ]
  },
  {
   "cell_type": "code",
   "execution_count": 24,
   "id": "d14d1df6",
   "metadata": {},
   "outputs": [],
   "source": [
    "%matplotlib inline\n",
    "\n",
    "pd.set_option(\"display.width\", 150)\n",
    "pd.set_option(\"display.max_rows\", 100)\n",
    "pd.set_option(\"display.max_columns\", None)"
   ]
  },
  {
   "cell_type": "markdown",
   "id": "0ca6735b",
   "metadata": {},
   "source": [
    "### 🧰 Utility Functions"
   ]
  },
  {
   "cell_type": "code",
   "execution_count": 25,
   "id": "5b9c4a46",
   "metadata": {},
   "outputs": [],
   "source": [
    "def evaluate_regression_models(\n",
    "    predictions: dict[str, NDArray[np.float64]], y: NDArray[np.float64]\n",
    ") -> pd.DataFrame:\n",
    "    \"\"\"Evaluate multiple regression model predictions on the given dataset.\n",
    "\n",
    "    Args:\n",
    "        predictions (dict[str, NDArray[np.float64]]): Dictionary where keys are\n",
    "            model names and values are predicted target arrays corresponding to X.\n",
    "        y (NDArray[np.float64]): True target values of shape (n_samples,).\n",
    "\n",
    "    Returns:\n",
    "        pd.DataFrame: DataFrame with evaluation metrics (MAE, MSE, R2) for each model.\n",
    "            Columns correspond to model names; rows correspond to metrics.\n",
    "    \"\"\"\n",
    "    evaluations = pd.DataFrame(columns=predictions.keys(), index=[\"MAE\", \"MSE\", \"R2\"])\n",
    "\n",
    "    for name, y_pred in predictions.items():\n",
    "        mae = mean_absolute_error(y, y_pred)\n",
    "        mse = mean_squared_error(y, y_pred)\n",
    "        r2 = r2_score(y, y_pred)\n",
    "\n",
    "        evaluations.loc[:, name] = [mae, mse, r2]\n",
    "\n",
    "    return evaluations.astype(float)"
   ]
  },
  {
   "cell_type": "code",
   "execution_count": 26,
   "id": "5ebcb568",
   "metadata": {},
   "outputs": [],
   "source": [
    "def plot_regression_models(\n",
    "    predictions: dict[str, NDArray[np.float64]],\n",
    "    X: NDArray[np.float64],\n",
    "    y: NDArray[np.float64],\n",
    "    X_test: NDArray[np.float64],\n",
    ") -> None:\n",
    "    \"\"\"Plot regression results for multiple models on scatter data.\n",
    "\n",
    "    Args:\n",
    "        predictions (dict[str, NDArray[np.float64]]): Dictionary mapping model names\n",
    "            to predicted values for X_test.\n",
    "        X (NDArray[np.float64]): Original feature data of shape (n_samples, 1)\n",
    "            for scatter plot.\n",
    "        y (NDArray[np.float64]): True target values corresponding to X.\n",
    "        X_test (NDArray[np.float64]): Feature values where predictions are\n",
    "            evaluated and plotted.\n",
    "    \"\"\"\n",
    "    sns.scatterplot(x=X.flatten(), y=y.flatten(), alpha=0.3, label=\"Noisy data points\")\n",
    "\n",
    "    palette = sns.color_palette(\"Set1\")\n",
    "    for index, (name, y_pred) in enumerate(predictions.items()):\n",
    "        sns.lineplot(\n",
    "            x=X_test.flatten(),\n",
    "            y=y_pred.flatten(),\n",
    "            alpha=0.6,\n",
    "            color=palette[index],\n",
    "            label=name,\n",
    "        )\n",
    "\n",
    "    plt.xlabel(\"Feature\")\n",
    "    plt.ylabel(\"Target\")\n",
    "    plt.legend()\n",
    "    plt.tight_layout()\n",
    "    plt.show()"
   ]
  },
  {
   "cell_type": "markdown",
   "id": "9f5f36ff",
   "metadata": {},
   "source": [
    "### 📥 Loading the Dataset"
   ]
  },
  {
   "cell_type": "code",
   "execution_count": 27,
   "id": "6b607b28",
   "metadata": {},
   "outputs": [],
   "source": [
    "# Generate dataset\n",
    "X, y = make_regression(\n",
    "    n_samples=100, n_features=1, noise=10, bias=37.0, random_state=42\n",
    ")"
   ]
  },
  {
   "cell_type": "code",
   "execution_count": 28,
   "id": "c28f6c2b",
   "metadata": {},
   "outputs": [],
   "source": [
    "# Split data into training and testing sets\n",
    "X_train, X_test, y_train, y_test = train_test_split(\n",
    "    X, y, test_size=0.2, random_state=42\n",
    ")"
   ]
  },
  {
   "cell_type": "markdown",
   "id": "56902d14",
   "metadata": {},
   "source": [
    "### 🧠 Implementing Custom Model Algorithms"
   ]
  },
  {
   "cell_type": "code",
   "execution_count": null,
   "id": "19b2063f",
   "metadata": {},
   "outputs": [],
   "source": [
    "class MyKNeighborsRegressor:\n",
    "    \"\"\"K-Nearest Neighbors Regressor with Gaussian kernel weighting.\n",
    "\n",
    "    Predicts the target value for each input sample based on the weighted average\n",
    "    of its k nearest neighbors in the training data, using Minkowski distance and\n",
    "    Gaussian kernel for weighting.\n",
    "\n",
    "    Attributes:\n",
    "        k_neighbors (int): Number of nearest neighbors to consider.\n",
    "        p (float): Power parameter for the Minkowski distance.\n",
    "        h (float): Bandwidth parameter for the Gaussian kernel.\n",
    "        X_train (NDArray[np.float64] | None): Training features.\n",
    "        y_train (NDArray[np.float64] | None): Training targets.\n",
    "    \"\"\"\n",
    "\n",
    "    def __init__(self, k_neighbors: int = 3, p: float = 2.0, h: float = 1.0) -> None:\n",
    "        \"\"\"Initialize the KNN regressor.\n",
    "\n",
    "        Args:\n",
    "            k_neighbors (int, optional): Number of neighbors to consider. Defaults to 3.\n",
    "            p (float, optional): Order of the Minkowski distance metric.\n",
    "                Defaults to 2.0.\n",
    "            h (float, optional): Bandwidth parameter for the Gaussian kernel.\n",
    "                Defaults to 1.0.\n",
    "        \"\"\"\n",
    "        self.k_neighbors = k_neighbors\n",
    "        self.p = p\n",
    "        self.h = h\n",
    "\n",
    "        self.X_train: NDArray[np.float64] | None = None\n",
    "        self.y_train: NDArray[np.float64] | None = None\n",
    "\n",
    "    def _gaussian_kernel(self, t: NDArray[np.float64]) -> NDArray[np.float64]:\n",
    "        \"\"\"Gaussian (normal) kernel function.\n",
    "\n",
    "        Args:\n",
    "            t (NDArray[np.float64]): Input values.\n",
    "\n",
    "        Returns:\n",
    "            NDArray[np.float64]: Kernel-weighted values.\n",
    "        \"\"\"\n",
    "        return np.exp(-(t**2) / 2) / np.sqrt(2 * np.pi)\n",
    "\n",
    "    def _get_distances(self, x: float) -> NDArray[np.float64]:\n",
    "        \"\"\"Compute Minkowski distances from a single sample to all training samples.\n",
    "\n",
    "        Args:\n",
    "            x (float): Single sample.\n",
    "\n",
    "        Returns:\n",
    "            NDArray: Distances from x to each sample in X_train.\n",
    "        \"\"\"\n",
    "        return np.sum(np.abs(self.X_train - x) ** self.p, axis=1) ** (1 / self.p)\n",
    "\n",
    "    def fit(self, X: NDArray[np.float64], y: NDArray[np.float64]) -> None:\n",
    "        \"\"\"Store training data for future predictions.\n",
    "\n",
    "        Args:\n",
    "            X (NDArray[np.float64]): Training feature matrix of shape\n",
    "                (n_samples, n_features).\n",
    "            y (NDArray[np.float64]): Target values of shape (n_samples,).\n",
    "        \"\"\"\n",
    "        self.X_train = X\n",
    "        self.y_train = y\n",
    "\n",
    "    def predict(self, X: NDArray[np.float64]) -> NDArray[np.float64]:\n",
    "        \"\"\"Predict target values for samples in X.\n",
    "\n",
    "        Args:\n",
    "            X (NDArray[np.float64]): Input data of shape (n_samples, n_features).\n",
    "\n",
    "        Returns:\n",
    "            NDArray[np.float64]: Predicted values.\n",
    "        \"\"\"\n",
    "        y_pred = []\n",
    "        for x_new in X:\n",
    "            distances = self._get_distances(x_new)\n",
    "\n",
    "            neighbors_idx = distances.argsort()[: self.k_neighbors]\n",
    "            neighbor_labels = y_train[neighbors_idx].astype(np.float64)\n",
    "            neighbor_distances = distances[neighbors_idx]\n",
    "\n",
    "            weights = self._gaussian_kernel(neighbor_distances / self.h)\n",
    "\n",
    "            weighted_sum = np.sum(weights * neighbor_labels)\n",
    "            weight_total = np.sum(weights)\n",
    "\n",
    "            predicted_label = (\n",
    "                weighted_sum / weight_total\n",
    "                if weight_total != 0\n",
    "                else np.mean(self.y_train)\n",
    "            )\n",
    "            y_pred.append(predicted_label)\n",
    "\n",
    "        return np.array(y_pred, dtype=np.float64)"
   ]
  },
  {
   "cell_type": "markdown",
   "id": "6f37469d",
   "metadata": {},
   "source": [
    "### 🏋️‍♂️ Model Training"
   ]
  },
  {
   "cell_type": "code",
   "execution_count": 30,
   "id": "f1e200ba",
   "metadata": {},
   "outputs": [],
   "source": [
    "# Scikit-learn linear regression model\n",
    "sklearn_linear_model = LinearRegression()\n",
    "sklearn_linear_model.fit(X_train, y_train)\n",
    "\n",
    "# Scikit-learn kNN regressor model\n",
    "sklearn_model = KNeighborsRegressor(n_neighbors=5, algorithm=\"brute\")\n",
    "sklearn_model.fit(X_train, y_train)\n",
    "\n",
    "# My kNN regressor model\n",
    "my_model = MyKNeighborsRegressor(k_neighbors=5, p=5, h=0.5)\n",
    "my_model.fit(X_train, y_train)"
   ]
  },
  {
   "cell_type": "markdown",
   "id": "37549ace",
   "metadata": {},
   "source": [
    "### 📊 Comparing Algorithm Versions"
   ]
  },
  {
   "cell_type": "code",
   "execution_count": 31,
   "id": "c4baa28c",
   "metadata": {},
   "outputs": [],
   "source": [
    "predictions = {\n",
    "    \"scikit-learn_linear\": sklearn_linear_model.predict(X_test),\n",
    "    \"scikit-learn\": sklearn_model.predict(X_test),\n",
    "    \"my\": my_model.predict(X_test),\n",
    "}"
   ]
  },
  {
   "cell_type": "code",
   "execution_count": 32,
   "id": "5a1e9abe",
   "metadata": {},
   "outputs": [
    {
     "data": {
      "text/html": [
       "<div>\n",
       "<style scoped>\n",
       "    .dataframe tbody tr th:only-of-type {\n",
       "        vertical-align: middle;\n",
       "    }\n",
       "\n",
       "    .dataframe tbody tr th {\n",
       "        vertical-align: top;\n",
       "    }\n",
       "\n",
       "    .dataframe thead th {\n",
       "        text-align: right;\n",
       "    }\n",
       "</style>\n",
       "<table border=\"1\" class=\"dataframe\">\n",
       "  <thead>\n",
       "    <tr style=\"text-align: right;\">\n",
       "      <th></th>\n",
       "      <th>scikit-learn_linear</th>\n",
       "      <th>scikit-learn</th>\n",
       "      <th>my</th>\n",
       "    </tr>\n",
       "  </thead>\n",
       "  <tbody>\n",
       "    <tr>\n",
       "      <th>MAE</th>\n",
       "      <td>8.416660</td>\n",
       "      <td>8.674021</td>\n",
       "      <td>8.683998</td>\n",
       "    </tr>\n",
       "    <tr>\n",
       "      <th>MSE</th>\n",
       "      <td>104.202227</td>\n",
       "      <td>108.141989</td>\n",
       "      <td>108.167394</td>\n",
       "    </tr>\n",
       "    <tr>\n",
       "      <th>R2</th>\n",
       "      <td>0.937415</td>\n",
       "      <td>0.935049</td>\n",
       "      <td>0.935034</td>\n",
       "    </tr>\n",
       "  </tbody>\n",
       "</table>\n",
       "</div>"
      ],
      "text/plain": [
       "     scikit-learn_linear  scikit-learn          my\n",
       "MAE             8.416660      8.674021    8.683998\n",
       "MSE           104.202227    108.141989  108.167394\n",
       "R2              0.937415      0.935049    0.935034"
      ]
     },
     "execution_count": 32,
     "metadata": {},
     "output_type": "execute_result"
    }
   ],
   "source": [
    "evaluate_regression_models(predictions, y_test)"
   ]
  },
  {
   "cell_type": "code",
   "execution_count": 33,
   "id": "30a42fb1",
   "metadata": {},
   "outputs": [
    {
     "data": {
      "image/png": "[encoded data removed]",
      "text/plain": [
       "<Figure size 640x480 with 1 Axes>"
      ]
     },
     "metadata": {},
     "output_type": "display_data"
    }
   ],
   "source": [
    "plot_regression_models(predictions, X, y, X_test)"
   ]
  }
 ],
 "metadata": {
  "kernelspec": {
   "display_name": "python-project-template-py3.13",
   "language": "python",
   "name": "python3"
  },
  "language_info": {
   "codemirror_mode": {
    "name": "ipython",
    "version": 3
   },
   "file_extension": ".py",
   "mimetype": "text/x-python",
   "name": "python",
   "nbconvert_exporter": "python",
   "pygments_lexer": "ipython3",
   "version": "3.13.3"
  }
 },
 "nbformat": 4,
 "nbformat_minor": 5
}
