{
 "cells": [
  {
   "cell_type": "markdown",
   "id": "4d34ba7a",
   "metadata": {},
   "source": [
    "# 🧪 Custom Grid Search\n",
    "\n",
    "In this notebook, we implement **Grid Search with cross-validation** from scratch using **a custom class `MyGridSearchCV`**. We then compare the performance of these implementations with **scikit-learn**'s `GridSearchCV` model."
   ]
  },
  {
   "cell_type": "markdown",
   "id": "09ae7e75",
   "metadata": {},
   "source": [
    "### ⚙️ Importing Libraries & Environment Setup"
   ]
  },
  {
   "cell_type": "code",
   "execution_count": 333,
   "id": "8dfd5356",
   "metadata": {},
   "outputs": [],
   "source": [
    "from itertools import product\n",
    "from typing import Any\n",
    "\n",
    "import numpy as np\n",
    "import pandas as pd\n",
    "from numpy.typing import NDArray\n",
    "from sklearn.base import BaseEstimator, clone\n",
    "from sklearn.datasets import load_iris\n",
    "from sklearn.metrics import accuracy_score\n",
    "from sklearn.model_selection import (\n",
    "    BaseCrossValidator,\n",
    "    GridSearchCV,\n",
    "    KFold,\n",
    "    StratifiedKFold,\n",
    "    train_test_split,\n",
    ")\n",
    "from sklearn.svm import SVC"
   ]
  },
  {
   "cell_type": "code",
   "execution_count": 334,
   "id": "d14d1df6",
   "metadata": {},
   "outputs": [],
   "source": [
    "%matplotlib inline\n",
    "\n",
    "pd.set_option(\"display.width\", 150)\n",
    "pd.set_option(\"display.max_rows\", 100)\n",
    "pd.set_option(\"display.max_columns\", None)"
   ]
  },
  {
   "cell_type": "markdown",
   "id": "9f5f36ff",
   "metadata": {},
   "source": [
    "### 📥 Loading the Dataset"
   ]
  },
  {
   "cell_type": "code",
   "execution_count": 335,
   "id": "6b607b28",
   "metadata": {},
   "outputs": [],
   "source": [
    "# Load iris dataset\n",
    "X, y = load_iris(return_X_y=True)"
   ]
  },
  {
   "cell_type": "code",
   "execution_count": 336,
   "id": "c28f6c2b",
   "metadata": {},
   "outputs": [],
   "source": [
    "# Split data into training and testing sets\n",
    "X_train, X_test, y_train, y_test = train_test_split(\n",
    "    X, y, test_size=0.2, random_state=42\n",
    ")"
   ]
  },
  {
   "cell_type": "markdown",
   "id": "56902d14",
   "metadata": {},
   "source": [
    "### 🧠 Implementing Custom Model Algorithms"
   ]
  },
  {
   "cell_type": "code",
   "execution_count": null,
   "id": "19b2063f",
   "metadata": {},
   "outputs": [],
   "source": [
    "class MyGridSearchCV:\n",
    "    \"\"\"Custom implementation of Grid Search with cross-validation.\n",
    "\n",
    "    Exhaustively searches over specified hyperparameter combinations\n",
    "    to find the best model based on cross-validated accuracy score.\n",
    "\n",
    "    Attributes:\n",
    "        estimator (BaseEstimator): Model implementing fit and predict.\n",
    "        param_grid (dict[str, Any]): Hyperparameters and their values to search.\n",
    "        cv (int | BaseCrossValidator): Number of folds or CV splitting strategy.\n",
    "        best_estimator_ (BaseEstimator | None): Estimator fitted on full data with\n",
    "            best params.\n",
    "        best_params_ (dict[str, Any] | None): Best hyperparameter combination found.\n",
    "        best_score_ (float): Best mean cross-validation accuracy score.\n",
    "    \"\"\"\n",
    "\n",
    "    def __init__(\n",
    "        self,\n",
    "        estimator: BaseEstimator,\n",
    "        param_grid: dict[str, Any],\n",
    "        cv: int | BaseCrossValidator = 5,\n",
    "    ) -> None:\n",
    "        \"\"\"Initialize MyGridSearchCV with estimator, parameter grid and CV strategy.\n",
    "\n",
    "        Args:\n",
    "            estimator (BaseEstimator): Model with fit and predict methods.\n",
    "            param_grid (dict[str, Any]): Dictionary of hyperparameters to try.\n",
    "            cv (int | BaseCrossValidator, optional): Number of folds or CV splitter.\n",
    "                Defaults to 5.\n",
    "        \"\"\"\n",
    "        self.estimator = estimator\n",
    "        self.param_grid = param_grid\n",
    "        self.cv = cv\n",
    "\n",
    "        self.best_estimator_: BaseEstimator | None = None\n",
    "        self.best_params_: dict[str, Any] | None = None\n",
    "        self.best_score_: float = float(\"-inf\")\n",
    "\n",
    "    def fit(self, X: NDArray[np.float64], y: NDArray[np.int64]) -> None:\n",
    "        \"\"\"Perform grid search with cross-validation on the training data.\n",
    "\n",
    "        Iterates over all hyperparameter combinations, evaluates each using\n",
    "        cross-validation, and stores the best model and parameters.\n",
    "\n",
    "        Args:\n",
    "            X (NDArray[np.float64]): Feature matrix of shape (n_samples, n_features).\n",
    "            y (NDArray[np.int64]): Target vector of shape (n_samples,).\n",
    "        \"\"\"\n",
    "        param_keys = list(self.param_grid.keys())\n",
    "        param_values = list(self.param_grid.values())\n",
    "        param_combinations = list(product(*param_values))\n",
    "\n",
    "        if isinstance(self.cv, int):\n",
    "            cv = KFold(n_splits=self.cv, shuffle=True, random_state=42)\n",
    "        else:\n",
    "            cv = self.cv\n",
    "\n",
    "        for values in param_combinations:\n",
    "            params = dict(zip(param_keys, values, strict=False))\n",
    "            estimator = clone(self.estimator)\n",
    "            estimator.set_params(**params)\n",
    "\n",
    "            scores = []\n",
    "            for train_idx, valid_idx in cv.split(X, y):\n",
    "                X_train, X_test = X[train_idx], X[valid_idx]\n",
    "                y_train, y_test = y[train_idx], y[valid_idx]\n",
    "\n",
    "                estimator.fit(X_train, y_train)\n",
    "                y_pred = estimator.predict(X_test)\n",
    "\n",
    "                score = accuracy_score(y_test, y_pred)\n",
    "                scores.append(score)\n",
    "\n",
    "            avg_score = np.mean(scores)\n",
    "            if self.best_score_ < avg_score:\n",
    "                self.best_score_ = avg_score\n",
    "                self.best_params_ = params\n",
    "                self.best_estimator_ = estimator\n",
    "                self.best_estimator_.fit(X, y)\n",
    "\n",
    "    def predict(self, X: NDArray[np.float64]) -> NDArray[np.int64]:\n",
    "        \"\"\"Predict target labels using the best found estimator.\n",
    "\n",
    "        Args:\n",
    "            X (NDArray[np.float64]): Feature matrix to predict.\n",
    "\n",
    "        Raises:\n",
    "            ValueError: If fit has not been called yet.\n",
    "\n",
    "        Returns:\n",
    "            NDArray[np.int64]: Predicted labels.\n",
    "        \"\"\"\n",
    "        if self.best_estimator_ is None:\n",
    "            raise ValueError(\"fit() must be called before predict()\")\n",
    "        return self.best_estimator_.predict(X)\n",
    "\n",
    "    def score(self, X: NDArray[np.float64], y: NDArray[np.int64]) -> float:\n",
    "        \"\"\"Calculate accuracy score of the best estimator on given data.\n",
    "\n",
    "        Args:\n",
    "            X (NDArray[np.float64]): Feature matrix.\n",
    "            y (NDArray[np.int64]): True target labels.\n",
    "\n",
    "        Raises:\n",
    "            ValueError: If fit has not been called yet.\n",
    "\n",
    "        Returns:\n",
    "            float: Accuracy score.\n",
    "        \"\"\"\n",
    "        if self.best_estimator_ is None:\n",
    "            raise ValueError(\"fit() must be called before score()\")\n",
    "        return self.best_estimator_.score(X, y)"
   ]
  },
  {
   "cell_type": "markdown",
   "id": "6f37469d",
   "metadata": {},
   "source": [
    "### 🏋️‍♂️ Model Training"
   ]
  },
  {
   "cell_type": "code",
   "execution_count": 338,
   "id": "f1e200ba",
   "metadata": {},
   "outputs": [],
   "source": [
    "# Base model\n",
    "model = SVC()\n",
    "\n",
    "# Hyperparameter grid\n",
    "param_grid = {\n",
    "    \"C\": [0.1, 1, 10],\n",
    "    \"kernel\": [\"linear\", \"rbf\"],\n",
    "    \"gamma\": [\"scale\", \"auto\"],\n",
    "}\n",
    "\n",
    "# 5-fold stratified cross-validation\n",
    "cv = StratifiedKFold(n_splits=5, shuffle=True, random_state=42)\n",
    "\n",
    "# Scikit-learn GridSearchCV\n",
    "sklearn_gs = GridSearchCV(\n",
    "    estimator=model, param_grid=param_grid, scoring=\"accuracy\", cv=cv\n",
    ")\n",
    "sklearn_gs.fit(X_train, y_train)\n",
    "\n",
    "# My GridSearchCV\n",
    "my_gs = MyGridSearchCV(estimator=model, param_grid=param_grid, cv=cv)\n",
    "my_gs.fit(X_train, y_train)"
   ]
  },
  {
   "cell_type": "markdown",
   "id": "37549ace",
   "metadata": {},
   "source": [
    "### 📊 Comparing Algorithm Versions"
   ]
  },
  {
   "cell_type": "code",
   "execution_count": null,
   "id": "c4baa28c",
   "metadata": {},
   "outputs": [
    {
     "data": {
      "text/html": [
       "<div>\n",
       "<style scoped>\n",
       "    .dataframe tbody tr th:only-of-type {\n",
       "        vertical-align: middle;\n",
       "    }\n",
       "\n",
       "    .dataframe tbody tr th {\n",
       "        vertical-align: top;\n",
       "    }\n",
       "\n",
       "    .dataframe thead th {\n",
       "        text-align: right;\n",
       "    }\n",
       "</style>\n",
       "<table border=\"1\" class=\"dataframe\">\n",
       "  <thead>\n",
       "    <tr style=\"text-align: right;\">\n",
       "      <th></th>\n",
       "      <th>C</th>\n",
       "      <th>kernel</th>\n",
       "      <th>gamma</th>\n",
       "      <th>best_cv_score</th>\n",
       "      <th>test_score</th>\n",
       "    </tr>\n",
       "  </thead>\n",
       "  <tbody>\n",
       "    <tr>\n",
       "      <th>sklearn</th>\n",
       "      <td>10</td>\n",
       "      <td>rbf</td>\n",
       "      <td>scale</td>\n",
       "      <td>0.966667</td>\n",
       "      <td>1.0</td>\n",
       "    </tr>\n",
       "    <tr>\n",
       "      <th>custom</th>\n",
       "      <td>10</td>\n",
       "      <td>rbf</td>\n",
       "      <td>scale</td>\n",
       "      <td>0.966667</td>\n",
       "      <td>1.0</td>\n",
       "    </tr>\n",
       "  </tbody>\n",
       "</table>\n",
       "</div>"
      ],
      "text/plain": [
       "          C kernel  gamma best_cv_score test_score\n",
       "sklearn  10    rbf  scale      0.966667        1.0\n",
       "custom   10    rbf  scale      0.966667        1.0"
      ]
     },
     "execution_count": 339,
     "metadata": {},
     "output_type": "execute_result"
    }
   ],
   "source": [
    "grid_search_algorithms = {\"sklearn\": sklearn_gs, \"custom\": my_gs}\n",
    "\n",
    "columns = list(param_grid.keys()) + [\"best_cv_score\", \"test_score\"]\n",
    "performance_summary = pd.DataFrame(index=grid_search_algorithms.keys(), columns=columns)\n",
    "\n",
    "for model_name, grid_search_instance in grid_search_algorithms.items():\n",
    "    best_params_and_scores = grid_search_instance.best_params_.copy()\n",
    "    best_params_and_scores[\"best_cv_score\"] = grid_search_instance.best_score_\n",
    "    best_params_and_scores[\"test_score\"] = grid_search_instance.score(X_test, y_test)\n",
    "\n",
    "    performance_summary.loc[model_name] = pd.Series(best_params_and_scores)\n",
    "\n",
    "performance_summary"
   ]
  }
 ],
 "metadata": {
  "kernelspec": {
   "display_name": ".venv",
   "language": "python",
   "name": "python3"
  },
  "language_info": {
   "codemirror_mode": {
    "name": "ipython",
    "version": 3
   },
   "file_extension": ".py",
   "mimetype": "text/x-python",
   "name": "python",
   "nbconvert_exporter": "python",
   "pygments_lexer": "ipython3",
   "version": "3.13.3"
  }
 },
 "nbformat": 4,
 "nbformat_minor": 5
}
