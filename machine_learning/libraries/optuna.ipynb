{
 "cells": [
  {
   "cell_type": "markdown",
   "id": "4d34ba7a",
   "metadata": {},
   "source": [
    "# 🧪 Optuna"
   ]
  },
  {
   "cell_type": "markdown",
   "id": "09ae7e75",
   "metadata": {},
   "source": [
    "### ⚙️ Importing Libraries & Environment Setup"
   ]
  },
  {
   "cell_type": "code",
   "execution_count": 1,
   "id": "8dfd5356",
   "metadata": {},
   "outputs": [],
   "source": [
    "import numpy as np\n",
    "import optuna\n",
    "import pandas as pd\n",
    "import xgboost as xgb\n",
    "from colorama import Fore, Style\n",
    "from numpy.typing import NDArray\n",
    "from sklearn.datasets import load_iris\n",
    "from sklearn.metrics import (\n",
    "    accuracy_score,\n",
    "    f1_score,\n",
    "    precision_score,\n",
    "    recall_score,\n",
    ")\n",
    "from sklearn.model_selection import StratifiedKFold, cross_val_score, train_test_split"
   ]
  },
  {
   "cell_type": "code",
   "execution_count": 2,
   "id": "d14d1df6",
   "metadata": {},
   "outputs": [],
   "source": [
    "%matplotlib inline\n",
    "\n",
    "pd.set_option(\"display.width\", 150)\n",
    "pd.set_option(\"display.max_rows\", 100)\n",
    "pd.set_option(\"display.max_columns\", None)"
   ]
  },
  {
   "cell_type": "markdown",
   "id": "0ca6735b",
   "metadata": {},
   "source": [
    "### 🧰 Utility Functions"
   ]
  },
  {
   "cell_type": "code",
   "execution_count": 3,
   "id": "5b9c4a46",
   "metadata": {},
   "outputs": [],
   "source": [
    "def evaluate_classification(\n",
    "    y_pred: NDArray[np.int64], y_true: NDArray[np.float64]\n",
    ") -> pd.DataFrame:\n",
    "    \"\"\"Evaluate multiple classification model predictions on the provided dataset.\n",
    "\n",
    "    Args:\n",
    "        y_pred (NDArray[np.float64]): Predicted outputs.\n",
    "        y_true (NDArray[np.float64]): True target values of shape (n_samples,).\n",
    "\n",
    "    Returns:\n",
    "        pd.DataFrame: DataFrame containing classification metrics — Accuracy, Precision,\n",
    "            Recall, and F1-score. Кows correspond to the metric names.\n",
    "    \"\"\"\n",
    "    metrics = {\n",
    "        \"Accuracy\": accuracy_score(y_true, y_pred),\n",
    "        \"Precision\": precision_score(y_true, y_pred, average=\"weighted\"),\n",
    "        \"Recall\": recall_score(y_true, y_pred, average=\"weighted\"),\n",
    "        \"F1-score\": f1_score(y_true, y_pred, average=\"weighted\"),\n",
    "    }\n",
    "\n",
    "    return pd.DataFrame.from_dict(metrics, orient=\"index\", columns=[\"score\"]).T"
   ]
  },
  {
   "cell_type": "markdown",
   "id": "9f5f36ff",
   "metadata": {},
   "source": [
    "### 📥 Loading the Dataset"
   ]
  },
  {
   "cell_type": "code",
   "execution_count": 4,
   "id": "c28f6c2b",
   "metadata": {},
   "outputs": [],
   "source": [
    "# Generate dataset\n",
    "X, y = load_iris(return_X_y=True)\n",
    "\n",
    "# Split data into training and testing sets\n",
    "X_train, X_val, y_train, y_val = train_test_split(X, y, test_size=0.2, random_state=42)"
   ]
  },
  {
   "cell_type": "markdown",
   "id": "6f37469d",
   "metadata": {},
   "source": [
    "### 🏋️‍♂️ Model Training"
   ]
  },
  {
   "cell_type": "code",
   "execution_count": 5,
   "id": "f1e200ba",
   "metadata": {},
   "outputs": [
    {
     "name": "stderr",
     "output_type": "stream",
     "text": [
      "[I 2025-08-01 13:46:25,899] A new study created in memory with name: xgb\n",
      "[I 2025-08-01 13:46:26,231] Trial 0 finished with value: 0.9583333333333334 and parameters: {'n_estimators': 118, 'max_depth': 12, 'learning_rate': 0.1205712628744377, 'subsample': 0.7993292420985183, 'colsample_bytree': 0.5780093202212182}. Best is trial 0 with value: 0.9583333333333334.\n",
      "[I 2025-08-01 13:46:26,365] Trial 1 finished with value: 0.9583333333333334 and parameters: {'n_estimators': 55, 'max_depth': 3, 'learning_rate': 0.19030368381735815, 'subsample': 0.8005575058716043, 'colsample_bytree': 0.8540362888980227}. Best is trial 0 with value: 0.9583333333333334.\n",
      "[I 2025-08-01 13:46:26,437] Trial 2 finished with value: 0.9583333333333334 and parameters: {'n_estimators': 15, 'max_depth': 12, 'learning_rate': 0.16967533607196555, 'subsample': 0.6061695553391381, 'colsample_bytree': 0.5909124836035503}. Best is trial 0 with value: 0.9583333333333334.\n",
      "[I 2025-08-01 13:46:26,629] Trial 3 finished with value: 0.9583333333333334 and parameters: {'n_estimators': 63, 'max_depth': 6, 'learning_rate': 0.05958389350068958, 'subsample': 0.7159725093210578, 'colsample_bytree': 0.645614570099021}. Best is trial 0 with value: 0.9583333333333334.\n",
      "[I 2025-08-01 13:46:27,013] Trial 4 finished with value: 0.9583333333333334 and parameters: {'n_estimators': 188, 'max_depth': 4, 'learning_rate': 0.027010527749605478, 'subsample': 0.6831809216468459, 'colsample_bytree': 0.728034992108518}. Best is trial 0 with value: 0.9583333333333334.\n",
      "[I 2025-08-01 13:46:27,625] Trial 5 finished with value: 0.9583333333333334 and parameters: {'n_estimators': 238, 'max_depth': 4, 'learning_rate': 0.05748924681991978, 'subsample': 0.7962072844310213, 'colsample_bytree': 0.5232252063599989}. Best is trial 0 with value: 0.9583333333333334.\n",
      "[I 2025-08-01 13:46:27,994] Trial 6 finished with value: 0.9583333333333334 and parameters: {'n_estimators': 186, 'max_depth': 4, 'learning_rate': 0.012476394272569451, 'subsample': 0.9744427686266666, 'colsample_bytree': 0.9828160165372797}. Best is trial 0 with value: 0.9583333333333334.\n",
      "[I 2025-08-01 13:46:29,247] Trial 7 finished with value: 0.9583333333333334 and parameters: {'n_estimators': 245, 'max_depth': 6, 'learning_rate': 0.013940346079873234, 'subsample': 0.8421165132560784, 'colsample_bytree': 0.7200762468698007}. Best is trial 0 with value: 0.9583333333333334.\n",
      "[I 2025-08-01 13:46:29,503] Trial 8 finished with value: 0.9583333333333334 and parameters: {'n_estimators': 45, 'max_depth': 7, 'learning_rate': 0.011240768803005551, 'subsample': 0.954660201039391, 'colsample_bytree': 0.6293899908000085}. Best is trial 0 with value: 0.9583333333333334.\n",
      "[I 2025-08-01 13:46:30,040] Trial 9 finished with value: 0.9583333333333334 and parameters: {'n_estimators': 202, 'max_depth': 6, 'learning_rate': 0.05864129169696527, 'subsample': 0.7733551396716398, 'colsample_bytree': 0.5924272277627636}. Best is trial 0 with value: 0.9583333333333334.\n",
      "[I 2025-08-01 13:46:30,475] Trial 10 finished with value: 0.9583333333333334 and parameters: {'n_estimators': 118, 'max_depth': 12, 'learning_rate': 0.10672112706919779, 'subsample': 0.5089809378074099, 'colsample_bytree': 0.5076838686640521}. Best is trial 0 with value: 0.9583333333333334.\n",
      "[I 2025-08-01 13:46:30,913] Trial 11 finished with value: 0.9166666666666666 and parameters: {'n_estimators': 112, 'max_depth': 11, 'learning_rate': 0.27188353688197003, 'subsample': 0.8730087382509263, 'colsample_bytree': 0.8957660270445493}. Best is trial 0 with value: 0.9583333333333334.\n",
      "[I 2025-08-01 13:46:31,539] Trial 12 finished with value: 0.9583333333333334 and parameters: {'n_estimators': 108, 'max_depth': 9, 'learning_rate': 0.13116982721498638, 'subsample': 0.8837864985996776, 'colsample_bytree': 0.8576737848754852}. Best is trial 0 with value: 0.9583333333333334.\n",
      "[I 2025-08-01 13:46:31,919] Trial 13 finished with value: 0.9166666666666666 and parameters: {'n_estimators': 79, 'max_depth': 9, 'learning_rate': 0.29838444194171054, 'subsample': 0.6412396842185335, 'colsample_bytree': 0.8229282203516205}. Best is trial 0 with value: 0.9583333333333334.\n",
      "[I 2025-08-01 13:46:32,558] Trial 14 finished with value: 0.9583333333333334 and parameters: {'n_estimators': 151, 'max_depth': 10, 'learning_rate': 0.10622721936668646, 'subsample': 0.7917316769460038, 'colsample_bytree': 0.7698100534013989}. Best is trial 0 with value: 0.9583333333333334.\n",
      "[I 2025-08-01 13:46:33,713] Trial 15 finished with value: 0.9583333333333334 and parameters: {'n_estimators': 291, 'max_depth': 3, 'learning_rate': 0.15790901725491832, 'subsample': 0.9167270621070531, 'colsample_bytree': 0.9468213933974681}. Best is trial 0 with value: 0.9583333333333334.\n",
      "[I 2025-08-01 13:46:33,886] Trial 16 finished with value: 0.9583333333333334 and parameters: {'n_estimators': 10, 'max_depth': 8, 'learning_rate': 0.08719209000999652, 'subsample': 0.8317032143059913, 'colsample_bytree': 0.8076929214021927}. Best is trial 0 with value: 0.9583333333333334.\n",
      "[I 2025-08-01 13:46:34,970] Trial 17 finished with value: 0.9166666666666666 and parameters: {'n_estimators': 144, 'max_depth': 10, 'learning_rate': 0.20638828613743976, 'subsample': 0.731057379200564, 'colsample_bytree': 0.6864507539038799}. Best is trial 0 with value: 0.9583333333333334.\n",
      "[I 2025-08-01 13:46:35,430] Trial 18 finished with value: 0.9583333333333334 and parameters: {'n_estimators': 71, 'max_depth': 3, 'learning_rate': 0.034744995125487836, 'subsample': 0.5827781406926889, 'colsample_bytree': 0.9102361265933461}. Best is trial 0 with value: 0.9583333333333334.\n",
      "[I 2025-08-01 13:46:35,809] Trial 19 finished with value: 0.9583333333333334 and parameters: {'n_estimators': 44, 'max_depth': 5, 'learning_rate': 0.08009180592487286, 'subsample': 0.6869888528707923, 'colsample_bytree': 0.7777032927616592}. Best is trial 0 with value: 0.9583333333333334.\n",
      "[I 2025-08-01 13:46:36,419] Trial 20 finished with value: 0.9583333333333334 and parameters: {'n_estimators': 95, 'max_depth': 8, 'learning_rate': 0.20693103054075926, 'subsample': 0.9243650491166928, 'colsample_bytree': 0.8529694011819127}. Best is trial 0 with value: 0.9583333333333334.\n",
      "[I 2025-08-01 13:46:36,576] Trial 21 finished with value: 0.9583333333333334 and parameters: {'n_estimators': 16, 'max_depth': 12, 'learning_rate': 0.17178329359598135, 'subsample': 0.607591588403385, 'colsample_bytree': 0.5625717397605399}. Best is trial 0 with value: 0.9583333333333334.\n",
      "[I 2025-08-01 13:46:36,903] Trial 22 finished with value: 0.9583333333333334 and parameters: {'n_estimators': 35, 'max_depth': 11, 'learning_rate': 0.1339131113616373, 'subsample': 0.5489324244033762, 'colsample_bytree': 0.5780625453056158}. Best is trial 0 with value: 0.9583333333333334.\n",
      "[I 2025-08-01 13:46:37,602] Trial 23 finished with value: 0.9166666666666666 and parameters: {'n_estimators': 135, 'max_depth': 11, 'learning_rate': 0.22455894616520056, 'subsample': 0.7590548939043895, 'colsample_bytree': 0.666251641059935}. Best is trial 0 with value: 0.9583333333333334.\n",
      "[I 2025-08-01 13:46:38,018] Trial 24 finished with value: 0.9583333333333334 and parameters: {'n_estimators': 84, 'max_depth': 12, 'learning_rate': 0.1577864310904111, 'subsample': 0.6614130004403385, 'colsample_bytree': 0.6188484938305487}. Best is trial 0 with value: 0.9583333333333334.\n",
      "[I 2025-08-01 13:46:38,283] Trial 25 finished with value: 0.9583333333333334 and parameters: {'n_estimators': 31, 'max_depth': 10, 'learning_rate': 0.09098054487533641, 'subsample': 0.8264423346529436, 'colsample_bytree': 0.5450870264737139}. Best is trial 0 with value: 0.9583333333333334.\n",
      "[I 2025-08-01 13:46:38,692] Trial 26 finished with value: 0.9583333333333334 and parameters: {'n_estimators': 56, 'max_depth': 9, 'learning_rate': 0.036350405651898204, 'subsample': 0.725253297568667, 'colsample_bytree': 0.7057910109394537}. Best is trial 0 with value: 0.9583333333333334.\n",
      "[I 2025-08-01 13:46:38,813] Trial 27 finished with value: 0.9583333333333334 and parameters: {'n_estimators': 13, 'max_depth': 11, 'learning_rate': 0.23281387726899588, 'subsample': 0.6236101789520606, 'colsample_bytree': 0.6009461055917525}. Best is trial 0 with value: 0.9583333333333334.\n",
      "[I 2025-08-01 13:46:39,435] Trial 28 finished with value: 0.9583333333333334 and parameters: {'n_estimators': 169, 'max_depth': 7, 'learning_rate': 0.12224797200286146, 'subsample': 0.5023325340961213, 'colsample_bytree': 0.5478007053666223}. Best is trial 0 with value: 0.9583333333333334.\n",
      "[I 2025-08-01 13:46:39,803] Trial 29 finished with value: 0.9583333333333334 and parameters: {'n_estimators': 65, 'max_depth': 12, 'learning_rate': 0.08067583633657734, 'subsample': 0.7031658442859502, 'colsample_bytree': 0.6491900648324886}. Best is trial 0 with value: 0.9583333333333334.\n",
      "[I 2025-08-01 13:46:40,495] Trial 30 finished with value: 0.9583333333333334 and parameters: {'n_estimators': 128, 'max_depth': 5, 'learning_rate': 0.042695696563784136, 'subsample': 0.806985651003042, 'colsample_bytree': 0.6700425378718238}. Best is trial 0 with value: 0.9583333333333334.\n",
      "[I 2025-08-01 13:46:40,831] Trial 31 finished with value: 0.9583333333333334 and parameters: {'n_estimators': 56, 'max_depth': 5, 'learning_rate': 0.02325213339770479, 'subsample': 0.7411639826656885, 'colsample_bytree': 0.7495615533529286}. Best is trial 0 with value: 0.9583333333333334.\n",
      "[I 2025-08-01 13:46:41,307] Trial 32 finished with value: 0.9583333333333334 and parameters: {'n_estimators': 90, 'max_depth': 6, 'learning_rate': 0.062154568400295776, 'subsample': 0.6671286488404033, 'colsample_bytree': 0.6304509502118708}. Best is trial 0 with value: 0.9583333333333334.\n",
      "[I 2025-08-01 13:46:41,567] Trial 33 finished with value: 0.9583333333333334 and parameters: {'n_estimators': 28, 'max_depth': 4, 'learning_rate': 0.06947354999353315, 'subsample': 0.7047728962156242, 'colsample_bytree': 0.5251525871796621}. Best is trial 0 with value: 0.9583333333333334.\n",
      "[I 2025-08-01 13:46:41,874] Trial 34 finished with value: 0.9583333333333334 and parameters: {'n_estimators': 60, 'max_depth': 3, 'learning_rate': 0.18042433686139517, 'subsample': 0.862580774849707, 'colsample_bytree': 0.6030992579296985}. Best is trial 0 with value: 0.9583333333333334.\n",
      "[I 2025-08-01 13:46:42,448] Trial 35 finished with value: 0.9583333333333334 and parameters: {'n_estimators': 100, 'max_depth': 4, 'learning_rate': 0.01830113353129155, 'subsample': 0.5608573155634188, 'colsample_bytree': 0.6972248821194833}. Best is trial 0 with value: 0.9583333333333334.\n",
      "[I 2025-08-01 13:46:43,427] Trial 36 finished with value: 0.9583333333333334 and parameters: {'n_estimators': 174, 'max_depth': 7, 'learning_rate': 0.04597781009829804, 'subsample': 0.7924978562174871, 'colsample_bytree': 0.7252951740223055}. Best is trial 0 with value: 0.9583333333333334.\n",
      "[I 2025-08-01 13:46:43,673] Trial 37 finished with value: 0.9583333333333334 and parameters: {'n_estimators': 38, 'max_depth': 6, 'learning_rate': 0.10767669650484177, 'subsample': 0.7658753482334295, 'colsample_bytree': 0.5713302106017766}. Best is trial 0 with value: 0.9583333333333334.\n",
      "[I 2025-08-01 13:46:44,454] Trial 38 finished with value: 0.9166666666666666 and parameters: {'n_estimators': 205, 'max_depth': 5, 'learning_rate': 0.14645814121528802, 'subsample': 0.811382149300875, 'colsample_bytree': 0.5043812342412501}. Best is trial 0 with value: 0.9583333333333334.\n",
      "[I 2025-08-01 13:46:44,936] Trial 39 finished with value: 0.9166666666666666 and parameters: {'n_estimators': 122, 'max_depth': 8, 'learning_rate': 0.2618270088880826, 'subsample': 0.8464785078055089, 'colsample_bytree': 0.9954888318934103}. Best is trial 0 with value: 0.9583333333333334.\n",
      "[I 2025-08-01 13:46:45,431] Trial 40 finished with value: 0.9583333333333334 and parameters: {'n_estimators': 78, 'max_depth': 11, 'learning_rate': 0.04942011523563112, 'subsample': 0.9869618111006299, 'colsample_bytree': 0.6379547939494037}. Best is trial 0 with value: 0.9583333333333334.\n",
      "[I 2025-08-01 13:46:46,575] Trial 41 finished with value: 0.9583333333333334 and parameters: {'n_estimators': 261, 'max_depth': 3, 'learning_rate': 0.023317698997785914, 'subsample': 0.6485425529524698, 'colsample_bytree': 0.7235375713675284}. Best is trial 0 with value: 0.9583333333333334.\n",
      "[I 2025-08-01 13:46:47,798] Trial 42 finished with value: 0.9583333333333334 and parameters: {'n_estimators': 229, 'max_depth': 4, 'learning_rate': 0.01463844020012292, 'subsample': 0.6820087810014607, 'colsample_bytree': 0.7464278797040318}. Best is trial 0 with value: 0.9583333333333334.\n",
      "[I 2025-08-01 13:46:48,759] Trial 43 finished with value: 0.9583333333333334 and parameters: {'n_estimators': 199, 'max_depth': 4, 'learning_rate': 0.028085050930775013, 'subsample': 0.7803895815158408, 'colsample_bytree': 0.7980948284567313}. Best is trial 0 with value: 0.9583333333333334.\n",
      "[I 2025-08-01 13:46:49,515] Trial 44 finished with value: 0.9166666666666666 and parameters: {'n_estimators': 168, 'max_depth': 6, 'learning_rate': 0.11242930475858928, 'subsample': 0.7136438938907196, 'colsample_bytree': 0.8471823907107808}. Best is trial 0 with value: 0.9583333333333334.\n",
      "[I 2025-08-01 13:46:50,153] Trial 45 finished with value: 0.9166666666666666 and parameters: {'n_estimators': 187, 'max_depth': 3, 'learning_rate': 0.17835271898281674, 'subsample': 0.6051113649731437, 'colsample_bytree': 0.8962095981513623}. Best is trial 0 with value: 0.9583333333333334.\n",
      "[I 2025-08-01 13:46:50,447] Trial 46 finished with value: 0.9583333333333334 and parameters: {'n_estimators': 46, 'max_depth': 5, 'learning_rate': 0.09564312086917384, 'subsample': 0.8906895814772052, 'colsample_bytree': 0.9558460102215041}. Best is trial 0 with value: 0.9583333333333334.\n",
      "[I 2025-08-01 13:46:51,368] Trial 47 finished with value: 0.9583333333333334 and parameters: {'n_estimators': 219, 'max_depth': 10, 'learning_rate': 0.06799550353451897, 'subsample': 0.741826000948177, 'colsample_bytree': 0.6171174869380669}. Best is trial 0 with value: 0.9583333333333334.\n",
      "[I 2025-08-01 13:46:52,212] Trial 48 finished with value: 0.9583333333333334 and parameters: {'n_estimators': 154, 'max_depth': 12, 'learning_rate': 0.03632233277217969, 'subsample': 0.5339640556640151, 'colsample_bytree': 0.6597858081145773}. Best is trial 0 with value: 0.9583333333333334.\n",
      "[I 2025-08-01 13:46:52,716] Trial 49 finished with value: 0.9583333333333334 and parameters: {'n_estimators': 104, 'max_depth': 3, 'learning_rate': 0.010243566291945087, 'subsample': 0.6277800605222984, 'colsample_bytree': 0.5900184654160665}. Best is trial 0 with value: 0.9583333333333334.\n"
     ]
    }
   ],
   "source": [
    "class Objective:\n",
    "    \"\"\"Objective function class for Optuna hyperparameter optimization.\n",
    "\n",
    "    This class wraps training and evaluation logic to be used in Optuna's optimization\n",
    "    loop. It supports randomized cross-validation and logs the cross-validated accuracy\n",
    "    for each trial.\n",
    "    \"\"\"\n",
    "\n",
    "    def __init__(\n",
    "        self,\n",
    "        X: NDArray[np.float64],\n",
    "        y: NDArray[np.float64],\n",
    "        random_state: int | None = None,\n",
    "    ) -> None:\n",
    "        \"\"\"Initializes the Objective class.\n",
    "\n",
    "        Args:\n",
    "            X (NDArray[np.float64]): Feature matrix.\n",
    "            y (NDArray[np.float64]): Target vector.\n",
    "            random_state (int | None): Random seed for reproducibility. Default is None.\n",
    "        \"\"\"\n",
    "        self.X = X\n",
    "        self.y = y\n",
    "        self.random_state = random_state\n",
    "\n",
    "    def __call__(self, trial: optuna.trial.Trial) -> float:\n",
    "        \"\"\"Objective function for Optuna study to optimize hyperparameters.\n",
    "\n",
    "        Parameters:\n",
    "            trial (Trial): A single trial object that suggests hyperparameter values.\n",
    "\n",
    "        Returns:\n",
    "            float: Cross-validated accuracy score (mean of folds).\n",
    "        \"\"\"\n",
    "        params = {\n",
    "            \"n_estimators\": trial.suggest_int(\"n_estimators\", 10, 300),\n",
    "            \"max_depth\": trial.suggest_int(\"max_depth\", 3, 12),\n",
    "            \"learning_rate\": trial.suggest_float(\"learning_rate\", 0.01, 0.3, log=True),\n",
    "            \"subsample\": trial.suggest_float(\"subsample\", 0.5, 1.0),\n",
    "            \"colsample_bytree\": trial.suggest_float(\"colsample_bytree\", 0.5, 1.0),\n",
    "            \"eval_metric\": \"logloss\",\n",
    "            \"random_state\": self.random_state,\n",
    "        }\n",
    "\n",
    "        model = xgb.XGBClassifier(**params)\n",
    "\n",
    "        cv = StratifiedKFold(n_splits=5, shuffle=True, random_state=self.random_state)\n",
    "        scores = cross_val_score(model, self.X, self.y, cv=cv, scoring=\"accuracy\")\n",
    "        score = np.median(scores)\n",
    "\n",
    "        trial.set_user_attr(\"cv_accuracy\", score)\n",
    "        return score\n",
    "\n",
    "\n",
    "study = optuna.create_study(\n",
    "    direction=\"maximize\", study_name=\"xgb\", sampler=optuna.samplers.TPESampler(seed=42)\n",
    ")\n",
    "\n",
    "objective = Objective(X_train, y_train, random_state=42)\n",
    "study.optimize(objective, n_trials=50)"
   ]
  },
  {
   "cell_type": "code",
   "execution_count": 6,
   "id": "410c0067",
   "metadata": {},
   "outputs": [],
   "source": [
    "model = xgb.XGBClassifier(**study.best_params, eval_metric=\"logloss\", random_state=42)\n",
    "model.fit(X_train, y_train)\n",
    "y_pred = model.predict(X_val)"
   ]
  },
  {
   "cell_type": "markdown",
   "id": "37549ace",
   "metadata": {},
   "source": [
    "### 📊 Comparing Algorithm Versions"
   ]
  },
  {
   "cell_type": "code",
   "execution_count": 7,
   "id": "20515a01",
   "metadata": {},
   "outputs": [
    {
     "name": "stdout",
     "output_type": "stream",
     "text": [
      "\u001b[32mBest hyperparameters found:\u001b[0m {'n_estimators': 118, 'max_depth': 12, 'learning_rate': 0.1205712628744377, 'subsample': 0.7993292420985183, 'colsample_bytree': 0.5780093202212182}\n",
      "\u001b[33mBest CV accuracy:\u001b[0m 0.9583333333333334\n"
     ]
    }
   ],
   "source": [
    "print(f\"{Fore.GREEN}Best hyperparameters found:{Style.RESET_ALL}\", study.best_params)\n",
    "print(f\"{Fore.YELLOW}Best CV accuracy:{Style.RESET_ALL}\", study.best_value)"
   ]
  },
  {
   "cell_type": "code",
   "execution_count": 8,
   "id": "c4baa28c",
   "metadata": {},
   "outputs": [
    {
     "data": {
      "text/html": [
       "<div>\n",
       "<style scoped>\n",
       "    .dataframe tbody tr th:only-of-type {\n",
       "        vertical-align: middle;\n",
       "    }\n",
       "\n",
       "    .dataframe tbody tr th {\n",
       "        vertical-align: top;\n",
       "    }\n",
       "\n",
       "    .dataframe thead th {\n",
       "        text-align: right;\n",
       "    }\n",
       "</style>\n",
       "<table border=\"1\" class=\"dataframe\">\n",
       "  <thead>\n",
       "    <tr style=\"text-align: right;\">\n",
       "      <th></th>\n",
       "      <th>Accuracy</th>\n",
       "      <th>Precision</th>\n",
       "      <th>Recall</th>\n",
       "      <th>F1-score</th>\n",
       "    </tr>\n",
       "  </thead>\n",
       "  <tbody>\n",
       "    <tr>\n",
       "      <th>score</th>\n",
       "      <td>1.0</td>\n",
       "      <td>1.0</td>\n",
       "      <td>1.0</td>\n",
       "      <td>1.0</td>\n",
       "    </tr>\n",
       "  </tbody>\n",
       "</table>\n",
       "</div>"
      ],
      "text/plain": [
       "       Accuracy  Precision  Recall  F1-score\n",
       "score       1.0        1.0     1.0       1.0"
      ]
     },
     "execution_count": 8,
     "metadata": {},
     "output_type": "execute_result"
    }
   ],
   "source": [
    "evaluate_classification(y_pred, y_val)"
   ]
  },
  {
   "cell_type": "code",
   "execution_count": 9,
   "id": "5a1e9abe",
   "metadata": {},
   "outputs": [
    {
     "data": {
      "application/vnd.plotly.v1+json": {
       "config": {
        "plotlyServerURL": "https://plot.ly"
       },
       "data": [
        {
         "mode": "markers",
         "name": "Objective Value",
         "type": "scatter",
         "x": [
          0,
          1,
          2,
          3,
          4,
          5,
          6,
          7,
          8,
          9,
          10,
          11,
          12,
          13,
          14,
          15,
          16,
          17,
          18,
          19,
          20,
          21,
          22,
          23,
          24,
          25,
          26,
          27,
          28,
          29,
          30,
          31,
          32,
          33,
          34,
          35,
          36,
          37,
          38,
          39,
          40,
          41,
          42,
          43,
          44,
          45,
          46,
          47,
          48,
          49
         ],
         "y": [
          0.9583333333333334,
          0.9583333333333334,
          0.9583333333333334,
          0.9583333333333334,
          0.9583333333333334,
          0.9583333333333334,
          0.9583333333333334,
          0.9583333333333334,
          0.9583333333333334,
          0.9583333333333334,
          0.9583333333333334,
          0.9166666666666666,
          0.9583333333333334,
          0.9166666666666666,
          0.9583333333333334,
          0.9583333333333334,
          0.9583333333333334,
          0.9166666666666666,
          0.9583333333333334,
          0.9583333333333334,
          0.9583333333333334,
          0.9583333333333334,
          0.9583333333333334,
          0.9166666666666666,
          0.9583333333333334,
          0.9583333333333334,
          0.9583333333333334,
          0.9583333333333334,
          0.9583333333333334,
          0.9583333333333334,
          0.9583333333333334,
          0.9583333333333334,
          0.9583333333333334,
          0.9583333333333334,
          0.9583333333333334,
          0.9583333333333334,
          0.9583333333333334,
          0.9583333333333334,
          0.9166666666666666,
          0.9166666666666666,
          0.9583333333333334,
          0.9583333333333334,
          0.9583333333333334,
          0.9583333333333334,
          0.9166666666666666,
          0.9166666666666666,
          0.9583333333333334,
          0.9583333333333334,
          0.9583333333333334,
          0.9583333333333334
         ]
        },
        {
         "mode": "lines",
         "name": "Best Value",
         "type": "scatter",
         "x": [
          0,
          1,
          2,
          3,
          4,
          5,
          6,
          7,
          8,
          9,
          10,
          11,
          12,
          13,
          14,
          15,
          16,
          17,
          18,
          19,
          20,
          21,
          22,
          23,
          24,
          25,
          26,
          27,
          28,
          29,
          30,
          31,
          32,
          33,
          34,
          35,
          36,
          37,
          38,
          39,
          40,
          41,
          42,
          43,
          44,
          45,
          46,
          47,
          48,
          49
         ],
         "y": [
          0.9583333333333334,
          0.9583333333333334,
          0.9583333333333334,
          0.9583333333333334,
          0.9583333333333334,
          0.9583333333333334,
          0.9583333333333334,
          0.9583333333333334,
          0.9583333333333334,
          0.9583333333333334,
          0.9583333333333334,
          0.9583333333333334,
          0.9583333333333334,
          0.9583333333333334,
          0.9583333333333334,
          0.9583333333333334,
          0.9583333333333334,
          0.9583333333333334,
          0.9583333333333334,
          0.9583333333333334,
          0.9583333333333334,
          0.9583333333333334,
          0.9583333333333334,
          0.9583333333333334,
          0.9583333333333334,
          0.9583333333333334,
          0.9583333333333334,
          0.9583333333333334,
          0.9583333333333334,
          0.9583333333333334,
          0.9583333333333334,
          0.9583333333333334,
          0.9583333333333334,
          0.9583333333333334,
          0.9583333333333334,
          0.9583333333333334,
          0.9583333333333334,
          0.9583333333333334,
          0.9583333333333334,
          0.9583333333333334,
          0.9583333333333334,
          0.9583333333333334,
          0.9583333333333334,
          0.9583333333333334,
          0.9583333333333334,
          0.9583333333333334,
          0.9583333333333334,
          0.9583333333333334,
          0.9583333333333334,
          0.9583333333333334
         ]
        },
        {
         "marker": {
          "color": "#cccccc"
         },
         "mode": "markers",
         "name": "Infeasible Trial",
         "showlegend": false,
         "type": "scatter",
         "x": [],
         "y": []
        }
       ],
       "layout": {
        "template": {
         "data": {
          "bar": [
           {
            "error_x": {
             "color": "#2a3f5f"
            },
            "error_y": {
             "color": "#2a3f5f"
            },
            "marker": {
             "line": {
              "color": "#E5ECF6",
              "width": 0.5
             },
             "pattern": {
              "fillmode": "overlay",
              "size": 10,
              "solidity": 0.2
             }
            },
            "type": "bar"
           }
          ],
          "barpolar": [
           {
            "marker": {
             "line": {
              "color": "#E5ECF6",
              "width": 0.5
             },
             "pattern": {
              "fillmode": "overlay",
              "size": 10,
              "solidity": 0.2
             }
            },
            "type": "barpolar"
           }
          ],
          "carpet": [
           {
            "aaxis": {
             "endlinecolor": "#2a3f5f",
             "gridcolor": "white",
             "linecolor": "white",
             "minorgridcolor": "white",
             "startlinecolor": "#2a3f5f"
            },
            "baxis": {
             "endlinecolor": "#2a3f5f",
             "gridcolor": "white",
             "linecolor": "white",
             "minorgridcolor": "white",
             "startlinecolor": "#2a3f5f"
            },
            "type": "carpet"
           }
          ],
          "choropleth": [
           {
            "colorbar": {
             "outlinewidth": 0,
             "ticks": ""
            },
            "type": "choropleth"
           }
          ],
          "contour": [
           {
            "colorbar": {
             "outlinewidth": 0,
             "ticks": ""
            },
            "colorscale": [
             [
              0,
              "#0d0887"
             ],
             [
              0.1111111111111111,
              "#46039f"
             ],
             [
              0.2222222222222222,
              "#7201a8"
             ],
             [
              0.3333333333333333,
              "#9c179e"
             ],
             [
              0.4444444444444444,
              "#bd3786"
             ],
             [
              0.5555555555555556,
              "#d8576b"
             ],
             [
              0.6666666666666666,
              "#ed7953"
             ],
             [
              0.7777777777777778,
              "#fb9f3a"
             ],
             [
              0.8888888888888888,
              "#fdca26"
             ],
             [
              1,
              "#f0f921"
             ]
            ],
            "type": "contour"
           }
          ],
          "contourcarpet": [
           {
            "colorbar": {
             "outlinewidth": 0,
             "ticks": ""
            },
            "type": "contourcarpet"
           }
          ],
          "heatmap": [
           {
            "colorbar": {
             "outlinewidth": 0,
             "ticks": ""
            },
            "colorscale": [
             [
              0,
              "#0d0887"
             ],
             [
              0.1111111111111111,
              "#46039f"
             ],
             [
              0.2222222222222222,
              "#7201a8"
             ],
             [
              0.3333333333333333,
              "#9c179e"
             ],
             [
              0.4444444444444444,
              "#bd3786"
             ],
             [
              0.5555555555555556,
              "#d8576b"
             ],
             [
              0.6666666666666666,
              "#ed7953"
             ],
             [
              0.7777777777777778,
              "#fb9f3a"
             ],
             [
              0.8888888888888888,
              "#fdca26"
             ],
             [
              1,
              "#f0f921"
             ]
            ],
            "type": "heatmap"
           }
          ],
          "histogram": [
           {
            "marker": {
             "pattern": {
              "fillmode": "overlay",
              "size": 10,
              "solidity": 0.2
             }
            },
            "type": "histogram"
           }
          ],
          "histogram2d": [
           {
            "colorbar": {
             "outlinewidth": 0,
             "ticks": ""
            },
            "colorscale": [
             [
              0,
              "#0d0887"
             ],
             [
              0.1111111111111111,
              "#46039f"
             ],
             [
              0.2222222222222222,
              "#7201a8"
             ],
             [
              0.3333333333333333,
              "#9c179e"
             ],
             [
              0.4444444444444444,
              "#bd3786"
             ],
             [
              0.5555555555555556,
              "#d8576b"
             ],
             [
              0.6666666666666666,
              "#ed7953"
             ],
             [
              0.7777777777777778,
              "#fb9f3a"
             ],
             [
              0.8888888888888888,
              "#fdca26"
             ],
             [
              1,
              "#f0f921"
             ]
            ],
            "type": "histogram2d"
           }
          ],
          "histogram2dcontour": [
           {
            "colorbar": {
             "outlinewidth": 0,
             "ticks": ""
            },
            "colorscale": [
             [
              0,
              "#0d0887"
             ],
             [
              0.1111111111111111,
              "#46039f"
             ],
             [
              0.2222222222222222,
              "#7201a8"
             ],
             [
              0.3333333333333333,
              "#9c179e"
             ],
             [
              0.4444444444444444,
              "#bd3786"
             ],
             [
              0.5555555555555556,
              "#d8576b"
             ],
             [
              0.6666666666666666,
              "#ed7953"
             ],
             [
              0.7777777777777778,
              "#fb9f3a"
             ],
             [
              0.8888888888888888,
              "#fdca26"
             ],
             [
              1,
              "#f0f921"
             ]
            ],
            "type": "histogram2dcontour"
           }
          ],
          "mesh3d": [
           {
            "colorbar": {
             "outlinewidth": 0,
             "ticks": ""
            },
            "type": "mesh3d"
           }
          ],
          "parcoords": [
           {
            "line": {
             "colorbar": {
              "outlinewidth": 0,
              "ticks": ""
             }
            },
            "type": "parcoords"
           }
          ],
          "pie": [
           {
            "automargin": true,
            "type": "pie"
           }
          ],
          "scatter": [
           {
            "fillpattern": {
             "fillmode": "overlay",
             "size": 10,
             "solidity": 0.2
            },
            "type": "scatter"
           }
          ],
          "scatter3d": [
           {
            "line": {
             "colorbar": {
              "outlinewidth": 0,
              "ticks": ""
             }
            },
            "marker": {
             "colorbar": {
              "outlinewidth": 0,
              "ticks": ""
             }
            },
            "type": "scatter3d"
           }
          ],
          "scattercarpet": [
           {
            "marker": {
             "colorbar": {
              "outlinewidth": 0,
              "ticks": ""
             }
            },
            "type": "scattercarpet"
           }
          ],
          "scattergeo": [
           {
            "marker": {
             "colorbar": {
              "outlinewidth": 0,
              "ticks": ""
             }
            },
            "type": "scattergeo"
           }
          ],
          "scattergl": [
           {
            "marker": {
             "colorbar": {
              "outlinewidth": 0,
              "ticks": ""
             }
            },
            "type": "scattergl"
           }
          ],
          "scattermap": [
           {
            "marker": {
             "colorbar": {
              "outlinewidth": 0,
              "ticks": ""
             }
            },
            "type": "scattermap"
           }
          ],
          "scattermapbox": [
           {
            "marker": {
             "colorbar": {
              "outlinewidth": 0,
              "ticks": ""
             }
            },
            "type": "scattermapbox"
           }
          ],
          "scatterpolar": [
           {
            "marker": {
             "colorbar": {
              "outlinewidth": 0,
              "ticks": ""
             }
            },
            "type": "scatterpolar"
           }
          ],
          "scatterpolargl": [
           {
            "marker": {
             "colorbar": {
              "outlinewidth": 0,
              "ticks": ""
             }
            },
            "type": "scatterpolargl"
           }
          ],
          "scatterternary": [
           {
            "marker": {
             "colorbar": {
              "outlinewidth": 0,
              "ticks": ""
             }
            },
            "type": "scatterternary"
           }
          ],
          "surface": [
           {
            "colorbar": {
             "outlinewidth": 0,
             "ticks": ""
            },
            "colorscale": [
             [
              0,
              "#0d0887"
             ],
             [
              0.1111111111111111,
              "#46039f"
             ],
             [
              0.2222222222222222,
              "#7201a8"
             ],
             [
              0.3333333333333333,
              "#9c179e"
             ],
             [
              0.4444444444444444,
              "#bd3786"
             ],
             [
              0.5555555555555556,
              "#d8576b"
             ],
             [
              0.6666666666666666,
              "#ed7953"
             ],
             [
              0.7777777777777778,
              "#fb9f3a"
             ],
             [
              0.8888888888888888,
              "#fdca26"
             ],
             [
              1,
              "#f0f921"
             ]
            ],
            "type": "surface"
           }
          ],
          "table": [
           {
            "cells": {
             "fill": {
              "color": "#EBF0F8"
             },
             "line": {
              "color": "white"
             }
            },
            "header": {
             "fill": {
              "color": "#C8D4E3"
             },
             "line": {
              "color": "white"
             }
            },
            "type": "table"
           }
          ]
         },
         "layout": {
          "annotationdefaults": {
           "arrowcolor": "#2a3f5f",
           "arrowhead": 0,
           "arrowwidth": 1
          },
          "autotypenumbers": "strict",
          "coloraxis": {
           "colorbar": {
            "outlinewidth": 0,
            "ticks": ""
           }
          },
          "colorscale": {
           "diverging": [
            [
             0,
             "#8e0152"
            ],
            [
             0.1,
             "#c51b7d"
            ],
            [
             0.2,
             "#de77ae"
            ],
            [
             0.3,
             "#f1b6da"
            ],
            [
             0.4,
             "#fde0ef"
            ],
            [
             0.5,
             "#f7f7f7"
            ],
            [
             0.6,
             "#e6f5d0"
            ],
            [
             0.7,
             "#b8e186"
            ],
            [
             0.8,
             "#7fbc41"
            ],
            [
             0.9,
             "#4d9221"
            ],
            [
             1,
             "#276419"
            ]
           ],
           "sequential": [
            [
             0,
             "#0d0887"
            ],
            [
             0.1111111111111111,
             "#46039f"
            ],
            [
             0.2222222222222222,
             "#7201a8"
            ],
            [
             0.3333333333333333,
             "#9c179e"
            ],
            [
             0.4444444444444444,
             "#bd3786"
            ],
            [
             0.5555555555555556,
             "#d8576b"
            ],
            [
             0.6666666666666666,
             "#ed7953"
            ],
            [
             0.7777777777777778,
             "#fb9f3a"
            ],
            [
             0.8888888888888888,
             "#fdca26"
            ],
            [
             1,
             "#f0f921"
            ]
           ],
           "sequentialminus": [
            [
             0,
             "#0d0887"
            ],
            [
             0.1111111111111111,
             "#46039f"
            ],
            [
             0.2222222222222222,
             "#7201a8"
            ],
            [
             0.3333333333333333,
             "#9c179e"
            ],
            [
             0.4444444444444444,
             "#bd3786"
            ],
            [
             0.5555555555555556,
             "#d8576b"
            ],
            [
             0.6666666666666666,
             "#ed7953"
            ],
            [
             0.7777777777777778,
             "#fb9f3a"
            ],
            [
             0.8888888888888888,
             "#fdca26"
            ],
            [
             1,
             "#f0f921"
            ]
           ]
          },
          "colorway": [
           "#636efa",
           "#EF553B",
           "#00cc96",
           "#ab63fa",
           "#FFA15A",
           "#19d3f3",
           "#FF6692",
           "#B6E880",
           "#FF97FF",
           "#FECB52"
          ],
          "font": {
           "color": "#2a3f5f"
          },
          "geo": {
           "bgcolor": "white",
           "lakecolor": "white",
           "landcolor": "#E5ECF6",
           "showlakes": true,
           "showland": true,
           "subunitcolor": "white"
          },
          "hoverlabel": {
           "align": "left"
          },
          "hovermode": "closest",
          "mapbox": {
           "style": "light"
          },
          "paper_bgcolor": "white",
          "plot_bgcolor": "#E5ECF6",
          "polar": {
           "angularaxis": {
            "gridcolor": "white",
            "linecolor": "white",
            "ticks": ""
           },
           "bgcolor": "#E5ECF6",
           "radialaxis": {
            "gridcolor": "white",
            "linecolor": "white",
            "ticks": ""
           }
          },
          "scene": {
           "xaxis": {
            "backgroundcolor": "#E5ECF6",
            "gridcolor": "white",
            "gridwidth": 2,
            "linecolor": "white",
            "showbackground": true,
            "ticks": "",
            "zerolinecolor": "white"
           },
           "yaxis": {
            "backgroundcolor": "#E5ECF6",
            "gridcolor": "white",
            "gridwidth": 2,
            "linecolor": "white",
            "showbackground": true,
            "ticks": "",
            "zerolinecolor": "white"
           },
           "zaxis": {
            "backgroundcolor": "#E5ECF6",
            "gridcolor": "white",
            "gridwidth": 2,
            "linecolor": "white",
            "showbackground": true,
            "ticks": "",
            "zerolinecolor": "white"
           }
          },
          "shapedefaults": {
           "line": {
            "color": "#2a3f5f"
           }
          },
          "ternary": {
           "aaxis": {
            "gridcolor": "white",
            "linecolor": "white",
            "ticks": ""
           },
           "baxis": {
            "gridcolor": "white",
            "linecolor": "white",
            "ticks": ""
           },
           "bgcolor": "#E5ECF6",
           "caxis": {
            "gridcolor": "white",
            "linecolor": "white",
            "ticks": ""
           }
          },
          "title": {
           "x": 0.05
          },
          "xaxis": {
           "automargin": true,
           "gridcolor": "white",
           "linecolor": "white",
           "ticks": "",
           "title": {
            "standoff": 15
           },
           "zerolinecolor": "white",
           "zerolinewidth": 2
          },
          "yaxis": {
           "automargin": true,
           "gridcolor": "white",
           "linecolor": "white",
           "ticks": "",
           "title": {
            "standoff": 15
           },
           "zerolinecolor": "white",
           "zerolinewidth": 2
          }
         }
        },
        "title": {
         "text": "Optimization History Plot"
        },
        "xaxis": {
         "title": {
          "text": "Trial"
         }
        },
        "yaxis": {
         "title": {
          "text": "Objective Value"
         }
        }
       }
      }
     },
     "metadata": {},
     "output_type": "display_data"
    },
    {
     "data": {
      "application/vnd.plotly.v1+json": {
       "config": {
        "plotlyServerURL": "https://plot.ly"
       },
       "data": [
        {
         "cliponaxis": false,
         "hovertemplate": [
          "max_depth (IntDistribution): 0.005848795200697733<extra></extra>",
          "subsample (FloatDistribution): 0.036472748931156034<extra></extra>",
          "colsample_bytree (FloatDistribution): 0.10410798168697953<extra></extra>",
          "n_estimators (IntDistribution): 0.14769078087919155<extra></extra>",
          "learning_rate (FloatDistribution): 0.705879693301975<extra></extra>"
         ],
         "name": "Objective Value",
         "orientation": "h",
         "text": [
          "<0.01",
          "0.04",
          "0.10",
          "0.15",
          "0.71"
         ],
         "textposition": "outside",
         "type": "bar",
         "x": [
          0.005848795200697733,
          0.036472748931156034,
          0.10410798168697953,
          0.14769078087919155,
          0.705879693301975
         ],
         "y": [
          "max_depth",
          "subsample",
          "colsample_bytree",
          "n_estimators",
          "learning_rate"
         ]
        }
       ],
       "layout": {
        "template": {
         "data": {
          "bar": [
           {
            "error_x": {
             "color": "#2a3f5f"
            },
            "error_y": {
             "color": "#2a3f5f"
            },
            "marker": {
             "line": {
              "color": "#E5ECF6",
              "width": 0.5
             },
             "pattern": {
              "fillmode": "overlay",
              "size": 10,
              "solidity": 0.2
             }
            },
            "type": "bar"
           }
          ],
          "barpolar": [
           {
            "marker": {
             "line": {
              "color": "#E5ECF6",
              "width": 0.5
             },
             "pattern": {
              "fillmode": "overlay",
              "size": 10,
              "solidity": 0.2
             }
            },
            "type": "barpolar"
           }
          ],
          "carpet": [
           {
            "aaxis": {
             "endlinecolor": "#2a3f5f",
             "gridcolor": "white",
             "linecolor": "white",
             "minorgridcolor": "white",
             "startlinecolor": "#2a3f5f"
            },
            "baxis": {
             "endlinecolor": "#2a3f5f",
             "gridcolor": "white",
             "linecolor": "white",
             "minorgridcolor": "white",
             "startlinecolor": "#2a3f5f"
            },
            "type": "carpet"
           }
          ],
          "choropleth": [
           {
            "colorbar": {
             "outlinewidth": 0,
             "ticks": ""
            },
            "type": "choropleth"
           }
          ],
          "contour": [
           {
            "colorbar": {
             "outlinewidth": 0,
             "ticks": ""
            },
            "colorscale": [
             [
              0,
              "#0d0887"
             ],
             [
              0.1111111111111111,
              "#46039f"
             ],
             [
              0.2222222222222222,
              "#7201a8"
             ],
             [
              0.3333333333333333,
              "#9c179e"
             ],
             [
              0.4444444444444444,
              "#bd3786"
             ],
             [
              0.5555555555555556,
              "#d8576b"
             ],
             [
              0.6666666666666666,
              "#ed7953"
             ],
             [
              0.7777777777777778,
              "#fb9f3a"
             ],
             [
              0.8888888888888888,
              "#fdca26"
             ],
             [
              1,
              "#f0f921"
             ]
            ],
            "type": "contour"
           }
          ],
          "contourcarpet": [
           {
            "colorbar": {
             "outlinewidth": 0,
             "ticks": ""
            },
            "type": "contourcarpet"
           }
          ],
          "heatmap": [
           {
            "colorbar": {
             "outlinewidth": 0,
             "ticks": ""
            },
            "colorscale": [
             [
              0,
              "#0d0887"
             ],
             [
              0.1111111111111111,
              "#46039f"
             ],
             [
              0.2222222222222222,
              "#7201a8"
             ],
             [
              0.3333333333333333,
              "#9c179e"
             ],
             [
              0.4444444444444444,
              "#bd3786"
             ],
             [
              0.5555555555555556,
              "#d8576b"
             ],
             [
              0.6666666666666666,
              "#ed7953"
             ],
             [
              0.7777777777777778,
              "#fb9f3a"
             ],
             [
              0.8888888888888888,
              "#fdca26"
             ],
             [
              1,
              "#f0f921"
             ]
            ],
            "type": "heatmap"
           }
          ],
          "histogram": [
           {
            "marker": {
             "pattern": {
              "fillmode": "overlay",
              "size": 10,
              "solidity": 0.2
             }
            },
            "type": "histogram"
           }
          ],
          "histogram2d": [
           {
            "colorbar": {
             "outlinewidth": 0,
             "ticks": ""
            },
            "colorscale": [
             [
              0,
              "#0d0887"
             ],
             [
              0.1111111111111111,
              "#46039f"
             ],
             [
              0.2222222222222222,
              "#7201a8"
             ],
             [
              0.3333333333333333,
              "#9c179e"
             ],
             [
              0.4444444444444444,
              "#bd3786"
             ],
             [
              0.5555555555555556,
              "#d8576b"
             ],
             [
              0.6666666666666666,
              "#ed7953"
             ],
             [
              0.7777777777777778,
              "#fb9f3a"
             ],
             [
              0.8888888888888888,
              "#fdca26"
             ],
             [
              1,
              "#f0f921"
             ]
            ],
            "type": "histogram2d"
           }
          ],
          "histogram2dcontour": [
           {
            "colorbar": {
             "outlinewidth": 0,
             "ticks": ""
            },
            "colorscale": [
             [
              0,
              "#0d0887"
             ],
             [
              0.1111111111111111,
              "#46039f"
             ],
             [
              0.2222222222222222,
              "#7201a8"
             ],
             [
              0.3333333333333333,
              "#9c179e"
             ],
             [
              0.4444444444444444,
              "#bd3786"
             ],
             [
              0.5555555555555556,
              "#d8576b"
             ],
             [
              0.6666666666666666,
              "#ed7953"
             ],
             [
              0.7777777777777778,
              "#fb9f3a"
             ],
             [
              0.8888888888888888,
              "#fdca26"
             ],
             [
              1,
              "#f0f921"
             ]
            ],
            "type": "histogram2dcontour"
           }
          ],
          "mesh3d": [
           {
            "colorbar": {
             "outlinewidth": 0,
             "ticks": ""
            },
            "type": "mesh3d"
           }
          ],
          "parcoords": [
           {
            "line": {
             "colorbar": {
              "outlinewidth": 0,
              "ticks": ""
             }
            },
            "type": "parcoords"
           }
          ],
          "pie": [
           {
            "automargin": true,
            "type": "pie"
           }
          ],
          "scatter": [
           {
            "fillpattern": {
             "fillmode": "overlay",
             "size": 10,
             "solidity": 0.2
            },
            "type": "scatter"
           }
          ],
          "scatter3d": [
           {
            "line": {
             "colorbar": {
              "outlinewidth": 0,
              "ticks": ""
             }
            },
            "marker": {
             "colorbar": {
              "outlinewidth": 0,
              "ticks": ""
             }
            },
            "type": "scatter3d"
           }
          ],
          "scattercarpet": [
           {
            "marker": {
             "colorbar": {
              "outlinewidth": 0,
              "ticks": ""
             }
            },
            "type": "scattercarpet"
           }
          ],
          "scattergeo": [
           {
            "marker": {
             "colorbar": {
              "outlinewidth": 0,
              "ticks": ""
             }
            },
            "type": "scattergeo"
           }
          ],
          "scattergl": [
           {
            "marker": {
             "colorbar": {
              "outlinewidth": 0,
              "ticks": ""
             }
            },
            "type": "scattergl"
           }
          ],
          "scattermap": [
           {
            "marker": {
             "colorbar": {
              "outlinewidth": 0,
              "ticks": ""
             }
            },
            "type": "scattermap"
           }
          ],
          "scattermapbox": [
           {
            "marker": {
             "colorbar": {
              "outlinewidth": 0,
              "ticks": ""
             }
            },
            "type": "scattermapbox"
           }
          ],
          "scatterpolar": [
           {
            "marker": {
             "colorbar": {
              "outlinewidth": 0,
              "ticks": ""
             }
            },
            "type": "scatterpolar"
           }
          ],
          "scatterpolargl": [
           {
            "marker": {
             "colorbar": {
              "outlinewidth": 0,
              "ticks": ""
             }
            },
            "type": "scatterpolargl"
           }
          ],
          "scatterternary": [
           {
            "marker": {
             "colorbar": {
              "outlinewidth": 0,
              "ticks": ""
             }
            },
            "type": "scatterternary"
           }
          ],
          "surface": [
           {
            "colorbar": {
             "outlinewidth": 0,
             "ticks": ""
            },
            "colorscale": [
             [
              0,
              "#0d0887"
             ],
             [
              0.1111111111111111,
              "#46039f"
             ],
             [
              0.2222222222222222,
              "#7201a8"
             ],
             [
              0.3333333333333333,
              "#9c179e"
             ],
             [
              0.4444444444444444,
              "#bd3786"
             ],
             [
              0.5555555555555556,
              "#d8576b"
             ],
             [
              0.6666666666666666,
              "#ed7953"
             ],
             [
              0.7777777777777778,
              "#fb9f3a"
             ],
             [
              0.8888888888888888,
              "#fdca26"
             ],
             [
              1,
              "#f0f921"
             ]
            ],
            "type": "surface"
           }
          ],
          "table": [
           {
            "cells": {
             "fill": {
              "color": "#EBF0F8"
             },
             "line": {
              "color": "white"
             }
            },
            "header": {
             "fill": {
              "color": "#C8D4E3"
             },
             "line": {
              "color": "white"
             }
            },
            "type": "table"
           }
          ]
         },
         "layout": {
          "annotationdefaults": {
           "arrowcolor": "#2a3f5f",
           "arrowhead": 0,
           "arrowwidth": 1
          },
          "autotypenumbers": "strict",
          "coloraxis": {
           "colorbar": {
            "outlinewidth": 0,
            "ticks": ""
           }
          },
          "colorscale": {
           "diverging": [
            [
             0,
             "#8e0152"
            ],
            [
             0.1,
             "#c51b7d"
            ],
            [
             0.2,
             "#de77ae"
            ],
            [
             0.3,
             "#f1b6da"
            ],
            [
             0.4,
             "#fde0ef"
            ],
            [
             0.5,
             "#f7f7f7"
            ],
            [
             0.6,
             "#e6f5d0"
            ],
            [
             0.7,
             "#b8e186"
            ],
            [
             0.8,
             "#7fbc41"
            ],
            [
             0.9,
             "#4d9221"
            ],
            [
             1,
             "#276419"
            ]
           ],
           "sequential": [
            [
             0,
             "#0d0887"
            ],
            [
             0.1111111111111111,
             "#46039f"
            ],
            [
             0.2222222222222222,
             "#7201a8"
            ],
            [
             0.3333333333333333,
             "#9c179e"
            ],
            [
             0.4444444444444444,
             "#bd3786"
            ],
            [
             0.5555555555555556,
             "#d8576b"
            ],
            [
             0.6666666666666666,
             "#ed7953"
            ],
            [
             0.7777777777777778,
             "#fb9f3a"
            ],
            [
             0.8888888888888888,
             "#fdca26"
            ],
            [
             1,
             "#f0f921"
            ]
           ],
           "sequentialminus": [
            [
             0,
             "#0d0887"
            ],
            [
             0.1111111111111111,
             "#46039f"
            ],
            [
             0.2222222222222222,
             "#7201a8"
            ],
            [
             0.3333333333333333,
             "#9c179e"
            ],
            [
             0.4444444444444444,
             "#bd3786"
            ],
            [
             0.5555555555555556,
             "#d8576b"
            ],
            [
             0.6666666666666666,
             "#ed7953"
            ],
            [
             0.7777777777777778,
             "#fb9f3a"
            ],
            [
             0.8888888888888888,
             "#fdca26"
            ],
            [
             1,
             "#f0f921"
            ]
           ]
          },
          "colorway": [
           "#636efa",
           "#EF553B",
           "#00cc96",
           "#ab63fa",
           "#FFA15A",
           "#19d3f3",
           "#FF6692",
           "#B6E880",
           "#FF97FF",
           "#FECB52"
          ],
          "font": {
           "color": "#2a3f5f"
          },
          "geo": {
           "bgcolor": "white",
           "lakecolor": "white",
           "landcolor": "#E5ECF6",
           "showlakes": true,
           "showland": true,
           "subunitcolor": "white"
          },
          "hoverlabel": {
           "align": "left"
          },
          "hovermode": "closest",
          "mapbox": {
           "style": "light"
          },
          "paper_bgcolor": "white",
          "plot_bgcolor": "#E5ECF6",
          "polar": {
           "angularaxis": {
            "gridcolor": "white",
            "linecolor": "white",
            "ticks": ""
           },
           "bgcolor": "#E5ECF6",
           "radialaxis": {
            "gridcolor": "white",
            "linecolor": "white",
            "ticks": ""
           }
          },
          "scene": {
           "xaxis": {
            "backgroundcolor": "#E5ECF6",
            "gridcolor": "white",
            "gridwidth": 2,
            "linecolor": "white",
            "showbackground": true,
            "ticks": "",
            "zerolinecolor": "white"
           },
           "yaxis": {
            "backgroundcolor": "#E5ECF6",
            "gridcolor": "white",
            "gridwidth": 2,
            "linecolor": "white",
            "showbackground": true,
            "ticks": "",
            "zerolinecolor": "white"
           },
           "zaxis": {
            "backgroundcolor": "#E5ECF6",
            "gridcolor": "white",
            "gridwidth": 2,
            "linecolor": "white",
            "showbackground": true,
            "ticks": "",
            "zerolinecolor": "white"
           }
          },
          "shapedefaults": {
           "line": {
            "color": "#2a3f5f"
           }
          },
          "ternary": {
           "aaxis": {
            "gridcolor": "white",
            "linecolor": "white",
            "ticks": ""
           },
           "baxis": {
            "gridcolor": "white",
            "linecolor": "white",
            "ticks": ""
           },
           "bgcolor": "#E5ECF6",
           "caxis": {
            "gridcolor": "white",
            "linecolor": "white",
            "ticks": ""
           }
          },
          "title": {
           "x": 0.05
          },
          "xaxis": {
           "automargin": true,
           "gridcolor": "white",
           "linecolor": "white",
           "ticks": "",
           "title": {
            "standoff": 15
           },
           "zerolinecolor": "white",
           "zerolinewidth": 2
          },
          "yaxis": {
           "automargin": true,
           "gridcolor": "white",
           "linecolor": "white",
           "ticks": "",
           "title": {
            "standoff": 15
           },
           "zerolinecolor": "white",
           "zerolinewidth": 2
          }
         }
        },
        "title": {
         "text": "Hyperparameter Importances"
        },
        "xaxis": {
         "title": {
          "text": "Hyperparameter Importance"
         }
        },
        "yaxis": {
         "title": {
          "text": "Hyperparameter"
         }
        }
       }
      }
     },
     "metadata": {},
     "output_type": "display_data"
    },
    {
     "data": {
      "application/vnd.plotly.v1+json": {
       "config": {
        "plotlyServerURL": "https://plot.ly"
       },
       "data": [
        {
         "dimensions": [
          {
           "label": "Objective Value",
           "range": [
            0.9166666666666666,
            0.9583333333333334
           ],
           "values": [
            0.9583333333333334,
            0.9583333333333334,
            0.9583333333333334,
            0.9583333333333334,
            0.9583333333333334,
            0.9583333333333334,
            0.9583333333333334,
            0.9583333333333334,
            0.9583333333333334,
            0.9583333333333334,
            0.9583333333333334,
            0.9166666666666666,
            0.9583333333333334,
            0.9166666666666666,
            0.9583333333333334,
            0.9583333333333334,
            0.9583333333333334,
            0.9166666666666666,
            0.9583333333333334,
            0.9583333333333334,
            0.9583333333333334,
            0.9583333333333334,
            0.9583333333333334,
            0.9166666666666666,
            0.9583333333333334,
            0.9583333333333334,
            0.9583333333333334,
            0.9583333333333334,
            0.9583333333333334,
            0.9583333333333334,
            0.9583333333333334,
            0.9583333333333334,
            0.9583333333333334,
            0.9583333333333334,
            0.9583333333333334,
            0.9583333333333334,
            0.9583333333333334,
            0.9583333333333334,
            0.9166666666666666,
            0.9166666666666666,
            0.9583333333333334,
            0.9583333333333334,
            0.9583333333333334,
            0.9583333333333334,
            0.9166666666666666,
            0.9166666666666666,
            0.9583333333333334,
            0.9583333333333334,
            0.9583333333333334,
            0.9583333333333334
           ]
          },
          {
           "label": "colsample_bytree",
           "range": [
            0.5043812342412501,
            0.9954888318934103
           ],
           "values": [
            0.5780093202212182,
            0.8540362888980227,
            0.5909124836035503,
            0.645614570099021,
            0.728034992108518,
            0.5232252063599989,
            0.9828160165372797,
            0.7200762468698007,
            0.6293899908000085,
            0.5924272277627636,
            0.5076838686640521,
            0.8957660270445493,
            0.8576737848754852,
            0.8229282203516205,
            0.7698100534013989,
            0.9468213933974681,
            0.8076929214021927,
            0.6864507539038799,
            0.9102361265933461,
            0.7777032927616592,
            0.8529694011819127,
            0.5625717397605399,
            0.5780625453056158,
            0.666251641059935,
            0.6188484938305487,
            0.5450870264737139,
            0.7057910109394537,
            0.6009461055917525,
            0.5478007053666223,
            0.6491900648324886,
            0.6700425378718238,
            0.7495615533529286,
            0.6304509502118708,
            0.5251525871796621,
            0.6030992579296985,
            0.6972248821194833,
            0.7252951740223055,
            0.5713302106017766,
            0.5043812342412501,
            0.9954888318934103,
            0.6379547939494037,
            0.7235375713675284,
            0.7464278797040318,
            0.7980948284567313,
            0.8471823907107808,
            0.8962095981513623,
            0.9558460102215041,
            0.6171174869380669,
            0.6597858081145773,
            0.5900184654160665
           ]
          },
          {
           "label": "learning_rate",
           "range": [
            -1.9895488176501548,
            -0.5252238251504872
           ],
           "ticktext": [
            "0.0102",
            "0.1",
            "0.298"
           ],
           "tickvals": [
            -1.9895488176501548,
            -1,
            -0.5252238251504872
           ],
           "values": [
            -0.9187561902243455,
            -0.7205528047446865,
            -0.7703812819387316,
            -1.224871121285176,
            -1.5684669301960237,
            -1.240413381110425,
            -1.9039109093480708,
            -1.8557264444077681,
            -1.9492039845423346,
            -1.23179647201826,
            -0.9717495968706612,
            -0.5656170890575161,
            -0.8821660535354431,
            -0.5252238251504872,
            -0.9737641865868932,
            -0.8015930692808961,
            -1.0595229120952747,
            -0.6853149553502356,
            -1.4591077449134089,
            -1.0964119136741333,
            -0.6841743794060923,
            -0.765019074799742,
            -0.8731768993640735,
            -0.648669638473511,
            -0.8019303468549505,
            -1.0410514665427384,
            -1.4394907382740503,
            -0.6329911363858702,
            -0.9127583367464444,
            -1.0932565237303433,
            -1.369615896703027,
            -1.633537194157035,
            -1.2065269449286273,
            -1.1581805087661916,
            -0.743704882250037,
            -1.737522010207324,
            -1.3374517178182412,
            -0.9678782769659933,
            -0.8342864820458572,
            -0.5819855556231595,
            -1.3060962462641628,
            -1.6323143081955764,
            -1.8345051970869897,
            -1.5515247842167337,
            -0.9491204749220404,
            -0.7487202654664585,
            -1.0193462611410862,
            -1.1675198057454248,
            -1.4398262670465638,
            -1.9895488176501548
           ]
          },
          {
           "label": "max_depth",
           "range": [
            3,
            12
           ],
           "values": [
            12,
            3,
            12,
            6,
            4,
            4,
            4,
            6,
            7,
            6,
            12,
            11,
            9,
            9,
            10,
            3,
            8,
            10,
            3,
            5,
            8,
            12,
            11,
            11,
            12,
            10,
            9,
            11,
            7,
            12,
            5,
            5,
            6,
            4,
            3,
            4,
            7,
            6,
            5,
            8,
            11,
            3,
            4,
            4,
            6,
            3,
            5,
            10,
            12,
            3
           ]
          },
          {
           "label": "n_estimators",
           "range": [
            10,
            291
           ],
           "values": [
            118,
            55,
            15,
            63,
            188,
            238,
            186,
            245,
            45,
            202,
            118,
            112,
            108,
            79,
            151,
            291,
            10,
            144,
            71,
            44,
            95,
            16,
            35,
            135,
            84,
            31,
            56,
            13,
            169,
            65,
            128,
            56,
            90,
            28,
            60,
            100,
            174,
            38,
            205,
            122,
            78,
            261,
            229,
            199,
            168,
            187,
            46,
            219,
            154,
            104
           ]
          },
          {
           "label": "subsample",
           "range": [
            0.5023325340961213,
            0.9869618111006299
           ],
           "values": [
            0.7993292420985183,
            0.8005575058716043,
            0.6061695553391381,
            0.7159725093210578,
            0.6831809216468459,
            0.7962072844310213,
            0.9744427686266666,
            0.8421165132560784,
            0.954660201039391,
            0.7733551396716398,
            0.5089809378074099,
            0.8730087382509263,
            0.8837864985996776,
            0.6412396842185335,
            0.7917316769460038,
            0.9167270621070531,
            0.8317032143059913,
            0.731057379200564,
            0.5827781406926889,
            0.6869888528707923,
            0.9243650491166928,
            0.607591588403385,
            0.5489324244033762,
            0.7590548939043895,
            0.6614130004403385,
            0.8264423346529436,
            0.725253297568667,
            0.6236101789520606,
            0.5023325340961213,
            0.7031658442859502,
            0.806985651003042,
            0.7411639826656885,
            0.6671286488404033,
            0.7047728962156242,
            0.862580774849707,
            0.5608573155634188,
            0.7924978562174871,
            0.7658753482334295,
            0.811382149300875,
            0.8464785078055089,
            0.9869618111006299,
            0.6485425529524698,
            0.6820087810014607,
            0.7803895815158408,
            0.7136438938907196,
            0.6051113649731437,
            0.8906895814772052,
            0.741826000948177,
            0.5339640556640151,
            0.6277800605222984
           ]
          }
         ],
         "labelangle": 30,
         "labelside": "bottom",
         "line": {
          "color": [
           0.9583333333333334,
           0.9583333333333334,
           0.9583333333333334,
           0.9583333333333334,
           0.9583333333333334,
           0.9583333333333334,
           0.9583333333333334,
           0.9583333333333334,
           0.9583333333333334,
           0.9583333333333334,
           0.9583333333333334,
           0.9166666666666666,
           0.9583333333333334,
           0.9166666666666666,
           0.9583333333333334,
           0.9583333333333334,
           0.9583333333333334,
           0.9166666666666666,
           0.9583333333333334,
           0.9583333333333334,
           0.9583333333333334,
           0.9583333333333334,
           0.9583333333333334,
           0.9166666666666666,
           0.9583333333333334,
           0.9583333333333334,
           0.9583333333333334,
           0.9583333333333334,
           0.9583333333333334,
           0.9583333333333334,
           0.9583333333333334,
           0.9583333333333334,
           0.9583333333333334,
           0.9583333333333334,
           0.9583333333333334,
           0.9583333333333334,
           0.9583333333333334,
           0.9583333333333334,
           0.9166666666666666,
           0.9166666666666666,
           0.9583333333333334,
           0.9583333333333334,
           0.9583333333333334,
           0.9583333333333334,
           0.9166666666666666,
           0.9166666666666666,
           0.9583333333333334,
           0.9583333333333334,
           0.9583333333333334,
           0.9583333333333334
          ],
          "colorbar": {
           "title": {
            "text": "Objective Value"
           }
          },
          "colorscale": [
           [
            0,
            "rgb(247,251,255)"
           ],
           [
            0.125,
            "rgb(222,235,247)"
           ],
           [
            0.25,
            "rgb(198,219,239)"
           ],
           [
            0.375,
            "rgb(158,202,225)"
           ],
           [
            0.5,
            "rgb(107,174,214)"
           ],
           [
            0.625,
            "rgb(66,146,198)"
           ],
           [
            0.75,
            "rgb(33,113,181)"
           ],
           [
            0.875,
            "rgb(8,81,156)"
           ],
           [
            1,
            "rgb(8,48,107)"
           ]
          ],
          "reversescale": false,
          "showscale": true
         },
         "type": "parcoords"
        }
       ],
       "layout": {
        "template": {
         "data": {
          "bar": [
           {
            "error_x": {
             "color": "#2a3f5f"
            },
            "error_y": {
             "color": "#2a3f5f"
            },
            "marker": {
             "line": {
              "color": "#E5ECF6",
              "width": 0.5
             },
             "pattern": {
              "fillmode": "overlay",
              "size": 10,
              "solidity": 0.2
             }
            },
            "type": "bar"
           }
          ],
          "barpolar": [
           {
            "marker": {
             "line": {
              "color": "#E5ECF6",
              "width": 0.5
             },
             "pattern": {
              "fillmode": "overlay",
              "size": 10,
              "solidity": 0.2
             }
            },
            "type": "barpolar"
           }
          ],
          "carpet": [
           {
            "aaxis": {
             "endlinecolor": "#2a3f5f",
             "gridcolor": "white",
             "linecolor": "white",
             "minorgridcolor": "white",
             "startlinecolor": "#2a3f5f"
            },
            "baxis": {
             "endlinecolor": "#2a3f5f",
             "gridcolor": "white",
             "linecolor": "white",
             "minorgridcolor": "white",
             "startlinecolor": "#2a3f5f"
            },
            "type": "carpet"
           }
          ],
          "choropleth": [
           {
            "colorbar": {
             "outlinewidth": 0,
             "ticks": ""
            },
            "type": "choropleth"
           }
          ],
          "contour": [
           {
            "colorbar": {
             "outlinewidth": 0,
             "ticks": ""
            },
            "colorscale": [
             [
              0,
              "#0d0887"
             ],
             [
              0.1111111111111111,
              "#46039f"
             ],
             [
              0.2222222222222222,
              "#7201a8"
             ],
             [
              0.3333333333333333,
              "#9c179e"
             ],
             [
              0.4444444444444444,
              "#bd3786"
             ],
             [
              0.5555555555555556,
              "#d8576b"
             ],
             [
              0.6666666666666666,
              "#ed7953"
             ],
             [
              0.7777777777777778,
              "#fb9f3a"
             ],
             [
              0.8888888888888888,
              "#fdca26"
             ],
             [
              1,
              "#f0f921"
             ]
            ],
            "type": "contour"
           }
          ],
          "contourcarpet": [
           {
            "colorbar": {
             "outlinewidth": 0,
             "ticks": ""
            },
            "type": "contourcarpet"
           }
          ],
          "heatmap": [
           {
            "colorbar": {
             "outlinewidth": 0,
             "ticks": ""
            },
            "colorscale": [
             [
              0,
              "#0d0887"
             ],
             [
              0.1111111111111111,
              "#46039f"
             ],
             [
              0.2222222222222222,
              "#7201a8"
             ],
             [
              0.3333333333333333,
              "#9c179e"
             ],
             [
              0.4444444444444444,
              "#bd3786"
             ],
             [
              0.5555555555555556,
              "#d8576b"
             ],
             [
              0.6666666666666666,
              "#ed7953"
             ],
             [
              0.7777777777777778,
              "#fb9f3a"
             ],
             [
              0.8888888888888888,
              "#fdca26"
             ],
             [
              1,
              "#f0f921"
             ]
            ],
            "type": "heatmap"
           }
          ],
          "histogram": [
           {
            "marker": {
             "pattern": {
              "fillmode": "overlay",
              "size": 10,
              "solidity": 0.2
             }
            },
            "type": "histogram"
           }
          ],
          "histogram2d": [
           {
            "colorbar": {
             "outlinewidth": 0,
             "ticks": ""
            },
            "colorscale": [
             [
              0,
              "#0d0887"
             ],
             [
              0.1111111111111111,
              "#46039f"
             ],
             [
              0.2222222222222222,
              "#7201a8"
             ],
             [
              0.3333333333333333,
              "#9c179e"
             ],
             [
              0.4444444444444444,
              "#bd3786"
             ],
             [
              0.5555555555555556,
              "#d8576b"
             ],
             [
              0.6666666666666666,
              "#ed7953"
             ],
             [
              0.7777777777777778,
              "#fb9f3a"
             ],
             [
              0.8888888888888888,
              "#fdca26"
             ],
             [
              1,
              "#f0f921"
             ]
            ],
            "type": "histogram2d"
           }
          ],
          "histogram2dcontour": [
           {
            "colorbar": {
             "outlinewidth": 0,
             "ticks": ""
            },
            "colorscale": [
             [
              0,
              "#0d0887"
             ],
             [
              0.1111111111111111,
              "#46039f"
             ],
             [
              0.2222222222222222,
              "#7201a8"
             ],
             [
              0.3333333333333333,
              "#9c179e"
             ],
             [
              0.4444444444444444,
              "#bd3786"
             ],
             [
              0.5555555555555556,
              "#d8576b"
             ],
             [
              0.6666666666666666,
              "#ed7953"
             ],
             [
              0.7777777777777778,
              "#fb9f3a"
             ],
             [
              0.8888888888888888,
              "#fdca26"
             ],
             [
              1,
              "#f0f921"
             ]
            ],
            "type": "histogram2dcontour"
           }
          ],
          "mesh3d": [
           {
            "colorbar": {
             "outlinewidth": 0,
             "ticks": ""
            },
            "type": "mesh3d"
           }
          ],
          "parcoords": [
           {
            "line": {
             "colorbar": {
              "outlinewidth": 0,
              "ticks": ""
             }
            },
            "type": "parcoords"
           }
          ],
          "pie": [
           {
            "automargin": true,
            "type": "pie"
           }
          ],
          "scatter": [
           {
            "fillpattern": {
             "fillmode": "overlay",
             "size": 10,
             "solidity": 0.2
            },
            "type": "scatter"
           }
          ],
          "scatter3d": [
           {
            "line": {
             "colorbar": {
              "outlinewidth": 0,
              "ticks": ""
             }
            },
            "marker": {
             "colorbar": {
              "outlinewidth": 0,
              "ticks": ""
             }
            },
            "type": "scatter3d"
           }
          ],
          "scattercarpet": [
           {
            "marker": {
             "colorbar": {
              "outlinewidth": 0,
              "ticks": ""
             }
            },
            "type": "scattercarpet"
           }
          ],
          "scattergeo": [
           {
            "marker": {
             "colorbar": {
              "outlinewidth": 0,
              "ticks": ""
             }
            },
            "type": "scattergeo"
           }
          ],
          "scattergl": [
           {
            "marker": {
             "colorbar": {
              "outlinewidth": 0,
              "ticks": ""
             }
            },
            "type": "scattergl"
           }
          ],
          "scattermap": [
           {
            "marker": {
             "colorbar": {
              "outlinewidth": 0,
              "ticks": ""
             }
            },
            "type": "scattermap"
           }
          ],
          "scattermapbox": [
           {
            "marker": {
             "colorbar": {
              "outlinewidth": 0,
              "ticks": ""
             }
            },
            "type": "scattermapbox"
           }
          ],
          "scatterpolar": [
           {
            "marker": {
             "colorbar": {
              "outlinewidth": 0,
              "ticks": ""
             }
            },
            "type": "scatterpolar"
           }
          ],
          "scatterpolargl": [
           {
            "marker": {
             "colorbar": {
              "outlinewidth": 0,
              "ticks": ""
             }
            },
            "type": "scatterpolargl"
           }
          ],
          "scatterternary": [
           {
            "marker": {
             "colorbar": {
              "outlinewidth": 0,
              "ticks": ""
             }
            },
            "type": "scatterternary"
           }
          ],
          "surface": [
           {
            "colorbar": {
             "outlinewidth": 0,
             "ticks": ""
            },
            "colorscale": [
             [
              0,
              "#0d0887"
             ],
             [
              0.1111111111111111,
              "#46039f"
             ],
             [
              0.2222222222222222,
              "#7201a8"
             ],
             [
              0.3333333333333333,
              "#9c179e"
             ],
             [
              0.4444444444444444,
              "#bd3786"
             ],
             [
              0.5555555555555556,
              "#d8576b"
             ],
             [
              0.6666666666666666,
              "#ed7953"
             ],
             [
              0.7777777777777778,
              "#fb9f3a"
             ],
             [
              0.8888888888888888,
              "#fdca26"
             ],
             [
              1,
              "#f0f921"
             ]
            ],
            "type": "surface"
           }
          ],
          "table": [
           {
            "cells": {
             "fill": {
              "color": "#EBF0F8"
             },
             "line": {
              "color": "white"
             }
            },
            "header": {
             "fill": {
              "color": "#C8D4E3"
             },
             "line": {
              "color": "white"
             }
            },
            "type": "table"
           }
          ]
         },
         "layout": {
          "annotationdefaults": {
           "arrowcolor": "#2a3f5f",
           "arrowhead": 0,
           "arrowwidth": 1
          },
          "autotypenumbers": "strict",
          "coloraxis": {
           "colorbar": {
            "outlinewidth": 0,
            "ticks": ""
           }
          },
          "colorscale": {
           "diverging": [
            [
             0,
             "#8e0152"
            ],
            [
             0.1,
             "#c51b7d"
            ],
            [
             0.2,
             "#de77ae"
            ],
            [
             0.3,
             "#f1b6da"
            ],
            [
             0.4,
             "#fde0ef"
            ],
            [
             0.5,
             "#f7f7f7"
            ],
            [
             0.6,
             "#e6f5d0"
            ],
            [
             0.7,
             "#b8e186"
            ],
            [
             0.8,
             "#7fbc41"
            ],
            [
             0.9,
             "#4d9221"
            ],
            [
             1,
             "#276419"
            ]
           ],
           "sequential": [
            [
             0,
             "#0d0887"
            ],
            [
             0.1111111111111111,
             "#46039f"
            ],
            [
             0.2222222222222222,
             "#7201a8"
            ],
            [
             0.3333333333333333,
             "#9c179e"
            ],
            [
             0.4444444444444444,
             "#bd3786"
            ],
            [
             0.5555555555555556,
             "#d8576b"
            ],
            [
             0.6666666666666666,
             "#ed7953"
            ],
            [
             0.7777777777777778,
             "#fb9f3a"
            ],
            [
             0.8888888888888888,
             "#fdca26"
            ],
            [
             1,
             "#f0f921"
            ]
           ],
           "sequentialminus": [
            [
             0,
             "#0d0887"
            ],
            [
             0.1111111111111111,
             "#46039f"
            ],
            [
             0.2222222222222222,
             "#7201a8"
            ],
            [
             0.3333333333333333,
             "#9c179e"
            ],
            [
             0.4444444444444444,
             "#bd3786"
            ],
            [
             0.5555555555555556,
             "#d8576b"
            ],
            [
             0.6666666666666666,
             "#ed7953"
            ],
            [
             0.7777777777777778,
             "#fb9f3a"
            ],
            [
             0.8888888888888888,
             "#fdca26"
            ],
            [
             1,
             "#f0f921"
            ]
           ]
          },
          "colorway": [
           "#636efa",
           "#EF553B",
           "#00cc96",
           "#ab63fa",
           "#FFA15A",
           "#19d3f3",
           "#FF6692",
           "#B6E880",
           "#FF97FF",
           "#FECB52"
          ],
          "font": {
           "color": "#2a3f5f"
          },
          "geo": {
           "bgcolor": "white",
           "lakecolor": "white",
           "landcolor": "#E5ECF6",
           "showlakes": true,
           "showland": true,
           "subunitcolor": "white"
          },
          "hoverlabel": {
           "align": "left"
          },
          "hovermode": "closest",
          "mapbox": {
           "style": "light"
          },
          "paper_bgcolor": "white",
          "plot_bgcolor": "#E5ECF6",
          "polar": {
           "angularaxis": {
            "gridcolor": "white",
            "linecolor": "white",
            "ticks": ""
           },
           "bgcolor": "#E5ECF6",
           "radialaxis": {
            "gridcolor": "white",
            "linecolor": "white",
            "ticks": ""
           }
          },
          "scene": {
           "xaxis": {
            "backgroundcolor": "#E5ECF6",
            "gridcolor": "white",
            "gridwidth": 2,
            "linecolor": "white",
            "showbackground": true,
            "ticks": "",
            "zerolinecolor": "white"
           },
           "yaxis": {
            "backgroundcolor": "#E5ECF6",
            "gridcolor": "white",
            "gridwidth": 2,
            "linecolor": "white",
            "showbackground": true,
            "ticks": "",
            "zerolinecolor": "white"
           },
           "zaxis": {
            "backgroundcolor": "#E5ECF6",
            "gridcolor": "white",
            "gridwidth": 2,
            "linecolor": "white",
            "showbackground": true,
            "ticks": "",
            "zerolinecolor": "white"
           }
          },
          "shapedefaults": {
           "line": {
            "color": "#2a3f5f"
           }
          },
          "ternary": {
           "aaxis": {
            "gridcolor": "white",
            "linecolor": "white",
            "ticks": ""
           },
           "baxis": {
            "gridcolor": "white",
            "linecolor": "white",
            "ticks": ""
           },
           "bgcolor": "#E5ECF6",
           "caxis": {
            "gridcolor": "white",
            "linecolor": "white",
            "ticks": ""
           }
          },
          "title": {
           "x": 0.05
          },
          "xaxis": {
           "automargin": true,
           "gridcolor": "white",
           "linecolor": "white",
           "ticks": "",
           "title": {
            "standoff": 15
           },
           "zerolinecolor": "white",
           "zerolinewidth": 2
          },
          "yaxis": {
           "automargin": true,
           "gridcolor": "white",
           "linecolor": "white",
           "ticks": "",
           "title": {
            "standoff": 15
           },
           "zerolinecolor": "white",
           "zerolinewidth": 2
          }
         }
        },
        "title": {
         "text": "Parallel Coordinate Plot"
        }
       }
      }
     },
     "metadata": {},
     "output_type": "display_data"
    }
   ],
   "source": [
    "optuna.visualization.plot_optimization_history(study).show()\n",
    "optuna.visualization.plot_param_importances(study).show()\n",
    "optuna.visualization.plot_parallel_coordinate(study).show()"
   ]
  }
 ],
 "metadata": {
  "kernelspec": {
   "display_name": "python-project-template-py3.13",
   "language": "python",
   "name": "python3"
  },
  "language_info": {
   "codemirror_mode": {
    "name": "ipython",
    "version": 3
   },
   "file_extension": ".py",
   "mimetype": "text/x-python",
   "name": "python",
   "nbconvert_exporter": "python",
   "pygments_lexer": "ipython3",
   "version": "3.13.3"
  }
 },
 "nbformat": 4,
 "nbformat_minor": 5
}
