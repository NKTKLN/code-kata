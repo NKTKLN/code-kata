{
 "cells": [
  {
   "cell_type": "markdown",
   "id": "45b6f184",
   "metadata": {
    "papermill": {
     "duration": 0.006438,
     "end_time": "2025-07-30T17:25:41.202587",
     "exception": false,
     "start_time": "2025-07-30T17:25:41.196149",
     "status": "completed"
    },
    "tags": []
   },
   "source": [
    "# 🚀 Spaceship Titanic"
   ]
  },
  {
   "cell_type": "markdown",
   "id": "c7b2b922",
   "metadata": {},
   "source": [
    "### ⚙️ Importing Libraries & Environment Setup"
   ]
  },
  {
   "cell_type": "code",
   "execution_count": 1501,
   "id": "6d1ee72d",
   "metadata": {
    "execution": {
     "iopub.execute_input": "2025-07-30T17:25:43.105382Z",
     "iopub.status.busy": "2025-07-30T17:25:43.104981Z",
     "iopub.status.idle": "2025-07-30T17:25:46.742335Z",
     "shell.execute_reply": "2025-07-30T17:25:46.741410Z"
    },
    "papermill": {
     "duration": 3.645523,
     "end_time": "2025-07-30T17:25:46.744005",
     "exception": false,
     "start_time": "2025-07-30T17:25:43.098482",
     "status": "completed"
    },
    "tags": []
   },
   "outputs": [],
   "source": [
    "import os\n",
    "from typing import Any, Callable\n",
    "\n",
    "import matplotlib.pyplot as plt\n",
    "import numpy as np\n",
    "import optuna\n",
    "import pandas as pd\n",
    "import seaborn as sns\n",
    "import xgboost as xgb\n",
    "from colorama import Fore, Style\n",
    "from numpy.typing import NDArray\n",
    "from sklearn.metrics import (\n",
    "    accuracy_score,\n",
    "    confusion_matrix,\n",
    "    explained_variance_score,\n",
    "    f1_score,\n",
    "    mean_absolute_error,\n",
    "    mean_squared_error,\n",
    "    precision_score,\n",
    "    r2_score,\n",
    "    recall_score,\n",
    "    roc_auc_score,\n",
    "    root_mean_squared_error,\n",
    ")\n",
    "from sklearn.model_selection import (\n",
    "    StratifiedKFold,\n",
    "    cross_val_score,\n",
    "    train_test_split,\n",
    ")\n",
    "from sklearn.preprocessing import LabelEncoder"
   ]
  },
  {
   "cell_type": "code",
   "execution_count": 1502,
   "id": "f5b9b09a",
   "metadata": {},
   "outputs": [],
   "source": [
    "%matplotlib inline\n",
    "\n",
    "pd.set_option(\"display.width\", 100)\n",
    "pd.set_option(\"display.max_rows\", 100)\n",
    "pd.set_option(\"display.max_columns\", None)"
   ]
  },
  {
   "cell_type": "code",
   "execution_count": 1503,
   "id": "7cfaae9e",
   "metadata": {},
   "outputs": [],
   "source": [
    "should_save_submission = True\n",
    "\n",
    "# Determine dataset directory based on environment\n",
    "if os.path.exists(\"/kaggle/input/titanic\"):\n",
    "    dataset_path = \"/kaggle/input/spaceship_titanic\"  # Kaggle\n",
    "    should_save_submission = True\n",
    "elif os.path.exists(\"./dataset\"):\n",
    "    dataset_path = \"./dataset\"  # Local\n",
    "else:\n",
    "    raise FileNotFoundError(\"Dataset directory not found.\")"
   ]
  },
  {
   "cell_type": "markdown",
   "id": "0ce779c0",
   "metadata": {
    "papermill": {
     "duration": 0.00588,
     "end_time": "2025-07-30T17:25:46.755856",
     "exception": false,
     "start_time": "2025-07-30T17:25:46.749976",
     "status": "completed"
    },
    "tags": []
   },
   "source": [
    "## 🛠️ Utility Functions"
   ]
  },
  {
   "cell_type": "code",
   "execution_count": 1504,
   "id": "5e95e0a6",
   "metadata": {},
   "outputs": [],
   "source": [
    "def evaluate_regression_models(\n",
    "    predictions: dict[str, NDArray[np.float64]], y: NDArray[np.float64]\n",
    ") -> pd.DataFrame:\n",
    "    \"\"\"Evaluate multiple regression model predictions on the given dataset.\n",
    "\n",
    "    Args:\n",
    "        predictions (dict[str, NDArray[np.float64]]): Dictionary where keys are\n",
    "            model names and values are predicted target arrays corresponding to X.\n",
    "        y (NDArray[np.float64]): True target values of shape (n_samples,).\n",
    "\n",
    "    Returns:\n",
    "        pd.DataFrame: DataFrame with evaluation metrics (MAE, MSE, RMSE, R², EVS) for\n",
    "            each model. Columns correspond to model names; rows correspond to metrics.\n",
    "    \"\"\"\n",
    "    evaluations = pd.DataFrame(\n",
    "        columns=predictions.keys(), index=[\"MAE\", \"MSE\", \"RMSE\", \"R²\", \"EVS\"]\n",
    "    )\n",
    "\n",
    "    for name, y_pred in predictions.items():\n",
    "        metrics = {\n",
    "            \"MAE\": mean_absolute_error(y, y_pred),\n",
    "            \"MSE\": mean_squared_error(y, y_pred),\n",
    "            \"RMSE\": root_mean_squared_error(y, y_pred),\n",
    "            \"R²\": r2_score(y, y_pred),\n",
    "            \"EVS\": explained_variance_score(y, y_pred),\n",
    "        }\n",
    "\n",
    "        evaluations.loc[:, name] = metrics\n",
    "\n",
    "    return evaluations.astype(float)"
   ]
  },
  {
   "cell_type": "code",
   "execution_count": 1505,
   "id": "b0aa8a21",
   "metadata": {},
   "outputs": [],
   "source": [
    "def evaluate_classification(\n",
    "    y_pred: NDArray[np.float64], y_true: NDArray[np.float64]\n",
    ") -> pd.DataFrame:\n",
    "    \"\"\"Evaluate multiple classification model predictions on the provided dataset.\n",
    "\n",
    "    Args:\n",
    "        y_pred (NDArray[np.float64]): Predicted probabilities or binary outputs.\n",
    "        y_true (NDArray[np.float64]): True binary target values of shape (n_samples,).\n",
    "\n",
    "    Returns:\n",
    "        pd.DataFrame: DataFrame containing classification metrics — Accuracy, Precision,\n",
    "            Recall, F1-score, and ROC AUC. Rows correspond to the metric names.\n",
    "    \"\"\"\n",
    "    # If predictions are probabilities, binarize with threshold 0.5\n",
    "    y_pred_bin = (y_pred > 0.5).astype(int)\n",
    "\n",
    "    metrics = {\n",
    "        \"Accuracy\": accuracy_score(y_true, y_pred_bin),\n",
    "        \"Precision\": precision_score(y_true, y_pred_bin),\n",
    "        \"Recall\": recall_score(y_true, y_pred_bin),\n",
    "        \"F1-score\": f1_score(y_true, y_pred_bin),\n",
    "        \"ROC AUC\": roc_auc_score(y_true, y_pred),\n",
    "    }\n",
    "\n",
    "    return pd.DataFrame.from_dict(metrics, orient=\"index\", columns=[\"score\"]).T"
   ]
  },
  {
   "cell_type": "code",
   "execution_count": 1506,
   "id": "0cba4c1a",
   "metadata": {},
   "outputs": [],
   "source": [
    "def plot_confusion_matrix(y_true: NDArray[np.int64], y_pred: NDArray[np.int64]) -> None:\n",
    "    \"\"\"Display a confusion matrix using seaborn heatmap.\n",
    "\n",
    "    Args:\n",
    "        y_true (NDArray[np.int64]): True labels.\n",
    "        y_pred (NDArray[np.int64]): Predicted labels.\n",
    "    \"\"\"\n",
    "    conf_matrix = confusion_matrix(y_true, y_pred)\n",
    "\n",
    "    sns.heatmap(\n",
    "        conf_matrix,\n",
    "        annot=True,\n",
    "        fmt=\"d\",\n",
    "        cmap=\"Blues\",\n",
    "        cbar=False,\n",
    "    )\n",
    "    plt.xlabel(\"Predicted Labels\")\n",
    "    plt.ylabel(\"True Labels\")\n",
    "    plt.title(\"Confusion Matrix\")\n",
    "    plt.show()"
   ]
  },
  {
   "cell_type": "code",
   "execution_count": 1507,
   "id": "29c066e0",
   "metadata": {},
   "outputs": [],
   "source": [
    "def plot_feature_importance(importance_df: pd.DataFrame) -> None:\n",
    "    \"\"\"Display feature importance barplot using seaborn.\n",
    "\n",
    "    Args:\n",
    "        importance_df (pd.DataFrame): DataFrame с двумя столбцами:\n",
    "            'feature' — названия признаков,\n",
    "            'importance' — значения важности.\n",
    "    \"\"\"\n",
    "    importance_df = importance_df.sort_values(by=\"importance\", ascending=False)\n",
    "\n",
    "    plt.figure(figsize=(10, 6))\n",
    "    sns.barplot(\n",
    "        data=importance_df,\n",
    "        x=\"importance\",\n",
    "        y=\"feature\",\n",
    "        hue=\"feature\",\n",
    "        palette=\"viridis\",\n",
    "    )\n",
    "    plt.title(\"Feature Importance (Gain)\")\n",
    "    plt.xlabel(\"Importance\")\n",
    "    plt.ylabel(\"Feature\")\n",
    "    plt.tight_layout()\n",
    "    plt.show()"
   ]
  },
  {
   "cell_type": "code",
   "execution_count": 1508,
   "id": "2b978a41",
   "metadata": {},
   "outputs": [],
   "source": [
    "class PandasProxy:\n",
    "    \"\"\"A proxy class that provides controlled access to a pandas DataFrame.\"\"\"\n",
    "\n",
    "    def __init__(\n",
    "        self, get_df: Callable[[], pd.DataFrame], set_df: Callable[[pd.DataFrame], None]\n",
    "    ) -> None:\n",
    "        \"\"\"Initialize the proxy with getter and setter functions.\n",
    "\n",
    "        Args:\n",
    "            get_df (Callable[[], pd.DataFrame]): Function to retrieve the DataFrame.\n",
    "            set_df (Callable[[pd.DataFrame], None]): Function to set/update the\n",
    "                DataFrame.\n",
    "        \"\"\"\n",
    "        self._get_df = get_df\n",
    "        self._set_df = set_df\n",
    "\n",
    "    def __getitem__(self, key: Any) -> Any:\n",
    "        \"\"\"Retrieve an item from the proxied DataFrame.\"\"\"\n",
    "        return self._get_df()[key]\n",
    "\n",
    "    def __setitem__(self, key: Any, value: Any) -> None:\n",
    "        \"\"\"Set a value in the proxied DataFrame and update it.\"\"\"\n",
    "        df = self._get_df()\n",
    "        df[key] = value\n",
    "        self._set_df(df)\n",
    "\n",
    "    def __getattr__(self, name: str) -> Any:\n",
    "        \"\"\"Forward attribute access to the proxied DataFrame.\"\"\"\n",
    "        return getattr(self._get_df(), name)\n",
    "\n",
    "\n",
    "class DatasetManager:\n",
    "    \"\"\"Manages training and testing datasets.\n",
    "\n",
    "    This class maintains synchronization between the separate train/test DataFrames and\n",
    "    their concatenated form. Updating the combined DataFrame automatically updates\n",
    "    the individual train and test DataFrames.\n",
    "    \"\"\"\n",
    "\n",
    "    def __init__(self, train_df: pd.DataFrame, test_df: pd.DataFrame) -> None:\n",
    "        \"\"\"Initialize DatasetManager with train and test DataFrames.\n",
    "\n",
    "        Args:\n",
    "            train_df (pd.DataFrame): Training data.\n",
    "            test_df (pd.DataFrame): Testing data.\n",
    "        \"\"\"\n",
    "        self._train_df = train_df.reset_index(drop=True)\n",
    "        self._test_df = test_df.reset_index(drop=True)\n",
    "\n",
    "        self._train_size = len(self._train_df)\n",
    "        self._columns_to_drop_from_test = list(\n",
    "            set(self._train_df.columns) - set(self._test_df.columns)\n",
    "        )\n",
    "        self._combined_df = pd.concat([self._train_df, self._test_df]).reset_index(\n",
    "            drop=True\n",
    "        )\n",
    "\n",
    "        self._combined_df_proxy = PandasProxy(\n",
    "            self._get_combined_df, self._set_combined_df\n",
    "        )\n",
    "\n",
    "        self._assign_names()\n",
    "\n",
    "    def _assign_names(self) -> None:\n",
    "        \"\"\"Assign descriptive names to train, test, and combined DataFrames.\"\"\"\n",
    "        self._train_df.name = \"Training Set\"\n",
    "        self._test_df.name = \"Test Set\"\n",
    "        self._combined_df.name = \"Combined Set\"\n",
    "\n",
    "    def _get_combined_df(self) -> pd.DataFrame:\n",
    "        \"\"\"Get the combined DataFrame of train and test datasets.\n",
    "\n",
    "        Returns:\n",
    "            pd.DataFrame: Concatenated DataFrame of train and test sets.\n",
    "        \"\"\"\n",
    "        return self._combined_df\n",
    "\n",
    "    def _set_combined_df(self, new_combined_df: pd.DataFrame) -> None:\n",
    "        \"\"\"Set the combined DataFrame and update the train and test DataFrames.\n",
    "\n",
    "        Args:\n",
    "            new_combined_df (pd.DataFrame): New combined DataFrame.\n",
    "        \"\"\"\n",
    "        self._combined_df = new_combined_df\n",
    "        self._train_df = self._combined_df.iloc[: self._train_size].reset_index(\n",
    "            drop=True\n",
    "        )\n",
    "        self._test_df = (\n",
    "            self._combined_df.iloc[self._train_size :]\n",
    "            .drop(self._columns_to_drop_from_test, axis=1)\n",
    "            .reset_index(drop=True)\n",
    "        )\n",
    "        self._assign_names()\n",
    "\n",
    "    @property\n",
    "    def combined_df(self) -> PandasProxy:\n",
    "        \"\"\"Get a proxy to the combined DataFrame of train and test datasets.\n",
    "\n",
    "        Returns:\n",
    "            PandasProxy: Proxy object allowing controlled access to the DataFrame.\n",
    "        \"\"\"\n",
    "        return self._combined_df_proxy\n",
    "\n",
    "    @combined_df.setter\n",
    "    def combined_df(self, new_combined_df: pd.DataFrame) -> None:\n",
    "        \"\"\"Set the combined DataFrame and update the train and test DataFrames.\n",
    "\n",
    "        Args:\n",
    "            new_combined_df (pd.DataFrame): New combined DataFrame.\n",
    "        \"\"\"\n",
    "        self._set_combined_df(new_combined_df)\n",
    "\n",
    "    @property\n",
    "    def train_df(self) -> pd.DataFrame:\n",
    "        \"\"\"Get the training DataFrame.\n",
    "\n",
    "        Returns:\n",
    "            pd.DataFrame: Training dataset.\n",
    "        \"\"\"\n",
    "        return self._train_df\n",
    "\n",
    "    @property\n",
    "    def test_df(self) -> pd.DataFrame:\n",
    "        \"\"\"Get the testing DataFrame.\n",
    "\n",
    "        Returns:\n",
    "            pd.DataFrame: Testing dataset.\n",
    "        \"\"\"\n",
    "        return self._test_df\n",
    "\n",
    "    @property\n",
    "    def train_test_dfs(self) -> tuple[pd.DataFrame, pd.DataFrame]:\n",
    "        \"\"\"Get the separate train and test DataFrames.\n",
    "\n",
    "        Returns:\n",
    "            tuple[pd.DataFrame, pd.DataFrame]: Tuple containing (train_df, test_df).\n",
    "        \"\"\"\n",
    "        return self._train_df, self._test_df"
   ]
  },
  {
   "cell_type": "markdown",
   "id": "e6bef9f5",
   "metadata": {
    "papermill": {
     "duration": 0.005726,
     "end_time": "2025-07-30T17:25:46.808594",
     "exception": false,
     "start_time": "2025-07-30T17:25:46.802868",
     "status": "completed"
    },
    "tags": []
   },
   "source": [
    "## 📥 Load and Inspect Dataset"
   ]
  },
  {
   "cell_type": "code",
   "execution_count": 1509,
   "id": "412c81a2",
   "metadata": {
    "execution": {
     "iopub.execute_input": "2025-07-30T17:25:46.820347Z",
     "iopub.status.busy": "2025-07-30T17:25:46.820009Z",
     "iopub.status.idle": "2025-07-30T17:25:46.848470Z",
     "shell.execute_reply": "2025-07-30T17:25:46.847710Z"
    },
    "papermill": {
     "duration": 0.036542,
     "end_time": "2025-07-30T17:25:46.850287",
     "exception": false,
     "start_time": "2025-07-30T17:25:46.813745",
     "status": "completed"
    },
    "tags": []
   },
   "outputs": [],
   "source": [
    "train_df = pd.read_csv(f\"{dataset_path}/train.csv\")\n",
    "test_df = pd.read_csv(f\"{dataset_path}/test.csv\")\n",
    "dm = DatasetManager(train_df, test_df)"
   ]
  },
  {
   "cell_type": "code",
   "execution_count": 1510,
   "id": "9bedc9f4",
   "metadata": {
    "execution": {
     "iopub.execute_input": "2025-07-30T17:25:46.862578Z",
     "iopub.status.busy": "2025-07-30T17:25:46.861739Z",
     "iopub.status.idle": "2025-07-30T17:25:46.889529Z",
     "shell.execute_reply": "2025-07-30T17:25:46.888513Z"
    },
    "papermill": {
     "duration": 0.035384,
     "end_time": "2025-07-30T17:25:46.891131",
     "exception": false,
     "start_time": "2025-07-30T17:25:46.855747",
     "status": "completed"
    },
    "tags": []
   },
   "outputs": [
    {
     "name": "stdout",
     "output_type": "stream",
     "text": [
      "\u001b[35mDataFrame Info:\u001b[0m\n",
      "\n",
      "\u001b[36m====== Training Set ======\u001b[0m\n",
      "<class 'pandas.core.frame.DataFrame'>\n",
      "RangeIndex: 8693 entries, 0 to 8692\n",
      "Data columns (total 14 columns):\n",
      " #   Column        Non-Null Count  Dtype  \n",
      "---  ------        --------------  -----  \n",
      " 0   PassengerId   8693 non-null   object \n",
      " 1   HomePlanet    8492 non-null   object \n",
      " 2   CryoSleep     8476 non-null   object \n",
      " 3   Cabin         8494 non-null   object \n",
      " 4   Destination   8511 non-null   object \n",
      " 5   Age           8514 non-null   float64\n",
      " 6   VIP           8490 non-null   object \n",
      " 7   RoomService   8512 non-null   float64\n",
      " 8   FoodCourt     8510 non-null   float64\n",
      " 9   ShoppingMall  8485 non-null   float64\n",
      " 10  Spa           8510 non-null   float64\n",
      " 11  VRDeck        8505 non-null   float64\n",
      " 12  Name          8493 non-null   object \n",
      " 13  Transported   8693 non-null   bool   \n",
      "dtypes: bool(1), float64(6), object(7)\n",
      "memory usage: 891.5+ KB\n",
      "\n",
      "\u001b[36m====== Test Set ======\u001b[0m\n",
      "<class 'pandas.core.frame.DataFrame'>\n",
      "RangeIndex: 4277 entries, 0 to 4276\n",
      "Data columns (total 13 columns):\n",
      " #   Column        Non-Null Count  Dtype  \n",
      "---  ------        --------------  -----  \n",
      " 0   PassengerId   4277 non-null   object \n",
      " 1   HomePlanet    4190 non-null   object \n",
      " 2   CryoSleep     4184 non-null   object \n",
      " 3   Cabin         4177 non-null   object \n",
      " 4   Destination   4185 non-null   object \n",
      " 5   Age           4186 non-null   float64\n",
      " 6   VIP           4184 non-null   object \n",
      " 7   RoomService   4195 non-null   float64\n",
      " 8   FoodCourt     4171 non-null   float64\n",
      " 9   ShoppingMall  4179 non-null   float64\n",
      " 10  Spa           4176 non-null   float64\n",
      " 11  VRDeck        4197 non-null   float64\n",
      " 12  Name          4183 non-null   object \n",
      "dtypes: float64(6), object(7)\n",
      "memory usage: 434.5+ KB\n"
     ]
    }
   ],
   "source": [
    "print(f\"{Fore.MAGENTA}DataFrame Info:{Style.RESET_ALL}\")\n",
    "for df in dm.train_test_dfs:\n",
    "    print(f\"\\n{Fore.CYAN}====== {df.name} ======{Style.RESET_ALL}\")\n",
    "    df.info()"
   ]
  },
  {
   "cell_type": "code",
   "execution_count": 1511,
   "id": "6a67c9f3",
   "metadata": {
    "execution": {
     "iopub.execute_input": "2025-07-30T17:25:46.903781Z",
     "iopub.status.busy": "2025-07-30T17:25:46.903438Z",
     "iopub.status.idle": "2025-07-30T17:25:46.947232Z",
     "shell.execute_reply": "2025-07-30T17:25:46.945962Z"
    },
    "papermill": {
     "duration": 0.052223,
     "end_time": "2025-07-30T17:25:46.949100",
     "exception": false,
     "start_time": "2025-07-30T17:25:46.896877",
     "status": "completed"
    },
    "tags": []
   },
   "outputs": [
    {
     "name": "stdout",
     "output_type": "stream",
     "text": [
      "\u001b[32mDataFrame Description:\u001b[0m\n",
      "\n",
      "\u001b[36m====== Training Set ======\u001b[0m\n",
      "       PassengerId HomePlanet CryoSleep    Cabin  Destination          Age    VIP   RoomService  \\\n",
      "count         8693       8492      8476     8494         8511  8514.000000   8490   8512.000000   \n",
      "unique        8693          3         2     6560            3          NaN      2           NaN   \n",
      "top        0001_01      Earth     False  G/734/S  TRAPPIST-1e          NaN  False           NaN   \n",
      "freq             1       4602      5439        8         5915          NaN   8291           NaN   \n",
      "mean           NaN        NaN       NaN      NaN          NaN    28.827930    NaN    224.687617   \n",
      "std            NaN        NaN       NaN      NaN          NaN    14.489021    NaN    666.717663   \n",
      "min            NaN        NaN       NaN      NaN          NaN     0.000000    NaN      0.000000   \n",
      "25%            NaN        NaN       NaN      NaN          NaN    19.000000    NaN      0.000000   \n",
      "50%            NaN        NaN       NaN      NaN          NaN    27.000000    NaN      0.000000   \n",
      "75%            NaN        NaN       NaN      NaN          NaN    38.000000    NaN     47.000000   \n",
      "max            NaN        NaN       NaN      NaN          NaN    79.000000    NaN  14327.000000   \n",
      "\n",
      "           FoodCourt  ShoppingMall           Spa        VRDeck         Name Transported  \n",
      "count    8510.000000   8485.000000   8510.000000   8505.000000         8493        8693  \n",
      "unique           NaN           NaN           NaN           NaN         8473           2  \n",
      "top              NaN           NaN           NaN           NaN  Anton Woody        True  \n",
      "freq             NaN           NaN           NaN           NaN            2        4378  \n",
      "mean      458.077203    173.729169    311.138778    304.854791          NaN         NaN  \n",
      "std      1611.489240    604.696458   1136.705535   1145.717189          NaN         NaN  \n",
      "min         0.000000      0.000000      0.000000      0.000000          NaN         NaN  \n",
      "25%         0.000000      0.000000      0.000000      0.000000          NaN         NaN  \n",
      "50%         0.000000      0.000000      0.000000      0.000000          NaN         NaN  \n",
      "75%        76.000000     27.000000     59.000000     46.000000          NaN         NaN  \n",
      "max     29813.000000  23492.000000  22408.000000  24133.000000          NaN         NaN  \n",
      "\n",
      "\u001b[36m====== Test Set ======\u001b[0m\n",
      "       PassengerId HomePlanet CryoSleep    Cabin  Destination          Age    VIP   RoomService  \\\n",
      "count         4277       4190      4184     4177         4185  4186.000000   4184   4195.000000   \n",
      "unique        4277          3         2     3265            3          NaN      2           NaN   \n",
      "top        0013_01      Earth     False  G/160/P  TRAPPIST-1e          NaN  False           NaN   \n",
      "freq             1       2263      2640        8         2956          NaN   4110           NaN   \n",
      "mean           NaN        NaN       NaN      NaN          NaN    28.658146    NaN    219.266269   \n",
      "std            NaN        NaN       NaN      NaN          NaN    14.179072    NaN    607.011289   \n",
      "min            NaN        NaN       NaN      NaN          NaN     0.000000    NaN      0.000000   \n",
      "25%            NaN        NaN       NaN      NaN          NaN    19.000000    NaN      0.000000   \n",
      "50%            NaN        NaN       NaN      NaN          NaN    26.000000    NaN      0.000000   \n",
      "75%            NaN        NaN       NaN      NaN          NaN    37.000000    NaN     53.000000   \n",
      "max            NaN        NaN       NaN      NaN          NaN    79.000000    NaN  11567.000000   \n",
      "\n",
      "           FoodCourt  ShoppingMall           Spa        VRDeck              Name  \n",
      "count    4171.000000   4179.000000   4176.000000   4197.000000              4183  \n",
      "unique           NaN           NaN           NaN           NaN              4176  \n",
      "top              NaN           NaN           NaN           NaN  Lyney Sellahaney  \n",
      "freq             NaN           NaN           NaN           NaN                 2  \n",
      "mean      439.484296    177.295525    303.052443    310.710031               NaN  \n",
      "std      1527.663045    560.821123   1117.186015   1246.994742               NaN  \n",
      "min         0.000000      0.000000      0.000000      0.000000               NaN  \n",
      "25%         0.000000      0.000000      0.000000      0.000000               NaN  \n",
      "50%         0.000000      0.000000      0.000000      0.000000               NaN  \n",
      "75%        78.000000     33.000000     50.000000     36.000000               NaN  \n",
      "max     25273.000000   8292.000000  19844.000000  22272.000000               NaN  \n"
     ]
    }
   ],
   "source": [
    "print(f\"{Fore.GREEN}DataFrame Description:{Style.RESET_ALL}\")\n",
    "for df in dm.train_test_dfs:\n",
    "    print(f\"\\n{Fore.CYAN}====== {df.name} ======{Style.RESET_ALL}\")\n",
    "    print(df.describe(include=\"all\"))"
   ]
  },
  {
   "cell_type": "code",
   "execution_count": 1512,
   "id": "89b23743",
   "metadata": {
    "execution": {
     "iopub.execute_input": "2025-07-30T17:25:46.962538Z",
     "iopub.status.busy": "2025-07-30T17:25:46.961617Z",
     "iopub.status.idle": "2025-07-30T17:25:46.970801Z",
     "shell.execute_reply": "2025-07-30T17:25:46.969822Z"
    },
    "papermill": {
     "duration": 0.017265,
     "end_time": "2025-07-30T17:25:46.972228",
     "exception": false,
     "start_time": "2025-07-30T17:25:46.954963",
     "status": "completed"
    },
    "tags": []
   },
   "outputs": [
    {
     "name": "stdout",
     "output_type": "stream",
     "text": [
      "\u001b[33mFirst Rows of DataFrame:\u001b[0m\n",
      "\n",
      "\u001b[36m====== Training Set ======\u001b[0m\n",
      "  PassengerId HomePlanet CryoSleep  Cabin  Destination   Age    VIP  RoomService  FoodCourt  \\\n",
      "0     0001_01     Europa     False  B/0/P  TRAPPIST-1e  39.0  False          0.0        0.0   \n",
      "1     0002_01      Earth     False  F/0/S  TRAPPIST-1e  24.0  False        109.0        9.0   \n",
      "2     0003_01     Europa     False  A/0/S  TRAPPIST-1e  58.0   True         43.0     3576.0   \n",
      "3     0003_02     Europa     False  A/0/S  TRAPPIST-1e  33.0  False          0.0     1283.0   \n",
      "4     0004_01      Earth     False  F/1/S  TRAPPIST-1e  16.0  False        303.0       70.0   \n",
      "\n",
      "   ShoppingMall     Spa  VRDeck               Name  Transported  \n",
      "0           0.0     0.0     0.0    Maham Ofracculy        False  \n",
      "1          25.0   549.0    44.0       Juanna Vines         True  \n",
      "2           0.0  6715.0    49.0      Altark Susent        False  \n",
      "3         371.0  3329.0   193.0       Solam Susent        False  \n",
      "4         151.0   565.0     2.0  Willy Santantines         True  \n",
      "\n",
      "\u001b[36m====== Test Set ======\u001b[0m\n",
      "  PassengerId HomePlanet CryoSleep  Cabin  Destination   Age    VIP  RoomService  FoodCourt  \\\n",
      "0     0013_01      Earth      True  G/3/S  TRAPPIST-1e  27.0  False          0.0        0.0   \n",
      "1     0018_01      Earth     False  F/4/S  TRAPPIST-1e  19.0  False          0.0        9.0   \n",
      "2     0019_01     Europa      True  C/0/S  55 Cancri e  31.0  False          0.0        0.0   \n",
      "3     0021_01     Europa     False  C/1/S  TRAPPIST-1e  38.0  False          0.0     6652.0   \n",
      "4     0023_01      Earth     False  F/5/S  TRAPPIST-1e  20.0  False         10.0        0.0   \n",
      "\n",
      "   ShoppingMall     Spa  VRDeck              Name  \n",
      "0           0.0     0.0     0.0   Nelly Carsoning  \n",
      "1           0.0  2823.0     0.0    Lerome Peckers  \n",
      "2           0.0     0.0     0.0   Sabih Unhearfus  \n",
      "3           0.0   181.0   585.0  Meratz Caltilter  \n",
      "4         635.0     0.0     0.0   Brence Harperez  \n"
     ]
    }
   ],
   "source": [
    "print(f\"{Fore.YELLOW}First Rows of DataFrame:{Style.RESET_ALL}\")\n",
    "for df in dm.train_test_dfs:\n",
    "    print(f\"\\n{Fore.CYAN}====== {df.name} ======{Style.RESET_ALL}\")\n",
    "    print(df.head())"
   ]
  },
  {
   "cell_type": "code",
   "execution_count": 1513,
   "id": "8e5ce496",
   "metadata": {
    "execution": {
     "iopub.execute_input": "2025-07-30T17:25:46.984718Z",
     "iopub.status.busy": "2025-07-30T17:25:46.984413Z",
     "iopub.status.idle": "2025-07-30T17:25:46.991105Z",
     "shell.execute_reply": "2025-07-30T17:25:46.990082Z"
    },
    "papermill": {
     "duration": 0.014554,
     "end_time": "2025-07-30T17:25:46.992540",
     "exception": false,
     "start_time": "2025-07-30T17:25:46.977986",
     "status": "completed"
    },
    "tags": []
   },
   "outputs": [
    {
     "name": "stdout",
     "output_type": "stream",
     "text": [
      "\u001b[31mMissing Values in Each Column:\u001b[0m\n",
      "\n",
      "\u001b[36m====== Training Set ======\u001b[0m\n",
      "              Missing Count  Missing %\n",
      "PassengerId               0   0.000000\n",
      "HomePlanet              201   2.312205\n",
      "CryoSleep               217   2.496261\n",
      "Cabin                   199   2.289198\n",
      "Destination             182   2.093639\n",
      "Age                     179   2.059128\n",
      "VIP                     203   2.335212\n",
      "RoomService             181   2.082135\n",
      "FoodCourt               183   2.105142\n",
      "ShoppingMall            208   2.392730\n",
      "Spa                     183   2.105142\n",
      "VRDeck                  188   2.162660\n",
      "Name                    200   2.300702\n",
      "Transported               0   0.000000\n",
      "\n",
      "\u001b[36m====== Test Set ======\u001b[0m\n",
      "              Missing Count  Missing %\n",
      "PassengerId               0   0.000000\n",
      "HomePlanet               87   2.034136\n",
      "CryoSleep                93   2.174421\n",
      "Cabin                   100   2.338087\n",
      "Destination              92   2.151040\n",
      "Age                      91   2.127660\n",
      "VIP                      93   2.174421\n",
      "RoomService              82   1.917232\n",
      "FoodCourt               106   2.478373\n",
      "ShoppingMall             98   2.291326\n",
      "Spa                     101   2.361468\n",
      "VRDeck                   80   1.870470\n",
      "Name                     94   2.197802\n"
     ]
    }
   ],
   "source": [
    "print(f\"{Fore.RED}Missing Values in Each Column:{Style.RESET_ALL}\")\n",
    "for df in dm.train_test_dfs:\n",
    "    print(f\"\\n{Fore.CYAN}====== {df.name} ======{Style.RESET_ALL}\")\n",
    "    missing = df.isnull().sum()\n",
    "    missing_percent = (missing / len(df)) * 100\n",
    "    missing_df = pd.DataFrame({\"Missing Count\": missing, \"Missing %\": missing_percent})\n",
    "    print(missing_df)"
   ]
  },
  {
   "cell_type": "markdown",
   "id": "d1ae0e47",
   "metadata": {
    "papermill": {
     "duration": 0.005642,
     "end_time": "2025-07-30T17:25:47.017203",
     "exception": false,
     "start_time": "2025-07-30T17:25:47.011561",
     "status": "completed"
    },
    "tags": []
   },
   "source": [
    "## 🧹 Feature Engineering"
   ]
  },
  {
   "cell_type": "markdown",
   "id": "b5c1274a",
   "metadata": {},
   "source": [
    "#### 🆔 Group and Family Features"
   ]
  },
  {
   "cell_type": "code",
   "execution_count": 1514,
   "id": "fde42711",
   "metadata": {},
   "outputs": [],
   "source": [
    "dm.combined_df[\"GroupId\"] = dm.combined_df[\"PassengerId\"].str.split(\"_\").str[0]\n",
    "\n",
    "group_sizes = (\n",
    "    dm.combined_df[\"PassengerId\"]\n",
    "    .str.split(\"_\")\n",
    "    .str[1]\n",
    "    .astype(int)\n",
    "    .groupby(dm.combined_df[\"GroupId\"])\n",
    "    .max()\n",
    ")\n",
    "\n",
    "dm.combined_df[\"GroupSize\"] = dm.combined_df[\"GroupId\"].map(group_sizes)"
   ]
  },
  {
   "cell_type": "code",
   "execution_count": 1515,
   "id": "8991c857",
   "metadata": {},
   "outputs": [],
   "source": [
    "dm.combined_df[\"Name_missing\"] = dm.combined_df[\"Name\"].isna().astype(int)\n",
    "dm.combined_df[\"Name\"] = dm.combined_df[\"Name\"].fillna(\"Unknown\")\n",
    "dm.combined_df[\"Surname\"] = dm.combined_df[\"Name\"].str.split(\" \").str[-1]\n",
    "dm.combined_df[\"Surname\"] = dm.combined_df[\"Surname\"].fillna(\"Unknown\")\n",
    "dm.combined_df[\"WithFamily\"] = (\n",
    "    dm.combined_df[\"GroupId\"]\n",
    "    .map(dm.combined_df.groupby(\"GroupId\")[\"Surname\"].nunique() == 1)\n",
    "    .astype(int)\n",
    ")\n",
    "dm.combined_df[\"IsAlone\"] = (dm.combined_df[\"GroupSize\"] == 1).astype(int)"
   ]
  },
  {
   "cell_type": "markdown",
   "id": "2da238b8",
   "metadata": {},
   "source": [
    "#### 🛳️ Cabin Features"
   ]
  },
  {
   "cell_type": "code",
   "execution_count": 1516,
   "id": "3757e558",
   "metadata": {},
   "outputs": [],
   "source": [
    "cabin_data = dm.combined_df[\"Cabin\"].apply(\n",
    "    lambda s: s.split(\"/\") if pd.notnull(s) and isinstance(s, str) else [\"N\", \"N\", \"N\"]\n",
    ")\n",
    "\n",
    "dm.combined_df[\"CabinDeck\"] = cabin_data.apply(lambda s: s[0])\n",
    "dm.combined_df[\"CabinNum\"] = cabin_data.apply(lambda s: s[1])\n",
    "dm.combined_df[\"CabinSide\"] = cabin_data.apply(lambda s: s[2])\n",
    "dm.combined_df[\"Cabin_missing\"] = dm.combined_df[\"Cabin\"].isna().astype(int)"
   ]
  },
  {
   "cell_type": "markdown",
   "id": "48d9bbab",
   "metadata": {},
   "source": [
    "#### ❄️ CryoSleep and Related Features"
   ]
  },
  {
   "cell_type": "code",
   "execution_count": 1517,
   "id": "bf6a24ce",
   "metadata": {},
   "outputs": [],
   "source": [
    "dm.combined_df[\"CryoSleep\"] = dm.combined_df[\"CryoSleep\"].fillna(0).astype(int)\n",
    "dm.combined_df.loc[\n",
    "    dm.combined_df[\"CryoSleep\"] == 1,\n",
    "    [\"RoomService\", \"FoodCourt\", \"ShoppingMall\", \"Spa\", \"VRDeck\"],\n",
    "] = dm.combined_df.loc[\n",
    "    dm.combined_df[\"CryoSleep\"] == 1,\n",
    "    [\"RoomService\", \"FoodCourt\", \"ShoppingMall\", \"Spa\", \"VRDeck\"],\n",
    "].fillna(\n",
    "    0\n",
    ")"
   ]
  },
  {
   "cell_type": "markdown",
   "id": "a55b332d",
   "metadata": {},
   "source": [
    "#### 💸 Spending Features"
   ]
  },
  {
   "cell_type": "code",
   "execution_count": 1518,
   "id": "a62fff7b",
   "metadata": {},
   "outputs": [],
   "source": [
    "dm.combined_df[\"TotalSpend\"] = dm.combined_df[\n",
    "    [\"RoomService\", \"FoodCourt\", \"ShoppingMall\", \"Spa\", \"VRDeck\"]\n",
    "].sum(axis=1)\n",
    "dm.combined_df[\"IsVipAndHighSpender\"] = (\n",
    "    dm.combined_df[\"VIP\"]\n",
    "    & (dm.combined_df[\"TotalSpend\"] > dm.combined_df[\"TotalSpend\"].median())\n",
    ").astype(int)\n",
    "dm.combined_df[\"GroupTotalSpend\"] = dm.combined_df.groupby(\"GroupId\")[\n",
    "    \"TotalSpend\"\n",
    "].transform(\"sum\")"
   ]
  },
  {
   "cell_type": "markdown",
   "id": "b48879d0",
   "metadata": {},
   "source": [
    "#### 🌍 HomePlanet и Destination"
   ]
  },
  {
   "cell_type": "code",
   "execution_count": 1519,
   "id": "be41fdc6",
   "metadata": {},
   "outputs": [],
   "source": [
    "dm.combined_df[\"HomePlanet_missing\"] = dm.combined_df[\"HomePlanet\"].isna().astype(int)\n",
    "home_planet_mode = dm.combined_df[\"HomePlanet\"].mode()[0]\n",
    "dm.combined_df[\"HomePlanet\"] = dm.combined_df.groupby(\"GroupId\")[\n",
    "    \"HomePlanet\"\n",
    "].transform(\n",
    "    lambda x: x.fillna(x.mode().iloc[0] if not x.mode().empty else home_planet_mode)\n",
    ")\n",
    "\n",
    "dm.combined_df[\"Destination_missing\"] = dm.combined_df[\"Destination\"].isna().astype(int)\n",
    "destination_mode = dm.combined_df[\"Destination\"].mode()[0]\n",
    "dm.combined_df[\"Destination\"] = dm.combined_df.groupby(\"GroupId\")[\n",
    "    \"Destination\"\n",
    "].transform(\n",
    "    lambda x: x.fillna(x.mode().iloc[0] if not x.mode().empty else destination_mode)\n",
    ")"
   ]
  },
  {
   "cell_type": "markdown",
   "id": "110ffe88",
   "metadata": {},
   "source": [
    "#### 🎂 Age and Missing Value Handling"
   ]
  },
  {
   "cell_type": "code",
   "execution_count": 1520,
   "id": "fdd7f124",
   "metadata": {},
   "outputs": [],
   "source": [
    "dm.combined_df[\"Age_missing\"] = dm.combined_df[\"Age\"].isna().astype(int)\n",
    "dm.combined_df[\"Age\"] = dm.combined_df[\"Age\"].fillna(dm.combined_df[\"Age\"].median())\n",
    "dm.combined_df[\"Age\"] = pd.qcut(dm.combined_df[\"Age\"], 10)\n",
    "\n",
    "dm.combined_df[\"RoomService_missing\"] = dm.combined_df[\"RoomService\"].isna().astype(int)\n",
    "dm.combined_df[\"RoomService\"] = dm.combined_df[\"RoomService\"].fillna(\n",
    "    dm.combined_df[\"RoomService\"].median()\n",
    ")\n",
    "\n",
    "dm.combined_df[\"FoodCourt_missing\"] = dm.combined_df[\"FoodCourt\"].isna().astype(int)\n",
    "dm.combined_df[\"FoodCourt\"] = dm.combined_df[\"FoodCourt\"].fillna(\n",
    "    dm.combined_df[\"FoodCourt\"].median()\n",
    ")\n",
    "\n",
    "dm.combined_df[\"ShoppingMall_missing\"] = (\n",
    "    dm.combined_df[\"ShoppingMall\"].isna().astype(int)\n",
    ")\n",
    "dm.combined_df[\"ShoppingMall\"] = dm.combined_df[\"ShoppingMall\"].fillna(\n",
    "    dm.combined_df[\"ShoppingMall\"].median()\n",
    ")\n",
    "\n",
    "dm.combined_df[\"Spa_missing\"] = dm.combined_df[\"Spa\"].isna().astype(int)\n",
    "dm.combined_df[\"Spa\"] = dm.combined_df[\"Spa\"].fillna(dm.combined_df[\"Spa\"].median())\n",
    "\n",
    "dm.combined_df[\"VRDeck_missing\"] = dm.combined_df[\"VRDeck\"].isna().astype(int)\n",
    "dm.combined_df[\"VRDeck\"] = dm.combined_df[\"VRDeck\"].fillna(\n",
    "    dm.combined_df[\"VRDeck\"].median()\n",
    ")\n",
    "\n",
    "dm.combined_df[\"VIP_missing\"] = dm.combined_df[\"VIP\"].isna().astype(int)\n",
    "dm.combined_df[\"VIP\"] = (\n",
    "    dm.combined_df[\"VIP\"].fillna(dm.combined_df[\"VIP\"].median()).astype(int)\n",
    ")"
   ]
  },
  {
   "cell_type": "markdown",
   "id": "1f1886a4",
   "metadata": {},
   "source": [
    "#### 🔢 Label Encoding"
   ]
  },
  {
   "cell_type": "code",
   "execution_count": 1521,
   "id": "ec16b986",
   "metadata": {},
   "outputs": [],
   "source": [
    "non_numeric_features = [\n",
    "    \"Transported\",\n",
    "    \"HomePlanet\",\n",
    "    \"Destination\",\n",
    "    \"Age\",\n",
    "    \"GroupId\",\n",
    "    \"Surname\",\n",
    "    \"CabinDeck\",\n",
    "    \"CabinNum\",\n",
    "    \"CabinSide\",\n",
    "]\n",
    "\n",
    "le = LabelEncoder()\n",
    "\n",
    "for feature in non_numeric_features:\n",
    "    dm.combined_df[feature] = le.fit_transform(dm.combined_df[feature])"
   ]
  },
  {
   "cell_type": "markdown",
   "id": "c3571442",
   "metadata": {},
   "source": [
    "---"
   ]
  },
  {
   "cell_type": "code",
   "execution_count": 1522,
   "id": "b71e3661",
   "metadata": {},
   "outputs": [],
   "source": [
    "dm.combined_df = dm.combined_df.drop(columns=[\"Name\", \"Cabin\"])"
   ]
  },
  {
   "cell_type": "code",
   "execution_count": 1523,
   "id": "d5442f33",
   "metadata": {},
   "outputs": [
    {
     "name": "stdout",
     "output_type": "stream",
     "text": [
      "\u001b[31mMissing Values in Each Column:\u001b[0m\n",
      "\n",
      "\u001b[36m====== Training Set ======\u001b[0m\n",
      "PassengerId             0\n",
      "HomePlanet              0\n",
      "CryoSleep               0\n",
      "Destination             0\n",
      "Age                     0\n",
      "VIP                     0\n",
      "RoomService             0\n",
      "FoodCourt               0\n",
      "ShoppingMall            0\n",
      "Spa                     0\n",
      "VRDeck                  0\n",
      "Transported             0\n",
      "GroupId                 0\n",
      "GroupSize               0\n",
      "Name_missing            0\n",
      "Surname                 0\n",
      "WithFamily              0\n",
      "IsAlone                 0\n",
      "CabinDeck               0\n",
      "CabinNum                0\n",
      "CabinSide               0\n",
      "Cabin_missing           0\n",
      "TotalSpend              0\n",
      "IsVipAndHighSpender     0\n",
      "GroupTotalSpend         0\n",
      "HomePlanet_missing      0\n",
      "Destination_missing     0\n",
      "Age_missing             0\n",
      "RoomService_missing     0\n",
      "FoodCourt_missing       0\n",
      "ShoppingMall_missing    0\n",
      "Spa_missing             0\n",
      "VRDeck_missing          0\n",
      "VIP_missing             0\n",
      "dtype: int64\n",
      "\n",
      "\u001b[36m====== Test Set ======\u001b[0m\n",
      "PassengerId             0\n",
      "HomePlanet              0\n",
      "CryoSleep               0\n",
      "Destination             0\n",
      "Age                     0\n",
      "VIP                     0\n",
      "RoomService             0\n",
      "FoodCourt               0\n",
      "ShoppingMall            0\n",
      "Spa                     0\n",
      "VRDeck                  0\n",
      "GroupId                 0\n",
      "GroupSize               0\n",
      "Name_missing            0\n",
      "Surname                 0\n",
      "WithFamily              0\n",
      "IsAlone                 0\n",
      "CabinDeck               0\n",
      "CabinNum                0\n",
      "CabinSide               0\n",
      "Cabin_missing           0\n",
      "TotalSpend              0\n",
      "IsVipAndHighSpender     0\n",
      "GroupTotalSpend         0\n",
      "HomePlanet_missing      0\n",
      "Destination_missing     0\n",
      "Age_missing             0\n",
      "RoomService_missing     0\n",
      "FoodCourt_missing       0\n",
      "ShoppingMall_missing    0\n",
      "Spa_missing             0\n",
      "VRDeck_missing          0\n",
      "VIP_missing             0\n",
      "dtype: int64\n"
     ]
    }
   ],
   "source": [
    "print(f\"{Fore.RED}Missing Values in Each Column:{Style.RESET_ALL}\")\n",
    "for df in dm.train_test_dfs:\n",
    "    print(f\"\\n{Fore.CYAN}====== {df.name} ======{Style.RESET_ALL}\")\n",
    "    print(df.isnull().sum())"
   ]
  },
  {
   "cell_type": "markdown",
   "id": "af306126",
   "metadata": {
    "papermill": {
     "duration": 0.005455,
     "end_time": "2025-07-30T17:25:47.431948",
     "exception": false,
     "start_time": "2025-07-30T17:25:47.426493",
     "status": "completed"
    },
    "tags": []
   },
   "source": [
    "## 📊 Exploratory Data Visualizations"
   ]
  },
  {
   "cell_type": "markdown",
   "id": "1a12b38b",
   "metadata": {},
   "source": [
    "#### 💀 General Survival Analysis"
   ]
  },
  {
   "cell_type": "code",
   "execution_count": 1524,
   "id": "31d992c8",
   "metadata": {},
   "outputs": [
    {
     "data": {
      "image/png": "[encoded data removed]",
      "text/plain": [
       "<Figure size 640x480 with 1 Axes>"
      ]
     },
     "metadata": {},
     "output_type": "display_data"
    }
   ],
   "source": [
    "sns.countplot(x=\"Transported\", data=dm.train_df, hue=\"Transported\", palette=\"Set2\")\n",
    "plt.title(\"Distribution of Transported and Non-Transported\")\n",
    "plt.xlabel(\"Transported\")\n",
    "plt.ylabel(\"Count\")\n",
    "plt.xticks(ticks=[0, 1], labels=[\"No\", \"Yes\"])\n",
    "plt.legend(title=\"Transported Status\", labels=[\"Not Transported\", \"Transported\"])\n",
    "plt.tight_layout()\n",
    "plt.show()"
   ]
  },
  {
   "cell_type": "markdown",
   "id": "86138394",
   "metadata": {},
   "source": [
    "#### 🔗 Feature Correlation Matrix"
   ]
  },
  {
   "cell_type": "code",
   "execution_count": 1525,
   "id": "28430d18",
   "metadata": {},
   "outputs": [
    {
     "data": {
      "image/png": "[encoded data removed]",
      "text/plain": [
       "<Figure size 2000x1600 with 2 Axes>"
      ]
     },
     "metadata": {},
     "output_type": "display_data"
    }
   ],
   "source": [
    "corr = dm.combined_df.corr()\n",
    "plt.figure(figsize=(20, 16))\n",
    "sns.heatmap(corr, annot=True, fmt=\".2f\", cmap=\"coolwarm\", square=True, linewidths=0.5)\n",
    "plt.title(\"Feature correlation\")\n",
    "plt.show()"
   ]
  },
  {
   "cell_type": "markdown",
   "id": "827dc734",
   "metadata": {},
   "source": [
    "#### 💰 Passenger Wealth vs Transport Status"
   ]
  },
  {
   "cell_type": "code",
   "execution_count": 1526,
   "id": "df98297e",
   "metadata": {},
   "outputs": [
    {
     "data": {
      "image/png": "[encoded data removed]",
      "text/plain": [
       "<Figure size 1200x1200 with 6 Axes>"
      ]
     },
     "metadata": {},
     "output_type": "display_data"
    }
   ],
   "source": [
    "palette = \"Set2\"\n",
    "\n",
    "fig = plt.figure(figsize=(12, 12))\n",
    "fig.suptitle(\"Passenger Wealth and Transport Status Analysis\", fontweight=\"bold\")\n",
    "\n",
    "ax1 = plt.subplot2grid((3, 2), (0, 0))\n",
    "sns.countplot(x=\"VIP\", hue=\"Transported\", data=dm.train_df, ax=ax1, palette=palette)\n",
    "ax1.set_title(\"Transported by VIP\")\n",
    "ax1.set_xticks(ticks=[0, 1], labels=[\"Standard\", \"VIP\"])\n",
    "ax1.legend(title=\"Transported Status\", labels=[\"Not Transported\", \"Transported\"])\n",
    "\n",
    "ax2 = plt.subplot2grid((3, 2), (0, 1))\n",
    "sns.countplot(x=\"CryoSleep\", hue=\"Transported\", data=dm.train_df, ax=ax2, palette=palette)\n",
    "ax2.set_title(\"Transported by CryoSleep\")\n",
    "ax2.set_xticks(ticks=[0, 1], labels=[\"No\", \"Yes\"])\n",
    "ax2.legend(title=\"Transported Status\", labels=[\"Not Transported\", \"Transported\"])\n",
    "\n",
    "ax3 = plt.subplot2grid((3, 2), (1, 0))\n",
    "sns.countplot(x=\"HomePlanet\", hue=\"Transported\", data=dm.train_df, ax=ax3, palette=palette)\n",
    "ax3.set_title(\"Transported by Home Planet\")\n",
    "ax3.legend(title=\"Transported Status\", labels=[\"Not Transported\", \"Transported\"])\n",
    "\n",
    "ax4 = plt.subplot2grid((3, 2), (1, 1))\n",
    "sns.countplot(x=\"Destination\", hue=\"Transported\", data=dm.train_df, ax=ax4, palette=palette)\n",
    "ax4.set_title(\"Transported by Destination\")\n",
    "ax4.legend(title=\"Transported Status\", labels=[\"Not Transported\", \"Transported\"])\n",
    "\n",
    "ax3 = plt.subplot2grid((3, 2), (2, 0))\n",
    "sns.countplot(x=\"Age\", hue=\"Transported\", data=dm.train_df, ax=ax3, palette=palette)\n",
    "ax3.set_title(\"Age Distribution by Transported\")\n",
    "ax3.legend(title=\"Transported Status\", labels=[\"Not Transported\", \"Transported\"])\n",
    "\n",
    "ax4 = plt.subplot2grid((3, 2), (2, 1))\n",
    "sns.countplot(x=\"GroupSize\", hue=\"Transported\", data=dm.train_df, ax=ax4, palette=palette)\n",
    "ax4.set_title(\"Transported by Traveling Group\")\n",
    "ax4.legend(title=\"Transported Status\", labels=[\"Not Transported\", \"Transported\"])\n",
    "\n",
    "plt.tight_layout()\n",
    "plt.show()"
   ]
  },
  {
   "cell_type": "markdown",
   "id": "df2e94a2",
   "metadata": {
    "papermill": {
     "duration": 0.011751,
     "end_time": "2025-07-30T17:25:49.879213",
     "exception": false,
     "start_time": "2025-07-30T17:25:49.867462",
     "status": "completed"
    },
    "tags": []
   },
   "source": [
    "## 🧪 Model Training"
   ]
  },
  {
   "cell_type": "code",
   "execution_count": 1527,
   "id": "e37b887d",
   "metadata": {},
   "outputs": [],
   "source": [
    "features = [\n",
    "    \"HomePlanet\",\n",
    "    \"CryoSleep\",\n",
    "    \"Destination\",\n",
    "    \"Age\",\n",
    "    \"VIP\",\n",
    "    \"RoomService\",\n",
    "    \"FoodCourt\",\n",
    "    \"ShoppingMall\",\n",
    "    \"Spa\",\n",
    "    \"VRDeck\",\n",
    "    \"GroupId\",\n",
    "    \"GroupSize\",\n",
    "    \"Name_missing\",\n",
    "    \"Surname\",\n",
    "    \"WithFamily\",\n",
    "    \"IsAlone\",\n",
    "    \"CabinDeck\",\n",
    "    \"CabinNum\",\n",
    "    \"CabinSide\",\n",
    "    \"Cabin_missing\",\n",
    "    \"TotalSpend\",\n",
    "    \"IsVipAndHighSpender\",\n",
    "    \"GroupTotalSpend\",\n",
    "    \"HomePlanet_missing\",\n",
    "    \"Destination_missing\",\n",
    "    \"Age_missing\",\n",
    "    \"RoomService_missing\",\n",
    "    \"FoodCourt_missing\",\n",
    "    \"ShoppingMall_missing\",\n",
    "    \"Spa_missing\",\n",
    "    \"VRDeck_missing\",\n",
    "    \"VIP_missing\",\n",
    "]\n",
    "\n",
    "X, y = dm.train_df[features], dm.train_df[\"Transported\"]\n",
    "\n",
    "X_train, X_valid, y_train, y_valid = train_test_split(\n",
    "    X, y, test_size=0.2, random_state=42\n",
    ")"
   ]
  },
  {
   "cell_type": "code",
   "execution_count": 1528,
   "id": "705b47f8",
   "metadata": {},
   "outputs": [
    {
     "name": "stderr",
     "output_type": "stream",
     "text": [
      "[I 2025-08-02 13:52:21,805] A new study created in memory with name: xgb\n",
      "[I 2025-08-02 13:52:24,106] Trial 0 finished with value: 0.8911946169772257 and parameters: {'n_estimators': 118, 'max_depth': 12, 'learning_rate': 0.1205712628744377, 'subsample': 0.7993292420985183, 'colsample_bytree': 0.5780093202212182}. Best is trial 0 with value: 0.8911946169772257.\n",
      "[I 2025-08-02 13:52:24,409] Trial 1 finished with value: 0.8961908207566675 and parameters: {'n_estimators': 55, 'max_depth': 3, 'learning_rate': 0.19030368381735815, 'subsample': 0.8005575058716043, 'colsample_bytree': 0.8540362888980227}. Best is trial 1 with value: 0.8961908207566675.\n",
      "[I 2025-08-02 13:52:24,947] Trial 2 finished with value: 0.8795217391304347 and parameters: {'n_estimators': 15, 'max_depth': 12, 'learning_rate': 0.16967533607196555, 'subsample': 0.6061695553391381, 'colsample_bytree': 0.5909124836035503}. Best is trial 1 with value: 0.8961908207566675.\n",
      "[I 2025-08-02 13:52:25,498] Trial 3 finished with value: 0.9009989648033128 and parameters: {'n_estimators': 63, 'max_depth': 6, 'learning_rate': 0.05958389350068958, 'subsample': 0.7159725093210578, 'colsample_bytree': 0.645614570099021}. Best is trial 3 with value: 0.9009989648033128.\n",
      "[I 2025-08-02 13:52:26,452] Trial 4 finished with value: 0.8982148025635724 and parameters: {'n_estimators': 188, 'max_depth': 4, 'learning_rate': 0.027010527749605478, 'subsample': 0.6831809216468459, 'colsample_bytree': 0.728034992108518}. Best is trial 3 with value: 0.9009989648033128.\n",
      "[I 2025-08-02 13:52:27,504] Trial 5 finished with value: 0.8985734989648032 and parameters: {'n_estimators': 238, 'max_depth': 4, 'learning_rate': 0.05748924681991978, 'subsample': 0.7962072844310213, 'colsample_bytree': 0.5232252063599989}. Best is trial 3 with value: 0.9009989648033128.\n",
      "[I 2025-08-02 13:52:29,193] Trial 6 finished with value: 0.8895248447204969 and parameters: {'n_estimators': 186, 'max_depth': 4, 'learning_rate': 0.012476394272569451, 'subsample': 0.9744427686266666, 'colsample_bytree': 0.9828160165372797}. Best is trial 3 with value: 0.9009989648033128.\n",
      "[I 2025-08-02 13:52:31,861] Trial 7 finished with value: 0.8993291925465838 and parameters: {'n_estimators': 245, 'max_depth': 6, 'learning_rate': 0.013940346079873234, 'subsample': 0.8421165132560784, 'colsample_bytree': 0.7200762468698007}. Best is trial 3 with value: 0.9009989648033128.\n",
      "[I 2025-08-02 13:52:32,510] Trial 8 finished with value: 0.8909430641821946 and parameters: {'n_estimators': 45, 'max_depth': 7, 'learning_rate': 0.011240768803005551, 'subsample': 0.954660201039391, 'colsample_bytree': 0.6293899908000085}. Best is trial 3 with value: 0.9009989648033128.\n",
      "[I 2025-08-02 13:52:33,861] Trial 9 finished with value: 0.8999710144927536 and parameters: {'n_estimators': 202, 'max_depth': 6, 'learning_rate': 0.05864129169696527, 'subsample': 0.7733551396716398, 'colsample_bytree': 0.5924272277627636}. Best is trial 3 with value: 0.9009989648033128.\n",
      "[I 2025-08-02 13:52:35,891] Trial 10 finished with value: 0.8955403726708075 and parameters: {'n_estimators': 116, 'max_depth': 9, 'learning_rate': 0.030315725522749647, 'subsample': 0.5089809378074099, 'colsample_bytree': 0.8285618345363206}. Best is trial 3 with value: 0.9009989648033128.\n",
      "[I 2025-08-02 13:52:37,615] Trial 11 finished with value: 0.894975155279503 and parameters: {'n_estimators': 124, 'max_depth': 9, 'learning_rate': 0.06463513151371238, 'subsample': 0.6758580632546128, 'colsample_bytree': 0.6557853050977308}. Best is trial 3 with value: 0.9009989648033128.\n",
      "[I 2025-08-02 13:52:39,531] Trial 12 finished with value: 0.8920124223602484 and parameters: {'n_estimators': 295, 'max_depth': 6, 'learning_rate': 0.08787850607501549, 'subsample': 0.7020422619457936, 'colsample_bytree': 0.5157163028953773}. Best is trial 3 with value: 0.9009989648033128.\n",
      "[I 2025-08-02 13:52:40,775] Trial 13 finished with value: 0.8961821946169772 and parameters: {'n_estimators': 79, 'max_depth': 8, 'learning_rate': 0.03032430179630666, 'subsample': 0.9112320253004818, 'colsample_bytree': 0.6734824884035394}. Best is trial 3 with value: 0.9009989648033128.\n",
      "[I 2025-08-02 13:52:41,989] Trial 14 finished with value: 0.8988385093167701 and parameters: {'n_estimators': 170, 'max_depth': 6, 'learning_rate': 0.04252079435197325, 'subsample': 0.5653256167561652, 'colsample_bytree': 0.8138214726279749}. Best is trial 3 with value: 0.9009989648033128.\n",
      "[I 2025-08-02 13:52:44,282] Trial 15 finished with value: 0.8798966301426505 and parameters: {'n_estimators': 229, 'max_depth': 10, 'learning_rate': 0.29596284206078866, 'subsample': 0.7371958781938814, 'colsample_bytree': 0.5778918965965927}. Best is trial 3 with value: 0.9009989648033128.\n",
      "[I 2025-08-02 13:52:45,120] Trial 16 finished with value: 0.8953695652173913 and parameters: {'n_estimators': 137, 'max_depth': 5, 'learning_rate': 0.08719209000999652, 'subsample': 0.6245147522729849, 'colsample_bytree': 0.7571327698524933}. Best is trial 3 with value: 0.9009989648033128.\n",
      "[I 2025-08-02 13:52:46,197] Trial 17 finished with value: 0.8936790890269151 and parameters: {'n_estimators': 87, 'max_depth': 8, 'learning_rate': 0.019673534721787515, 'subsample': 0.850793964729089, 'colsample_bytree': 0.680371010605396}. Best is trial 3 with value: 0.9009989648033128.\n",
      "[I 2025-08-02 13:52:47,981] Trial 18 finished with value: 0.8962277432712216 and parameters: {'n_estimators': 209, 'max_depth': 7, 'learning_rate': 0.04104975015072629, 'subsample': 0.7439903301531757, 'colsample_bytree': 0.9102361265933461}. Best is trial 3 with value: 0.9009989648033128.\n",
      "[I 2025-08-02 13:52:49,361] Trial 19 finished with value: 0.8982505175983437 and parameters: {'n_estimators': 279, 'max_depth': 5, 'learning_rate': 0.07294854281727606, 'subsample': 0.8808313666551089, 'colsample_bytree': 0.614351296229114}. Best is trial 3 with value: 0.9009989648033128.\n",
      "[I 2025-08-02 13:52:51,265] Trial 20 finished with value: 0.8906264213355386 and parameters: {'n_estimators': 157, 'max_depth': 10, 'learning_rate': 0.12330003331513074, 'subsample': 0.6332866197278096, 'colsample_bytree': 0.5474863513918804}. Best is trial 3 with value: 0.9009989648033128.\n",
      "[I 2025-08-02 13:52:52,999] Trial 21 finished with value: 0.9009192546583851 and parameters: {'n_estimators': 259, 'max_depth': 6, 'learning_rate': 0.016925694920845034, 'subsample': 0.8302996229142291, 'colsample_bytree': 0.7275115570664461}. Best is trial 3 with value: 0.9009989648033128.\n",
      "[I 2025-08-02 13:52:54,248] Trial 22 finished with value: 0.8997060041407868 and parameters: {'n_estimators': 260, 'max_depth': 5, 'learning_rate': 0.04122477400752084, 'subsample': 0.7704967525741168, 'colsample_bytree': 0.756944480633148}. Best is trial 3 with value: 0.9009989648033128.\n",
      "[I 2025-08-02 13:52:56,128] Trial 23 finished with value: 0.8994120082815734 and parameters: {'n_estimators': 213, 'max_depth': 7, 'learning_rate': 0.019707074926589956, 'subsample': 0.71804991678614, 'colsample_bytree': 0.7033355404254666}. Best is trial 3 with value: 0.9009989648033128.\n",
      "[I 2025-08-02 13:52:57,729] Trial 24 finished with value: 0.9002587991718426 and parameters: {'n_estimators': 264, 'max_depth': 6, 'learning_rate': 0.02005428294764937, 'subsample': 0.8338962247920463, 'colsample_bytree': 0.6376269840134073}. Best is trial 3 with value: 0.9009989648033128.\n",
      "[I 2025-08-02 13:52:58,630] Trial 25 finished with value: 0.8897715526152574 and parameters: {'n_estimators': 272, 'max_depth': 3, 'learning_rate': 0.017856320714734586, 'subsample': 0.9093784190410645, 'colsample_bytree': 0.6429878552979265}. Best is trial 3 with value: 0.9009989648033128.\n",
      "[I 2025-08-02 13:53:00,249] Trial 26 finished with value: 0.9003333333333333 and parameters: {'n_estimators': 293, 'max_depth': 5, 'learning_rate': 0.023035456249074566, 'subsample': 0.8414817311561241, 'colsample_bytree': 0.7952908891858085}. Best is trial 3 with value: 0.9009989648033128.\n",
      "[I 2025-08-02 13:53:01,652] Trial 27 finished with value: 0.9006024844720496 and parameters: {'n_estimators': 298, 'max_depth': 5, 'learning_rate': 0.02572382090601653, 'subsample': 0.8835553940357284, 'colsample_bytree': 0.7763454612992376}. Best is trial 3 with value: 0.9009989648033128.\n",
      "[I 2025-08-02 13:53:02,681] Trial 28 finished with value: 0.8966952656605334 and parameters: {'n_estimators': 248, 'max_depth': 4, 'learning_rate': 0.016088271325104944, 'subsample': 0.9317127556537516, 'colsample_bytree': 0.7744372824265301}. Best is trial 3 with value: 0.9009989648033128.\n",
      "[I 2025-08-02 13:53:04,113] Trial 29 finished with value: 0.8881024844720498 and parameters: {'n_estimators': 96, 'max_depth': 8, 'learning_rate': 0.010403166981612921, 'subsample': 0.9969213925248545, 'colsample_bytree': 0.8876141395838021}. Best is trial 3 with value: 0.9009989648033128.\n",
      "[I 2025-08-02 13:53:04,435] Trial 30 finished with value: 0.8852846790890269 and parameters: {'n_estimators': 18, 'max_depth': 7, 'learning_rate': 0.04517401319200429, 'subsample': 0.8794034869628663, 'colsample_bytree': 0.6954839359131603}. Best is trial 3 with value: 0.9009989648033128.\n",
      "[I 2025-08-02 13:53:05,949] Trial 31 finished with value: 0.9017453416149068 and parameters: {'n_estimators': 295, 'max_depth': 5, 'learning_rate': 0.025047471698798427, 'subsample': 0.807384139069456, 'colsample_bytree': 0.79719517831469}. Best is trial 31 with value: 0.9017453416149068.\n",
      "[I 2025-08-02 13:53:07,388] Trial 32 finished with value: 0.899672877846791 and parameters: {'n_estimators': 298, 'max_depth': 5, 'learning_rate': 0.03389401116706152, 'subsample': 0.8006894263638783, 'colsample_bytree': 0.8587984827340618}. Best is trial 31 with value: 0.9017453416149068.\n",
      "[I 2025-08-02 13:53:08,295] Trial 33 finished with value: 0.8937543932189373 and parameters: {'n_estimators': 283, 'max_depth': 3, 'learning_rate': 0.024062777897133403, 'subsample': 0.8085477443882048, 'colsample_bytree': 0.7834712577753977}. Best is trial 31 with value: 0.9017453416149068.\n",
      "[I 2025-08-02 13:53:09,591] Trial 34 finished with value: 0.8992815734989649 and parameters: {'n_estimators': 255, 'max_depth': 5, 'learning_rate': 0.014397176116106488, 'subsample': 0.8826760035099229, 'colsample_bytree': 0.7305883778847562}. Best is trial 31 with value: 0.9017453416149068.\n",
      "[I 2025-08-02 13:53:10,631] Trial 35 finished with value: 0.9009565217391304 and parameters: {'n_estimators': 228, 'max_depth': 4, 'learning_rate': 0.03482160280738541, 'subsample': 0.6734837932258736, 'colsample_bytree': 0.8398248614241018}. Best is trial 31 with value: 0.9017453416149068.\n",
      "[I 2025-08-02 13:53:11,511] Trial 36 finished with value: 0.8950196402728965 and parameters: {'n_estimators': 229, 'max_depth': 3, 'learning_rate': 0.03224548816455505, 'subsample': 0.6622926792262114, 'colsample_bytree': 0.9447673948102476}. Best is trial 31 with value: 0.9017453416149068.\n",
      "[I 2025-08-02 13:53:11,830] Trial 37 finished with value: 0.8894420289855072 and parameters: {'n_estimators': 47, 'max_depth': 4, 'learning_rate': 0.048266972776164374, 'subsample': 0.587517624233036, 'colsample_bytree': 0.8514832068822036}. Best is trial 31 with value: 0.9017453416149068.\n",
      "[I 2025-08-02 13:53:12,724] Trial 38 finished with value: 0.8985548654244306 and parameters: {'n_estimators': 223, 'max_depth': 4, 'learning_rate': 0.07451280633230822, 'subsample': 0.7676787101437101, 'colsample_bytree': 0.8260997263626577}. Best is trial 31 with value: 0.9017453416149068.\n",
      "[I 2025-08-02 13:53:13,246] Trial 39 finished with value: 0.8959679089026914 and parameters: {'n_estimators': 66, 'max_depth': 6, 'learning_rate': 0.11867454342854766, 'subsample': 0.7243642463279346, 'colsample_bytree': 0.7361769321945031}. Best is trial 31 with value: 0.9017453416149068.\n",
      "[I 2025-08-02 13:53:16,705] Trial 40 finished with value: 0.8944824016563147 and parameters: {'n_estimators': 173, 'max_depth': 12, 'learning_rate': 0.036178501446248866, 'subsample': 0.697602230766969, 'colsample_bytree': 0.8994339367268843}. Best is trial 31 with value: 0.9017453416149068.\n",
      "[I 2025-08-02 13:53:17,855] Trial 41 finished with value: 0.901751552795031 and parameters: {'n_estimators': 279, 'max_depth': 4, 'learning_rate': 0.025129373146965013, 'subsample': 0.8256861725171164, 'colsample_bytree': 0.8023820002703892}. Best is trial 41 with value: 0.901751552795031.\n",
      "[I 2025-08-02 13:53:18,938] Trial 42 finished with value: 0.9000662525879918 and parameters: {'n_estimators': 273, 'max_depth': 4, 'learning_rate': 0.05143405327980213, 'subsample': 0.8134817438301098, 'colsample_bytree': 0.8523916712309298}. Best is trial 41 with value: 0.901751552795031.\n",
      "[I 2025-08-02 13:53:19,807] Trial 43 finished with value: 0.8935269795327682 and parameters: {'n_estimators': 239, 'max_depth': 3, 'learning_rate': 0.025931098815128926, 'subsample': 0.7869659541655523, 'colsample_bytree': 0.8039677703666224}. Best is trial 41 with value: 0.901751552795031.\n",
      "[I 2025-08-02 13:53:20,712] Trial 44 finished with value: 0.8901602232788918 and parameters: {'n_estimators': 193, 'max_depth': 4, 'learning_rate': 0.013530470262534828, 'subsample': 0.6619949358046523, 'colsample_bytree': 0.7119877398564678}. Best is trial 41 with value: 0.901751552795031.\n",
      "[I 2025-08-02 13:53:22,422] Trial 45 finished with value: 0.9013685300207039 and parameters: {'n_estimators': 258, 'max_depth': 6, 'learning_rate': 0.02802045337384142, 'subsample': 0.7554890318027891, 'colsample_bytree': 0.8342614486288608}. Best is trial 41 with value: 0.901751552795031.\n",
      "[I 2025-08-02 13:53:24,135] Trial 46 finished with value: 0.8978550724637681 and parameters: {'n_estimators': 283, 'max_depth': 6, 'learning_rate': 0.05568528066656572, 'subsample': 0.7554274984479138, 'colsample_bytree': 0.8698999179259842}. Best is trial 41 with value: 0.901751552795031.\n",
      "[I 2025-08-02 13:53:25,391] Trial 47 finished with value: 0.9003540372670806 and parameters: {'n_estimators': 248, 'max_depth': 5, 'learning_rate': 0.028925715612607296, 'subsample': 0.7023416588894399, 'colsample_bytree': 0.9274628776972462}. Best is trial 41 with value: 0.901751552795031.\n",
      "[I 2025-08-02 13:53:26,717] Trial 48 finished with value: 0.8966594202898551 and parameters: {'n_estimators': 129, 'max_depth': 7, 'learning_rate': 0.02220231836804966, 'subsample': 0.7282282180164771, 'colsample_bytree': 0.8316484970857849}. Best is trial 41 with value: 0.901751552795031.\n",
      "[I 2025-08-02 13:53:26,902] Trial 49 finished with value: 0.8698273723382262 and parameters: {'n_estimators': 11, 'max_depth': 4, 'learning_rate': 0.03501230813206901, 'subsample': 0.7821359153438265, 'colsample_bytree': 0.8205307406714311}. Best is trial 41 with value: 0.901751552795031.\n",
      "[I 2025-08-02 13:53:27,995] Trial 50 finished with value: 0.899103519668737 and parameters: {'n_estimators': 265, 'max_depth': 4, 'learning_rate': 0.03832698452734421, 'subsample': 0.6496719416752297, 'colsample_bytree': 0.9768123761457788}. Best is trial 41 with value: 0.901751552795031.\n",
      "[I 2025-08-02 13:53:29,785] Trial 51 finished with value: 0.9001490683229814 and parameters: {'n_estimators': 257, 'max_depth': 6, 'learning_rate': 0.017425296441978023, 'subsample': 0.833039676093771, 'colsample_bytree': 0.8801672469366695}. Best is trial 41 with value: 0.901751552795031.\n",
      "[I 2025-08-02 13:53:31,597] Trial 52 finished with value: 0.9006542443064183 and parameters: {'n_estimators': 287, 'max_depth': 6, 'learning_rate': 0.02877589765097153, 'subsample': 0.8579552975990908, 'colsample_bytree': 0.7548176431237992}. Best is trial 41 with value: 0.901751552795031.\n",
      "[I 2025-08-02 13:53:33,435] Trial 53 finished with value: 0.900041407867495 and parameters: {'n_estimators': 220, 'max_depth': 7, 'learning_rate': 0.022648016202732837, 'subsample': 0.7511280232231836, 'colsample_bytree': 0.8361495581301877}. Best is trial 41 with value: 0.901751552795031.\n",
      "[I 2025-08-02 13:53:34,761] Trial 54 finished with value: 0.8980424430641822 and parameters: {'n_estimators': 236, 'max_depth': 5, 'learning_rate': 0.012803719558015073, 'subsample': 0.8178880451127253, 'colsample_bytree': 0.7948066249630142}. Best is trial 41 with value: 0.901751552795031.\n",
      "[I 2025-08-02 13:53:35,578] Trial 55 finished with value: 0.8933964803312628 and parameters: {'n_estimators': 109, 'max_depth': 6, 'learning_rate': 0.015086803078947648, 'subsample': 0.6986589686051049, 'colsample_bytree': 0.6739503038704736}. Best is trial 41 with value: 0.901751552795031.\n",
      "[I 2025-08-02 13:53:36,943] Trial 56 finished with value: 0.8976418219461697 and parameters: {'n_estimators': 271, 'max_depth': 5, 'learning_rate': 0.06119462426833592, 'subsample': 0.8600009630437145, 'colsample_bytree': 0.745558132191818}. Best is trial 41 with value: 0.901751552795031.\n",
      "[I 2025-08-02 13:53:37,311] Trial 57 finished with value: 0.8891853002070393 and parameters: {'n_estimators': 31, 'max_depth': 6, 'learning_rate': 0.018033798763555448, 'subsample': 0.531386616653636, 'colsample_bytree': 0.8091487874183629}. Best is trial 41 with value: 0.901751552795031.\n",
      "[I 2025-08-02 13:53:41,675] Trial 58 finished with value: 0.8958012422360248 and parameters: {'n_estimators': 278, 'max_depth': 11, 'learning_rate': 0.020276869223645057, 'subsample': 0.6812578145870263, 'colsample_bytree': 0.6135885108547756}. Best is trial 41 with value: 0.901751552795031.\n",
      "[I 2025-08-02 13:53:43,663] Trial 59 finished with value: 0.8983250517598342 and parameters: {'n_estimators': 202, 'max_depth': 8, 'learning_rate': 0.028194522550094667, 'subsample': 0.8228663656005892, 'colsample_bytree': 0.5567598685384798}. Best is trial 41 with value: 0.901751552795031.\n",
      "[I 2025-08-02 13:53:44,559] Trial 60 finished with value: 0.8817159396320033 and parameters: {'n_estimators': 253, 'max_depth': 3, 'learning_rate': 0.011998716207261994, 'subsample': 0.792744359535011, 'colsample_bytree': 0.7754822389491034}. Best is trial 41 with value: 0.901751552795031.\n",
      "[I 2025-08-02 13:53:46,405] Trial 61 finished with value: 0.8987536231884059 and parameters: {'n_estimators': 287, 'max_depth': 6, 'learning_rate': 0.030915558580076753, 'subsample': 0.8677681061901328, 'colsample_bytree': 0.7634935682764336}. Best is trial 41 with value: 0.901751552795031.\n",
      "[I 2025-08-02 13:53:48,537] Trial 62 finished with value: 0.8994968944099379 and parameters: {'n_estimators': 289, 'max_depth': 7, 'learning_rate': 0.026733273035406426, 'subsample': 0.9068961990281798, 'colsample_bytree': 0.7213322935338431}. Best is trial 41 with value: 0.901751552795031.\n",
      "[I 2025-08-02 13:53:49,842] Trial 63 finished with value: 0.8991966873706003 and parameters: {'n_estimators': 266, 'max_depth': 5, 'learning_rate': 0.03954823346174844, 'subsample': 0.7600679649194108, 'colsample_bytree': 0.8408279984124609}. Best is trial 41 with value: 0.901751552795031.\n",
      "[I 2025-08-02 13:53:51,515] Trial 64 finished with value: 0.9008012422360249 and parameters: {'n_estimators': 244, 'max_depth': 6, 'learning_rate': 0.021129378899688033, 'subsample': 0.852166442004215, 'colsample_bytree': 0.6553986864562732}. Best is trial 41 with value: 0.901751552795031.\n",
      "[I 2025-08-02 13:53:53,400] Trial 65 finished with value: 0.8984285714285714 and parameters: {'n_estimators': 237, 'max_depth': 7, 'learning_rate': 0.016320488134025573, 'subsample': 0.7350680625944508, 'colsample_bytree': 0.6604808645572604}. Best is trial 41 with value: 0.901751552795031.\n",
      "[I 2025-08-02 13:53:54,175] Trial 66 finished with value: 0.896723602484472 and parameters: {'n_estimators': 146, 'max_depth': 5, 'learning_rate': 0.020008952791460744, 'subsample': 0.7138221658087422, 'colsample_bytree': 0.6280600911090055}. Best is trial 41 with value: 0.901751552795031.\n",
      "[I 2025-08-02 13:53:55,642] Trial 67 finished with value: 0.8983105590062113 and parameters: {'n_estimators': 247, 'max_depth': 6, 'learning_rate': 0.024462285181190205, 'subsample': 0.6136012595945013, 'colsample_bytree': 0.586332716298337}. Best is trial 41 with value: 0.901751552795031.\n",
      "[I 2025-08-02 13:53:57,112] Trial 68 finished with value: 0.8966977225672879 and parameters: {'n_estimators': 299, 'max_depth': 5, 'learning_rate': 0.07055520674150438, 'subsample': 0.8407365779740281, 'colsample_bytree': 0.6929362280320235}. Best is trial 41 with value: 0.901751552795031.\n",
      "[I 2025-08-02 13:53:57,871] Trial 69 finished with value: 0.8954248501137069 and parameters: {'n_estimators': 179, 'max_depth': 4, 'learning_rate': 0.021508783904980018, 'subsample': 0.8012992242209067, 'colsample_bytree': 0.6575324545434152}. Best is trial 41 with value: 0.901751552795031.\n",
      "[I 2025-08-02 13:53:59,740] Trial 70 finished with value: 0.892790890269151 and parameters: {'n_estimators': 262, 'max_depth': 7, 'learning_rate': 0.08499250517290578, 'subsample': 0.7756086738995195, 'colsample_bytree': 0.6098183232257939}. Best is trial 41 with value: 0.901751552795031.\n",
      "[I 2025-08-02 13:54:01,460] Trial 71 finished with value: 0.8994327122153208 and parameters: {'n_estimators': 277, 'max_depth': 6, 'learning_rate': 0.031828032830853406, 'subsample': 0.8554046902733731, 'colsample_bytree': 0.7966807439138002}. Best is trial 41 with value: 0.901751552795031.\n",
      "[I 2025-08-02 13:54:03,188] Trial 72 finished with value: 0.8982463768115944 and parameters: {'n_estimators': 288, 'max_depth': 6, 'learning_rate': 0.04459645676838444, 'subsample': 0.8681253021449215, 'colsample_bytree': 0.7553050844882876}. Best is trial 41 with value: 0.901751552795031.\n",
      "[I 2025-08-02 13:54:04,490] Trial 73 finished with value: 0.9008219461697723 and parameters: {'n_estimators': 270, 'max_depth': 5, 'learning_rate': 0.028463930653181615, 'subsample': 0.8998489381564576, 'colsample_bytree': 0.7837047275087078}. Best is trial 41 with value: 0.901751552795031.\n",
      "[I 2025-08-02 13:54:05,691] Trial 74 finished with value: 0.9021438923395446 and parameters: {'n_estimators': 214, 'max_depth': 5, 'learning_rate': 0.02482908995453682, 'subsample': 0.8973468986747749, 'colsample_bytree': 0.817634295565079}. Best is trial 74 with value: 0.9021438923395446.\n",
      "[I 2025-08-02 13:54:06,860] Trial 75 finished with value: 0.9009109730848861 and parameters: {'n_estimators': 212, 'max_depth': 5, 'learning_rate': 0.02452670397404733, 'subsample': 0.9431795236417286, 'colsample_bytree': 0.8116434684100006}. Best is trial 74 with value: 0.9021438923395446.\n",
      "[I 2025-08-02 13:54:07,580] Trial 76 finished with value: 0.8972710357659707 and parameters: {'n_estimators': 161, 'max_depth': 4, 'learning_rate': 0.025113279052176855, 'subsample': 0.9414097451362136, 'colsample_bytree': 0.8108821731563784}. Best is trial 74 with value: 0.9021438923395446.\n",
      "[I 2025-08-02 13:54:08,613] Trial 77 finished with value: 0.8886894409937888 and parameters: {'n_estimators': 215, 'max_depth': 5, 'learning_rate': 0.2793198340072446, 'subsample': 0.930300149041258, 'colsample_bytree': 0.8421296315733481}. Best is trial 74 with value: 0.9021438923395446.\n",
      "[I 2025-08-02 13:54:09,493] Trial 78 finished with value: 0.8958610709117222 and parameters: {'n_estimators': 206, 'max_depth': 4, 'learning_rate': 0.01801394042823846, 'subsample': 0.9225677744266753, 'colsample_bytree': 0.8150822716872467}. Best is trial 74 with value: 0.9021438923395446.\n",
      "[I 2025-08-02 13:54:10,182] Trial 79 finished with value: 0.8939383915650196 and parameters: {'n_estimators': 191, 'max_depth': 3, 'learning_rate': 0.036558068425185636, 'subsample': 0.9550204286389965, 'colsample_bytree': 0.8665098219574126}. Best is trial 74 with value: 0.9021438923395446.\n",
      "[I 2025-08-02 13:54:11,298] Trial 80 finished with value: 0.8989151138716356 and parameters: {'n_estimators': 231, 'max_depth': 5, 'learning_rate': 0.050576299416464826, 'subsample': 0.9753551053347405, 'colsample_bytree': 0.7889342467592821}. Best is trial 74 with value: 0.9021438923395446.\n",
      "[I 2025-08-02 13:54:12,380] Trial 81 finished with value: 0.900371635610766 and parameters: {'n_estimators': 197, 'max_depth': 5, 'learning_rate': 0.026745241108868417, 'subsample': 0.9072787555150131, 'colsample_bytree': 0.7750198964734315}. Best is trial 74 with value: 0.9021438923395446.\n",
      "[I 2025-08-02 13:54:13,569] Trial 82 finished with value: 0.9020662525879919 and parameters: {'n_estimators': 222, 'max_depth': 5, 'learning_rate': 0.02297262285332288, 'subsample': 0.9639666683468535, 'colsample_bytree': 0.8228349617870903}. Best is trial 74 with value: 0.9021438923395446.\n",
      "[I 2025-08-02 13:54:14,534] Trial 83 finished with value: 0.8997467438494935 and parameters: {'n_estimators': 222, 'max_depth': 4, 'learning_rate': 0.03295549253222944, 'subsample': 0.9943313498816344, 'colsample_bytree': 0.8286794597498351}. Best is trial 74 with value: 0.9021438923395446.\n",
      "[I 2025-08-02 13:54:15,709] Trial 84 finished with value: 0.9016014492753623 and parameters: {'n_estimators': 229, 'max_depth': 5, 'learning_rate': 0.02364644371501345, 'subsample': 0.9585206387835903, 'colsample_bytree': 0.8498254253353937}. Best is trial 74 with value: 0.9021438923395446.\n",
      "[I 2025-08-02 13:54:16,761] Trial 85 finished with value: 0.8994159603059748 and parameters: {'n_estimators': 228, 'max_depth': 4, 'learning_rate': 0.023443635294088126, 'subsample': 0.9691235033566681, 'colsample_bytree': 0.8839524017704915}. Best is trial 74 with value: 0.9021438923395446.\n",
      "[I 2025-08-02 13:54:18,220] Trial 86 finished with value: 0.9015652173913044 and parameters: {'n_estimators': 252, 'max_depth': 5, 'learning_rate': 0.018712325706048586, 'subsample': 0.984137639680101, 'colsample_bytree': 0.8482158181389325}. Best is trial 74 with value: 0.9021438923395446.\n",
      "[I 2025-08-02 13:54:19,538] Trial 87 finished with value: 0.9022701863354037 and parameters: {'n_estimators': 254, 'max_depth': 5, 'learning_rate': 0.021943807363629726, 'subsample': 0.9845124317828715, 'colsample_bytree': 0.8473402680590081}. Best is trial 87 with value: 0.9022701863354037.\n",
      "[I 2025-08-02 13:54:20,946] Trial 88 finished with value: 0.9007049689440993 and parameters: {'n_estimators': 253, 'max_depth': 5, 'learning_rate': 0.018520157904423455, 'subsample': 0.9766329789229508, 'colsample_bytree': 0.9090361865861736}. Best is trial 87 with value: 0.9022701863354037.\n",
      "[I 2025-08-02 13:54:22,580] Trial 89 finished with value: 0.8995041407867495 and parameters: {'n_estimators': 240, 'max_depth': 5, 'learning_rate': 0.01503787384960173, 'subsample': 0.9618792176584007, 'colsample_bytree': 0.8585802576950782}. Best is trial 87 with value: 0.9022701863354037.\n",
      "[I 2025-08-02 13:54:23,068] Trial 90 finished with value: 0.8895921325051759 and parameters: {'n_estimators': 66, 'max_depth': 5, 'learning_rate': 0.0193413355621873, 'subsample': 0.9912683396783389, 'colsample_bytree': 0.8721499717952519}. Best is trial 87 with value: 0.9022701863354037.\n",
      "[I 2025-08-02 13:54:24,019] Trial 91 finished with value: 0.8990179863551789 and parameters: {'n_estimators': 232, 'max_depth': 4, 'learning_rate': 0.02229077731824802, 'subsample': 0.9824130305582339, 'colsample_bytree': 0.8498902958490875}. Best is trial 87 with value: 0.9022701863354037.\n",
      "[I 2025-08-02 13:54:24,933] Trial 92 finished with value: 0.9006078147612155 and parameters: {'n_estimators': 218, 'max_depth': 4, 'learning_rate': 0.030776028010405878, 'subsample': 0.9457768670139733, 'colsample_bytree': 0.8976363014185136}. Best is trial 87 with value: 0.9022701863354037.\n",
      "[I 2025-08-02 13:54:26,141] Trial 93 finished with value: 0.9018850931677018 and parameters: {'n_estimators': 246, 'max_depth': 5, 'learning_rate': 0.026479976083149136, 'subsample': 0.9880220710631265, 'colsample_bytree': 0.8228108397434257}. Best is trial 87 with value: 0.9022701863354037.\n",
      "[I 2025-08-02 13:54:27,525] Trial 94 finished with value: 0.9021190476190477 and parameters: {'n_estimators': 252, 'max_depth': 5, 'learning_rate': 0.021141263857611843, 'subsample': 0.9596256193057306, 'colsample_bytree': 0.8010238727705226}. Best is trial 87 with value: 0.9022701863354037.\n",
      "[I 2025-08-02 13:54:28,797] Trial 95 finished with value: 0.9012163561076604 and parameters: {'n_estimators': 252, 'max_depth': 5, 'learning_rate': 0.0219038590326071, 'subsample': 0.9571811279152272, 'colsample_bytree': 0.8226879842451233}. Best is trial 87 with value: 0.9022701863354037.\n",
      "[I 2025-08-02 13:54:30,223] Trial 96 finished with value: 0.9004089026915113 and parameters: {'n_estimators': 260, 'max_depth': 5, 'learning_rate': 0.016318707804237532, 'subsample': 0.9857403093520085, 'colsample_bytree': 0.8443667497190467}. Best is trial 87 with value: 0.9022701863354037.\n",
      "[I 2025-08-02 13:54:31,490] Trial 97 finished with value: 0.9014585921325052 and parameters: {'n_estimators': 246, 'max_depth': 5, 'learning_rate': 0.023448922377788246, 'subsample': 0.962761999174556, 'colsample_bytree': 0.8013689051814966}. Best is trial 87 with value: 0.9022701863354037.\n",
      "[I 2025-08-02 13:54:32,858] Trial 98 finished with value: 0.901600414078675 and parameters: {'n_estimators': 245, 'max_depth': 5, 'learning_rate': 0.01913531084709814, 'subsample': 0.965592442540115, 'colsample_bytree': 0.8044406029117226}. Best is trial 87 with value: 0.9022701863354037.\n",
      "[I 2025-08-02 13:54:36,344] Trial 99 finished with value: 0.8986501035196689 and parameters: {'n_estimators': 268, 'max_depth': 9, 'learning_rate': 0.01916361487911796, 'subsample': 0.9194546527209508, 'colsample_bytree': 0.7669277802321594}. Best is trial 87 with value: 0.9022701863354037.\n"
     ]
    }
   ],
   "source": [
    "class Objective:\n",
    "    \"\"\"Objective function class for Optuna hyperparameter optimization.\n",
    "\n",
    "    This class wraps training and evaluation logic to be used in Optuna's optimization\n",
    "    loop. It supports randomized cross-validation and logs the cross-validated accuracy\n",
    "    for each trial.\n",
    "    \"\"\"\n",
    "\n",
    "    def __init__(\n",
    "        self,\n",
    "        X: NDArray[np.float64],\n",
    "        y: NDArray[np.float64],\n",
    "        random_state: int | None = None,\n",
    "    ) -> None:\n",
    "        \"\"\"Initializes the Objective class.\n",
    "\n",
    "        Args:\n",
    "            X (NDArray[np.float64]): Feature matrix.\n",
    "            y (NDArray[np.float64]): Target vector.\n",
    "            random_state (int | None): Random seed for reproducibility. Default is None.\n",
    "        \"\"\"\n",
    "        self.X = X\n",
    "        self.y = y\n",
    "        self.random_state = random_state\n",
    "\n",
    "    def __call__(self, trial: optuna.trial.Trial) -> float:\n",
    "        \"\"\"Objective function for Optuna study to optimize hyperparameters.\n",
    "\n",
    "        Parameters:\n",
    "            trial (Trial): A single trial object that suggests hyperparameter values.\n",
    "\n",
    "        Returns:\n",
    "            float: Cross-validated accuracy score (mean of folds).\n",
    "        \"\"\"\n",
    "        params = {\n",
    "            \"n_estimators\": trial.suggest_int(\"n_estimators\", 10, 300),\n",
    "            \"max_depth\": trial.suggest_int(\"max_depth\", 3, 12),\n",
    "            \"learning_rate\": trial.suggest_float(\"learning_rate\", 0.01, 0.3, log=True),\n",
    "            \"subsample\": trial.suggest_float(\"subsample\", 0.5, 1.0),\n",
    "            \"colsample_bytree\": trial.suggest_float(\"colsample_bytree\", 0.5, 1.0),\n",
    "            \"eval_metric\": \"logloss\",\n",
    "            \"random_state\": self.random_state,\n",
    "        }\n",
    "\n",
    "        model = xgb.XGBClassifier(**params)\n",
    "\n",
    "        cv = StratifiedKFold(n_splits=5, shuffle=True, random_state=self.random_state)\n",
    "        scores = cross_val_score(model, self.X, self.y, cv=cv, scoring=\"roc_auc\")\n",
    "\n",
    "        score = np.median(scores)\n",
    "        trial.set_user_attr(\"cv_accuracy\", score)\n",
    "        return score\n",
    "\n",
    "\n",
    "study = optuna.create_study(\n",
    "    direction=\"maximize\",\n",
    "    study_name=\"xgb\",\n",
    "    sampler=optuna.samplers.TPESampler(seed=42),\n",
    ")\n",
    "\n",
    "objective = Objective(X_train, y_train, random_state=42)\n",
    "study.optimize(objective, n_trials=100)"
   ]
  },
  {
   "cell_type": "markdown",
   "id": "dd674f6f",
   "metadata": {},
   "source": [
    "### 📊 Model Evaluation"
   ]
  },
  {
   "cell_type": "code",
   "execution_count": 1529,
   "id": "8a31e479",
   "metadata": {},
   "outputs": [],
   "source": [
    "model = xgb.XGBClassifier(**study.best_params, eval_metric=\"logloss\", random_state=42)\n",
    "model.fit(X_train, y_train)\n",
    "\n",
    "y_proba = model.predict_proba(X_valid)[:, 1]\n",
    "y_pred = y_proba > 0.5"
   ]
  },
  {
   "cell_type": "code",
   "execution_count": 1530,
   "id": "2b24ea68",
   "metadata": {},
   "outputs": [
    {
     "name": "stdout",
     "output_type": "stream",
     "text": [
      "\u001b[32mBest hyperparameters found:\u001b[0m {'n_estimators': 254, 'max_depth': 5, 'learning_rate': 0.021943807363629726, 'subsample': 0.9845124317828715, 'colsample_bytree': 0.8473402680590081}\n",
      "\u001b[33mBest CV score:\u001b[0m 0.9022701863354037\n"
     ]
    }
   ],
   "source": [
    "print(f\"{Fore.GREEN}Best hyperparameters found:{Style.RESET_ALL}\", study.best_params)\n",
    "print(f\"{Fore.YELLOW}Best CV score:{Style.RESET_ALL}\", study.best_value)"
   ]
  },
  {
   "cell_type": "code",
   "execution_count": 1531,
   "id": "ca199191",
   "metadata": {},
   "outputs": [
    {
     "data": {
      "application/vnd.plotly.v1+json": {
       "config": {
        "plotlyServerURL": "https://plot.ly"
       },
       "data": [
        {
         "mode": "markers",
         "name": "Objective Value",
         "type": "scatter",
         "x": [
          0,
          1,
          2,
          3,
          4,
          5,
          6,
          7,
          8,
          9,
          10,
          11,
          12,
          13,
          14,
          15,
          16,
          17,
          18,
          19,
          20,
          21,
          22,
          23,
          24,
          25,
          26,
          27,
          28,
          29,
          30,
          31,
          32,
          33,
          34,
          35,
          36,
          37,
          38,
          39,
          40,
          41,
          42,
          43,
          44,
          45,
          46,
          47,
          48,
          49,
          50,
          51,
          52,
          53,
          54,
          55,
          56,
          57,
          58,
          59,
          60,
          61,
          62,
          63,
          64,
          65,
          66,
          67,
          68,
          69,
          70,
          71,
          72,
          73,
          74,
          75,
          76,
          77,
          78,
          79,
          80,
          81,
          82,
          83,
          84,
          85,
          86,
          87,
          88,
          89,
          90,
          91,
          92,
          93,
          94,
          95,
          96,
          97,
          98,
          99
         ],
         "y": [
          0.8911946169772257,
          0.8961908207566675,
          0.8795217391304347,
          0.9009989648033128,
          0.8982148025635724,
          0.8985734989648032,
          0.8895248447204969,
          0.8993291925465838,
          0.8909430641821946,
          0.8999710144927536,
          0.8955403726708075,
          0.894975155279503,
          0.8920124223602484,
          0.8961821946169772,
          0.8988385093167701,
          0.8798966301426505,
          0.8953695652173913,
          0.8936790890269151,
          0.8962277432712216,
          0.8982505175983437,
          0.8906264213355386,
          0.9009192546583851,
          0.8997060041407868,
          0.8994120082815734,
          0.9002587991718426,
          0.8897715526152574,
          0.9003333333333333,
          0.9006024844720496,
          0.8966952656605334,
          0.8881024844720498,
          0.8852846790890269,
          0.9017453416149068,
          0.899672877846791,
          0.8937543932189373,
          0.8992815734989649,
          0.9009565217391304,
          0.8950196402728965,
          0.8894420289855072,
          0.8985548654244306,
          0.8959679089026914,
          0.8944824016563147,
          0.901751552795031,
          0.9000662525879918,
          0.8935269795327682,
          0.8901602232788918,
          0.9013685300207039,
          0.8978550724637681,
          0.9003540372670806,
          0.8966594202898551,
          0.8698273723382262,
          0.899103519668737,
          0.9001490683229814,
          0.9006542443064183,
          0.900041407867495,
          0.8980424430641822,
          0.8933964803312628,
          0.8976418219461697,
          0.8891853002070393,
          0.8958012422360248,
          0.8983250517598342,
          0.8817159396320033,
          0.8987536231884059,
          0.8994968944099379,
          0.8991966873706003,
          0.9008012422360249,
          0.8984285714285714,
          0.896723602484472,
          0.8983105590062113,
          0.8966977225672879,
          0.8954248501137069,
          0.892790890269151,
          0.8994327122153208,
          0.8982463768115944,
          0.9008219461697723,
          0.9021438923395446,
          0.9009109730848861,
          0.8972710357659707,
          0.8886894409937888,
          0.8958610709117222,
          0.8939383915650196,
          0.8989151138716356,
          0.900371635610766,
          0.9020662525879919,
          0.8997467438494935,
          0.9016014492753623,
          0.8994159603059748,
          0.9015652173913044,
          0.9022701863354037,
          0.9007049689440993,
          0.8995041407867495,
          0.8895921325051759,
          0.8990179863551789,
          0.9006078147612155,
          0.9018850931677018,
          0.9021190476190477,
          0.9012163561076604,
          0.9004089026915113,
          0.9014585921325052,
          0.901600414078675,
          0.8986501035196689
         ]
        },
        {
         "mode": "lines",
         "name": "Best Value",
         "type": "scatter",
         "x": [
          0,
          1,
          2,
          3,
          4,
          5,
          6,
          7,
          8,
          9,
          10,
          11,
          12,
          13,
          14,
          15,
          16,
          17,
          18,
          19,
          20,
          21,
          22,
          23,
          24,
          25,
          26,
          27,
          28,
          29,
          30,
          31,
          32,
          33,
          34,
          35,
          36,
          37,
          38,
          39,
          40,
          41,
          42,
          43,
          44,
          45,
          46,
          47,
          48,
          49,
          50,
          51,
          52,
          53,
          54,
          55,
          56,
          57,
          58,
          59,
          60,
          61,
          62,
          63,
          64,
          65,
          66,
          67,
          68,
          69,
          70,
          71,
          72,
          73,
          74,
          75,
          76,
          77,
          78,
          79,
          80,
          81,
          82,
          83,
          84,
          85,
          86,
          87,
          88,
          89,
          90,
          91,
          92,
          93,
          94,
          95,
          96,
          97,
          98,
          99
         ],
         "y": [
          0.8911946169772257,
          0.8961908207566675,
          0.8961908207566675,
          0.9009989648033128,
          0.9009989648033128,
          0.9009989648033128,
          0.9009989648033128,
          0.9009989648033128,
          0.9009989648033128,
          0.9009989648033128,
          0.9009989648033128,
          0.9009989648033128,
          0.9009989648033128,
          0.9009989648033128,
          0.9009989648033128,
          0.9009989648033128,
          0.9009989648033128,
          0.9009989648033128,
          0.9009989648033128,
          0.9009989648033128,
          0.9009989648033128,
          0.9009989648033128,
          0.9009989648033128,
          0.9009989648033128,
          0.9009989648033128,
          0.9009989648033128,
          0.9009989648033128,
          0.9009989648033128,
          0.9009989648033128,
          0.9009989648033128,
          0.9009989648033128,
          0.9017453416149068,
          0.9017453416149068,
          0.9017453416149068,
          0.9017453416149068,
          0.9017453416149068,
          0.9017453416149068,
          0.9017453416149068,
          0.9017453416149068,
          0.9017453416149068,
          0.9017453416149068,
          0.901751552795031,
          0.901751552795031,
          0.901751552795031,
          0.901751552795031,
          0.901751552795031,
          0.901751552795031,
          0.901751552795031,
          0.901751552795031,
          0.901751552795031,
          0.901751552795031,
          0.901751552795031,
          0.901751552795031,
          0.901751552795031,
          0.901751552795031,
          0.901751552795031,
          0.901751552795031,
          0.901751552795031,
          0.901751552795031,
          0.901751552795031,
          0.901751552795031,
          0.901751552795031,
          0.901751552795031,
          0.901751552795031,
          0.901751552795031,
          0.901751552795031,
          0.901751552795031,
          0.901751552795031,
          0.901751552795031,
          0.901751552795031,
          0.901751552795031,
          0.901751552795031,
          0.901751552795031,
          0.901751552795031,
          0.9021438923395446,
          0.9021438923395446,
          0.9021438923395446,
          0.9021438923395446,
          0.9021438923395446,
          0.9021438923395446,
          0.9021438923395446,
          0.9021438923395446,
          0.9021438923395446,
          0.9021438923395446,
          0.9021438923395446,
          0.9021438923395446,
          0.9021438923395446,
          0.9022701863354037,
          0.9022701863354037,
          0.9022701863354037,
          0.9022701863354037,
          0.9022701863354037,
          0.9022701863354037,
          0.9022701863354037,
          0.9022701863354037,
          0.9022701863354037,
          0.9022701863354037,
          0.9022701863354037,
          0.9022701863354037,
          0.9022701863354037
         ]
        },
        {
         "marker": {
          "color": "#cccccc"
         },
         "mode": "markers",
         "name": "Infeasible Trial",
         "showlegend": false,
         "type": "scatter",
         "x": [],
         "y": []
        }
       ],
       "layout": {
        "template": {
         "data": {
          "bar": [
           {
            "error_x": {
             "color": "#2a3f5f"
            },
            "error_y": {
             "color": "#2a3f5f"
            },
            "marker": {
             "line": {
              "color": "#E5ECF6",
              "width": 0.5
             },
             "pattern": {
              "fillmode": "overlay",
              "size": 10,
              "solidity": 0.2
             }
            },
            "type": "bar"
           }
          ],
          "barpolar": [
           {
            "marker": {
             "line": {
              "color": "#E5ECF6",
              "width": 0.5
             },
             "pattern": {
              "fillmode": "overlay",
              "size": 10,
              "solidity": 0.2
             }
            },
            "type": "barpolar"
           }
          ],
          "carpet": [
           {
            "aaxis": {
             "endlinecolor": "#2a3f5f",
             "gridcolor": "white",
             "linecolor": "white",
             "minorgridcolor": "white",
             "startlinecolor": "#2a3f5f"
            },
            "baxis": {
             "endlinecolor": "#2a3f5f",
             "gridcolor": "white",
             "linecolor": "white",
             "minorgridcolor": "white",
             "startlinecolor": "#2a3f5f"
            },
            "type": "carpet"
           }
          ],
          "choropleth": [
           {
            "colorbar": {
             "outlinewidth": 0,
             "ticks": ""
            },
            "type": "choropleth"
           }
          ],
          "contour": [
           {
            "colorbar": {
             "outlinewidth": 0,
             "ticks": ""
            },
            "colorscale": [
             [
              0,
              "#0d0887"
             ],
             [
              0.1111111111111111,
              "#46039f"
             ],
             [
              0.2222222222222222,
              "#7201a8"
             ],
             [
              0.3333333333333333,
              "#9c179e"
             ],
             [
              0.4444444444444444,
              "#bd3786"
             ],
             [
              0.5555555555555556,
              "#d8576b"
             ],
             [
              0.6666666666666666,
              "#ed7953"
             ],
             [
              0.7777777777777778,
              "#fb9f3a"
             ],
             [
              0.8888888888888888,
              "#fdca26"
             ],
             [
              1,
              "#f0f921"
             ]
            ],
            "type": "contour"
           }
          ],
          "contourcarpet": [
           {
            "colorbar": {
             "outlinewidth": 0,
             "ticks": ""
            },
            "type": "contourcarpet"
           }
          ],
          "heatmap": [
           {
            "colorbar": {
             "outlinewidth": 0,
             "ticks": ""
            },
            "colorscale": [
             [
              0,
              "#0d0887"
             ],
             [
              0.1111111111111111,
              "#46039f"
             ],
             [
              0.2222222222222222,
              "#7201a8"
             ],
             [
              0.3333333333333333,
              "#9c179e"
             ],
             [
              0.4444444444444444,
              "#bd3786"
             ],
             [
              0.5555555555555556,
              "#d8576b"
             ],
             [
              0.6666666666666666,
              "#ed7953"
             ],
             [
              0.7777777777777778,
              "#fb9f3a"
             ],
             [
              0.8888888888888888,
              "#fdca26"
             ],
             [
              1,
              "#f0f921"
             ]
            ],
            "type": "heatmap"
           }
          ],
          "histogram": [
           {
            "marker": {
             "pattern": {
              "fillmode": "overlay",
              "size": 10,
              "solidity": 0.2
             }
            },
            "type": "histogram"
           }
          ],
          "histogram2d": [
           {
            "colorbar": {
             "outlinewidth": 0,
             "ticks": ""
            },
            "colorscale": [
             [
              0,
              "#0d0887"
             ],
             [
              0.1111111111111111,
              "#46039f"
             ],
             [
              0.2222222222222222,
              "#7201a8"
             ],
             [
              0.3333333333333333,
              "#9c179e"
             ],
             [
              0.4444444444444444,
              "#bd3786"
             ],
             [
              0.5555555555555556,
              "#d8576b"
             ],
             [
              0.6666666666666666,
              "#ed7953"
             ],
             [
              0.7777777777777778,
              "#fb9f3a"
             ],
             [
              0.8888888888888888,
              "#fdca26"
             ],
             [
              1,
              "#f0f921"
             ]
            ],
            "type": "histogram2d"
           }
          ],
          "histogram2dcontour": [
           {
            "colorbar": {
             "outlinewidth": 0,
             "ticks": ""
            },
            "colorscale": [
             [
              0,
              "#0d0887"
             ],
             [
              0.1111111111111111,
              "#46039f"
             ],
             [
              0.2222222222222222,
              "#7201a8"
             ],
             [
              0.3333333333333333,
              "#9c179e"
             ],
             [
              0.4444444444444444,
              "#bd3786"
             ],
             [
              0.5555555555555556,
              "#d8576b"
             ],
             [
              0.6666666666666666,
              "#ed7953"
             ],
             [
              0.7777777777777778,
              "#fb9f3a"
             ],
             [
              0.8888888888888888,
              "#fdca26"
             ],
             [
              1,
              "#f0f921"
             ]
            ],
            "type": "histogram2dcontour"
           }
          ],
          "mesh3d": [
           {
            "colorbar": {
             "outlinewidth": 0,
             "ticks": ""
            },
            "type": "mesh3d"
           }
          ],
          "parcoords": [
           {
            "line": {
             "colorbar": {
              "outlinewidth": 0,
              "ticks": ""
             }
            },
            "type": "parcoords"
           }
          ],
          "pie": [
           {
            "automargin": true,
            "type": "pie"
           }
          ],
          "scatter": [
           {
            "fillpattern": {
             "fillmode": "overlay",
             "size": 10,
             "solidity": 0.2
            },
            "type": "scatter"
           }
          ],
          "scatter3d": [
           {
            "line": {
             "colorbar": {
              "outlinewidth": 0,
              "ticks": ""
             }
            },
            "marker": {
             "colorbar": {
              "outlinewidth": 0,
              "ticks": ""
             }
            },
            "type": "scatter3d"
           }
          ],
          "scattercarpet": [
           {
            "marker": {
             "colorbar": {
              "outlinewidth": 0,
              "ticks": ""
             }
            },
            "type": "scattercarpet"
           }
          ],
          "scattergeo": [
           {
            "marker": {
             "colorbar": {
              "outlinewidth": 0,
              "ticks": ""
             }
            },
            "type": "scattergeo"
           }
          ],
          "scattergl": [
           {
            "marker": {
             "colorbar": {
              "outlinewidth": 0,
              "ticks": ""
             }
            },
            "type": "scattergl"
           }
          ],
          "scattermap": [
           {
            "marker": {
             "colorbar": {
              "outlinewidth": 0,
              "ticks": ""
             }
            },
            "type": "scattermap"
           }
          ],
          "scattermapbox": [
           {
            "marker": {
             "colorbar": {
              "outlinewidth": 0,
              "ticks": ""
             }
            },
            "type": "scattermapbox"
           }
          ],
          "scatterpolar": [
           {
            "marker": {
             "colorbar": {
              "outlinewidth": 0,
              "ticks": ""
             }
            },
            "type": "scatterpolar"
           }
          ],
          "scatterpolargl": [
           {
            "marker": {
             "colorbar": {
              "outlinewidth": 0,
              "ticks": ""
             }
            },
            "type": "scatterpolargl"
           }
          ],
          "scatterternary": [
           {
            "marker": {
             "colorbar": {
              "outlinewidth": 0,
              "ticks": ""
             }
            },
            "type": "scatterternary"
           }
          ],
          "surface": [
           {
            "colorbar": {
             "outlinewidth": 0,
             "ticks": ""
            },
            "colorscale": [
             [
              0,
              "#0d0887"
             ],
             [
              0.1111111111111111,
              "#46039f"
             ],
             [
              0.2222222222222222,
              "#7201a8"
             ],
             [
              0.3333333333333333,
              "#9c179e"
             ],
             [
              0.4444444444444444,
              "#bd3786"
             ],
             [
              0.5555555555555556,
              "#d8576b"
             ],
             [
              0.6666666666666666,
              "#ed7953"
             ],
             [
              0.7777777777777778,
              "#fb9f3a"
             ],
             [
              0.8888888888888888,
              "#fdca26"
             ],
             [
              1,
              "#f0f921"
             ]
            ],
            "type": "surface"
           }
          ],
          "table": [
           {
            "cells": {
             "fill": {
              "color": "#EBF0F8"
             },
             "line": {
              "color": "white"
             }
            },
            "header": {
             "fill": {
              "color": "#C8D4E3"
             },
             "line": {
              "color": "white"
             }
            },
            "type": "table"
           }
          ]
         },
         "layout": {
          "annotationdefaults": {
           "arrowcolor": "#2a3f5f",
           "arrowhead": 0,
           "arrowwidth": 1
          },
          "autotypenumbers": "strict",
          "coloraxis": {
           "colorbar": {
            "outlinewidth": 0,
            "ticks": ""
           }
          },
          "colorscale": {
           "diverging": [
            [
             0,
             "#8e0152"
            ],
            [
             0.1,
             "#c51b7d"
            ],
            [
             0.2,
             "#de77ae"
            ],
            [
             0.3,
             "#f1b6da"
            ],
            [
             0.4,
             "#fde0ef"
            ],
            [
             0.5,
             "#f7f7f7"
            ],
            [
             0.6,
             "#e6f5d0"
            ],
            [
             0.7,
             "#b8e186"
            ],
            [
             0.8,
             "#7fbc41"
            ],
            [
             0.9,
             "#4d9221"
            ],
            [
             1,
             "#276419"
            ]
           ],
           "sequential": [
            [
             0,
             "#0d0887"
            ],
            [
             0.1111111111111111,
             "#46039f"
            ],
            [
             0.2222222222222222,
             "#7201a8"
            ],
            [
             0.3333333333333333,
             "#9c179e"
            ],
            [
             0.4444444444444444,
             "#bd3786"
            ],
            [
             0.5555555555555556,
             "#d8576b"
            ],
            [
             0.6666666666666666,
             "#ed7953"
            ],
            [
             0.7777777777777778,
             "#fb9f3a"
            ],
            [
             0.8888888888888888,
             "#fdca26"
            ],
            [
             1,
             "#f0f921"
            ]
           ],
           "sequentialminus": [
            [
             0,
             "#0d0887"
            ],
            [
             0.1111111111111111,
             "#46039f"
            ],
            [
             0.2222222222222222,
             "#7201a8"
            ],
            [
             0.3333333333333333,
             "#9c179e"
            ],
            [
             0.4444444444444444,
             "#bd3786"
            ],
            [
             0.5555555555555556,
             "#d8576b"
            ],
            [
             0.6666666666666666,
             "#ed7953"
            ],
            [
             0.7777777777777778,
             "#fb9f3a"
            ],
            [
             0.8888888888888888,
             "#fdca26"
            ],
            [
             1,
             "#f0f921"
            ]
           ]
          },
          "colorway": [
           "#636efa",
           "#EF553B",
           "#00cc96",
           "#ab63fa",
           "#FFA15A",
           "#19d3f3",
           "#FF6692",
           "#B6E880",
           "#FF97FF",
           "#FECB52"
          ],
          "font": {
           "color": "#2a3f5f"
          },
          "geo": {
           "bgcolor": "white",
           "lakecolor": "white",
           "landcolor": "#E5ECF6",
           "showlakes": true,
           "showland": true,
           "subunitcolor": "white"
          },
          "hoverlabel": {
           "align": "left"
          },
          "hovermode": "closest",
          "mapbox": {
           "style": "light"
          },
          "paper_bgcolor": "white",
          "plot_bgcolor": "#E5ECF6",
          "polar": {
           "angularaxis": {
            "gridcolor": "white",
            "linecolor": "white",
            "ticks": ""
           },
           "bgcolor": "#E5ECF6",
           "radialaxis": {
            "gridcolor": "white",
            "linecolor": "white",
            "ticks": ""
           }
          },
          "scene": {
           "xaxis": {
            "backgroundcolor": "#E5ECF6",
            "gridcolor": "white",
            "gridwidth": 2,
            "linecolor": "white",
            "showbackground": true,
            "ticks": "",
            "zerolinecolor": "white"
           },
           "yaxis": {
            "backgroundcolor": "#E5ECF6",
            "gridcolor": "white",
            "gridwidth": 2,
            "linecolor": "white",
            "showbackground": true,
            "ticks": "",
            "zerolinecolor": "white"
           },
           "zaxis": {
            "backgroundcolor": "#E5ECF6",
            "gridcolor": "white",
            "gridwidth": 2,
            "linecolor": "white",
            "showbackground": true,
            "ticks": "",
            "zerolinecolor": "white"
           }
          },
          "shapedefaults": {
           "line": {
            "color": "#2a3f5f"
           }
          },
          "ternary": {
           "aaxis": {
            "gridcolor": "white",
            "linecolor": "white",
            "ticks": ""
           },
           "baxis": {
            "gridcolor": "white",
            "linecolor": "white",
            "ticks": ""
           },
           "bgcolor": "#E5ECF6",
           "caxis": {
            "gridcolor": "white",
            "linecolor": "white",
            "ticks": ""
           }
          },
          "title": {
           "x": 0.05
          },
          "xaxis": {
           "automargin": true,
           "gridcolor": "white",
           "linecolor": "white",
           "ticks": "",
           "title": {
            "standoff": 15
           },
           "zerolinecolor": "white",
           "zerolinewidth": 2
          },
          "yaxis": {
           "automargin": true,
           "gridcolor": "white",
           "linecolor": "white",
           "ticks": "",
           "title": {
            "standoff": 15
           },
           "zerolinecolor": "white",
           "zerolinewidth": 2
          }
         }
        },
        "title": {
         "text": "Optimization History Plot"
        },
        "xaxis": {
         "title": {
          "text": "Trial"
         }
        },
        "yaxis": {
         "title": {
          "text": "Objective Value"
         }
        }
       }
      }
     },
     "metadata": {},
     "output_type": "display_data"
    },
    {
     "data": {
      "application/vnd.plotly.v1+json": {
       "config": {
        "plotlyServerURL": "https://plot.ly"
       },
       "data": [
        {
         "cliponaxis": false,
         "hovertemplate": [
          "max_depth (IntDistribution): 0.02655962709099555<extra></extra>",
          "subsample (FloatDistribution): 0.04149828412015176<extra></extra>",
          "colsample_bytree (FloatDistribution): 0.04967829583573337<extra></extra>",
          "learning_rate (FloatDistribution): 0.3510913594036112<extra></extra>",
          "n_estimators (IntDistribution): 0.5311724335495082<extra></extra>"
         ],
         "name": "Objective Value",
         "orientation": "h",
         "text": [
          "0.03",
          "0.04",
          "0.05",
          "0.35",
          "0.53"
         ],
         "textposition": "outside",
         "type": "bar",
         "x": [
          0.02655962709099555,
          0.04149828412015176,
          0.04967829583573337,
          0.3510913594036112,
          0.5311724335495082
         ],
         "y": [
          "max_depth",
          "subsample",
          "colsample_bytree",
          "learning_rate",
          "n_estimators"
         ]
        }
       ],
       "layout": {
        "template": {
         "data": {
          "bar": [
           {
            "error_x": {
             "color": "#2a3f5f"
            },
            "error_y": {
             "color": "#2a3f5f"
            },
            "marker": {
             "line": {
              "color": "#E5ECF6",
              "width": 0.5
             },
             "pattern": {
              "fillmode": "overlay",
              "size": 10,
              "solidity": 0.2
             }
            },
            "type": "bar"
           }
          ],
          "barpolar": [
           {
            "marker": {
             "line": {
              "color": "#E5ECF6",
              "width": 0.5
             },
             "pattern": {
              "fillmode": "overlay",
              "size": 10,
              "solidity": 0.2
             }
            },
            "type": "barpolar"
           }
          ],
          "carpet": [
           {
            "aaxis": {
             "endlinecolor": "#2a3f5f",
             "gridcolor": "white",
             "linecolor": "white",
             "minorgridcolor": "white",
             "startlinecolor": "#2a3f5f"
            },
            "baxis": {
             "endlinecolor": "#2a3f5f",
             "gridcolor": "white",
             "linecolor": "white",
             "minorgridcolor": "white",
             "startlinecolor": "#2a3f5f"
            },
            "type": "carpet"
           }
          ],
          "choropleth": [
           {
            "colorbar": {
             "outlinewidth": 0,
             "ticks": ""
            },
            "type": "choropleth"
           }
          ],
          "contour": [
           {
            "colorbar": {
             "outlinewidth": 0,
             "ticks": ""
            },
            "colorscale": [
             [
              0,
              "#0d0887"
             ],
             [
              0.1111111111111111,
              "#46039f"
             ],
             [
              0.2222222222222222,
              "#7201a8"
             ],
             [
              0.3333333333333333,
              "#9c179e"
             ],
             [
              0.4444444444444444,
              "#bd3786"
             ],
             [
              0.5555555555555556,
              "#d8576b"
             ],
             [
              0.6666666666666666,
              "#ed7953"
             ],
             [
              0.7777777777777778,
              "#fb9f3a"
             ],
             [
              0.8888888888888888,
              "#fdca26"
             ],
             [
              1,
              "#f0f921"
             ]
            ],
            "type": "contour"
           }
          ],
          "contourcarpet": [
           {
            "colorbar": {
             "outlinewidth": 0,
             "ticks": ""
            },
            "type": "contourcarpet"
           }
          ],
          "heatmap": [
           {
            "colorbar": {
             "outlinewidth": 0,
             "ticks": ""
            },
            "colorscale": [
             [
              0,
              "#0d0887"
             ],
             [
              0.1111111111111111,
              "#46039f"
             ],
             [
              0.2222222222222222,
              "#7201a8"
             ],
             [
              0.3333333333333333,
              "#9c179e"
             ],
             [
              0.4444444444444444,
              "#bd3786"
             ],
             [
              0.5555555555555556,
              "#d8576b"
             ],
             [
              0.6666666666666666,
              "#ed7953"
             ],
             [
              0.7777777777777778,
              "#fb9f3a"
             ],
             [
              0.8888888888888888,
              "#fdca26"
             ],
             [
              1,
              "#f0f921"
             ]
            ],
            "type": "heatmap"
           }
          ],
          "histogram": [
           {
            "marker": {
             "pattern": {
              "fillmode": "overlay",
              "size": 10,
              "solidity": 0.2
             }
            },
            "type": "histogram"
           }
          ],
          "histogram2d": [
           {
            "colorbar": {
             "outlinewidth": 0,
             "ticks": ""
            },
            "colorscale": [
             [
              0,
              "#0d0887"
             ],
             [
              0.1111111111111111,
              "#46039f"
             ],
             [
              0.2222222222222222,
              "#7201a8"
             ],
             [
              0.3333333333333333,
              "#9c179e"
             ],
             [
              0.4444444444444444,
              "#bd3786"
             ],
             [
              0.5555555555555556,
              "#d8576b"
             ],
             [
              0.6666666666666666,
              "#ed7953"
             ],
             [
              0.7777777777777778,
              "#fb9f3a"
             ],
             [
              0.8888888888888888,
              "#fdca26"
             ],
             [
              1,
              "#f0f921"
             ]
            ],
            "type": "histogram2d"
           }
          ],
          "histogram2dcontour": [
           {
            "colorbar": {
             "outlinewidth": 0,
             "ticks": ""
            },
            "colorscale": [
             [
              0,
              "#0d0887"
             ],
             [
              0.1111111111111111,
              "#46039f"
             ],
             [
              0.2222222222222222,
              "#7201a8"
             ],
             [
              0.3333333333333333,
              "#9c179e"
             ],
             [
              0.4444444444444444,
              "#bd3786"
             ],
             [
              0.5555555555555556,
              "#d8576b"
             ],
             [
              0.6666666666666666,
              "#ed7953"
             ],
             [
              0.7777777777777778,
              "#fb9f3a"
             ],
             [
              0.8888888888888888,
              "#fdca26"
             ],
             [
              1,
              "#f0f921"
             ]
            ],
            "type": "histogram2dcontour"
           }
          ],
          "mesh3d": [
           {
            "colorbar": {
             "outlinewidth": 0,
             "ticks": ""
            },
            "type": "mesh3d"
           }
          ],
          "parcoords": [
           {
            "line": {
             "colorbar": {
              "outlinewidth": 0,
              "ticks": ""
             }
            },
            "type": "parcoords"
           }
          ],
          "pie": [
           {
            "automargin": true,
            "type": "pie"
           }
          ],
          "scatter": [
           {
            "fillpattern": {
             "fillmode": "overlay",
             "size": 10,
             "solidity": 0.2
            },
            "type": "scatter"
           }
          ],
          "scatter3d": [
           {
            "line": {
             "colorbar": {
              "outlinewidth": 0,
              "ticks": ""
             }
            },
            "marker": {
             "colorbar": {
              "outlinewidth": 0,
              "ticks": ""
             }
            },
            "type": "scatter3d"
           }
          ],
          "scattercarpet": [
           {
            "marker": {
             "colorbar": {
              "outlinewidth": 0,
              "ticks": ""
             }
            },
            "type": "scattercarpet"
           }
          ],
          "scattergeo": [
           {
            "marker": {
             "colorbar": {
              "outlinewidth": 0,
              "ticks": ""
             }
            },
            "type": "scattergeo"
           }
          ],
          "scattergl": [
           {
            "marker": {
             "colorbar": {
              "outlinewidth": 0,
              "ticks": ""
             }
            },
            "type": "scattergl"
           }
          ],
          "scattermap": [
           {
            "marker": {
             "colorbar": {
              "outlinewidth": 0,
              "ticks": ""
             }
            },
            "type": "scattermap"
           }
          ],
          "scattermapbox": [
           {
            "marker": {
             "colorbar": {
              "outlinewidth": 0,
              "ticks": ""
             }
            },
            "type": "scattermapbox"
           }
          ],
          "scatterpolar": [
           {
            "marker": {
             "colorbar": {
              "outlinewidth": 0,
              "ticks": ""
             }
            },
            "type": "scatterpolar"
           }
          ],
          "scatterpolargl": [
           {
            "marker": {
             "colorbar": {
              "outlinewidth": 0,
              "ticks": ""
             }
            },
            "type": "scatterpolargl"
           }
          ],
          "scatterternary": [
           {
            "marker": {
             "colorbar": {
              "outlinewidth": 0,
              "ticks": ""
             }
            },
            "type": "scatterternary"
           }
          ],
          "surface": [
           {
            "colorbar": {
             "outlinewidth": 0,
             "ticks": ""
            },
            "colorscale": [
             [
              0,
              "#0d0887"
             ],
             [
              0.1111111111111111,
              "#46039f"
             ],
             [
              0.2222222222222222,
              "#7201a8"
             ],
             [
              0.3333333333333333,
              "#9c179e"
             ],
             [
              0.4444444444444444,
              "#bd3786"
             ],
             [
              0.5555555555555556,
              "#d8576b"
             ],
             [
              0.6666666666666666,
              "#ed7953"
             ],
             [
              0.7777777777777778,
              "#fb9f3a"
             ],
             [
              0.8888888888888888,
              "#fdca26"
             ],
             [
              1,
              "#f0f921"
             ]
            ],
            "type": "surface"
           }
          ],
          "table": [
           {
            "cells": {
             "fill": {
              "color": "#EBF0F8"
             },
             "line": {
              "color": "white"
             }
            },
            "header": {
             "fill": {
              "color": "#C8D4E3"
             },
             "line": {
              "color": "white"
             }
            },
            "type": "table"
           }
          ]
         },
         "layout": {
          "annotationdefaults": {
           "arrowcolor": "#2a3f5f",
           "arrowhead": 0,
           "arrowwidth": 1
          },
          "autotypenumbers": "strict",
          "coloraxis": {
           "colorbar": {
            "outlinewidth": 0,
            "ticks": ""
           }
          },
          "colorscale": {
           "diverging": [
            [
             0,
             "#8e0152"
            ],
            [
             0.1,
             "#c51b7d"
            ],
            [
             0.2,
             "#de77ae"
            ],
            [
             0.3,
             "#f1b6da"
            ],
            [
             0.4,
             "#fde0ef"
            ],
            [
             0.5,
             "#f7f7f7"
            ],
            [
             0.6,
             "#e6f5d0"
            ],
            [
             0.7,
             "#b8e186"
            ],
            [
             0.8,
             "#7fbc41"
            ],
            [
             0.9,
             "#4d9221"
            ],
            [
             1,
             "#276419"
            ]
           ],
           "sequential": [
            [
             0,
             "#0d0887"
            ],
            [
             0.1111111111111111,
             "#46039f"
            ],
            [
             0.2222222222222222,
             "#7201a8"
            ],
            [
             0.3333333333333333,
             "#9c179e"
            ],
            [
             0.4444444444444444,
             "#bd3786"
            ],
            [
             0.5555555555555556,
             "#d8576b"
            ],
            [
             0.6666666666666666,
             "#ed7953"
            ],
            [
             0.7777777777777778,
             "#fb9f3a"
            ],
            [
             0.8888888888888888,
             "#fdca26"
            ],
            [
             1,
             "#f0f921"
            ]
           ],
           "sequentialminus": [
            [
             0,
             "#0d0887"
            ],
            [
             0.1111111111111111,
             "#46039f"
            ],
            [
             0.2222222222222222,
             "#7201a8"
            ],
            [
             0.3333333333333333,
             "#9c179e"
            ],
            [
             0.4444444444444444,
             "#bd3786"
            ],
            [
             0.5555555555555556,
             "#d8576b"
            ],
            [
             0.6666666666666666,
             "#ed7953"
            ],
            [
             0.7777777777777778,
             "#fb9f3a"
            ],
            [
             0.8888888888888888,
             "#fdca26"
            ],
            [
             1,
             "#f0f921"
            ]
           ]
          },
          "colorway": [
           "#636efa",
           "#EF553B",
           "#00cc96",
           "#ab63fa",
           "#FFA15A",
           "#19d3f3",
           "#FF6692",
           "#B6E880",
           "#FF97FF",
           "#FECB52"
          ],
          "font": {
           "color": "#2a3f5f"
          },
          "geo": {
           "bgcolor": "white",
           "lakecolor": "white",
           "landcolor": "#E5ECF6",
           "showlakes": true,
           "showland": true,
           "subunitcolor": "white"
          },
          "hoverlabel": {
           "align": "left"
          },
          "hovermode": "closest",
          "mapbox": {
           "style": "light"
          },
          "paper_bgcolor": "white",
          "plot_bgcolor": "#E5ECF6",
          "polar": {
           "angularaxis": {
            "gridcolor": "white",
            "linecolor": "white",
            "ticks": ""
           },
           "bgcolor": "#E5ECF6",
           "radialaxis": {
            "gridcolor": "white",
            "linecolor": "white",
            "ticks": ""
           }
          },
          "scene": {
           "xaxis": {
            "backgroundcolor": "#E5ECF6",
            "gridcolor": "white",
            "gridwidth": 2,
            "linecolor": "white",
            "showbackground": true,
            "ticks": "",
            "zerolinecolor": "white"
           },
           "yaxis": {
            "backgroundcolor": "#E5ECF6",
            "gridcolor": "white",
            "gridwidth": 2,
            "linecolor": "white",
            "showbackground": true,
            "ticks": "",
            "zerolinecolor": "white"
           },
           "zaxis": {
            "backgroundcolor": "#E5ECF6",
            "gridcolor": "white",
            "gridwidth": 2,
            "linecolor": "white",
            "showbackground": true,
            "ticks": "",
            "zerolinecolor": "white"
           }
          },
          "shapedefaults": {
           "line": {
            "color": "#2a3f5f"
           }
          },
          "ternary": {
           "aaxis": {
            "gridcolor": "white",
            "linecolor": "white",
            "ticks": ""
           },
           "baxis": {
            "gridcolor": "white",
            "linecolor": "white",
            "ticks": ""
           },
           "bgcolor": "#E5ECF6",
           "caxis": {
            "gridcolor": "white",
            "linecolor": "white",
            "ticks": ""
           }
          },
          "title": {
           "x": 0.05
          },
          "xaxis": {
           "automargin": true,
           "gridcolor": "white",
           "linecolor": "white",
           "ticks": "",
           "title": {
            "standoff": 15
           },
           "zerolinecolor": "white",
           "zerolinewidth": 2
          },
          "yaxis": {
           "automargin": true,
           "gridcolor": "white",
           "linecolor": "white",
           "ticks": "",
           "title": {
            "standoff": 15
           },
           "zerolinecolor": "white",
           "zerolinewidth": 2
          }
         }
        },
        "title": {
         "text": "Hyperparameter Importances"
        },
        "xaxis": {
         "title": {
          "text": "Hyperparameter Importance"
         }
        },
        "yaxis": {
         "title": {
          "text": "Hyperparameter"
         }
        }
       }
      }
     },
     "metadata": {},
     "output_type": "display_data"
    },
    {
     "data": {
      "application/vnd.plotly.v1+json": {
       "config": {
        "plotlyServerURL": "https://plot.ly"
       },
       "data": [
        {
         "dimensions": [
          {
           "label": "Objective Value",
           "range": [
            0.8698273723382262,
            0.9022701863354037
           ],
           "values": [
            0.8911946169772257,
            0.8961908207566675,
            0.8795217391304347,
            0.9009989648033128,
            0.8982148025635724,
            0.8985734989648032,
            0.8895248447204969,
            0.8993291925465838,
            0.8909430641821946,
            0.8999710144927536,
            0.8955403726708075,
            0.894975155279503,
            0.8920124223602484,
            0.8961821946169772,
            0.8988385093167701,
            0.8798966301426505,
            0.8953695652173913,
            0.8936790890269151,
            0.8962277432712216,
            0.8982505175983437,
            0.8906264213355386,
            0.9009192546583851,
            0.8997060041407868,
            0.8994120082815734,
            0.9002587991718426,
            0.8897715526152574,
            0.9003333333333333,
            0.9006024844720496,
            0.8966952656605334,
            0.8881024844720498,
            0.8852846790890269,
            0.9017453416149068,
            0.899672877846791,
            0.8937543932189373,
            0.8992815734989649,
            0.9009565217391304,
            0.8950196402728965,
            0.8894420289855072,
            0.8985548654244306,
            0.8959679089026914,
            0.8944824016563147,
            0.901751552795031,
            0.9000662525879918,
            0.8935269795327682,
            0.8901602232788918,
            0.9013685300207039,
            0.8978550724637681,
            0.9003540372670806,
            0.8966594202898551,
            0.8698273723382262,
            0.899103519668737,
            0.9001490683229814,
            0.9006542443064183,
            0.900041407867495,
            0.8980424430641822,
            0.8933964803312628,
            0.8976418219461697,
            0.8891853002070393,
            0.8958012422360248,
            0.8983250517598342,
            0.8817159396320033,
            0.8987536231884059,
            0.8994968944099379,
            0.8991966873706003,
            0.9008012422360249,
            0.8984285714285714,
            0.896723602484472,
            0.8983105590062113,
            0.8966977225672879,
            0.8954248501137069,
            0.892790890269151,
            0.8994327122153208,
            0.8982463768115944,
            0.9008219461697723,
            0.9021438923395446,
            0.9009109730848861,
            0.8972710357659707,
            0.8886894409937888,
            0.8958610709117222,
            0.8939383915650196,
            0.8989151138716356,
            0.900371635610766,
            0.9020662525879919,
            0.8997467438494935,
            0.9016014492753623,
            0.8994159603059748,
            0.9015652173913044,
            0.9022701863354037,
            0.9007049689440993,
            0.8995041407867495,
            0.8895921325051759,
            0.8990179863551789,
            0.9006078147612155,
            0.9018850931677018,
            0.9021190476190477,
            0.9012163561076604,
            0.9004089026915113,
            0.9014585921325052,
            0.901600414078675,
            0.8986501035196689
           ]
          },
          {
           "label": "colsample_bytree",
           "range": [
            0.5157163028953773,
            0.9828160165372797
           ],
           "values": [
            0.5780093202212182,
            0.8540362888980227,
            0.5909124836035503,
            0.645614570099021,
            0.728034992108518,
            0.5232252063599989,
            0.9828160165372797,
            0.7200762468698007,
            0.6293899908000085,
            0.5924272277627636,
            0.8285618345363206,
            0.6557853050977308,
            0.5157163028953773,
            0.6734824884035394,
            0.8138214726279749,
            0.5778918965965927,
            0.7571327698524933,
            0.680371010605396,
            0.9102361265933461,
            0.614351296229114,
            0.5474863513918804,
            0.7275115570664461,
            0.756944480633148,
            0.7033355404254666,
            0.6376269840134073,
            0.6429878552979265,
            0.7952908891858085,
            0.7763454612992376,
            0.7744372824265301,
            0.8876141395838021,
            0.6954839359131603,
            0.79719517831469,
            0.8587984827340618,
            0.7834712577753977,
            0.7305883778847562,
            0.8398248614241018,
            0.9447673948102476,
            0.8514832068822036,
            0.8260997263626577,
            0.7361769321945031,
            0.8994339367268843,
            0.8023820002703892,
            0.8523916712309298,
            0.8039677703666224,
            0.7119877398564678,
            0.8342614486288608,
            0.8698999179259842,
            0.9274628776972462,
            0.8316484970857849,
            0.8205307406714311,
            0.9768123761457788,
            0.8801672469366695,
            0.7548176431237992,
            0.8361495581301877,
            0.7948066249630142,
            0.6739503038704736,
            0.745558132191818,
            0.8091487874183629,
            0.6135885108547756,
            0.5567598685384798,
            0.7754822389491034,
            0.7634935682764336,
            0.7213322935338431,
            0.8408279984124609,
            0.6553986864562732,
            0.6604808645572604,
            0.6280600911090055,
            0.586332716298337,
            0.6929362280320235,
            0.6575324545434152,
            0.6098183232257939,
            0.7966807439138002,
            0.7553050844882876,
            0.7837047275087078,
            0.817634295565079,
            0.8116434684100006,
            0.8108821731563784,
            0.8421296315733481,
            0.8150822716872467,
            0.8665098219574126,
            0.7889342467592821,
            0.7750198964734315,
            0.8228349617870903,
            0.8286794597498351,
            0.8498254253353937,
            0.8839524017704915,
            0.8482158181389325,
            0.8473402680590081,
            0.9090361865861736,
            0.8585802576950782,
            0.8721499717952519,
            0.8498902958490875,
            0.8976363014185136,
            0.8228108397434257,
            0.8010238727705226,
            0.8226879842451233,
            0.8443667497190467,
            0.8013689051814966,
            0.8044406029117226,
            0.7669277802321594
           ]
          },
          {
           "label": "learning_rate",
           "range": [
            -1.9828344305796597,
            -0.5287628109037015
           ],
           "ticktext": [
            "0.0104",
            "0.1",
            "0.296"
           ],
           "tickvals": [
            -1.9828344305796597,
            -1,
            -0.5287628109037015
           ],
           "values": [
            -0.9187561902243455,
            -0.7205528047446865,
            -0.7703812819387316,
            -1.224871121285176,
            -1.5684669301960237,
            -1.240413381110425,
            -1.9039109093480708,
            -1.8557264444077681,
            -1.9492039845423346,
            -1.23179647201826,
            -1.5183320336715933,
            -1.189531363191969,
            -1.0561173346474297,
            -1.5182091897854473,
            -1.3713986308031092,
            -0.5287628109037015,
            -1.0595229120952747,
            -1.7061176038705277,
            -1.3866894818695368,
            -1.1369833789279908,
            -0.9090368060597793,
            -1.7714534913817994,
            -1.384841716461022,
            -1.7053778322154054,
            -1.6977928618521874,
            -1.748208022373527,
            -1.6376031815231678,
            -1.5896645227169917,
            -1.7934906180700512,
            -1.9828344305796597,
            -1.3451113256502207,
            -1.6012361054325124,
            -1.4698770317929812,
            -1.618654237521672,
            -1.8417226827282451,
            -1.4581512425701355,
            -1.4915310438912317,
            -1.3163499385509898,
            -1.1277690797149555,
            -0.9256424304488168,
            -1.4415494260639188,
            -1.5998183447623597,
            -1.2887492495912445,
            -1.5861790798663504,
            -1.8686871088809618,
            -1.5525248420636402,
            -1.25425958705399,
            -1.5387158879419132,
            -1.6536016741132693,
            -1.4557792581015994,
            -1.4164953486207212,
            -1.7588198248787246,
            -1.540971119869047,
            -1.6449698329420108,
            -1.8926638468475225,
            -1.8214027782671218,
            -1.213286727415555,
            -1.7439127808606674,
            -1.6929990998247846,
            -1.5498352554155799,
            -1.9208652184463706,
            -1.5098229022929244,
            -1.5729478660023242,
            -1.4028729107743714,
            -1.6751132688919688,
            -1.787266855953272,
            -1.6987756404388084,
            -1.611502975131933,
            -1.1514709312269222,
            -1.667384143693748,
            -1.0706193696452424,
            -1.4971902026327277,
            -1.3506996450337536,
            -1.5457051273327067,
            -1.6050391980840129,
            -1.6103608106220577,
            -1.6000965775582354,
            -0.5538982247212371,
            -1.7443912777935544,
            -1.4370167586286908,
            -1.2960529504325728,
            -1.572753482578121,
            -1.6387894172692408,
            -1.4820721932809482,
            -1.6262341653312373,
            -1.6299750434325895,
            -1.7278722318194377,
            -1.658688017893494,
            -1.7323553148070312,
            -1.8228135627243591,
            -1.7135135402188064,
            -1.6518747866503303,
            -1.5117874314335267,
            -1.5770824114891748,
            -1.6748690534533908,
            -1.6594793642045094,
            -1.7873142337995367,
            -1.6298771109929848,
            -1.7181644784050987,
            -1.7175225655092872
           ]
          },
          {
           "label": "max_depth",
           "range": [
            3,
            12
           ],
           "values": [
            12,
            3,
            12,
            6,
            4,
            4,
            4,
            6,
            7,
            6,
            9,
            9,
            6,
            8,
            6,
            10,
            5,
            8,
            7,
            5,
            10,
            6,
            5,
            7,
            6,
            3,
            5,
            5,
            4,
            8,
            7,
            5,
            5,
            3,
            5,
            4,
            3,
            4,
            4,
            6,
            12,
            4,
            4,
            3,
            4,
            6,
            6,
            5,
            7,
            4,
            4,
            6,
            6,
            7,
            5,
            6,
            5,
            6,
            11,
            8,
            3,
            6,
            7,
            5,
            6,
            7,
            5,
            6,
            5,
            4,
            7,
            6,
            6,
            5,
            5,
            5,
            4,
            5,
            4,
            3,
            5,
            5,
            5,
            4,
            5,
            4,
            5,
            5,
            5,
            5,
            5,
            4,
            4,
            5,
            5,
            5,
            5,
            5,
            5,
            9
           ]
          },
          {
           "label": "n_estimators",
           "range": [
            11,
            299
           ],
           "values": [
            118,
            55,
            15,
            63,
            188,
            238,
            186,
            245,
            45,
            202,
            116,
            124,
            295,
            79,
            170,
            229,
            137,
            87,
            209,
            279,
            157,
            259,
            260,
            213,
            264,
            272,
            293,
            298,
            248,
            96,
            18,
            295,
            298,
            283,
            255,
            228,
            229,
            47,
            223,
            66,
            173,
            279,
            273,
            239,
            193,
            258,
            283,
            248,
            129,
            11,
            265,
            257,
            287,
            220,
            236,
            109,
            271,
            31,
            278,
            202,
            253,
            287,
            289,
            266,
            244,
            237,
            146,
            247,
            299,
            179,
            262,
            277,
            288,
            270,
            214,
            212,
            161,
            215,
            206,
            191,
            231,
            197,
            222,
            222,
            229,
            228,
            252,
            254,
            253,
            240,
            66,
            232,
            218,
            246,
            252,
            252,
            260,
            246,
            245,
            268
           ]
          },
          {
           "label": "subsample",
           "range": [
            0.5089809378074099,
            0.9969213925248545
           ],
           "values": [
            0.7993292420985183,
            0.8005575058716043,
            0.6061695553391381,
            0.7159725093210578,
            0.6831809216468459,
            0.7962072844310213,
            0.9744427686266666,
            0.8421165132560784,
            0.954660201039391,
            0.7733551396716398,
            0.5089809378074099,
            0.6758580632546128,
            0.7020422619457936,
            0.9112320253004818,
            0.5653256167561652,
            0.7371958781938814,
            0.6245147522729849,
            0.850793964729089,
            0.7439903301531757,
            0.8808313666551089,
            0.6332866197278096,
            0.8302996229142291,
            0.7704967525741168,
            0.71804991678614,
            0.8338962247920463,
            0.9093784190410645,
            0.8414817311561241,
            0.8835553940357284,
            0.9317127556537516,
            0.9969213925248545,
            0.8794034869628663,
            0.807384139069456,
            0.8006894263638783,
            0.8085477443882048,
            0.8826760035099229,
            0.6734837932258736,
            0.6622926792262114,
            0.587517624233036,
            0.7676787101437101,
            0.7243642463279346,
            0.697602230766969,
            0.8256861725171164,
            0.8134817438301098,
            0.7869659541655523,
            0.6619949358046523,
            0.7554890318027891,
            0.7554274984479138,
            0.7023416588894399,
            0.7282282180164771,
            0.7821359153438265,
            0.6496719416752297,
            0.833039676093771,
            0.8579552975990908,
            0.7511280232231836,
            0.8178880451127253,
            0.6986589686051049,
            0.8600009630437145,
            0.531386616653636,
            0.6812578145870263,
            0.8228663656005892,
            0.792744359535011,
            0.8677681061901328,
            0.9068961990281798,
            0.7600679649194108,
            0.852166442004215,
            0.7350680625944508,
            0.7138221658087422,
            0.6136012595945013,
            0.8407365779740281,
            0.8012992242209067,
            0.7756086738995195,
            0.8554046902733731,
            0.8681253021449215,
            0.8998489381564576,
            0.8973468986747749,
            0.9431795236417286,
            0.9414097451362136,
            0.930300149041258,
            0.9225677744266753,
            0.9550204286389965,
            0.9753551053347405,
            0.9072787555150131,
            0.9639666683468535,
            0.9943313498816344,
            0.9585206387835903,
            0.9691235033566681,
            0.984137639680101,
            0.9845124317828715,
            0.9766329789229508,
            0.9618792176584007,
            0.9912683396783389,
            0.9824130305582339,
            0.9457768670139733,
            0.9880220710631265,
            0.9596256193057306,
            0.9571811279152272,
            0.9857403093520085,
            0.962761999174556,
            0.965592442540115,
            0.9194546527209508
           ]
          }
         ],
         "labelangle": 30,
         "labelside": "bottom",
         "line": {
          "color": [
           0.8911946169772257,
           0.8961908207566675,
           0.8795217391304347,
           0.9009989648033128,
           0.8982148025635724,
           0.8985734989648032,
           0.8895248447204969,
           0.8993291925465838,
           0.8909430641821946,
           0.8999710144927536,
           0.8955403726708075,
           0.894975155279503,
           0.8920124223602484,
           0.8961821946169772,
           0.8988385093167701,
           0.8798966301426505,
           0.8953695652173913,
           0.8936790890269151,
           0.8962277432712216,
           0.8982505175983437,
           0.8906264213355386,
           0.9009192546583851,
           0.8997060041407868,
           0.8994120082815734,
           0.9002587991718426,
           0.8897715526152574,
           0.9003333333333333,
           0.9006024844720496,
           0.8966952656605334,
           0.8881024844720498,
           0.8852846790890269,
           0.9017453416149068,
           0.899672877846791,
           0.8937543932189373,
           0.8992815734989649,
           0.9009565217391304,
           0.8950196402728965,
           0.8894420289855072,
           0.8985548654244306,
           0.8959679089026914,
           0.8944824016563147,
           0.901751552795031,
           0.9000662525879918,
           0.8935269795327682,
           0.8901602232788918,
           0.9013685300207039,
           0.8978550724637681,
           0.9003540372670806,
           0.8966594202898551,
           0.8698273723382262,
           0.899103519668737,
           0.9001490683229814,
           0.9006542443064183,
           0.900041407867495,
           0.8980424430641822,
           0.8933964803312628,
           0.8976418219461697,
           0.8891853002070393,
           0.8958012422360248,
           0.8983250517598342,
           0.8817159396320033,
           0.8987536231884059,
           0.8994968944099379,
           0.8991966873706003,
           0.9008012422360249,
           0.8984285714285714,
           0.896723602484472,
           0.8983105590062113,
           0.8966977225672879,
           0.8954248501137069,
           0.892790890269151,
           0.8994327122153208,
           0.8982463768115944,
           0.9008219461697723,
           0.9021438923395446,
           0.9009109730848861,
           0.8972710357659707,
           0.8886894409937888,
           0.8958610709117222,
           0.8939383915650196,
           0.8989151138716356,
           0.900371635610766,
           0.9020662525879919,
           0.8997467438494935,
           0.9016014492753623,
           0.8994159603059748,
           0.9015652173913044,
           0.9022701863354037,
           0.9007049689440993,
           0.8995041407867495,
           0.8895921325051759,
           0.8990179863551789,
           0.9006078147612155,
           0.9018850931677018,
           0.9021190476190477,
           0.9012163561076604,
           0.9004089026915113,
           0.9014585921325052,
           0.901600414078675,
           0.8986501035196689
          ],
          "colorbar": {
           "title": {
            "text": "Objective Value"
           }
          },
          "colorscale": [
           [
            0,
            "rgb(247,251,255)"
           ],
           [
            0.125,
            "rgb(222,235,247)"
           ],
           [
            0.25,
            "rgb(198,219,239)"
           ],
           [
            0.375,
            "rgb(158,202,225)"
           ],
           [
            0.5,
            "rgb(107,174,214)"
           ],
           [
            0.625,
            "rgb(66,146,198)"
           ],
           [
            0.75,
            "rgb(33,113,181)"
           ],
           [
            0.875,
            "rgb(8,81,156)"
           ],
           [
            1,
            "rgb(8,48,107)"
           ]
          ],
          "reversescale": false,
          "showscale": true
         },
         "type": "parcoords"
        }
       ],
       "layout": {
        "template": {
         "data": {
          "bar": [
           {
            "error_x": {
             "color": "#2a3f5f"
            },
            "error_y": {
             "color": "#2a3f5f"
            },
            "marker": {
             "line": {
              "color": "#E5ECF6",
              "width": 0.5
             },
             "pattern": {
              "fillmode": "overlay",
              "size": 10,
              "solidity": 0.2
             }
            },
            "type": "bar"
           }
          ],
          "barpolar": [
           {
            "marker": {
             "line": {
              "color": "#E5ECF6",
              "width": 0.5
             },
             "pattern": {
              "fillmode": "overlay",
              "size": 10,
              "solidity": 0.2
             }
            },
            "type": "barpolar"
           }
          ],
          "carpet": [
           {
            "aaxis": {
             "endlinecolor": "#2a3f5f",
             "gridcolor": "white",
             "linecolor": "white",
             "minorgridcolor": "white",
             "startlinecolor": "#2a3f5f"
            },
            "baxis": {
             "endlinecolor": "#2a3f5f",
             "gridcolor": "white",
             "linecolor": "white",
             "minorgridcolor": "white",
             "startlinecolor": "#2a3f5f"
            },
            "type": "carpet"
           }
          ],
          "choropleth": [
           {
            "colorbar": {
             "outlinewidth": 0,
             "ticks": ""
            },
            "type": "choropleth"
           }
          ],
          "contour": [
           {
            "colorbar": {
             "outlinewidth": 0,
             "ticks": ""
            },
            "colorscale": [
             [
              0,
              "#0d0887"
             ],
             [
              0.1111111111111111,
              "#46039f"
             ],
             [
              0.2222222222222222,
              "#7201a8"
             ],
             [
              0.3333333333333333,
              "#9c179e"
             ],
             [
              0.4444444444444444,
              "#bd3786"
             ],
             [
              0.5555555555555556,
              "#d8576b"
             ],
             [
              0.6666666666666666,
              "#ed7953"
             ],
             [
              0.7777777777777778,
              "#fb9f3a"
             ],
             [
              0.8888888888888888,
              "#fdca26"
             ],
             [
              1,
              "#f0f921"
             ]
            ],
            "type": "contour"
           }
          ],
          "contourcarpet": [
           {
            "colorbar": {
             "outlinewidth": 0,
             "ticks": ""
            },
            "type": "contourcarpet"
           }
          ],
          "heatmap": [
           {
            "colorbar": {
             "outlinewidth": 0,
             "ticks": ""
            },
            "colorscale": [
             [
              0,
              "#0d0887"
             ],
             [
              0.1111111111111111,
              "#46039f"
             ],
             [
              0.2222222222222222,
              "#7201a8"
             ],
             [
              0.3333333333333333,
              "#9c179e"
             ],
             [
              0.4444444444444444,
              "#bd3786"
             ],
             [
              0.5555555555555556,
              "#d8576b"
             ],
             [
              0.6666666666666666,
              "#ed7953"
             ],
             [
              0.7777777777777778,
              "#fb9f3a"
             ],
             [
              0.8888888888888888,
              "#fdca26"
             ],
             [
              1,
              "#f0f921"
             ]
            ],
            "type": "heatmap"
           }
          ],
          "histogram": [
           {
            "marker": {
             "pattern": {
              "fillmode": "overlay",
              "size": 10,
              "solidity": 0.2
             }
            },
            "type": "histogram"
           }
          ],
          "histogram2d": [
           {
            "colorbar": {
             "outlinewidth": 0,
             "ticks": ""
            },
            "colorscale": [
             [
              0,
              "#0d0887"
             ],
             [
              0.1111111111111111,
              "#46039f"
             ],
             [
              0.2222222222222222,
              "#7201a8"
             ],
             [
              0.3333333333333333,
              "#9c179e"
             ],
             [
              0.4444444444444444,
              "#bd3786"
             ],
             [
              0.5555555555555556,
              "#d8576b"
             ],
             [
              0.6666666666666666,
              "#ed7953"
             ],
             [
              0.7777777777777778,
              "#fb9f3a"
             ],
             [
              0.8888888888888888,
              "#fdca26"
             ],
             [
              1,
              "#f0f921"
             ]
            ],
            "type": "histogram2d"
           }
          ],
          "histogram2dcontour": [
           {
            "colorbar": {
             "outlinewidth": 0,
             "ticks": ""
            },
            "colorscale": [
             [
              0,
              "#0d0887"
             ],
             [
              0.1111111111111111,
              "#46039f"
             ],
             [
              0.2222222222222222,
              "#7201a8"
             ],
             [
              0.3333333333333333,
              "#9c179e"
             ],
             [
              0.4444444444444444,
              "#bd3786"
             ],
             [
              0.5555555555555556,
              "#d8576b"
             ],
             [
              0.6666666666666666,
              "#ed7953"
             ],
             [
              0.7777777777777778,
              "#fb9f3a"
             ],
             [
              0.8888888888888888,
              "#fdca26"
             ],
             [
              1,
              "#f0f921"
             ]
            ],
            "type": "histogram2dcontour"
           }
          ],
          "mesh3d": [
           {
            "colorbar": {
             "outlinewidth": 0,
             "ticks": ""
            },
            "type": "mesh3d"
           }
          ],
          "parcoords": [
           {
            "line": {
             "colorbar": {
              "outlinewidth": 0,
              "ticks": ""
             }
            },
            "type": "parcoords"
           }
          ],
          "pie": [
           {
            "automargin": true,
            "type": "pie"
           }
          ],
          "scatter": [
           {
            "fillpattern": {
             "fillmode": "overlay",
             "size": 10,
             "solidity": 0.2
            },
            "type": "scatter"
           }
          ],
          "scatter3d": [
           {
            "line": {
             "colorbar": {
              "outlinewidth": 0,
              "ticks": ""
             }
            },
            "marker": {
             "colorbar": {
              "outlinewidth": 0,
              "ticks": ""
             }
            },
            "type": "scatter3d"
           }
          ],
          "scattercarpet": [
           {
            "marker": {
             "colorbar": {
              "outlinewidth": 0,
              "ticks": ""
             }
            },
            "type": "scattercarpet"
           }
          ],
          "scattergeo": [
           {
            "marker": {
             "colorbar": {
              "outlinewidth": 0,
              "ticks": ""
             }
            },
            "type": "scattergeo"
           }
          ],
          "scattergl": [
           {
            "marker": {
             "colorbar": {
              "outlinewidth": 0,
              "ticks": ""
             }
            },
            "type": "scattergl"
           }
          ],
          "scattermap": [
           {
            "marker": {
             "colorbar": {
              "outlinewidth": 0,
              "ticks": ""
             }
            },
            "type": "scattermap"
           }
          ],
          "scattermapbox": [
           {
            "marker": {
             "colorbar": {
              "outlinewidth": 0,
              "ticks": ""
             }
            },
            "type": "scattermapbox"
           }
          ],
          "scatterpolar": [
           {
            "marker": {
             "colorbar": {
              "outlinewidth": 0,
              "ticks": ""
             }
            },
            "type": "scatterpolar"
           }
          ],
          "scatterpolargl": [
           {
            "marker": {
             "colorbar": {
              "outlinewidth": 0,
              "ticks": ""
             }
            },
            "type": "scatterpolargl"
           }
          ],
          "scatterternary": [
           {
            "marker": {
             "colorbar": {
              "outlinewidth": 0,
              "ticks": ""
             }
            },
            "type": "scatterternary"
           }
          ],
          "surface": [
           {
            "colorbar": {
             "outlinewidth": 0,
             "ticks": ""
            },
            "colorscale": [
             [
              0,
              "#0d0887"
             ],
             [
              0.1111111111111111,
              "#46039f"
             ],
             [
              0.2222222222222222,
              "#7201a8"
             ],
             [
              0.3333333333333333,
              "#9c179e"
             ],
             [
              0.4444444444444444,
              "#bd3786"
             ],
             [
              0.5555555555555556,
              "#d8576b"
             ],
             [
              0.6666666666666666,
              "#ed7953"
             ],
             [
              0.7777777777777778,
              "#fb9f3a"
             ],
             [
              0.8888888888888888,
              "#fdca26"
             ],
             [
              1,
              "#f0f921"
             ]
            ],
            "type": "surface"
           }
          ],
          "table": [
           {
            "cells": {
             "fill": {
              "color": "#EBF0F8"
             },
             "line": {
              "color": "white"
             }
            },
            "header": {
             "fill": {
              "color": "#C8D4E3"
             },
             "line": {
              "color": "white"
             }
            },
            "type": "table"
           }
          ]
         },
         "layout": {
          "annotationdefaults": {
           "arrowcolor": "#2a3f5f",
           "arrowhead": 0,
           "arrowwidth": 1
          },
          "autotypenumbers": "strict",
          "coloraxis": {
           "colorbar": {
            "outlinewidth": 0,
            "ticks": ""
           }
          },
          "colorscale": {
           "diverging": [
            [
             0,
             "#8e0152"
            ],
            [
             0.1,
             "#c51b7d"
            ],
            [
             0.2,
             "#de77ae"
            ],
            [
             0.3,
             "#f1b6da"
            ],
            [
             0.4,
             "#fde0ef"
            ],
            [
             0.5,
             "#f7f7f7"
            ],
            [
             0.6,
             "#e6f5d0"
            ],
            [
             0.7,
             "#b8e186"
            ],
            [
             0.8,
             "#7fbc41"
            ],
            [
             0.9,
             "#4d9221"
            ],
            [
             1,
             "#276419"
            ]
           ],
           "sequential": [
            [
             0,
             "#0d0887"
            ],
            [
             0.1111111111111111,
             "#46039f"
            ],
            [
             0.2222222222222222,
             "#7201a8"
            ],
            [
             0.3333333333333333,
             "#9c179e"
            ],
            [
             0.4444444444444444,
             "#bd3786"
            ],
            [
             0.5555555555555556,
             "#d8576b"
            ],
            [
             0.6666666666666666,
             "#ed7953"
            ],
            [
             0.7777777777777778,
             "#fb9f3a"
            ],
            [
             0.8888888888888888,
             "#fdca26"
            ],
            [
             1,
             "#f0f921"
            ]
           ],
           "sequentialminus": [
            [
             0,
             "#0d0887"
            ],
            [
             0.1111111111111111,
             "#46039f"
            ],
            [
             0.2222222222222222,
             "#7201a8"
            ],
            [
             0.3333333333333333,
             "#9c179e"
            ],
            [
             0.4444444444444444,
             "#bd3786"
            ],
            [
             0.5555555555555556,
             "#d8576b"
            ],
            [
             0.6666666666666666,
             "#ed7953"
            ],
            [
             0.7777777777777778,
             "#fb9f3a"
            ],
            [
             0.8888888888888888,
             "#fdca26"
            ],
            [
             1,
             "#f0f921"
            ]
           ]
          },
          "colorway": [
           "#636efa",
           "#EF553B",
           "#00cc96",
           "#ab63fa",
           "#FFA15A",
           "#19d3f3",
           "#FF6692",
           "#B6E880",
           "#FF97FF",
           "#FECB52"
          ],
          "font": {
           "color": "#2a3f5f"
          },
          "geo": {
           "bgcolor": "white",
           "lakecolor": "white",
           "landcolor": "#E5ECF6",
           "showlakes": true,
           "showland": true,
           "subunitcolor": "white"
          },
          "hoverlabel": {
           "align": "left"
          },
          "hovermode": "closest",
          "mapbox": {
           "style": "light"
          },
          "paper_bgcolor": "white",
          "plot_bgcolor": "#E5ECF6",
          "polar": {
           "angularaxis": {
            "gridcolor": "white",
            "linecolor": "white",
            "ticks": ""
           },
           "bgcolor": "#E5ECF6",
           "radialaxis": {
            "gridcolor": "white",
            "linecolor": "white",
            "ticks": ""
           }
          },
          "scene": {
           "xaxis": {
            "backgroundcolor": "#E5ECF6",
            "gridcolor": "white",
            "gridwidth": 2,
            "linecolor": "white",
            "showbackground": true,
            "ticks": "",
            "zerolinecolor": "white"
           },
           "yaxis": {
            "backgroundcolor": "#E5ECF6",
            "gridcolor": "white",
            "gridwidth": 2,
            "linecolor": "white",
            "showbackground": true,
            "ticks": "",
            "zerolinecolor": "white"
           },
           "zaxis": {
            "backgroundcolor": "#E5ECF6",
            "gridcolor": "white",
            "gridwidth": 2,
            "linecolor": "white",
            "showbackground": true,
            "ticks": "",
            "zerolinecolor": "white"
           }
          },
          "shapedefaults": {
           "line": {
            "color": "#2a3f5f"
           }
          },
          "ternary": {
           "aaxis": {
            "gridcolor": "white",
            "linecolor": "white",
            "ticks": ""
           },
           "baxis": {
            "gridcolor": "white",
            "linecolor": "white",
            "ticks": ""
           },
           "bgcolor": "#E5ECF6",
           "caxis": {
            "gridcolor": "white",
            "linecolor": "white",
            "ticks": ""
           }
          },
          "title": {
           "x": 0.05
          },
          "xaxis": {
           "automargin": true,
           "gridcolor": "white",
           "linecolor": "white",
           "ticks": "",
           "title": {
            "standoff": 15
           },
           "zerolinecolor": "white",
           "zerolinewidth": 2
          },
          "yaxis": {
           "automargin": true,
           "gridcolor": "white",
           "linecolor": "white",
           "ticks": "",
           "title": {
            "standoff": 15
           },
           "zerolinecolor": "white",
           "zerolinewidth": 2
          }
         }
        },
        "title": {
         "text": "Parallel Coordinate Plot"
        }
       }
      }
     },
     "metadata": {},
     "output_type": "display_data"
    }
   ],
   "source": [
    "optuna.visualization.plot_optimization_history(study).show()\n",
    "optuna.visualization.plot_param_importances(study).show()\n",
    "optuna.visualization.plot_parallel_coordinate(study).show()"
   ]
  },
  {
   "cell_type": "code",
   "execution_count": 1532,
   "id": "7ab2fbb3",
   "metadata": {},
   "outputs": [
    {
     "data": {
      "text/html": [
       "<div>\n",
       "<style scoped>\n",
       "    .dataframe tbody tr th:only-of-type {\n",
       "        vertical-align: middle;\n",
       "    }\n",
       "\n",
       "    .dataframe tbody tr th {\n",
       "        vertical-align: top;\n",
       "    }\n",
       "\n",
       "    .dataframe thead th {\n",
       "        text-align: right;\n",
       "    }\n",
       "</style>\n",
       "<table border=\"1\" class=\"dataframe\">\n",
       "  <thead>\n",
       "    <tr style=\"text-align: right;\">\n",
       "      <th></th>\n",
       "      <th>Accuracy</th>\n",
       "      <th>Precision</th>\n",
       "      <th>Recall</th>\n",
       "      <th>F1-score</th>\n",
       "      <th>ROC AUC</th>\n",
       "    </tr>\n",
       "  </thead>\n",
       "  <tbody>\n",
       "    <tr>\n",
       "      <th>score</th>\n",
       "      <td>0.79931</td>\n",
       "      <td>0.782888</td>\n",
       "      <td>0.833713</td>\n",
       "      <td>0.807501</td>\n",
       "      <td>0.892602</td>\n",
       "    </tr>\n",
       "  </tbody>\n",
       "</table>\n",
       "</div>"
      ],
      "text/plain": [
       "       Accuracy  Precision    Recall  F1-score   ROC AUC\n",
       "score   0.79931   0.782888  0.833713  0.807501  0.892602"
      ]
     },
     "execution_count": 1532,
     "metadata": {},
     "output_type": "execute_result"
    }
   ],
   "source": [
    "evaluate_classification(y_proba, y_valid)"
   ]
  },
  {
   "cell_type": "code",
   "execution_count": 1533,
   "id": "ac6ca0d9",
   "metadata": {},
   "outputs": [
    {
     "data": {
      "image/png": "[encoded data removed]",
      "text/plain": [
       "<Figure size 640x480 with 1 Axes>"
      ]
     },
     "metadata": {},
     "output_type": "display_data"
    }
   ],
   "source": [
    "plot_confusion_matrix(y_valid, y_pred)"
   ]
  },
  {
   "cell_type": "code",
   "execution_count": 1534,
   "id": "3812de61",
   "metadata": {},
   "outputs": [
    {
     "data": {
      "image/png": "[encoded data removed]",
      "text/plain": [
       "<Figure size 1000x600 with 1 Axes>"
      ]
     },
     "metadata": {},
     "output_type": "display_data"
    }
   ],
   "source": [
    "importance_dict = model.get_booster().get_score(importance_type=\"gain\")\n",
    "\n",
    "importance_df = pd.DataFrame(\n",
    "    {\n",
    "        \"feature\": list(importance_dict.keys()),\n",
    "        \"importance\": list(importance_dict.values()),\n",
    "    }\n",
    ")\n",
    "\n",
    "plot_feature_importance(importance_df)"
   ]
  },
  {
   "cell_type": "markdown",
   "id": "ca5f22ec",
   "metadata": {},
   "source": [
    "### 🧠 Final Model Training"
   ]
  },
  {
   "cell_type": "code",
   "execution_count": 1535,
   "id": "be3667c3",
   "metadata": {
    "execution": {
     "iopub.execute_input": "2025-07-30T17:26:22.551139Z",
     "iopub.status.busy": "2025-07-30T17:26:22.550274Z",
     "iopub.status.idle": "2025-07-30T17:26:22.568200Z",
     "shell.execute_reply": "2025-07-30T17:26:22.567147Z"
    },
    "papermill": {
     "duration": 0.040704,
     "end_time": "2025-07-30T17:26:22.570058",
     "exception": false,
     "start_time": "2025-07-30T17:26:22.529354",
     "status": "completed"
    },
    "tags": []
   },
   "outputs": [
    {
     "name": "stdout",
     "output_type": "stream",
     "text": [
      "\u001b[32mSubmission was successfully saved!\u001b[0m\n"
     ]
    }
   ],
   "source": [
    "final_model = xgb.XGBClassifier(\n",
    "    **study.best_params, eval_metric=\"logloss\", random_state=42\n",
    ")\n",
    "final_model.fit(X, y)\n",
    "\n",
    "submission_predictions = final_model.predict(dm.test_df[features])\n",
    "\n",
    "if should_save_submission:\n",
    "    submission_df = pd.DataFrame(\n",
    "        {\n",
    "            \"PassengerId\": dm.test_df[\"PassengerId\"],\n",
    "            \"Transported\": submission_predictions.astype(bool),\n",
    "        }\n",
    "    )\n",
    "    submission_df.to_csv(\"submission.csv\", index=False)\n",
    "    print(f\"{Fore.GREEN}Submission was successfully saved!{Style.RESET_ALL}\")\n",
    "else:\n",
    "    print(f\"{Fore.YELLOW}Submission not saved.{Style.RESET_ALL}\")"
   ]
  }
 ],
 "metadata": {
  "kaggle": {
   "accelerator": "none",
   "dataSources": [
    {
     "databundleVersionId": 26502,
     "sourceId": 3136,
     "sourceType": "competition"
    }
   ],
   "dockerImageVersionId": 31089,
   "isGpuEnabled": false,
   "isInternetEnabled": false,
   "language": "python",
   "sourceType": "notebook"
  },
  "kernelspec": {
   "display_name": "python-project-template-py3.13",
   "language": "python",
   "name": "python3"
  },
  "language_info": {
   "codemirror_mode": {
    "name": "ipython",
    "version": 3
   },
   "file_extension": ".py",
   "mimetype": "text/x-python",
   "name": "python",
   "nbconvert_exporter": "python",
   "pygments_lexer": "ipython3",
   "version": "3.13.3"
  },
  "papermill": {
   "default_parameters": {},
   "duration": 47.222052,
   "end_time": "2025-07-30T17:26:23.412466",
   "environment_variables": {},
   "exception": null,
   "input_path": "__notebook__.ipynb",
   "output_path": "__notebook__.ipynb",
   "parameters": {},
   "start_time": "2025-07-30T17:25:36.190414",
   "version": "2.6.0"
  }
 },
 "nbformat": 4,
 "nbformat_minor": 5
}
