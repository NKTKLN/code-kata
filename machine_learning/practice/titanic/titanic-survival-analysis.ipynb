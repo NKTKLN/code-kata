{
 "cells": [
  {
   "cell_type": "markdown",
   "id": "45b6f184",
   "metadata": {
    "papermill": {
     "duration": 0.006438,
     "end_time": "2025-07-30T17:25:41.202587",
     "exception": false,
     "start_time": "2025-07-30T17:25:41.196149",
     "status": "completed"
    },
    "tags": []
   },
   "source": [
    "# 🚢 Titanic Survival Analysis"
   ]
  },
  {
   "cell_type": "markdown",
   "id": "c7b2b922",
   "metadata": {},
   "source": [
    "### ⚙️ Importing Libraries & Environment Setup"
   ]
  },
  {
   "cell_type": "code",
   "execution_count": 290,
   "id": "6d1ee72d",
   "metadata": {
    "execution": {
     "iopub.execute_input": "2025-07-30T17:25:43.105382Z",
     "iopub.status.busy": "2025-07-30T17:25:43.104981Z",
     "iopub.status.idle": "2025-07-30T17:25:46.742335Z",
     "shell.execute_reply": "2025-07-30T17:25:46.741410Z"
    },
    "papermill": {
     "duration": 3.645523,
     "end_time": "2025-07-30T17:25:46.744005",
     "exception": false,
     "start_time": "2025-07-30T17:25:43.098482",
     "status": "completed"
    },
    "tags": []
   },
   "outputs": [],
   "source": [
    "import os\n",
    "from typing import Any, Callable\n",
    "\n",
    "import matplotlib.pyplot as plt\n",
    "import numpy as np\n",
    "import optuna\n",
    "import pandas as pd\n",
    "import seaborn as sns\n",
    "import xgboost as xgb\n",
    "from colorama import Fore, Style\n",
    "from numpy.typing import NDArray\n",
    "from sklearn.dummy import DummyRegressor\n",
    "from sklearn.ensemble import RandomForestRegressor\n",
    "from sklearn.metrics import (\n",
    "    accuracy_score,\n",
    "    confusion_matrix,\n",
    "    explained_variance_score,\n",
    "    f1_score,\n",
    "    mean_absolute_error,\n",
    "    mean_squared_error,\n",
    "    precision_score,\n",
    "    r2_score,\n",
    "    recall_score,\n",
    "    roc_auc_score,\n",
    "    root_mean_squared_error,\n",
    ")\n",
    "from sklearn.model_selection import (\n",
    "    KFold,\n",
    "    StratifiedKFold,\n",
    "    cross_val_score,\n",
    "    train_test_split,\n",
    ")\n",
    "from sklearn.neighbors import KNeighborsRegressor\n",
    "from sklearn.pipeline import Pipeline\n",
    "from sklearn.preprocessing import LabelEncoder, StandardScaler"
   ]
  },
  {
   "cell_type": "code",
   "execution_count": 291,
   "id": "f5b9b09a",
   "metadata": {},
   "outputs": [],
   "source": [
    "%matplotlib inline\n",
    "\n",
    "pd.set_option(\"display.width\", 175)\n",
    "pd.set_option(\"display.max_rows\", 100)\n",
    "pd.set_option(\"display.max_columns\", None)"
   ]
  },
  {
   "cell_type": "code",
   "execution_count": 292,
   "id": "7cfaae9e",
   "metadata": {},
   "outputs": [],
   "source": [
    "should_save_submission = True\n",
    "\n",
    "# Determine dataset directory based on environment\n",
    "if os.path.exists(\"/kaggle/input/titanic\"):\n",
    "    dataset_path = \"/kaggle/input/titanic\"  # Kaggle\n",
    "    should_save_submission = True\n",
    "elif os.path.exists(\"./dataset\"):\n",
    "    dataset_path = \"./dataset\"  # Local\n",
    "else:\n",
    "    raise FileNotFoundError(\"Dataset directory not found.\")"
   ]
  },
  {
   "cell_type": "markdown",
   "id": "0ce779c0",
   "metadata": {
    "papermill": {
     "duration": 0.00588,
     "end_time": "2025-07-30T17:25:46.755856",
     "exception": false,
     "start_time": "2025-07-30T17:25:46.749976",
     "status": "completed"
    },
    "tags": []
   },
   "source": [
    "## 🛠️ Utility Functions"
   ]
  },
  {
   "cell_type": "code",
   "execution_count": 293,
   "id": "43a9a90e",
   "metadata": {
    "execution": {
     "iopub.execute_input": "2025-07-30T17:25:46.768502Z",
     "iopub.status.busy": "2025-07-30T17:25:46.767521Z",
     "iopub.status.idle": "2025-07-30T17:25:46.776691Z",
     "shell.execute_reply": "2025-07-30T17:25:46.775797Z"
    },
    "papermill": {
     "duration": 0.0172,
     "end_time": "2025-07-30T17:25:46.778347",
     "exception": false,
     "start_time": "2025-07-30T17:25:46.761147",
     "status": "completed"
    },
    "tags": []
   },
   "outputs": [],
   "source": [
    "def evaluate_regression_models(\n",
    "    predictions: dict[str, NDArray[np.float64]], y: NDArray[np.float64]\n",
    ") -> pd.DataFrame:\n",
    "    \"\"\"Evaluate multiple regression model predictions on the given dataset.\n",
    "\n",
    "    Args:\n",
    "        predictions (dict[str, NDArray[np.float64]]): Dictionary where keys are\n",
    "            model names and values are predicted target arrays corresponding to X.\n",
    "        y (NDArray[np.float64]): True target values of shape (n_samples,).\n",
    "\n",
    "    Returns:\n",
    "        pd.DataFrame: DataFrame with evaluation metrics (MAE, MSE, RMSE, R², EVS) for\n",
    "            each model. Columns correspond to model names; rows correspond to metrics.\n",
    "    \"\"\"\n",
    "    evaluations = pd.DataFrame(\n",
    "        columns=predictions.keys(), index=[\"MAE\", \"MSE\", \"RMSE\", \"R²\", \"EVS\"]\n",
    "    )\n",
    "\n",
    "    for name, y_pred in predictions.items():\n",
    "        metrics = {\n",
    "            \"MAE\": mean_absolute_error(y, y_pred),\n",
    "            \"MSE\": mean_squared_error(y, y_pred),\n",
    "            \"RMSE\": root_mean_squared_error(y, y_pred),\n",
    "            \"R²\": r2_score(y, y_pred),\n",
    "            \"EVS\": explained_variance_score(y, y_pred),\n",
    "        }\n",
    "\n",
    "        evaluations.loc[:, name] = metrics\n",
    "\n",
    "    return evaluations.astype(float)"
   ]
  },
  {
   "cell_type": "code",
   "execution_count": 294,
   "id": "8ba1415f",
   "metadata": {},
   "outputs": [],
   "source": [
    "def evaluate_classification(\n",
    "    y_pred: NDArray[np.float64], y_true: NDArray[np.float64]\n",
    ") -> pd.DataFrame:\n",
    "    \"\"\"Evaluate multiple classification model predictions on the provided dataset.\n",
    "\n",
    "    Args:\n",
    "        y_pred (NDArray[np.float64]): Predicted probabilities or binary outputs.\n",
    "        y_true (NDArray[np.float64]): True binary target values of shape (n_samples,).\n",
    "\n",
    "    Returns:\n",
    "        pd.DataFrame: DataFrame containing classification metrics — Accuracy, Precision,\n",
    "            Recall, F1-score, and ROC AUC. Rows correspond to the metric names.\n",
    "    \"\"\"\n",
    "    # If predictions are probabilities, binarize with threshold 0.5\n",
    "    y_pred_bin = (y_pred > 0.5).astype(int)\n",
    "\n",
    "    metrics = {\n",
    "        \"Accuracy\": accuracy_score(y_true, y_pred_bin),\n",
    "        \"Precision\": precision_score(y_true, y_pred_bin),\n",
    "        \"Recall\": recall_score(y_true, y_pred_bin),\n",
    "        \"F1-score\": f1_score(y_true, y_pred_bin),\n",
    "        \"ROC AUC\": roc_auc_score(y_true, y_pred),\n",
    "    }\n",
    "\n",
    "    return pd.DataFrame.from_dict(metrics, orient=\"index\", columns=[\"score\"]).T"
   ]
  },
  {
   "cell_type": "code",
   "execution_count": 295,
   "id": "49bc7069",
   "metadata": {
    "execution": {
     "iopub.execute_input": "2025-07-30T17:25:46.790630Z",
     "iopub.status.busy": "2025-07-30T17:25:46.790324Z",
     "iopub.status.idle": "2025-07-30T17:25:46.795915Z",
     "shell.execute_reply": "2025-07-30T17:25:46.794982Z"
    },
    "papermill": {
     "duration": 0.013463,
     "end_time": "2025-07-30T17:25:46.797414",
     "exception": false,
     "start_time": "2025-07-30T17:25:46.783951",
     "status": "completed"
    },
    "tags": []
   },
   "outputs": [],
   "source": [
    "def plot_confusion_matrix(y_true: NDArray[np.int64], y_pred: NDArray[np.int64]) -> None:\n",
    "    \"\"\"Display a confusion matrix using seaborn heatmap.\n",
    "\n",
    "    Args:\n",
    "        y_true (NDArray[np.int64]): True labels.\n",
    "        y_pred (NDArray[np.int64]): Predicted labels.\n",
    "    \"\"\"\n",
    "    conf_matrix = confusion_matrix(y_true, y_pred)\n",
    "\n",
    "    sns.heatmap(\n",
    "        conf_matrix,\n",
    "        annot=True,\n",
    "        fmt=\"d\",\n",
    "        cmap=\"Blues\",\n",
    "        cbar=False,\n",
    "    )\n",
    "    plt.xlabel(\"Predicted Labels\")\n",
    "    plt.ylabel(\"True Labels\")\n",
    "    plt.title(\"Confusion Matrix\")\n",
    "    plt.show()"
   ]
  },
  {
   "cell_type": "code",
   "execution_count": 332,
   "id": "5e95e0a6",
   "metadata": {},
   "outputs": [],
   "source": [
    "def plot_feature_importance(importance_df: pd.DataFrame) -> None:\n",
    "    \"\"\"Display feature importance barplot using seaborn.\n",
    "\n",
    "    Args:\n",
    "        importance_df (pd.DataFrame): DataFrame с двумя столбцами:\n",
    "            'feature' — названия признаков,\n",
    "            'importance' — значения важности.\n",
    "    \"\"\"\n",
    "    importance_df = importance_df.sort_values(by=\"importance\", ascending=False)\n",
    "\n",
    "    plt.figure(figsize=(10, 6))\n",
    "    sns.barplot(\n",
    "        data=importance_df,\n",
    "        x=\"importance\",\n",
    "        y=\"feature\",\n",
    "        hue=\"feature\",\n",
    "        palette=\"viridis\",\n",
    "    )\n",
    "    plt.title(\"Feature Importance (Gain)\")\n",
    "    plt.xlabel(\"Importance\")\n",
    "    plt.ylabel(\"Feature\")\n",
    "    plt.tight_layout()\n",
    "    plt.show()"
   ]
  },
  {
   "cell_type": "code",
   "execution_count": 297,
   "id": "2b978a41",
   "metadata": {},
   "outputs": [],
   "source": [
    "class PandasProxy:\n",
    "    \"\"\"A proxy class that provides controlled access to a pandas DataFrame.\"\"\"\n",
    "\n",
    "    def __init__(\n",
    "        self, get_df: Callable[[], pd.DataFrame], set_df: Callable[[pd.DataFrame], None]\n",
    "    ) -> None:\n",
    "        \"\"\"Initialize the proxy with getter and setter functions.\n",
    "\n",
    "        Args:\n",
    "            get_df (Callable[[], pd.DataFrame]): Function to retrieve the DataFrame.\n",
    "            set_df (Callable[[pd.DataFrame], None]): Function to set/update the\n",
    "                DataFrame.\n",
    "        \"\"\"\n",
    "        self._get_df = get_df\n",
    "        self._set_df = set_df\n",
    "\n",
    "    def __getitem__(self, key: Any) -> Any:\n",
    "        \"\"\"Retrieve an item from the proxied DataFrame.\"\"\"\n",
    "        return self._get_df()[key]\n",
    "\n",
    "    def __setitem__(self, key: Any, value: Any) -> None:\n",
    "        \"\"\"Set a value in the proxied DataFrame and update it.\"\"\"\n",
    "        df = self._get_df()\n",
    "        df[key] = value\n",
    "        self._set_df(df)\n",
    "\n",
    "    def __getattr__(self, name: str) -> Any:\n",
    "        \"\"\"Forward attribute access to the proxied DataFrame.\"\"\"\n",
    "        return getattr(self._get_df(), name)\n",
    "\n",
    "\n",
    "class DatasetManager:\n",
    "    \"\"\"Manages training and testing datasets.\n",
    "\n",
    "    This class maintains synchronization between the separate train/test DataFrames and\n",
    "    their concatenated form. Updating the combined DataFrame automatically updates\n",
    "    the individual train and test DataFrames.\n",
    "    \"\"\"\n",
    "\n",
    "    def __init__(self, train_df: pd.DataFrame, test_df: pd.DataFrame) -> None:\n",
    "        \"\"\"Initialize DatasetManager with train and test DataFrames.\n",
    "\n",
    "        Args:\n",
    "            train_df (pd.DataFrame): Training data.\n",
    "            test_df (pd.DataFrame): Testing data.\n",
    "        \"\"\"\n",
    "        self._train_df = train_df.reset_index(drop=True)\n",
    "        self._test_df = test_df.reset_index(drop=True)\n",
    "\n",
    "        self._train_size = len(self._train_df)\n",
    "        self._columns_to_drop_from_test = list(\n",
    "            set(self._train_df.columns) - set(self._test_df.columns)\n",
    "        )\n",
    "        self._combined_df = pd.concat([self._train_df, self._test_df]).reset_index(\n",
    "            drop=True\n",
    "        )\n",
    "\n",
    "        self._combined_df_proxy = PandasProxy(\n",
    "            self._get_combined_df, self._set_combined_df\n",
    "        )\n",
    "\n",
    "        self._assign_names()\n",
    "\n",
    "    def _assign_names(self) -> None:\n",
    "        \"\"\"Assign descriptive names to train, test, and combined DataFrames.\"\"\"\n",
    "        self._train_df.name = \"Training Set\"\n",
    "        self._test_df.name = \"Test Set\"\n",
    "        self._combined_df.name = \"Combined Set\"\n",
    "\n",
    "    def _get_combined_df(self) -> pd.DataFrame:\n",
    "        \"\"\"Get the combined DataFrame of train and test datasets.\n",
    "\n",
    "        Returns:\n",
    "            pd.DataFrame: Concatenated DataFrame of train and test sets.\n",
    "        \"\"\"\n",
    "        return self._combined_df\n",
    "\n",
    "    def _set_combined_df(self, new_combined_df: pd.DataFrame) -> None:\n",
    "        \"\"\"Set the combined DataFrame and update the train and test DataFrames.\n",
    "\n",
    "        Args:\n",
    "            new_combined_df (pd.DataFrame): New combined DataFrame.\n",
    "        \"\"\"\n",
    "        self._combined_df = new_combined_df\n",
    "        self._train_df = self._combined_df.iloc[: self._train_size].reset_index(\n",
    "            drop=True\n",
    "        )\n",
    "        self._test_df = (\n",
    "            self._combined_df.iloc[self._train_size :]\n",
    "            .drop(self._columns_to_drop_from_test, axis=1)\n",
    "            .reset_index(drop=True)\n",
    "        )\n",
    "        self._assign_names()\n",
    "\n",
    "    @property\n",
    "    def combined_df(self) -> PandasProxy:\n",
    "        \"\"\"Get a proxy to the combined DataFrame of train and test datasets.\n",
    "\n",
    "        Returns:\n",
    "            PandasProxy: Proxy object allowing controlled access to the DataFrame.\n",
    "        \"\"\"\n",
    "        return self._combined_df_proxy\n",
    "\n",
    "    @combined_df.setter\n",
    "    def combined_df(self, new_combined_df: pd.DataFrame) -> None:\n",
    "        \"\"\"Set the combined DataFrame and update the train and test DataFrames.\n",
    "\n",
    "        Args:\n",
    "            new_combined_df (pd.DataFrame): New combined DataFrame.\n",
    "        \"\"\"\n",
    "        self._set_combined_df(new_combined_df)\n",
    "\n",
    "    @property\n",
    "    def train_df(self) -> pd.DataFrame:\n",
    "        \"\"\"Get the training DataFrame.\n",
    "\n",
    "        Returns:\n",
    "            pd.DataFrame: Training dataset.\n",
    "        \"\"\"\n",
    "        return self._train_df\n",
    "\n",
    "    @property\n",
    "    def test_df(self) -> pd.DataFrame:\n",
    "        \"\"\"Get the testing DataFrame.\n",
    "\n",
    "        Returns:\n",
    "            pd.DataFrame: Testing dataset.\n",
    "        \"\"\"\n",
    "        return self._test_df\n",
    "\n",
    "    @property\n",
    "    def train_test_dfs(self) -> tuple[pd.DataFrame, pd.DataFrame]:\n",
    "        \"\"\"Get the separate train and test DataFrames.\n",
    "\n",
    "        Returns:\n",
    "            tuple[pd.DataFrame, pd.DataFrame]: Tuple containing (train_df, test_df).\n",
    "        \"\"\"\n",
    "        return self._train_df, self._test_df"
   ]
  },
  {
   "cell_type": "markdown",
   "id": "e6bef9f5",
   "metadata": {
    "papermill": {
     "duration": 0.005726,
     "end_time": "2025-07-30T17:25:46.808594",
     "exception": false,
     "start_time": "2025-07-30T17:25:46.802868",
     "status": "completed"
    },
    "tags": []
   },
   "source": [
    "## 📥 Load and Inspect Dataset"
   ]
  },
  {
   "cell_type": "code",
   "execution_count": 298,
   "id": "412c81a2",
   "metadata": {
    "execution": {
     "iopub.execute_input": "2025-07-30T17:25:46.820347Z",
     "iopub.status.busy": "2025-07-30T17:25:46.820009Z",
     "iopub.status.idle": "2025-07-30T17:25:46.848470Z",
     "shell.execute_reply": "2025-07-30T17:25:46.847710Z"
    },
    "papermill": {
     "duration": 0.036542,
     "end_time": "2025-07-30T17:25:46.850287",
     "exception": false,
     "start_time": "2025-07-30T17:25:46.813745",
     "status": "completed"
    },
    "tags": []
   },
   "outputs": [],
   "source": [
    "train_df = pd.read_csv(f\"{dataset_path}/train.csv\")\n",
    "test_df = pd.read_csv(f\"{dataset_path}/test.csv\")\n",
    "dm = DatasetManager(train_df, test_df)"
   ]
  },
  {
   "cell_type": "code",
   "execution_count": 299,
   "id": "9bedc9f4",
   "metadata": {
    "execution": {
     "iopub.execute_input": "2025-07-30T17:25:46.862578Z",
     "iopub.status.busy": "2025-07-30T17:25:46.861739Z",
     "iopub.status.idle": "2025-07-30T17:25:46.889529Z",
     "shell.execute_reply": "2025-07-30T17:25:46.888513Z"
    },
    "papermill": {
     "duration": 0.035384,
     "end_time": "2025-07-30T17:25:46.891131",
     "exception": false,
     "start_time": "2025-07-30T17:25:46.855747",
     "status": "completed"
    },
    "tags": []
   },
   "outputs": [
    {
     "name": "stdout",
     "output_type": "stream",
     "text": [
      "\u001b[35mDataFrame Info:\u001b[0m\n",
      "\n",
      "\u001b[36m====== Training Set ======\u001b[0m\n",
      "<class 'pandas.core.frame.DataFrame'>\n",
      "RangeIndex: 891 entries, 0 to 890\n",
      "Data columns (total 12 columns):\n",
      " #   Column       Non-Null Count  Dtype  \n",
      "---  ------       --------------  -----  \n",
      " 0   PassengerId  891 non-null    int64  \n",
      " 1   Survived     891 non-null    int64  \n",
      " 2   Pclass       891 non-null    int64  \n",
      " 3   Name         891 non-null    object \n",
      " 4   Sex          891 non-null    object \n",
      " 5   Age          714 non-null    float64\n",
      " 6   SibSp        891 non-null    int64  \n",
      " 7   Parch        891 non-null    int64  \n",
      " 8   Ticket       891 non-null    object \n",
      " 9   Fare         891 non-null    float64\n",
      " 10  Cabin        204 non-null    object \n",
      " 11  Embarked     889 non-null    object \n",
      "dtypes: float64(2), int64(5), object(5)\n",
      "memory usage: 83.7+ KB\n",
      "\n",
      "\u001b[36m====== Test Set ======\u001b[0m\n",
      "<class 'pandas.core.frame.DataFrame'>\n",
      "RangeIndex: 418 entries, 0 to 417\n",
      "Data columns (total 11 columns):\n",
      " #   Column       Non-Null Count  Dtype  \n",
      "---  ------       --------------  -----  \n",
      " 0   PassengerId  418 non-null    int64  \n",
      " 1   Pclass       418 non-null    int64  \n",
      " 2   Name         418 non-null    object \n",
      " 3   Sex          418 non-null    object \n",
      " 4   Age          332 non-null    float64\n",
      " 5   SibSp        418 non-null    int64  \n",
      " 6   Parch        418 non-null    int64  \n",
      " 7   Ticket       418 non-null    object \n",
      " 8   Fare         417 non-null    float64\n",
      " 9   Cabin        91 non-null     object \n",
      " 10  Embarked     418 non-null    object \n",
      "dtypes: float64(2), int64(4), object(5)\n",
      "memory usage: 36.1+ KB\n"
     ]
    }
   ],
   "source": [
    "print(f\"{Fore.MAGENTA}DataFrame Info:{Style.RESET_ALL}\")\n",
    "for df in dm.train_test_dfs:\n",
    "    print(f\"\\n{Fore.CYAN}====== {df.name} ======{Style.RESET_ALL}\")\n",
    "    df.info()"
   ]
  },
  {
   "cell_type": "code",
   "execution_count": 300,
   "id": "6a67c9f3",
   "metadata": {
    "execution": {
     "iopub.execute_input": "2025-07-30T17:25:46.903781Z",
     "iopub.status.busy": "2025-07-30T17:25:46.903438Z",
     "iopub.status.idle": "2025-07-30T17:25:46.947232Z",
     "shell.execute_reply": "2025-07-30T17:25:46.945962Z"
    },
    "papermill": {
     "duration": 0.052223,
     "end_time": "2025-07-30T17:25:46.949100",
     "exception": false,
     "start_time": "2025-07-30T17:25:46.896877",
     "status": "completed"
    },
    "tags": []
   },
   "outputs": [
    {
     "name": "stdout",
     "output_type": "stream",
     "text": [
      "\u001b[32mDataFrame Description:\u001b[0m\n",
      "\n",
      "\u001b[36m====== Training Set ======\u001b[0m\n",
      "        PassengerId    Survived      Pclass                     Name   Sex         Age       SibSp       Parch  Ticket        Fare Cabin Embarked\n",
      "count    891.000000  891.000000  891.000000                      891   891  714.000000  891.000000  891.000000     891  891.000000   204      889\n",
      "unique          NaN         NaN         NaN                      891     2         NaN         NaN         NaN     681         NaN   147        3\n",
      "top             NaN         NaN         NaN  Braund, Mr. Owen Harris  male         NaN         NaN         NaN  347082         NaN    G6        S\n",
      "freq            NaN         NaN         NaN                        1   577         NaN         NaN         NaN       7         NaN     4      644\n",
      "mean     446.000000    0.383838    2.308642                      NaN   NaN   29.699118    0.523008    0.381594     NaN   32.204208   NaN      NaN\n",
      "std      257.353842    0.486592    0.836071                      NaN   NaN   14.526497    1.102743    0.806057     NaN   49.693429   NaN      NaN\n",
      "min        1.000000    0.000000    1.000000                      NaN   NaN    0.420000    0.000000    0.000000     NaN    0.000000   NaN      NaN\n",
      "25%      223.500000    0.000000    2.000000                      NaN   NaN   20.125000    0.000000    0.000000     NaN    7.910400   NaN      NaN\n",
      "50%      446.000000    0.000000    3.000000                      NaN   NaN   28.000000    0.000000    0.000000     NaN   14.454200   NaN      NaN\n",
      "75%      668.500000    1.000000    3.000000                      NaN   NaN   38.000000    1.000000    0.000000     NaN   31.000000   NaN      NaN\n",
      "max      891.000000    1.000000    3.000000                      NaN   NaN   80.000000    8.000000    6.000000     NaN  512.329200   NaN      NaN\n",
      "\n",
      "\u001b[36m====== Test Set ======\u001b[0m\n",
      "        PassengerId      Pclass              Name   Sex         Age       SibSp       Parch    Ticket        Fare            Cabin Embarked\n",
      "count    418.000000  418.000000               418   418  332.000000  418.000000  418.000000       418  417.000000               91      418\n",
      "unique          NaN         NaN               418     2         NaN         NaN         NaN       363         NaN               76        3\n",
      "top             NaN         NaN  Kelly, Mr. James  male         NaN         NaN         NaN  PC 17608         NaN  B57 B59 B63 B66        S\n",
      "freq            NaN         NaN                 1   266         NaN         NaN         NaN         5         NaN                3      270\n",
      "mean    1100.500000    2.265550               NaN   NaN   30.272590    0.447368    0.392344       NaN   35.627188              NaN      NaN\n",
      "std      120.810458    0.841838               NaN   NaN   14.181209    0.896760    0.981429       NaN   55.907576              NaN      NaN\n",
      "min      892.000000    1.000000               NaN   NaN    0.170000    0.000000    0.000000       NaN    0.000000              NaN      NaN\n",
      "25%      996.250000    1.000000               NaN   NaN   21.000000    0.000000    0.000000       NaN    7.895800              NaN      NaN\n",
      "50%     1100.500000    3.000000               NaN   NaN   27.000000    0.000000    0.000000       NaN   14.454200              NaN      NaN\n",
      "75%     1204.750000    3.000000               NaN   NaN   39.000000    1.000000    0.000000       NaN   31.500000              NaN      NaN\n",
      "max     1309.000000    3.000000               NaN   NaN   76.000000    8.000000    9.000000       NaN  512.329200              NaN      NaN\n"
     ]
    }
   ],
   "source": [
    "print(f\"{Fore.GREEN}DataFrame Description:{Style.RESET_ALL}\")\n",
    "for df in dm.train_test_dfs:\n",
    "    print(f\"\\n{Fore.CYAN}====== {df.name} ======{Style.RESET_ALL}\")\n",
    "    print(df.describe(include=\"all\"))"
   ]
  },
  {
   "cell_type": "code",
   "execution_count": 301,
   "id": "89b23743",
   "metadata": {
    "execution": {
     "iopub.execute_input": "2025-07-30T17:25:46.962538Z",
     "iopub.status.busy": "2025-07-30T17:25:46.961617Z",
     "iopub.status.idle": "2025-07-30T17:25:46.970801Z",
     "shell.execute_reply": "2025-07-30T17:25:46.969822Z"
    },
    "papermill": {
     "duration": 0.017265,
     "end_time": "2025-07-30T17:25:46.972228",
     "exception": false,
     "start_time": "2025-07-30T17:25:46.954963",
     "status": "completed"
    },
    "tags": []
   },
   "outputs": [
    {
     "name": "stdout",
     "output_type": "stream",
     "text": [
      "\u001b[33mFirst Rows of DataFrame:\u001b[0m\n",
      "\n",
      "\u001b[36m====== Training Set ======\u001b[0m\n",
      "   PassengerId  Survived  Pclass                                               Name     Sex   Age  SibSp  Parch            Ticket     Fare Cabin Embarked\n",
      "0            1         0       3                            Braund, Mr. Owen Harris    male  22.0      1      0         A/5 21171   7.2500   NaN        S\n",
      "1            2         1       1  Cumings, Mrs. John Bradley (Florence Briggs Th...  female  38.0      1      0          PC 17599  71.2833   C85        C\n",
      "2            3         1       3                             Heikkinen, Miss. Laina  female  26.0      0      0  STON/O2. 3101282   7.9250   NaN        S\n",
      "3            4         1       1       Futrelle, Mrs. Jacques Heath (Lily May Peel)  female  35.0      1      0            113803  53.1000  C123        S\n",
      "4            5         0       3                           Allen, Mr. William Henry    male  35.0      0      0            373450   8.0500   NaN        S\n",
      "\n",
      "\u001b[36m====== Test Set ======\u001b[0m\n",
      "   PassengerId  Pclass                                          Name     Sex   Age  SibSp  Parch   Ticket     Fare Cabin Embarked\n",
      "0          892       3                              Kelly, Mr. James    male  34.5      0      0   330911   7.8292   NaN        Q\n",
      "1          893       3              Wilkes, Mrs. James (Ellen Needs)  female  47.0      1      0   363272   7.0000   NaN        S\n",
      "2          894       2                     Myles, Mr. Thomas Francis    male  62.0      0      0   240276   9.6875   NaN        Q\n",
      "3          895       3                              Wirz, Mr. Albert    male  27.0      0      0   315154   8.6625   NaN        S\n",
      "4          896       3  Hirvonen, Mrs. Alexander (Helga E Lindqvist)  female  22.0      1      1  3101298  12.2875   NaN        S\n"
     ]
    }
   ],
   "source": [
    "print(f\"{Fore.YELLOW}First Rows of DataFrame:{Style.RESET_ALL}\")\n",
    "for df in dm.train_test_dfs:\n",
    "    print(f\"\\n{Fore.CYAN}====== {df.name} ======{Style.RESET_ALL}\")\n",
    "    print(df.head())"
   ]
  },
  {
   "cell_type": "code",
   "execution_count": 302,
   "id": "8e5ce496",
   "metadata": {
    "execution": {
     "iopub.execute_input": "2025-07-30T17:25:46.984718Z",
     "iopub.status.busy": "2025-07-30T17:25:46.984413Z",
     "iopub.status.idle": "2025-07-30T17:25:46.991105Z",
     "shell.execute_reply": "2025-07-30T17:25:46.990082Z"
    },
    "papermill": {
     "duration": 0.014554,
     "end_time": "2025-07-30T17:25:46.992540",
     "exception": false,
     "start_time": "2025-07-30T17:25:46.977986",
     "status": "completed"
    },
    "tags": []
   },
   "outputs": [
    {
     "name": "stdout",
     "output_type": "stream",
     "text": [
      "\u001b[31mMissing Values in Each Column:\u001b[0m\n",
      "\n",
      "\u001b[36m====== Training Set ======\u001b[0m\n",
      "PassengerId      0\n",
      "Survived         0\n",
      "Pclass           0\n",
      "Name             0\n",
      "Sex              0\n",
      "Age            177\n",
      "SibSp            0\n",
      "Parch            0\n",
      "Ticket           0\n",
      "Fare             0\n",
      "Cabin          687\n",
      "Embarked         2\n",
      "dtype: int64\n",
      "\n",
      "\u001b[36m====== Test Set ======\u001b[0m\n",
      "PassengerId      0\n",
      "Pclass           0\n",
      "Name             0\n",
      "Sex              0\n",
      "Age             86\n",
      "SibSp            0\n",
      "Parch            0\n",
      "Ticket           0\n",
      "Fare             1\n",
      "Cabin          327\n",
      "Embarked         0\n",
      "dtype: int64\n"
     ]
    }
   ],
   "source": [
    "print(f\"{Fore.RED}Missing Values in Each Column:{Style.RESET_ALL}\")\n",
    "for df in dm.train_test_dfs:\n",
    "    print(f\"\\n{Fore.CYAN}====== {df.name} ======{Style.RESET_ALL}\")\n",
    "    print(df.isnull().sum())"
   ]
  },
  {
   "cell_type": "markdown",
   "id": "d1ae0e47",
   "metadata": {
    "papermill": {
     "duration": 0.005642,
     "end_time": "2025-07-30T17:25:47.017203",
     "exception": false,
     "start_time": "2025-07-30T17:25:47.011561",
     "status": "completed"
    },
    "tags": []
   },
   "source": [
    "## 🧹 Feature Engineering"
   ]
  },
  {
   "cell_type": "markdown",
   "id": "52d45e88",
   "metadata": {},
   "source": [
    "#### 🏷️ Fare Binning"
   ]
  },
  {
   "cell_type": "code",
   "execution_count": 303,
   "id": "c1e148d3",
   "metadata": {},
   "outputs": [],
   "source": [
    "median_fare = dm.combined_df.groupby([\"Pclass\", \"Parch\", \"SibSp\"])[\"Fare\"].median()[3][\n",
    "    0\n",
    "][0]\n",
    "\n",
    "dm.combined_df.fillna({\"Embarked\": \"S\", \"Fare\": median_fare}, inplace=True)\n",
    "dm.combined_df[\"Fare\"] = pd.qcut(dm.combined_df[\"Fare\"], 13)"
   ]
  },
  {
   "cell_type": "markdown",
   "id": "c7c03361",
   "metadata": {},
   "source": [
    "#### 🧑‍🎓 Title Extraction from Name"
   ]
  },
  {
   "cell_type": "code",
   "execution_count": 304,
   "id": "cae67ac1",
   "metadata": {},
   "outputs": [],
   "source": [
    "dm.combined_df[\"Title\"] = dm.combined_df[\"Name\"].str.extract(\n",
    "    r\",\\s*([^\\.]*)\\s*\\.\", expand=False\n",
    ")\n",
    "dm.combined_df[\"Title\"] = dm.combined_df[\"Title\"].replace(\n",
    "    [\"Miss\", \"Mrs\", \"Ms\", \"Mlle\", \"Lady\", \"Mme\", \"the Countess\", \"Dona\"],\n",
    "    \"Miss/Mrs/Ms\",\n",
    ")\n",
    "dm.combined_df[\"Title\"] = dm.combined_df[\"Title\"].replace(\n",
    "    [\"Dr\", \"Col\", \"Major\", \"Jonkheer\", \"Capt\", \"Sir\", \"Don\", \"Rev\"],\n",
    "    \"Dr/Military/Noble/Clergy\",\n",
    ")"
   ]
  },
  {
   "cell_type": "markdown",
   "id": "7a9c5366",
   "metadata": {},
   "source": [
    "#### 👪 Family&Ticket-Based Features"
   ]
  },
  {
   "cell_type": "code",
   "execution_count": 305,
   "id": "941adc63",
   "metadata": {},
   "outputs": [],
   "source": [
    "dm.combined_df[\"FamilyLastName\"] = dm.combined_df[\"Name\"].str.split(\",\").str[0]\n",
    "dm.combined_df[\"FamilySize\"] = dm.combined_df[\"SibSp\"] + dm.combined_df[\"Parch\"] + 1\n",
    "dm.combined_df[\"FamilySizeGrouped\"] = (\n",
    "    dm.combined_df[\"FamilySize\"]\n",
    "    .replace([1], \"Alone\")\n",
    "    .replace([2, 3, 4], \"Small\")\n",
    "    .replace([5, 6], \"Medium\")\n",
    "    .replace([7, 8, 9, 10, 11], \"Large\")\n",
    ")\n",
    "\n",
    "ticket_counts = dm.combined_df[\"Ticket\"].value_counts()\n",
    "dm.combined_df[\"TicketCount\"] = dm.combined_df[\"Ticket\"].map(ticket_counts).fillna(1)\n",
    "\n",
    "dm.combined_df[\"WithFamily\"] = (dm.combined_df[\"FamilySize\"] > 1).astype(int)\n",
    "dm.combined_df[\"WithFriends\"] = (\n",
    "    (dm.combined_df[\"FamilySize\"] == 1) & (dm.combined_df[\"TicketCount\"] > 1)\n",
    ").astype(int)\n",
    "dm.combined_df[\"TrulyAlone\"] = (\n",
    "    (dm.combined_df[\"FamilySize\"] == 1) & (dm.combined_df[\"TicketCount\"] == 1)\n",
    ").astype(int)"
   ]
  },
  {
   "cell_type": "markdown",
   "id": "2c53a742",
   "metadata": {},
   "source": [
    "#### 🛏️ Cabin Deck Extraction"
   ]
  },
  {
   "cell_type": "code",
   "execution_count": 306,
   "id": "32bccbb3",
   "metadata": {},
   "outputs": [],
   "source": [
    "dm.combined_df[\"Deck\"] = dm.combined_df[\"Cabin\"].apply(\n",
    "    lambda s: s[0] if pd.notnull(s) else \"M\"\n",
    ")\n",
    "idx = dm.combined_df[dm.combined_df[\"Deck\"] == \"T\"].index\n",
    "dm.combined_df.loc[idx, \"Deck\"] = \"A\"\n",
    "\n",
    "dm.combined_df[\"Deck\"] = dm.combined_df[\"Deck\"].replace([\"A\", \"B\", \"C\"], \"ABC\")\n",
    "dm.combined_df[\"Deck\"] = dm.combined_df[\"Deck\"].replace([\"D\", \"E\"], \"DE\")\n",
    "dm.combined_df[\"Deck\"] = dm.combined_df[\"Deck\"].replace([\"F\", \"G\"], \"FG\")"
   ]
  },
  {
   "cell_type": "markdown",
   "id": "468078f6",
   "metadata": {},
   "source": [
    "#### 🔤 Encoding Categorical Features"
   ]
  },
  {
   "cell_type": "code",
   "execution_count": 307,
   "id": "973c533b",
   "metadata": {},
   "outputs": [],
   "source": [
    "non_numeric_features = [\n",
    "    \"Sex\",\n",
    "    \"Deck\",\n",
    "    \"Title\",\n",
    "    \"Embarked\",\n",
    "    \"Fare\",\n",
    "    \"FamilyLastName\",\n",
    "    \"FamilySizeGrouped\",\n",
    "]\n",
    "le = LabelEncoder()\n",
    "\n",
    "for feature in non_numeric_features:\n",
    "    dm.combined_df[feature] = le.fit_transform(dm.combined_df[feature])"
   ]
  },
  {
   "cell_type": "markdown",
   "id": "dae039f0",
   "metadata": {},
   "source": [
    "#### 👶 Age Imputation with Model"
   ]
  },
  {
   "cell_type": "code",
   "execution_count": 308,
   "id": "548244ac",
   "metadata": {},
   "outputs": [],
   "source": [
    "age_features = [\n",
    "    \"Pclass\",\n",
    "    \"Sex\",\n",
    "    \"SibSp\",\n",
    "    \"Parch\",\n",
    "    \"Fare\",\n",
    "    \"Embarked\",\n",
    "    \"Title\",\n",
    "    \"FamilySize\",\n",
    "    \"TicketCount\",\n",
    "    \"Deck\",\n",
    "    \"FamilyLastName\",\n",
    "    \"FamilySizeGrouped\",\n",
    "    \"WithFamily\",\n",
    "    \"WithFriends\",\n",
    "    \"TrulyAlone\",\n",
    "]\n",
    "\n",
    "known_age = dm.combined_df[dm.combined_df[\"Age\"].notnull()]\n",
    "missing_age = dm.combined_df[dm.combined_df[\"Age\"].isnull()]\n",
    "\n",
    "X_age, y_age = known_age[age_features], known_age[\"Age\"]\n",
    "\n",
    "X_train_age, X_test_age, y_train_age, y_test_age = train_test_split(\n",
    "    X_age, y_age, test_size=0.2, random_state=42\n",
    ")"
   ]
  },
  {
   "cell_type": "code",
   "execution_count": 309,
   "id": "f35ea2e9",
   "metadata": {},
   "outputs": [
    {
     "name": "stderr",
     "output_type": "stream",
     "text": [
      "[I 2025-08-01 19:48:07,592] A new study created in memory with name: age\n",
      "[I 2025-08-01 19:48:07,677] Trial 0 finished with value: 151.10569635912208 and parameters: {'model': 'knn', 'n_neighbors': 22, 'weights': 'uniform', 'p': 1}. Best is trial 0 with value: 151.10569635912208.\n",
      "[I 2025-08-01 19:48:08,963] Trial 1 finished with value: 149.4764926119446 and parameters: {'model': 'rf', 'n_estimators': 216, 'max_depth': 3, 'min_samples_split': 10}. Best is trial 1 with value: 149.4764926119446.\n",
      "[I 2025-08-01 19:48:09,405] Trial 2 finished with value: 142.07157290652395 and parameters: {'model': 'rf', 'n_estimators': 62, 'max_depth': 4, 'min_samples_split': 4}. Best is trial 2 with value: 142.07157290652395.\n",
      "[I 2025-08-01 19:48:10,456] Trial 3 finished with value: 144.52228791851078 and parameters: {'model': 'rf', 'n_estimators': 94, 'max_depth': 9, 'min_samples_split': 3}. Best is trial 2 with value: 142.07157290652395.\n",
      "[I 2025-08-01 19:48:10,516] Trial 4 finished with value: 154.53832869841222 and parameters: {'model': 'knn', 'n_neighbors': 14, 'weights': 'uniform', 'p': 2}. Best is trial 2 with value: 142.07157290652395.\n",
      "[I 2025-08-01 19:48:10,575] Trial 5 finished with value: 179.7442075274313 and parameters: {'model': 'knn', 'n_neighbors': 6, 'weights': 'distance', 'p': 1}. Best is trial 2 with value: 142.07157290652395.\n",
      "[I 2025-08-01 19:48:12,702] Trial 6 finished with value: 139.0545992822229 and parameters: {'model': 'rf', 'n_estimators': 209, 'max_depth': 7, 'min_samples_split': 3}. Best is trial 6 with value: 139.0545992822229.\n",
      "[I 2025-08-01 19:48:14,940] Trial 7 finished with value: 138.68698737175913 and parameters: {'model': 'rf', 'n_estimators': 274, 'max_depth': 5, 'min_samples_split': 7}. Best is trial 7 with value: 138.68698737175913.\n",
      "[I 2025-08-01 19:48:14,993] Trial 8 finished with value: 170.68250900949724 and parameters: {'model': 'knn', 'n_neighbors': 17, 'weights': 'distance', 'p': 2}. Best is trial 7 with value: 138.68698737175913.\n",
      "[I 2025-08-01 19:48:16,614] Trial 9 finished with value: 148.70292463919418 and parameters: {'model': 'rf', 'n_estimators': 278, 'max_depth': 3, 'min_samples_split': 3}. Best is trial 7 with value: 138.68698737175913.\n",
      "[I 2025-08-01 19:48:20,208] Trial 10 finished with value: 144.48232420144032 and parameters: {'model': 'rf', 'n_estimators': 281, 'max_depth': 12, 'min_samples_split': 8}. Best is trial 7 with value: 138.68698737175913.\n",
      "[I 2025-08-01 19:48:22,767] Trial 11 finished with value: 138.66989537839154 and parameters: {'model': 'rf', 'n_estimators': 176, 'max_depth': 7, 'min_samples_split': 6}. Best is trial 11 with value: 138.66989537839154.\n",
      "[I 2025-08-01 19:48:24,794] Trial 12 finished with value: 137.83147040235323 and parameters: {'model': 'rf', 'n_estimators': 163, 'max_depth': 6, 'min_samples_split': 6}. Best is trial 12 with value: 137.83147040235323.\n",
      "[I 2025-08-01 19:48:26,620] Trial 13 finished with value: 138.6098111670113 and parameters: {'model': 'rf', 'n_estimators': 138, 'max_depth': 7, 'min_samples_split': 6}. Best is trial 12 with value: 137.83147040235323.\n",
      "[I 2025-08-01 19:48:28,480] Trial 14 finished with value: 142.3723227757685 and parameters: {'model': 'rf', 'n_estimators': 130, 'max_depth': 9, 'min_samples_split': 5}. Best is trial 12 with value: 137.83147040235323.\n",
      "[I 2025-08-01 19:48:28,843] Trial 15 finished with value: 141.53588513173136 and parameters: {'model': 'rf', 'n_estimators': 17, 'max_depth': 6, 'min_samples_split': 8}. Best is trial 12 with value: 137.83147040235323.\n",
      "[I 2025-08-01 19:48:30,882] Trial 16 finished with value: 143.46687127673562 and parameters: {'model': 'rf', 'n_estimators': 144, 'max_depth': 10, 'min_samples_split': 6}. Best is trial 12 with value: 137.83147040235323.\n",
      "[I 2025-08-01 19:48:32,081] Trial 17 finished with value: 138.42506946188738 and parameters: {'model': 'rf', 'n_estimators': 108, 'max_depth': 6, 'min_samples_split': 5}. Best is trial 12 with value: 137.83147040235323.\n",
      "[I 2025-08-01 19:48:32,153] Trial 18 finished with value: 166.9138311835194 and parameters: {'model': 'knn', 'n_neighbors': 30, 'weights': 'distance', 'p': 1}. Best is trial 12 with value: 137.83147040235323.\n",
      "[I 2025-08-01 19:48:33,212] Trial 19 finished with value: 139.64943359433704 and parameters: {'model': 'rf', 'n_estimators': 82, 'max_depth': 5, 'min_samples_split': 5}. Best is trial 12 with value: 137.83147040235323.\n",
      "[I 2025-08-01 19:48:35,334] Trial 20 finished with value: 139.1494691702847 and parameters: {'model': 'rf', 'n_estimators': 199, 'max_depth': 6, 'min_samples_split': 10}. Best is trial 12 with value: 137.83147040235323.\n",
      "[I 2025-08-01 19:48:36,718] Trial 21 finished with value: 140.10351207713794 and parameters: {'model': 'rf', 'n_estimators': 122, 'max_depth': 8, 'min_samples_split': 5}. Best is trial 12 with value: 137.83147040235323.\n",
      "[I 2025-08-01 19:48:38,537] Trial 22 finished with value: 138.12658953426575 and parameters: {'model': 'rf', 'n_estimators': 159, 'max_depth': 6, 'min_samples_split': 7}. Best is trial 12 with value: 137.83147040235323.\n",
      "[I 2025-08-01 19:48:40,295] Trial 23 finished with value: 139.13042945736763 and parameters: {'model': 'rf', 'n_estimators': 177, 'max_depth': 5, 'min_samples_split': 8}. Best is trial 12 with value: 137.83147040235323.\n",
      "[I 2025-08-01 19:48:42,912] Trial 24 finished with value: 138.13613587157732 and parameters: {'model': 'rf', 'n_estimators': 242, 'max_depth': 6, 'min_samples_split': 7}. Best is trial 12 with value: 137.83147040235323.\n",
      "[I 2025-08-01 19:48:46,127] Trial 25 finished with value: 140.0616196183388 and parameters: {'model': 'rf', 'n_estimators': 249, 'max_depth': 8, 'min_samples_split': 7}. Best is trial 12 with value: 137.83147040235323.\n",
      "[I 2025-08-01 19:48:46,198] Trial 26 finished with value: 280.49207662389506 and parameters: {'model': 'knn', 'n_neighbors': 1, 'weights': 'uniform', 'p': 2}. Best is trial 12 with value: 137.83147040235323.\n",
      "[I 2025-08-01 19:48:47,907] Trial 27 finished with value: 141.76573148867368 and parameters: {'model': 'rf', 'n_estimators': 243, 'max_depth': 4, 'min_samples_split': 7}. Best is trial 12 with value: 137.83147040235323.\n",
      "[I 2025-08-01 19:48:49,541] Trial 28 finished with value: 138.61323658254946 and parameters: {'model': 'rf', 'n_estimators': 173, 'max_depth': 6, 'min_samples_split': 9}. Best is trial 12 with value: 137.83147040235323.\n",
      "[I 2025-08-01 19:48:49,614] Trial 29 finished with value: 154.68254796458805 and parameters: {'model': 'knn', 'n_neighbors': 29, 'weights': 'uniform', 'p': 1}. Best is trial 12 with value: 137.83147040235323.\n",
      "[I 2025-08-01 19:48:52,293] Trial 30 finished with value: 138.81761058686672 and parameters: {'model': 'rf', 'n_estimators': 238, 'max_depth': 5, 'min_samples_split': 7}. Best is trial 12 with value: 137.83147040235323.\n",
      "[I 2025-08-01 19:48:53,595] Trial 31 finished with value: 138.50208890534978 and parameters: {'model': 'rf', 'n_estimators': 104, 'max_depth': 6, 'min_samples_split': 5}. Best is trial 12 with value: 137.83147040235323.\n",
      "[I 2025-08-01 19:48:54,283] Trial 32 finished with value: 138.65822552538376 and parameters: {'model': 'rf', 'n_estimators': 56, 'max_depth': 6, 'min_samples_split': 6}. Best is trial 12 with value: 137.83147040235323.\n",
      "[I 2025-08-01 19:48:56,451] Trial 33 finished with value: 139.06616817717767 and parameters: {'model': 'rf', 'n_estimators': 161, 'max_depth': 7, 'min_samples_split': 4}. Best is trial 12 with value: 137.83147040235323.\n",
      "[I 2025-08-01 19:48:57,763] Trial 34 finished with value: 141.7169820036409 and parameters: {'model': 'rf', 'n_estimators': 115, 'max_depth': 4, 'min_samples_split': 4}. Best is trial 12 with value: 137.83147040235323.\n",
      "[I 2025-08-01 19:49:00,452] Trial 35 finished with value: 140.26800231693795 and parameters: {'model': 'rf', 'n_estimators': 196, 'max_depth': 8, 'min_samples_split': 6}. Best is trial 12 with value: 137.83147040235323.\n",
      "[I 2025-08-01 19:49:02,231] Trial 36 finished with value: 139.12199649154186 and parameters: {'model': 'rf', 'n_estimators': 156, 'max_depth': 5, 'min_samples_split': 8}. Best is trial 12 with value: 137.83147040235323.\n",
      "[I 2025-08-01 19:49:02,301] Trial 37 finished with value: 175.07514692649454 and parameters: {'model': 'knn', 'n_neighbors': 10, 'weights': 'distance', 'p': 2}. Best is trial 12 with value: 137.83147040235323.\n",
      "[I 2025-08-01 19:49:04,626] Trial 38 finished with value: 138.65129742674873 and parameters: {'model': 'rf', 'n_estimators': 217, 'max_depth': 6, 'min_samples_split': 9}. Best is trial 12 with value: 137.83147040235323.\n",
      "[I 2025-08-01 19:49:06,548] Trial 39 finished with value: 138.70810672526767 and parameters: {'model': 'rf', 'n_estimators': 225, 'max_depth': 7, 'min_samples_split': 7}. Best is trial 12 with value: 137.83147040235323.\n",
      "[I 2025-08-01 19:49:06,607] Trial 40 finished with value: 154.6812873029487 and parameters: {'model': 'knn', 'n_neighbors': 22, 'weights': 'uniform', 'p': 2}. Best is trial 12 with value: 137.83147040235323.\n",
      "[I 2025-08-01 19:49:07,306] Trial 41 finished with value: 138.72706200938256 and parameters: {'model': 'rf', 'n_estimators': 90, 'max_depth': 6, 'min_samples_split': 5}. Best is trial 12 with value: 137.83147040235323.\n",
      "[I 2025-08-01 19:49:07,803] Trial 42 finished with value: 138.45446708828123 and parameters: {'model': 'rf', 'n_estimators': 63, 'max_depth': 6, 'min_samples_split': 5}. Best is trial 12 with value: 137.83147040235323.\n",
      "[I 2025-08-01 19:49:08,257] Trial 43 finished with value: 140.08938609489888 and parameters: {'model': 'rf', 'n_estimators': 58, 'max_depth': 5, 'min_samples_split': 2}. Best is trial 12 with value: 137.83147040235323.\n",
      "[I 2025-08-01 19:49:08,498] Trial 44 finished with value: 142.28471401261777 and parameters: {'model': 'rf', 'n_estimators': 30, 'max_depth': 4, 'min_samples_split': 6}. Best is trial 12 with value: 137.83147040235323.\n",
      "[I 2025-08-01 19:49:09,153] Trial 45 finished with value: 140.08797337903763 and parameters: {'model': 'rf', 'n_estimators': 76, 'max_depth': 7, 'min_samples_split': 4}. Best is trial 12 with value: 137.83147040235323.\n",
      "[I 2025-08-01 19:49:09,421] Trial 46 finished with value: 151.08175074080435 and parameters: {'model': 'rf', 'n_estimators': 37, 'max_depth': 3, 'min_samples_split': 7}. Best is trial 12 with value: 137.83147040235323.\n",
      "[I 2025-08-01 19:49:11,690] Trial 47 finished with value: 137.98244234380792 and parameters: {'model': 'rf', 'n_estimators': 298, 'max_depth': 6, 'min_samples_split': 5}. Best is trial 12 with value: 137.83147040235323.\n",
      "[I 2025-08-01 19:49:14,033] Trial 48 finished with value: 138.67097975848043 and parameters: {'model': 'rf', 'n_estimators': 293, 'max_depth': 7, 'min_samples_split': 4}. Best is trial 12 with value: 137.83147040235323.\n",
      "[I 2025-08-01 19:49:15,716] Trial 49 finished with value: 138.85170522061614 and parameters: {'model': 'rf', 'n_estimators': 249, 'max_depth': 5, 'min_samples_split': 7}. Best is trial 12 with value: 137.83147040235323.\n"
     ]
    }
   ],
   "source": [
    "class AgeObjective:\n",
    "    \"\"\"Objective function class for Optuna hyperparameter optimization.\n",
    "\n",
    "    This class wraps training and evaluation logic to be used in Optuna's optimization\n",
    "    loop. It supports randomized cross-validation and logs the cross-validated accuracy\n",
    "    for each trial.\n",
    "    \"\"\"\n",
    "\n",
    "    def __init__(\n",
    "        self,\n",
    "        X: NDArray[np.float64],\n",
    "        y: NDArray[np.float64],\n",
    "        random_state: int | None = None,\n",
    "    ) -> None:\n",
    "        \"\"\"Initializes the Objective class.\n",
    "\n",
    "        Args:\n",
    "            X (NDArray[np.float64]): Feature matrix.\n",
    "            y (NDArray[np.float64]): Target vector.\n",
    "            random_state (int | None): Random seed for reproducibility. Default is None.\n",
    "        \"\"\"\n",
    "        self.X = X\n",
    "        self.y = y\n",
    "        self.random_state = random_state\n",
    "\n",
    "    def __call__(self, trial: optuna.trial.Trial) -> float:\n",
    "        \"\"\"Objective function for Optuna study to optimize hyperparameters.\n",
    "\n",
    "        Parameters:\n",
    "            trial (Trial): A single trial object that suggests hyperparameter values.\n",
    "\n",
    "        Returns:\n",
    "            float: Cross-validated accuracy score (mean of folds).\n",
    "        \"\"\"\n",
    "        model_name = trial.suggest_categorical(\"model\", [\"rf\", \"knn\"])\n",
    "\n",
    "        if model_name == \"rf\":\n",
    "            params = {\n",
    "                \"n_estimators\": trial.suggest_int(\"n_estimators\", 10, 300),\n",
    "                \"max_depth\": trial.suggest_int(\"max_depth\", 3, 12),\n",
    "                \"min_samples_split\": trial.suggest_int(\"min_samples_split\", 2, 10),\n",
    "                \"random_state\": self.random_state,\n",
    "            }\n",
    "\n",
    "            model = RandomForestRegressor(**params)\n",
    "        elif model_name == \"knn\":\n",
    "            params = {\n",
    "                \"n_neighbors\": trial.suggest_int(\"n_neighbors\", 1, 30),\n",
    "                \"weights\": trial.suggest_categorical(\n",
    "                    \"weights\", [\"uniform\", \"distance\"]\n",
    "                ),\n",
    "                \"p\": trial.suggest_categorical(\"p\", [1, 2]),\n",
    "            }\n",
    "\n",
    "            model = Pipeline(\n",
    "                [(\"scaler\", StandardScaler()), (\"model\", KNeighborsRegressor(**params))]\n",
    "            )\n",
    "        else:\n",
    "            raise ValueError(\"\")\n",
    "\n",
    "        cv = KFold(n_splits=5, shuffle=True, random_state=self.random_state)\n",
    "        scores = cross_val_score(\n",
    "            model, self.X, self.y, cv=cv, scoring=\"neg_mean_squared_error\"\n",
    "        )\n",
    "\n",
    "        score = -np.mean(scores)\n",
    "        trial.set_user_attr(\"cv_score\", score)\n",
    "        return score\n",
    "\n",
    "\n",
    "age_study = optuna.create_study(\n",
    "    direction=\"minimize\",\n",
    "    study_name=\"age\",\n",
    "    sampler=optuna.samplers.TPESampler(seed=42),\n",
    ")\n",
    "\n",
    "age_objective = AgeObjective(X_train_age, y_train_age, random_state=42)\n",
    "age_study.optimize(age_objective, n_trials=50)"
   ]
  },
  {
   "cell_type": "code",
   "execution_count": 310,
   "id": "03a96104",
   "metadata": {},
   "outputs": [
    {
     "name": "stdout",
     "output_type": "stream",
     "text": [
      "\u001b[32mBest hyperparameters found:\u001b[0m {'model': 'rf', 'n_estimators': 163, 'max_depth': 6, 'min_samples_split': 6}\n",
      "\u001b[33mBest CV score:\u001b[0m 137.83147040235323\n"
     ]
    }
   ],
   "source": [
    "print(\n",
    "    f\"{Fore.GREEN}Best hyperparameters found:{Style.RESET_ALL}\", age_study.best_params\n",
    ")\n",
    "print(f\"{Fore.YELLOW}Best CV score:{Style.RESET_ALL}\", age_study.best_value)"
   ]
  },
  {
   "cell_type": "code",
   "execution_count": 311,
   "id": "5ed34276",
   "metadata": {},
   "outputs": [
    {
     "data": {
      "text/html": [
       "<div>\n",
       "<style scoped>\n",
       "    .dataframe tbody tr th:only-of-type {\n",
       "        vertical-align: middle;\n",
       "    }\n",
       "\n",
       "    .dataframe tbody tr th {\n",
       "        vertical-align: top;\n",
       "    }\n",
       "\n",
       "    .dataframe thead th {\n",
       "        text-align: right;\n",
       "    }\n",
       "</style>\n",
       "<table border=\"1\" class=\"dataframe\">\n",
       "  <thead>\n",
       "    <tr style=\"text-align: right;\">\n",
       "      <th></th>\n",
       "      <th>median</th>\n",
       "      <th>optuna</th>\n",
       "    </tr>\n",
       "  </thead>\n",
       "  <tbody>\n",
       "    <tr>\n",
       "      <th>MAE</th>\n",
       "      <td>10.007952</td>\n",
       "      <td>7.963538</td>\n",
       "    </tr>\n",
       "    <tr>\n",
       "      <th>MSE</th>\n",
       "      <td>167.020471</td>\n",
       "      <td>103.735853</td>\n",
       "    </tr>\n",
       "    <tr>\n",
       "      <th>RMSE</th>\n",
       "      <td>12.923640</td>\n",
       "      <td>10.185080</td>\n",
       "    </tr>\n",
       "    <tr>\n",
       "      <th>R²</th>\n",
       "      <td>-0.005118</td>\n",
       "      <td>0.375724</td>\n",
       "    </tr>\n",
       "    <tr>\n",
       "      <th>EVS</th>\n",
       "      <td>0.000000</td>\n",
       "      <td>0.386005</td>\n",
       "    </tr>\n",
       "  </tbody>\n",
       "</table>\n",
       "</div>"
      ],
      "text/plain": [
       "          median      optuna\n",
       "MAE    10.007952    7.963538\n",
       "MSE   167.020471  103.735853\n",
       "RMSE   12.923640   10.185080\n",
       "R²     -0.005118    0.375724\n",
       "EVS     0.000000    0.386005"
      ]
     },
     "execution_count": 311,
     "metadata": {},
     "output_type": "execute_result"
    }
   ],
   "source": [
    "age_baseline = DummyRegressor(strategy=\"median\")\n",
    "age_baseline.fit(X_train_age, y_train_age)\n",
    "\n",
    "age_best_params = age_study.best_params\n",
    "age_best_model = age_best_params.pop(\"model\")\n",
    "if age_best_model == \"rf\":\n",
    "    best_age_model = RandomForestRegressor(**age_best_params, random_state=42)\n",
    "elif age_best_model == \"knn\":\n",
    "    best_age_model = Pipeline(\n",
    "        [\n",
    "            (\"scaler\", StandardScaler()),\n",
    "            (\"model\", KNeighborsRegressor(**age_best_params)),\n",
    "        ]\n",
    "    )\n",
    "else:\n",
    "    raise ValueError(\"\")\n",
    "\n",
    "best_age_model.fit(X_train_age, y_train_age)\n",
    "\n",
    "age_predictions = {\n",
    "    \"median\": age_baseline.predict(X_test_age),\n",
    "    \"optuna\": best_age_model.predict(X_test_age),\n",
    "}\n",
    "\n",
    "evaluate_regression_models(age_predictions, y_test_age)"
   ]
  },
  {
   "cell_type": "code",
   "execution_count": 312,
   "id": "b7e29a2f",
   "metadata": {},
   "outputs": [],
   "source": [
    "dm.combined_df.loc[dm.combined_df[\"Age\"].isnull(), \"Age\"] = best_age_model.predict(\n",
    "    missing_age[age_features]\n",
    ")\n",
    "dm.combined_df[\"Age\"] = pd.qcut(dm.combined_df[\"Age\"], 10)\n",
    "dm.combined_df[\"Age\"] = le.fit_transform(dm.combined_df[\"Age\"])"
   ]
  },
  {
   "cell_type": "markdown",
   "id": "c3571442",
   "metadata": {},
   "source": [
    "---"
   ]
  },
  {
   "cell_type": "code",
   "execution_count": 313,
   "id": "5ac65470",
   "metadata": {},
   "outputs": [],
   "source": [
    "dm.combined_df = dm.combined_df.drop(columns=[\"Name\", \"Ticket\", \"Cabin\"])"
   ]
  },
  {
   "cell_type": "code",
   "execution_count": 314,
   "id": "d5442f33",
   "metadata": {},
   "outputs": [
    {
     "name": "stdout",
     "output_type": "stream",
     "text": [
      "\u001b[31mMissing Values in Each Column:\u001b[0m\n",
      "\n",
      "\u001b[36m====== Training Set ======\u001b[0m\n",
      "PassengerId          0\n",
      "Survived             0\n",
      "Pclass               0\n",
      "Sex                  0\n",
      "Age                  0\n",
      "SibSp                0\n",
      "Parch                0\n",
      "Fare                 0\n",
      "Embarked             0\n",
      "Title                0\n",
      "FamilyLastName       0\n",
      "FamilySize           0\n",
      "FamilySizeGrouped    0\n",
      "TicketCount          0\n",
      "WithFamily           0\n",
      "WithFriends          0\n",
      "TrulyAlone           0\n",
      "Deck                 0\n",
      "dtype: int64\n",
      "\n",
      "\u001b[36m====== Test Set ======\u001b[0m\n",
      "PassengerId          0\n",
      "Pclass               0\n",
      "Sex                  0\n",
      "Age                  0\n",
      "SibSp                0\n",
      "Parch                0\n",
      "Fare                 0\n",
      "Embarked             0\n",
      "Title                0\n",
      "FamilyLastName       0\n",
      "FamilySize           0\n",
      "FamilySizeGrouped    0\n",
      "TicketCount          0\n",
      "WithFamily           0\n",
      "WithFriends          0\n",
      "TrulyAlone           0\n",
      "Deck                 0\n",
      "dtype: int64\n"
     ]
    }
   ],
   "source": [
    "print(f\"{Fore.RED}Missing Values in Each Column:{Style.RESET_ALL}\")\n",
    "for df in dm.train_test_dfs:\n",
    "    print(f\"\\n{Fore.CYAN}====== {df.name} ======{Style.RESET_ALL}\")\n",
    "    print(df.isnull().sum())"
   ]
  },
  {
   "cell_type": "markdown",
   "id": "af306126",
   "metadata": {
    "papermill": {
     "duration": 0.005455,
     "end_time": "2025-07-30T17:25:47.431948",
     "exception": false,
     "start_time": "2025-07-30T17:25:47.426493",
     "status": "completed"
    },
    "tags": []
   },
   "source": [
    "## 📊 Exploratory Data Visualizations"
   ]
  },
  {
   "cell_type": "markdown",
   "id": "fa17dead",
   "metadata": {
    "papermill": {
     "duration": 0.005528,
     "end_time": "2025-07-30T17:25:47.443203",
     "exception": false,
     "start_time": "2025-07-30T17:25:47.437675",
     "status": "completed"
    },
    "tags": []
   },
   "source": [
    "#### 🚢 General Survival Analysis"
   ]
  },
  {
   "cell_type": "code",
   "execution_count": 315,
   "id": "4546d29a",
   "metadata": {
    "execution": {
     "iopub.execute_input": "2025-07-30T17:25:47.455792Z",
     "iopub.status.busy": "2025-07-30T17:25:47.455486Z",
     "iopub.status.idle": "2025-07-30T17:25:47.744571Z",
     "shell.execute_reply": "2025-07-30T17:25:47.743639Z"
    },
    "papermill": {
     "duration": 0.297415,
     "end_time": "2025-07-30T17:25:47.746285",
     "exception": false,
     "start_time": "2025-07-30T17:25:47.448870",
     "status": "completed"
    },
    "tags": []
   },
   "outputs": [
    {
     "data": {
      "image/png": "[encoded data removed]",
      "text/plain": [
       "<Figure size 640x480 with 1 Axes>"
      ]
     },
     "metadata": {},
     "output_type": "display_data"
    }
   ],
   "source": [
    "sns.countplot(x=\"Survived\", data=dm.train_df, hue=\"Survived\")\n",
    "plt.title(\"Distribution of Survivors and Non-Survivors\")\n",
    "plt.xlabel(\"Survived\")\n",
    "plt.ylabel(\"Count\")\n",
    "plt.xticks(ticks=[0, 1], labels=[\"No\", \"Yes\"])\n",
    "plt.legend(title=\"Survived\", labels=[\"No\", \"Yes\"])\n",
    "plt.tight_layout()\n",
    "plt.show()"
   ]
  },
  {
   "cell_type": "markdown",
   "id": "63239f6d",
   "metadata": {},
   "source": [
    "### 🔗 Feature Correlation Matrix"
   ]
  },
  {
   "cell_type": "code",
   "execution_count": 316,
   "id": "79227559",
   "metadata": {},
   "outputs": [
    {
     "data": {
      "image/png": "[encoded data removed]",
      "text/plain": [
       "<Figure size 1000x800 with 2 Axes>"
      ]
     },
     "metadata": {},
     "output_type": "display_data"
    }
   ],
   "source": [
    "corr = dm.combined_df.corr()\n",
    "plt.figure(figsize=(10, 8))\n",
    "sns.heatmap(corr, annot=True, fmt=\".2f\", cmap=\"coolwarm\", square=True, linewidths=0.5)\n",
    "plt.title(\"Feature correlation\")\n",
    "plt.show()"
   ]
  },
  {
   "cell_type": "markdown",
   "id": "a78d46d8",
   "metadata": {
    "papermill": {
     "duration": 0.005838,
     "end_time": "2025-07-30T17:25:47.758687",
     "exception": false,
     "start_time": "2025-07-30T17:25:47.752849",
     "status": "completed"
    },
    "tags": []
   },
   "source": [
    "#### 💰 Wealth & Port of Embarkation vs Survival"
   ]
  },
  {
   "cell_type": "code",
   "execution_count": 317,
   "id": "2baeb4c5",
   "metadata": {
    "execution": {
     "iopub.execute_input": "2025-07-30T17:25:47.772524Z",
     "iopub.status.busy": "2025-07-30T17:25:47.772201Z",
     "iopub.status.idle": "2025-07-30T17:25:48.684092Z",
     "shell.execute_reply": "2025-07-30T17:25:48.683114Z"
    },
    "papermill": {
     "duration": 0.921412,
     "end_time": "2025-07-30T17:25:48.686295",
     "exception": false,
     "start_time": "2025-07-30T17:25:47.764883",
     "status": "completed"
    },
    "tags": []
   },
   "outputs": [
    {
     "data": {
      "image/png": "[encoded data removed]",
      "text/plain": [
       "<Figure size 1200x1000 with 4 Axes>"
      ]
     },
     "metadata": {},
     "output_type": "display_data"
    }
   ],
   "source": [
    "palette = \"Set2\"\n",
    "\n",
    "fig = plt.figure(figsize=(12, 10))\n",
    "fig.suptitle(\"Passenger Wealth and Survival Analysis\", fontweight=\"bold\")\n",
    "\n",
    "ax1 = plt.subplot2grid((2, 2), (0, 0))\n",
    "sns.countplot(x=\"Pclass\", hue=\"Survived\", data=dm.train_df, ax=ax1, palette=palette)\n",
    "ax1.set_title(\"Survival by Passenger Class\")\n",
    "ax1.legend(title=\"Survival Status\", labels=[\"Did not survive\", \"Survived\"])\n",
    "\n",
    "ax2 = plt.subplot2grid((2, 2), (0, 1))\n",
    "sns.countplot(x=\"Title\", hue=\"Survived\", data=dm.train_df, ax=ax2, palette=palette)\n",
    "ax2.set_title(\"Survival by Title\")\n",
    "ax2.legend(title=\"Survival Status\", labels=[\"Did not survive\", \"Survived\"])\n",
    "\n",
    "ax3 = plt.subplot2grid((2, 2), (1, 0))\n",
    "sns.countplot(x=\"Fare\", hue=\"Survived\", data=dm.train_df, ax=ax3, palette=palette)\n",
    "ax3.set_title(\"Fare Distribution by Survival\")\n",
    "ax3.legend(title=\"Survival Status\", labels=[\"Did not survive\", \"Survived\"])\n",
    "\n",
    "ax4 = plt.subplot2grid((2, 2), (1, 1))\n",
    "sns.countplot(x=\"Embarked\", hue=\"Survived\", data=dm.train_df, ax=ax4, palette=palette)\n",
    "ax4.set_title(\"Survival by Port of Embarkation\")\n",
    "ax4.legend(title=\"Survival Status\", labels=[\"Did not survive\", \"Survived\"])\n",
    "\n",
    "plt.tight_layout()\n",
    "plt.show()"
   ]
  },
  {
   "cell_type": "markdown",
   "id": "c7137ad5",
   "metadata": {
    "papermill": {
     "duration": 0.008765,
     "end_time": "2025-07-30T17:25:48.704243",
     "exception": false,
     "start_time": "2025-07-30T17:25:48.695478",
     "status": "completed"
    },
    "tags": []
   },
   "source": [
    "#### 🧬 Demographics and Relationships"
   ]
  },
  {
   "cell_type": "code",
   "execution_count": 318,
   "id": "372b493e",
   "metadata": {
    "execution": {
     "iopub.execute_input": "2025-07-30T17:25:48.723594Z",
     "iopub.status.busy": "2025-07-30T17:25:48.722946Z",
     "iopub.status.idle": "2025-07-30T17:25:49.851823Z",
     "shell.execute_reply": "2025-07-30T17:25:49.851015Z"
    },
    "papermill": {
     "duration": 1.141863,
     "end_time": "2025-07-30T17:25:49.854984",
     "exception": false,
     "start_time": "2025-07-30T17:25:48.713121",
     "status": "completed"
    },
    "tags": []
   },
   "outputs": [
    {
     "data": {
      "image/png": "[encoded data removed]",
      "text/plain": [
       "<Figure size 1200x1000 with 4 Axes>"
      ]
     },
     "metadata": {},
     "output_type": "display_data"
    }
   ],
   "source": [
    "palette = \"Set2\"\n",
    "\n",
    "fig = plt.figure(figsize=(12, 10))\n",
    "fig.suptitle(\"Survival Analysis by Social and Demographic Factors\", fontweight=\"bold\")\n",
    "\n",
    "ax1 = plt.subplot2grid((2, 2), (0, 0))\n",
    "sns.countplot(x=\"Sex\", hue=\"Survived\", data=dm.train_df, ax=ax1, palette=palette)\n",
    "ax1.set_title(\"Survival by Sex\")\n",
    "ax1.set_xticks([0, 1])\n",
    "ax1.set_xticklabels([\"No\", \"Yes\"])\n",
    "ax1.legend(title=\"Survival Status\", labels=[\"Did not survive\", \"Survived\"])\n",
    "\n",
    "ax2 = plt.subplot2grid((2, 2), (0, 1))\n",
    "sns.countplot(\n",
    "    x=\"TicketCount\", hue=\"Survived\", data=dm.train_df, ax=ax2, palette=palette\n",
    ")\n",
    "ax2.set_title(\"Survival by Ticket Count\")\n",
    "ax2.legend(title=\"Survival Status\", labels=[\"Did not survive\", \"Survived\"])\n",
    "\n",
    "ax3 = plt.subplot2grid((2, 2), (1, 0))\n",
    "sns.countplot(x=\"Age\", hue=\"Survived\", data=dm.train_df, ax=ax3, palette=palette)\n",
    "ax3.set_title(\"Age Distribution by Survival\")\n",
    "ax3.legend(title=\"Survival Status\")\n",
    "\n",
    "ax4 = plt.subplot2grid((2, 2), (1, 1))\n",
    "sns.countplot(\n",
    "    x=\"FamilySizeGrouped\", hue=\"Survived\", data=dm.train_df, ax=ax4, palette=palette\n",
    ")\n",
    "ax4.set_title(\"Survival by Traveling With Family\")\n",
    "ax4.legend(title=\"Survival Status\", labels=[\"Did not survive\", \"Survived\"])\n",
    "\n",
    "plt.tight_layout()\n",
    "plt.show()"
   ]
  },
  {
   "cell_type": "markdown",
   "id": "df2e94a2",
   "metadata": {
    "papermill": {
     "duration": 0.011751,
     "end_time": "2025-07-30T17:25:49.879213",
     "exception": false,
     "start_time": "2025-07-30T17:25:49.867462",
     "status": "completed"
    },
    "tags": []
   },
   "source": [
    "## 🧪 Model Training"
   ]
  },
  {
   "cell_type": "code",
   "execution_count": 319,
   "id": "48db9702",
   "metadata": {
    "execution": {
     "iopub.execute_input": "2025-07-30T17:25:49.904617Z",
     "iopub.status.busy": "2025-07-30T17:25:49.904054Z",
     "iopub.status.idle": "2025-07-30T17:25:49.910098Z",
     "shell.execute_reply": "2025-07-30T17:25:49.909213Z"
    },
    "papermill": {
     "duration": 0.02025,
     "end_time": "2025-07-30T17:25:49.911374",
     "exception": false,
     "start_time": "2025-07-30T17:25:49.891124",
     "status": "completed"
    },
    "tags": []
   },
   "outputs": [],
   "source": [
    "features = [\n",
    "    \"Pclass\",\n",
    "    \"Sex\",\n",
    "    \"Age\",\n",
    "    \"Embarked\",\n",
    "    \"Title\",\n",
    "    \"Deck\",\n",
    "    \"Fare\",\n",
    "    \"TicketCount\",\n",
    "    \"FamilyLastName\",\n",
    "    \"FamilySize\",\n",
    "    \"FamilySizeGrouped\",\n",
    "    \"WithFamily\",\n",
    "    \"WithFriends\",\n",
    "    \"TrulyAlone\",\n",
    "]\n",
    "\n",
    "X, y = dm.train_df[features], dm.train_df[\"Survived\"]\n",
    "\n",
    "X_train, X_valid, y_train, y_valid = train_test_split(\n",
    "    X, y, test_size=0.2, random_state=42\n",
    ")"
   ]
  },
  {
   "cell_type": "code",
   "execution_count": 320,
   "id": "df4fa988",
   "metadata": {
    "execution": {
     "iopub.execute_input": "2025-07-30T17:25:49.937265Z",
     "iopub.status.busy": "2025-07-30T17:25:49.936849Z",
     "iopub.status.idle": "2025-07-30T17:26:22.507678Z",
     "shell.execute_reply": "2025-07-30T17:26:22.506817Z"
    },
    "papermill": {
     "duration": 32.585652,
     "end_time": "2025-07-30T17:26:22.509249",
     "exception": false,
     "start_time": "2025-07-30T17:25:49.923597",
     "status": "completed"
    },
    "tags": []
   },
   "outputs": [
    {
     "name": "stderr",
     "output_type": "stream",
     "text": [
      "[I 2025-08-01 19:49:18,167] A new study created in memory with name: xgb\n",
      "[I 2025-08-01 19:49:18,826] Trial 0 finished with value: 0.8098591549295775 and parameters: {'n_estimators': 118, 'max_depth': 12, 'learning_rate': 0.1205712628744377, 'subsample': 0.7993292420985183, 'colsample_bytree': 0.5780093202212182}. Best is trial 0 with value: 0.8098591549295775.\n",
      "[I 2025-08-01 19:49:18,987] Trial 1 finished with value: 0.8309859154929577 and parameters: {'n_estimators': 55, 'max_depth': 3, 'learning_rate': 0.19030368381735815, 'subsample': 0.8005575058716043, 'colsample_bytree': 0.8540362888980227}. Best is trial 1 with value: 0.8309859154929577.\n",
      "[I 2025-08-01 19:49:19,104] Trial 2 finished with value: 0.823943661971831 and parameters: {'n_estimators': 15, 'max_depth': 12, 'learning_rate': 0.16967533607196555, 'subsample': 0.6061695553391381, 'colsample_bytree': 0.5909124836035503}. Best is trial 1 with value: 0.8309859154929577.\n",
      "[I 2025-08-01 19:49:19,356] Trial 3 finished with value: 0.8380281690140845 and parameters: {'n_estimators': 63, 'max_depth': 6, 'learning_rate': 0.05958389350068958, 'subsample': 0.7159725093210578, 'colsample_bytree': 0.645614570099021}. Best is trial 3 with value: 0.8380281690140845.\n",
      "[I 2025-08-01 19:49:19,780] Trial 4 finished with value: 0.823943661971831 and parameters: {'n_estimators': 188, 'max_depth': 4, 'learning_rate': 0.027010527749605478, 'subsample': 0.6831809216468459, 'colsample_bytree': 0.728034992108518}. Best is trial 3 with value: 0.8380281690140845.\n",
      "[I 2025-08-01 19:49:20,277] Trial 5 finished with value: 0.8309859154929577 and parameters: {'n_estimators': 238, 'max_depth': 4, 'learning_rate': 0.05748924681991978, 'subsample': 0.7962072844310213, 'colsample_bytree': 0.5232252063599989}. Best is trial 3 with value: 0.8380281690140845.\n",
      "[I 2025-08-01 19:49:20,793] Trial 6 finished with value: 0.8169014084507042 and parameters: {'n_estimators': 186, 'max_depth': 4, 'learning_rate': 0.012476394272569451, 'subsample': 0.9744427686266666, 'colsample_bytree': 0.9828160165372797}. Best is trial 3 with value: 0.8380281690140845.\n",
      "[I 2025-08-01 19:49:21,535] Trial 7 finished with value: 0.8450704225352113 and parameters: {'n_estimators': 245, 'max_depth': 6, 'learning_rate': 0.013940346079873234, 'subsample': 0.8421165132560784, 'colsample_bytree': 0.7200762468698007}. Best is trial 7 with value: 0.8450704225352113.\n",
      "[I 2025-08-01 19:49:21,736] Trial 8 finished with value: 0.8098591549295775 and parameters: {'n_estimators': 45, 'max_depth': 7, 'learning_rate': 0.011240768803005551, 'subsample': 0.954660201039391, 'colsample_bytree': 0.6293899908000085}. Best is trial 7 with value: 0.8450704225352113.\n",
      "[I 2025-08-01 19:49:22,285] Trial 9 finished with value: 0.8309859154929577 and parameters: {'n_estimators': 202, 'max_depth': 6, 'learning_rate': 0.05864129169696527, 'subsample': 0.7733551396716398, 'colsample_bytree': 0.5924272277627636}. Best is trial 7 with value: 0.8450704225352113.\n",
      "[I 2025-08-01 19:49:23,230] Trial 10 finished with value: 0.8309859154929577 and parameters: {'n_estimators': 294, 'max_depth': 9, 'learning_rate': 0.023413669026819833, 'subsample': 0.5089809378074099, 'colsample_bytree': 0.8200442512337782}. Best is trial 7 with value: 0.8450704225352113.\n",
      "[I 2025-08-01 19:49:23,802] Trial 11 finished with value: 0.8380281690140845 and parameters: {'n_estimators': 110, 'max_depth': 9, 'learning_rate': 0.030241001410559527, 'subsample': 0.8918148105745085, 'colsample_bytree': 0.6898021217101118}. Best is trial 7 with value: 0.8450704225352113.\n",
      "[I 2025-08-01 19:49:24,781] Trial 12 finished with value: 0.8028169014084507 and parameters: {'n_estimators': 298, 'max_depth': 6, 'learning_rate': 0.08787850607501549, 'subsample': 0.6671311467835576, 'colsample_bytree': 0.7975192782750699}. Best is trial 7 with value: 0.8450704225352113.\n",
      "[I 2025-08-01 19:49:25,331] Trial 13 finished with value: 0.8380281690140845 and parameters: {'n_estimators': 119, 'max_depth': 8, 'learning_rate': 0.0422736123798843, 'subsample': 0.8738214287354173, 'colsample_bytree': 0.6921539470813262}. Best is trial 7 with value: 0.8450704225352113.\n",
      "[I 2025-08-01 19:49:26,283] Trial 14 finished with value: 0.8450704225352113 and parameters: {'n_estimators': 240, 'max_depth': 6, 'learning_rate': 0.020311963763314157, 'subsample': 0.6887471426927589, 'colsample_bytree': 0.8859620061900357}. Best is trial 7 with value: 0.8450704225352113.\n",
      "[I 2025-08-01 19:49:27,303] Trial 15 finished with value: 0.8450704225352113 and parameters: {'n_estimators': 244, 'max_depth': 10, 'learning_rate': 0.017186943413541707, 'subsample': 0.5978208375617697, 'colsample_bytree': 0.9311583528393178}. Best is trial 7 with value: 0.8450704225352113.\n",
      "[I 2025-08-01 19:49:28,129] Trial 16 finished with value: 0.8380281690140845 and parameters: {'n_estimators': 247, 'max_depth': 5, 'learning_rate': 0.01775824707668029, 'subsample': 0.8720186609673024, 'colsample_bytree': 0.8989974345395086}. Best is trial 7 with value: 0.8450704225352113.\n",
      "[I 2025-08-01 19:49:29,195] Trial 17 finished with value: 0.8380281690140845 and parameters: {'n_estimators': 261, 'max_depth': 8, 'learning_rate': 0.010514138343980222, 'subsample': 0.6230628168654155, 'colsample_bytree': 0.7522385470087106}. Best is trial 7 with value: 0.8450704225352113.\n",
      "[I 2025-08-01 19:49:29,794] Trial 18 finished with value: 0.8309859154929577 and parameters: {'n_estimators': 159, 'max_depth': 7, 'learning_rate': 0.03686968538000436, 'subsample': 0.7301462409376311, 'colsample_bytree': 0.870576595589974}. Best is trial 7 with value: 0.8450704225352113.\n",
      "[I 2025-08-01 19:49:30,414] Trial 19 finished with value: 0.8380281690140845 and parameters: {'n_estimators': 217, 'max_depth': 5, 'learning_rate': 0.017826301778096756, 'subsample': 0.5373950309322091, 'colsample_bytree': 0.7827510604166051}. Best is trial 7 with value: 0.8450704225352113.\n",
      "[I 2025-08-01 19:49:31,583] Trial 20 finished with value: 0.823943661971831 and parameters: {'n_estimators': 272, 'max_depth': 10, 'learning_rate': 0.0156956299699176, 'subsample': 0.9218160365433353, 'colsample_bytree': 0.9624056002161828}. Best is trial 7 with value: 0.8450704225352113.\n",
      "[I 2025-08-01 19:49:32,489] Trial 21 finished with value: 0.8309859154929577 and parameters: {'n_estimators': 221, 'max_depth': 11, 'learning_rate': 0.02067165627307519, 'subsample': 0.5851844040992088, 'colsample_bytree': 0.9298249375977756}. Best is trial 7 with value: 0.8450704225352113.\n",
      "[I 2025-08-01 19:49:33,167] Trial 22 finished with value: 0.8380281690140845 and parameters: {'n_estimators': 160, 'max_depth': 10, 'learning_rate': 0.014157465777273141, 'subsample': 0.6588403743401356, 'colsample_bytree': 0.921788237671752}. Best is trial 7 with value: 0.8450704225352113.\n",
      "[I 2025-08-01 19:49:34,195] Trial 23 finished with value: 0.8309859154929577 and parameters: {'n_estimators': 273, 'max_depth': 7, 'learning_rate': 0.0348496488283172, 'subsample': 0.5573815453984086, 'colsample_bytree': 0.8522020057265056}. Best is trial 7 with value: 0.8450704225352113.\n",
      "[I 2025-08-01 19:49:35,472] Trial 24 finished with value: 0.8309859154929577 and parameters: {'n_estimators': 224, 'max_depth': 9, 'learning_rate': 0.02290752666983393, 'subsample': 0.8338962247920463, 'colsample_bytree': 0.9887827522130592}. Best is trial 7 with value: 0.8450704225352113.\n",
      "[I 2025-08-01 19:49:36,184] Trial 25 finished with value: 0.8309859154929577 and parameters: {'n_estimators': 248, 'max_depth': 5, 'learning_rate': 0.014943690498813713, 'subsample': 0.6353370453665218, 'colsample_bytree': 0.9466796914072458}. Best is trial 7 with value: 0.8450704225352113.\n",
      "[I 2025-08-01 19:49:36,905] Trial 26 finished with value: 0.8380281690140845 and parameters: {'n_estimators': 184, 'max_depth': 8, 'learning_rate': 0.010380538902660654, 'subsample': 0.7004831188261247, 'colsample_bytree': 0.8993662006115332}. Best is trial 7 with value: 0.8450704225352113.\n",
      "[I 2025-08-01 19:49:37,704] Trial 27 finished with value: 0.8309859154929577 and parameters: {'n_estimators': 282, 'max_depth': 6, 'learning_rate': 0.020026406577934384, 'subsample': 0.8363864832487758, 'colsample_bytree': 0.8244029099113045}. Best is trial 7 with value: 0.8450704225352113.\n",
      "[I 2025-08-01 19:49:38,410] Trial 28 finished with value: 0.795774647887324 and parameters: {'n_estimators': 253, 'max_depth': 10, 'learning_rate': 0.29617315369159336, 'subsample': 0.7445812646625429, 'colsample_bytree': 0.7586762826070335}. Best is trial 7 with value: 0.8450704225352113.\n",
      "[I 2025-08-01 19:49:39,043] Trial 29 finished with value: 0.8309859154929577 and parameters: {'n_estimators': 129, 'max_depth': 11, 'learning_rate': 0.045925542869866005, 'subsample': 0.5829605220258023, 'colsample_bytree': 0.7116319534267631}. Best is trial 7 with value: 0.8450704225352113.\n",
      "[I 2025-08-01 19:49:39,464] Trial 30 finished with value: 0.8380281690140845 and parameters: {'n_estimators': 209, 'max_depth': 3, 'learning_rate': 0.027156506626771625, 'subsample': 0.7620229686292194, 'colsample_bytree': 0.65477426123904}. Best is trial 7 with value: 0.8450704225352113.\n",
      "[I 2025-08-01 19:49:39,788] Trial 31 finished with value: 0.8309859154929577 and parameters: {'n_estimators': 91, 'max_depth': 6, 'learning_rate': 0.0678218117671858, 'subsample': 0.7146835996085172, 'colsample_bytree': 0.6614811680408486}. Best is trial 7 with value: 0.8450704225352113.\n",
      "[I 2025-08-01 19:49:40,122] Trial 32 finished with value: 0.8380281690140845 and parameters: {'n_estimators': 87, 'max_depth': 7, 'learning_rate': 0.08046216266917165, 'subsample': 0.6483900816759381, 'colsample_bytree': 0.5564146727008817}. Best is trial 7 with value: 0.8450704225352113.\n",
      "[I 2025-08-01 19:49:40,314] Trial 33 finished with value: 0.8309859154929577 and parameters: {'n_estimators': 34, 'max_depth': 6, 'learning_rate': 0.1090508610706416, 'subsample': 0.8159032427681245, 'colsample_bytree': 0.6367861393932244}. Best is trial 7 with value: 0.8450704225352113.\n",
      "[I 2025-08-01 19:49:40,721] Trial 34 finished with value: 0.8380281690140845 and parameters: {'n_estimators': 139, 'max_depth': 5, 'learning_rate': 0.01333586604792869, 'subsample': 0.6920791313744391, 'colsample_bytree': 0.7305883778847562}. Best is trial 7 with value: 0.8450704225352113.\n",
      "[I 2025-08-01 19:49:40,957] Trial 35 finished with value: 0.8169014084507042 and parameters: {'n_estimators': 71, 'max_depth': 4, 'learning_rate': 0.043154144650556905, 'subsample': 0.7896337135178552, 'colsample_bytree': 0.866759733500174}. Best is trial 7 with value: 0.8450704225352113.\n",
      "[I 2025-08-01 19:49:41,551] Trial 36 finished with value: 0.8380281690140845 and parameters: {'n_estimators': 230, 'max_depth': 5, 'learning_rate': 0.03224548816455505, 'subsample': 0.6013736036651918, 'colsample_bytree': 0.6224387478942691}. Best is trial 7 with value: 0.8450704225352113.\n",
      "[I 2025-08-01 19:49:42,129] Trial 37 finished with value: 0.8380281690140845 and parameters: {'n_estimators': 176, 'max_depth': 7, 'learning_rate': 0.05216702167766569, 'subsample': 0.7189076174834867, 'colsample_bytree': 0.7752804854529181}. Best is trial 7 with value: 0.8450704225352113.\n",
      "[I 2025-08-01 19:49:42,293] Trial 38 finished with value: 0.8251748251748252 and parameters: {'n_estimators': 18, 'max_depth': 12, 'learning_rate': 0.15645467756433637, 'subsample': 0.673312544821966, 'colsample_bytree': 0.5157674739488656}. Best is trial 7 with value: 0.8450704225352113.\n",
      "[I 2025-08-01 19:49:42,906] Trial 39 finished with value: 0.8450704225352113 and parameters: {'n_estimators': 205, 'max_depth': 6, 'learning_rate': 0.023976451887324144, 'subsample': 0.7524568723261787, 'colsample_bytree': 0.8256455659982395}. Best is trial 7 with value: 0.8450704225352113.\n",
      "[I 2025-08-01 19:49:43,298] Trial 40 finished with value: 0.823943661971831 and parameters: {'n_estimators': 195, 'max_depth': 3, 'learning_rate': 0.025004604791403328, 'subsample': 0.7793644003515997, 'colsample_bytree': 0.825009365415675}. Best is trial 7 with value: 0.8450704225352113.\n",
      "[I 2025-08-01 19:49:44,011] Trial 41 finished with value: 0.8450704225352113 and parameters: {'n_estimators': 236, 'max_depth': 6, 'learning_rate': 0.016930182707798436, 'subsample': 0.7554102656794237, 'colsample_bytree': 0.9054165921402635}. Best is trial 7 with value: 0.8450704225352113.\n",
      "[I 2025-08-01 19:49:44,699] Trial 42 finished with value: 0.8309859154929577 and parameters: {'n_estimators': 232, 'max_depth': 6, 'learning_rate': 0.01735184365706483, 'subsample': 0.7451557584706547, 'colsample_bytree': 0.8940592932171196}. Best is trial 7 with value: 0.8450704225352113.\n",
      "[I 2025-08-01 19:49:45,587] Trial 43 finished with value: 0.8450704225352113 and parameters: {'n_estimators': 262, 'max_depth': 7, 'learning_rate': 0.01243706533054177, 'subsample': 0.8167720193327904, 'colsample_bytree': 0.8491656842905384}. Best is trial 7 with value: 0.8450704225352113.\n",
      "[I 2025-08-01 19:49:46,138] Trial 44 finished with value: 0.8309859154929577 and parameters: {'n_estimators': 241, 'max_depth': 4, 'learning_rate': 0.028155315483579628, 'subsample': 0.7617264270904869, 'colsample_bytree': 0.9295295849365484}. Best is trial 7 with value: 0.8450704225352113.\n",
      "[I 2025-08-01 19:49:46,804] Trial 45 finished with value: 0.8450704225352113 and parameters: {'n_estimators': 207, 'max_depth': 6, 'learning_rate': 0.020537338403827203, 'subsample': 0.8586368885331196, 'colsample_bytree': 0.8808759747015826}. Best is trial 7 with value: 0.8450704225352113.\n",
      "[I 2025-08-01 19:49:47,493] Trial 46 finished with value: 0.8380281690140845 and parameters: {'n_estimators': 174, 'max_depth': 8, 'learning_rate': 0.016613673759177883, 'subsample': 0.9204108318272379, 'colsample_bytree': 0.9597977223447893}. Best is trial 7 with value: 0.8450704225352113.\n",
      "[I 2025-08-01 19:49:48,175] Trial 47 finished with value: 0.8380281690140845 and parameters: {'n_estimators': 261, 'max_depth': 5, 'learning_rate': 0.012049101549899162, 'subsample': 0.5100502826467302, 'colsample_bytree': 0.8077367903119201}. Best is trial 7 with value: 0.8450704225352113.\n",
      "[I 2025-08-01 19:49:49,129] Trial 48 finished with value: 0.8380281690140845 and parameters: {'n_estimators': 292, 'max_depth': 7, 'learning_rate': 0.023107719672658397, 'subsample': 0.69356178200848, 'colsample_bytree': 0.8408341986775607}. Best is trial 7 with value: 0.8450704225352113.\n",
      "[I 2025-08-01 19:49:49,753] Trial 49 finished with value: 0.8309859154929577 and parameters: {'n_estimators': 239, 'max_depth': 5, 'learning_rate': 0.019561136230264245, 'subsample': 0.6220780895967333, 'colsample_bytree': 0.9000752925333774}. Best is trial 7 with value: 0.8450704225352113.\n",
      "[I 2025-08-01 19:49:50,409] Trial 50 finished with value: 0.8380281690140845 and parameters: {'n_estimators': 214, 'max_depth': 6, 'learning_rate': 0.015253224264998175, 'subsample': 0.7367416257548233, 'colsample_bytree': 0.9168125739745253}. Best is trial 7 with value: 0.8450704225352113.\n",
      "[I 2025-08-01 19:49:51,269] Trial 51 finished with value: 0.8450704225352113 and parameters: {'n_estimators': 267, 'max_depth': 7, 'learning_rate': 0.011937759684966203, 'subsample': 0.8127098334188235, 'colsample_bytree': 0.8491025429747603}. Best is trial 7 with value: 0.8450704225352113.\n",
      "[I 2025-08-01 19:49:52,109] Trial 52 finished with value: 0.8450704225352113 and parameters: {'n_estimators': 253, 'max_depth': 6, 'learning_rate': 0.013326497132189623, 'subsample': 0.8439136035944987, 'colsample_bytree': 0.7841884643995147}. Best is trial 7 with value: 0.8450704225352113.\n",
      "[I 2025-08-01 19:49:53,105] Trial 53 finished with value: 0.8450704225352113 and parameters: {'n_estimators': 279, 'max_depth': 8, 'learning_rate': 0.010772994096061996, 'subsample': 0.8092709071843074, 'colsample_bytree': 0.870756939467581}. Best is trial 7 with value: 0.8450704225352113.\n",
      "[I 2025-08-01 19:49:53,773] Trial 54 finished with value: 0.8450704225352113 and parameters: {'n_estimators': 196, 'max_depth': 7, 'learning_rate': 0.017679323836976214, 'subsample': 0.7881745740400199, 'colsample_bytree': 0.9447516338866102}. Best is trial 7 with value: 0.8450704225352113.\n",
      "[I 2025-08-01 19:49:54,777] Trial 55 finished with value: 0.8450704225352113 and parameters: {'n_estimators': 259, 'max_depth': 9, 'learning_rate': 0.013536646798956978, 'subsample': 0.8808737076999045, 'colsample_bytree': 0.8378010840312999}. Best is trial 7 with value: 0.8450704225352113.\n",
      "[I 2025-08-01 19:49:55,552] Trial 56 finished with value: 0.823943661971831 and parameters: {'n_estimators': 227, 'max_depth': 7, 'learning_rate': 0.015483891608847078, 'subsample': 0.9145707141828788, 'colsample_bytree': 0.9663958406308553}. Best is trial 7 with value: 0.8450704225352113.\n",
      "[I 2025-08-01 19:49:56,705] Trial 57 finished with value: 0.823943661971831 and parameters: {'n_estimators': 286, 'max_depth': 11, 'learning_rate': 0.023259140894898105, 'subsample': 0.8226531652524641, 'colsample_bytree': 0.9994724582082004}. Best is trial 7 with value: 0.8450704225352113.\n",
      "[I 2025-08-01 19:49:57,421] Trial 58 finished with value: 0.8380281690140845 and parameters: {'n_estimators': 239, 'max_depth': 6, 'learning_rate': 0.010185799445410914, 'subsample': 0.7681295075869926, 'colsample_bytree': 0.8844908733823711}. Best is trial 7 with value: 0.8450704225352113.\n",
      "[I 2025-08-01 19:49:58,210] Trial 59 finished with value: 0.8309859154929577 and parameters: {'n_estimators': 268, 'max_depth': 5, 'learning_rate': 0.012093040136532415, 'subsample': 0.8572906393500376, 'colsample_bytree': 0.7378756622077791}. Best is trial 7 with value: 0.8450704225352113.\n",
      "[I 2025-08-01 19:49:59,055] Trial 60 finished with value: 0.8380281690140845 and parameters: {'n_estimators': 247, 'max_depth': 8, 'learning_rate': 0.03766503001468056, 'subsample': 0.7168027650161596, 'colsample_bytree': 0.8052721759516218}. Best is trial 7 with value: 0.8450704225352113.\n",
      "[I 2025-08-01 19:49:59,715] Trial 61 finished with value: 0.852112676056338 and parameters: {'n_estimators': 206, 'max_depth': 6, 'learning_rate': 0.020620817276479204, 'subsample': 0.8578309891148542, 'colsample_bytree': 0.9140606511470843}. Best is trial 61 with value: 0.852112676056338.\n",
      "[I 2025-08-01 19:50:00,370] Trial 62 finished with value: 0.8380281690140845 and parameters: {'n_estimators': 218, 'max_depth': 6, 'learning_rate': 0.031023554366318692, 'subsample': 0.8016264135141453, 'colsample_bytree': 0.9128373780744458}. Best is trial 61 with value: 0.852112676056338.\n",
      "[I 2025-08-01 19:50:01,202] Trial 63 finished with value: 0.8309859154929577 and parameters: {'n_estimators': 205, 'max_depth': 7, 'learning_rate': 0.019675822533150675, 'subsample': 0.9006387799314797, 'colsample_bytree': 0.938157450300917}. Best is trial 61 with value: 0.852112676056338.\n",
      "[I 2025-08-01 19:50:01,989] Trial 64 finished with value: 0.8450704225352113 and parameters: {'n_estimators': 231, 'max_depth': 6, 'learning_rate': 0.018294927115079487, 'subsample': 0.8493651115070588, 'colsample_bytree': 0.8627866693423607}. Best is trial 61 with value: 0.852112676056338.\n",
      "[I 2025-08-01 19:50:02,525] Trial 65 finished with value: 0.8169014084507042 and parameters: {'n_estimators': 196, 'max_depth': 5, 'learning_rate': 0.02559780503558316, 'subsample': 0.5501542128556914, 'colsample_bytree': 0.7047546874378824}. Best is trial 61 with value: 0.852112676056338.\n",
      "[I 2025-08-01 19:50:03,417] Trial 66 finished with value: 0.8309859154929577 and parameters: {'n_estimators': 254, 'max_depth': 7, 'learning_rate': 0.014360875969944781, 'subsample': 0.9508275792231645, 'colsample_bytree': 0.9098143868202186}. Best is trial 61 with value: 0.852112676056338.\n",
      "[I 2025-08-01 19:50:04,083] Trial 67 finished with value: 0.8309859154929577 and parameters: {'n_estimators': 218, 'max_depth': 6, 'learning_rate': 0.01626187512567917, 'subsample': 0.8279854405665151, 'colsample_bytree': 0.971905899540489}. Best is trial 61 with value: 0.852112676056338.\n",
      "[I 2025-08-01 19:50:05,105] Trial 68 finished with value: 0.8309859154929577 and parameters: {'n_estimators': 300, 'max_depth': 8, 'learning_rate': 0.023247049456847513, 'subsample': 0.8749042272433865, 'colsample_bytree': 0.7679327698332195}. Best is trial 61 with value: 0.852112676056338.\n",
      "[I 2025-08-01 19:50:05,867] Trial 69 finished with value: 0.8380281690140845 and parameters: {'n_estimators': 275, 'max_depth': 5, 'learning_rate': 0.021508783904980018, 'subsample': 0.7537486558757365, 'colsample_bytree': 0.8827511053116965}. Best is trial 61 with value: 0.852112676056338.\n",
      "[I 2025-08-01 19:50:06,471] Trial 70 finished with value: 0.8380281690140845 and parameters: {'n_estimators': 149, 'max_depth': 6, 'learning_rate': 0.01896182515239926, 'subsample': 0.9971509633507086, 'colsample_bytree': 0.6760140488592351}. Best is trial 61 with value: 0.852112676056338.\n",
      "[I 2025-08-01 19:50:07,121] Trial 71 finished with value: 0.8450704225352113 and parameters: {'n_estimators': 209, 'max_depth': 6, 'learning_rate': 0.02006105622634423, 'subsample': 0.8604553773885233, 'colsample_bytree': 0.8897618031828173}. Best is trial 61 with value: 0.852112676056338.\n",
      "[I 2025-08-01 19:50:07,711] Trial 72 finished with value: 0.8450704225352113 and parameters: {'n_estimators': 184, 'max_depth': 6, 'learning_rate': 0.021810416795678206, 'subsample': 0.8630775586703864, 'colsample_bytree': 0.8751470150423281}. Best is trial 61 with value: 0.852112676056338.\n",
      "[I 2025-08-01 19:50:08,486] Trial 73 finished with value: 0.8169014084507042 and parameters: {'n_estimators': 245, 'max_depth': 7, 'learning_rate': 0.028716149245491394, 'subsample': 0.783908897821245, 'colsample_bytree': 0.9508086213891045}. Best is trial 61 with value: 0.852112676056338.\n",
      "[I 2025-08-01 19:50:09,153] Trial 74 finished with value: 0.8450704225352113 and parameters: {'n_estimators': 225, 'max_depth': 6, 'learning_rate': 0.013115294081745466, 'subsample': 0.8381431336939995, 'colsample_bytree': 0.8562945835507294}. Best is trial 61 with value: 0.852112676056338.\n",
      "[I 2025-08-01 19:50:09,662] Trial 75 finished with value: 0.8380281690140845 and parameters: {'n_estimators': 170, 'max_depth': 5, 'learning_rate': 0.01668652841626087, 'subsample': 0.9053461696011876, 'colsample_bytree': 0.9268923259049098}. Best is trial 61 with value: 0.852112676056338.\n",
      "[I 2025-08-01 19:50:10,431] Trial 76 finished with value: 0.8380281690140845 and parameters: {'n_estimators': 236, 'max_depth': 7, 'learning_rate': 0.025164132955115555, 'subsample': 0.8857127404433014, 'colsample_bytree': 0.840971174318096}. Best is trial 61 with value: 0.852112676056338.\n",
      "[I 2025-08-01 19:50:11,002] Trial 77 finished with value: 0.8380281690140845 and parameters: {'n_estimators': 190, 'max_depth': 6, 'learning_rate': 0.014784605288586505, 'subsample': 0.6539993418871073, 'colsample_bytree': 0.9050573723072872}. Best is trial 61 with value: 0.852112676056338.\n",
      "[I 2025-08-01 19:50:11,590] Trial 78 finished with value: 0.8380281690140845 and parameters: {'n_estimators': 210, 'max_depth': 5, 'learning_rate': 0.01118511396737999, 'subsample': 0.9364952265385391, 'colsample_bytree': 0.8246053686217729}. Best is trial 61 with value: 0.852112676056338.\n",
      "[I 2025-08-01 19:50:12,439] Trial 79 finished with value: 0.8380281690140845 and parameters: {'n_estimators': 200, 'max_depth': 12, 'learning_rate': 0.018250006527000952, 'subsample': 0.7975456421346283, 'colsample_bytree': 0.7924975361297093}. Best is trial 61 with value: 0.852112676056338.\n",
      "[I 2025-08-01 19:50:13,178] Trial 80 finished with value: 0.8309859154929577 and parameters: {'n_estimators': 264, 'max_depth': 6, 'learning_rate': 0.03323781734337631, 'subsample': 0.5865731437198545, 'colsample_bytree': 0.8806344739649296}. Best is trial 61 with value: 0.852112676056338.\n",
      "[I 2025-08-01 19:50:14,072] Trial 81 finished with value: 0.8450704225352113 and parameters: {'n_estimators': 267, 'max_depth': 7, 'learning_rate': 0.012804730309270557, 'subsample': 0.8178406613580704, 'colsample_bytree': 0.8547627705728429}. Best is trial 61 with value: 0.852112676056338.\n",
      "[I 2025-08-01 19:50:14,974] Trial 82 finished with value: 0.8450704225352113 and parameters: {'n_estimators': 287, 'max_depth': 7, 'learning_rate': 0.014097362779036234, 'subsample': 0.7313476120061094, 'colsample_bytree': 0.8444796974047261}. Best is trial 61 with value: 0.852112676056338.\n",
      "[I 2025-08-01 19:50:15,986] Trial 83 finished with value: 0.8309859154929577 and parameters: {'n_estimators': 257, 'max_depth': 9, 'learning_rate': 0.011699807034109657, 'subsample': 0.8072843357031458, 'colsample_bytree': 0.9327489610103952}. Best is trial 61 with value: 0.852112676056338.\n",
      "[I 2025-08-01 19:50:17,226] Trial 84 finished with value: 0.8450704225352113 and parameters: {'n_estimators': 247, 'max_depth': 6, 'learning_rate': 0.015962083104775135, 'subsample': 0.7764506577728291, 'colsample_bytree': 0.810084266972672}. Best is trial 61 with value: 0.852112676056338.\n",
      "[I 2025-08-01 19:50:18,056] Trial 85 finished with value: 0.8450704225352113 and parameters: {'n_estimators': 222, 'max_depth': 7, 'learning_rate': 0.021126562610202928, 'subsample': 0.6717933761404966, 'colsample_bytree': 0.8692281564168292}. Best is trial 61 with value: 0.852112676056338.\n",
      "[I 2025-08-01 19:50:19,126] Trial 86 finished with value: 0.8380281690140845 and parameters: {'n_estimators': 241, 'max_depth': 7, 'learning_rate': 0.012379367493300607, 'subsample': 0.829867720384205, 'colsample_bytree': 0.8942595055053877}. Best is trial 61 with value: 0.852112676056338.\n",
      "[I 2025-08-01 19:50:20,125] Trial 87 finished with value: 0.8450704225352113 and parameters: {'n_estimators': 273, 'max_depth': 6, 'learning_rate': 0.017281912744930076, 'subsample': 0.8464427684527361, 'colsample_bytree': 0.919737998594125}. Best is trial 61 with value: 0.852112676056338.\n",
      "[I 2025-08-01 19:50:21,016] Trial 88 finished with value: 0.8450704225352113 and parameters: {'n_estimators': 231, 'max_depth': 8, 'learning_rate': 0.014911984082824563, 'subsample': 0.7614816203467102, 'colsample_bytree': 0.7462765670100503}. Best is trial 61 with value: 0.852112676056338.\n",
      "[I 2025-08-01 19:50:21,661] Trial 89 finished with value: 0.8028169014084507 and parameters: {'n_estimators': 250, 'max_depth': 5, 'learning_rate': 0.22765449680812608, 'subsample': 0.8645216396734208, 'colsample_bytree': 0.7247904931847367}. Best is trial 61 with value: 0.852112676056338.\n",
      "[I 2025-08-01 19:50:22,846] Trial 90 finished with value: 0.8450704225352113 and parameters: {'n_estimators': 262, 'max_depth': 11, 'learning_rate': 0.011430408603003733, 'subsample': 0.8929746453387287, 'colsample_bytree': 0.8338814121336199}. Best is trial 61 with value: 0.852112676056338.\n",
      "[I 2025-08-01 19:50:23,794] Trial 91 finished with value: 0.8450704225352113 and parameters: {'n_estimators': 253, 'max_depth': 6, 'learning_rate': 0.013495965079717355, 'subsample': 0.8489350482031993, 'colsample_bytree': 0.7910111495191129}. Best is trial 61 with value: 0.852112676056338.\n",
      "[I 2025-08-01 19:50:24,554] Trial 92 finished with value: 0.8450704225352113 and parameters: {'n_estimators': 239, 'max_depth': 6, 'learning_rate': 0.010217560993920724, 'subsample': 0.8415194869285665, 'colsample_bytree': 0.7770520879087924}. Best is trial 61 with value: 0.852112676056338.\n",
      "[I 2025-08-01 19:50:25,429] Trial 93 finished with value: 0.8380281690140845 and parameters: {'n_estimators': 279, 'max_depth': 6, 'learning_rate': 0.012725124146076648, 'subsample': 0.7082191818374388, 'colsample_bytree': 0.8498210262055008}. Best is trial 61 with value: 0.852112676056338.\n",
      "[I 2025-08-01 19:50:26,493] Trial 94 finished with value: 0.8450704225352113 and parameters: {'n_estimators': 269, 'max_depth': 10, 'learning_rate': 0.015577054703651179, 'subsample': 0.64012985477051, 'colsample_bytree': 0.8112587427455769}. Best is trial 61 with value: 0.852112676056338.\n",
      "[I 2025-08-01 19:50:27,383] Trial 95 finished with value: 0.8450704225352113 and parameters: {'n_estimators': 213, 'max_depth': 7, 'learning_rate': 0.013916151727666259, 'subsample': 0.8177663263234113, 'colsample_bytree': 0.7574670869766996}. Best is trial 61 with value: 0.852112676056338.\n",
      "[I 2025-08-01 19:50:28,143] Trial 96 finished with value: 0.8450704225352113 and parameters: {'n_estimators': 254, 'max_depth': 6, 'learning_rate': 0.01868067691701636, 'subsample': 0.7968741387744946, 'colsample_bytree': 0.8618877718136829}. Best is trial 61 with value: 0.852112676056338.\n",
      "[I 2025-08-01 19:50:28,831] Trial 97 finished with value: 0.8450704225352113 and parameters: {'n_estimators': 225, 'max_depth': 5, 'learning_rate': 0.01119361069096553, 'subsample': 0.8102806650055774, 'colsample_bytree': 0.8239484553732427}. Best is trial 61 with value: 0.852112676056338.\n",
      "[I 2025-08-01 19:50:29,644] Trial 98 finished with value: 0.8450704225352113 and parameters: {'n_estimators': 234, 'max_depth': 7, 'learning_rate': 0.016633645260571553, 'subsample': 0.6834180059657913, 'colsample_bytree': 0.8998524028700169}. Best is trial 61 with value: 0.852112676056338.\n",
      "[I 2025-08-01 19:50:30,504] Trial 99 finished with value: 0.8450704225352113 and parameters: {'n_estimators': 292, 'max_depth': 6, 'learning_rate': 0.02120174604962633, 'subsample': 0.8545083182989888, 'colsample_bytree': 0.9112903244305539}. Best is trial 61 with value: 0.852112676056338.\n"
     ]
    }
   ],
   "source": [
    "class Objective:\n",
    "    \"\"\"Objective function class for Optuna hyperparameter optimization.\n",
    "\n",
    "    This class wraps training and evaluation logic to be used in Optuna's optimization\n",
    "    loop. It supports randomized cross-validation and logs the cross-validated accuracy\n",
    "    for each trial.\n",
    "    \"\"\"\n",
    "\n",
    "    def __init__(\n",
    "        self,\n",
    "        X: NDArray[np.float64],\n",
    "        y: NDArray[np.float64],\n",
    "        random_state: int | None = None,\n",
    "    ) -> None:\n",
    "        \"\"\"Initializes the Objective class.\n",
    "\n",
    "        Args:\n",
    "            X (NDArray[np.float64]): Feature matrix.\n",
    "            y (NDArray[np.float64]): Target vector.\n",
    "            random_state (int | None): Random seed for reproducibility. Default is None.\n",
    "        \"\"\"\n",
    "        self.X = X\n",
    "        self.y = y\n",
    "        self.random_state = random_state\n",
    "\n",
    "    def __call__(self, trial: optuna.trial.Trial) -> float:\n",
    "        \"\"\"Objective function for Optuna study to optimize hyperparameters.\n",
    "\n",
    "        Parameters:\n",
    "            trial (Trial): A single trial object that suggests hyperparameter values.\n",
    "\n",
    "        Returns:\n",
    "            float: Cross-validated accuracy score (mean of folds).\n",
    "        \"\"\"\n",
    "        params = {\n",
    "            \"n_estimators\": trial.suggest_int(\"n_estimators\", 10, 300),\n",
    "            \"max_depth\": trial.suggest_int(\"max_depth\", 3, 12),\n",
    "            \"learning_rate\": trial.suggest_float(\"learning_rate\", 0.01, 0.3, log=True),\n",
    "            \"subsample\": trial.suggest_float(\"subsample\", 0.5, 1.0),\n",
    "            \"colsample_bytree\": trial.suggest_float(\"colsample_bytree\", 0.5, 1.0),\n",
    "            \"eval_metric\": \"logloss\",\n",
    "            \"random_state\": self.random_state,\n",
    "        }\n",
    "\n",
    "        model = xgb.XGBClassifier(**params)\n",
    "\n",
    "        cv = StratifiedKFold(n_splits=5, shuffle=True, random_state=self.random_state)\n",
    "        scores = cross_val_score(model, self.X, self.y, cv=cv, scoring=\"accuracy\")\n",
    "\n",
    "        score = np.median(scores)\n",
    "        trial.set_user_attr(\"cv_accuracy\", score)\n",
    "        return score\n",
    "\n",
    "\n",
    "study = optuna.create_study(\n",
    "    direction=\"maximize\",\n",
    "    study_name=\"xgb\",\n",
    "    sampler=optuna.samplers.TPESampler(seed=42),\n",
    ")\n",
    "\n",
    "objective = Objective(X_train, y_train, random_state=42)\n",
    "study.optimize(objective, n_trials=100)"
   ]
  },
  {
   "cell_type": "markdown",
   "id": "dd674f6f",
   "metadata": {},
   "source": [
    "### 📊 Model Evaluation"
   ]
  },
  {
   "cell_type": "code",
   "execution_count": 321,
   "id": "d8763195",
   "metadata": {},
   "outputs": [],
   "source": [
    "model = xgb.XGBClassifier(**study.best_params, eval_metric=\"logloss\", random_state=42)\n",
    "model.fit(X_train, y_train)\n",
    "\n",
    "y_proba = model.predict_proba(X_valid)[:, 1]\n",
    "y_pred = y_proba > 0.5"
   ]
  },
  {
   "cell_type": "code",
   "execution_count": 322,
   "id": "c53ceb80",
   "metadata": {},
   "outputs": [
    {
     "name": "stdout",
     "output_type": "stream",
     "text": [
      "\u001b[32mBest hyperparameters found:\u001b[0m {'n_estimators': 206, 'max_depth': 6, 'learning_rate': 0.020620817276479204, 'subsample': 0.8578309891148542, 'colsample_bytree': 0.9140606511470843}\n",
      "\u001b[33mBest CV score:\u001b[0m 0.852112676056338\n"
     ]
    }
   ],
   "source": [
    "print(f\"{Fore.GREEN}Best hyperparameters found:{Style.RESET_ALL}\", study.best_params)\n",
    "print(f\"{Fore.YELLOW}Best CV score:{Style.RESET_ALL}\", study.best_value)"
   ]
  },
  {
   "cell_type": "code",
   "execution_count": 323,
   "id": "843ba27f",
   "metadata": {},
   "outputs": [
    {
     "data": {
      "application/vnd.plotly.v1+json": {
       "config": {
        "plotlyServerURL": "https://plot.ly"
       },
       "data": [
        {
         "mode": "markers",
         "name": "Objective Value",
         "type": "scatter",
         "x": [
          0,
          1,
          2,
          3,
          4,
          5,
          6,
          7,
          8,
          9,
          10,
          11,
          12,
          13,
          14,
          15,
          16,
          17,
          18,
          19,
          20,
          21,
          22,
          23,
          24,
          25,
          26,
          27,
          28,
          29,
          30,
          31,
          32,
          33,
          34,
          35,
          36,
          37,
          38,
          39,
          40,
          41,
          42,
          43,
          44,
          45,
          46,
          47,
          48,
          49,
          50,
          51,
          52,
          53,
          54,
          55,
          56,
          57,
          58,
          59,
          60,
          61,
          62,
          63,
          64,
          65,
          66,
          67,
          68,
          69,
          70,
          71,
          72,
          73,
          74,
          75,
          76,
          77,
          78,
          79,
          80,
          81,
          82,
          83,
          84,
          85,
          86,
          87,
          88,
          89,
          90,
          91,
          92,
          93,
          94,
          95,
          96,
          97,
          98,
          99
         ],
         "y": [
          0.8098591549295775,
          0.8309859154929577,
          0.823943661971831,
          0.8380281690140845,
          0.823943661971831,
          0.8309859154929577,
          0.8169014084507042,
          0.8450704225352113,
          0.8098591549295775,
          0.8309859154929577,
          0.8309859154929577,
          0.8380281690140845,
          0.8028169014084507,
          0.8380281690140845,
          0.8450704225352113,
          0.8450704225352113,
          0.8380281690140845,
          0.8380281690140845,
          0.8309859154929577,
          0.8380281690140845,
          0.823943661971831,
          0.8309859154929577,
          0.8380281690140845,
          0.8309859154929577,
          0.8309859154929577,
          0.8309859154929577,
          0.8380281690140845,
          0.8309859154929577,
          0.795774647887324,
          0.8309859154929577,
          0.8380281690140845,
          0.8309859154929577,
          0.8380281690140845,
          0.8309859154929577,
          0.8380281690140845,
          0.8169014084507042,
          0.8380281690140845,
          0.8380281690140845,
          0.8251748251748252,
          0.8450704225352113,
          0.823943661971831,
          0.8450704225352113,
          0.8309859154929577,
          0.8450704225352113,
          0.8309859154929577,
          0.8450704225352113,
          0.8380281690140845,
          0.8380281690140845,
          0.8380281690140845,
          0.8309859154929577,
          0.8380281690140845,
          0.8450704225352113,
          0.8450704225352113,
          0.8450704225352113,
          0.8450704225352113,
          0.8450704225352113,
          0.823943661971831,
          0.823943661971831,
          0.8380281690140845,
          0.8309859154929577,
          0.8380281690140845,
          0.852112676056338,
          0.8380281690140845,
          0.8309859154929577,
          0.8450704225352113,
          0.8169014084507042,
          0.8309859154929577,
          0.8309859154929577,
          0.8309859154929577,
          0.8380281690140845,
          0.8380281690140845,
          0.8450704225352113,
          0.8450704225352113,
          0.8169014084507042,
          0.8450704225352113,
          0.8380281690140845,
          0.8380281690140845,
          0.8380281690140845,
          0.8380281690140845,
          0.8380281690140845,
          0.8309859154929577,
          0.8450704225352113,
          0.8450704225352113,
          0.8309859154929577,
          0.8450704225352113,
          0.8450704225352113,
          0.8380281690140845,
          0.8450704225352113,
          0.8450704225352113,
          0.8028169014084507,
          0.8450704225352113,
          0.8450704225352113,
          0.8450704225352113,
          0.8380281690140845,
          0.8450704225352113,
          0.8450704225352113,
          0.8450704225352113,
          0.8450704225352113,
          0.8450704225352113,
          0.8450704225352113
         ]
        },
        {
         "mode": "lines",
         "name": "Best Value",
         "type": "scatter",
         "x": [
          0,
          1,
          2,
          3,
          4,
          5,
          6,
          7,
          8,
          9,
          10,
          11,
          12,
          13,
          14,
          15,
          16,
          17,
          18,
          19,
          20,
          21,
          22,
          23,
          24,
          25,
          26,
          27,
          28,
          29,
          30,
          31,
          32,
          33,
          34,
          35,
          36,
          37,
          38,
          39,
          40,
          41,
          42,
          43,
          44,
          45,
          46,
          47,
          48,
          49,
          50,
          51,
          52,
          53,
          54,
          55,
          56,
          57,
          58,
          59,
          60,
          61,
          62,
          63,
          64,
          65,
          66,
          67,
          68,
          69,
          70,
          71,
          72,
          73,
          74,
          75,
          76,
          77,
          78,
          79,
          80,
          81,
          82,
          83,
          84,
          85,
          86,
          87,
          88,
          89,
          90,
          91,
          92,
          93,
          94,
          95,
          96,
          97,
          98,
          99
         ],
         "y": [
          0.8098591549295775,
          0.8309859154929577,
          0.8309859154929577,
          0.8380281690140845,
          0.8380281690140845,
          0.8380281690140845,
          0.8380281690140845,
          0.8450704225352113,
          0.8450704225352113,
          0.8450704225352113,
          0.8450704225352113,
          0.8450704225352113,
          0.8450704225352113,
          0.8450704225352113,
          0.8450704225352113,
          0.8450704225352113,
          0.8450704225352113,
          0.8450704225352113,
          0.8450704225352113,
          0.8450704225352113,
          0.8450704225352113,
          0.8450704225352113,
          0.8450704225352113,
          0.8450704225352113,
          0.8450704225352113,
          0.8450704225352113,
          0.8450704225352113,
          0.8450704225352113,
          0.8450704225352113,
          0.8450704225352113,
          0.8450704225352113,
          0.8450704225352113,
          0.8450704225352113,
          0.8450704225352113,
          0.8450704225352113,
          0.8450704225352113,
          0.8450704225352113,
          0.8450704225352113,
          0.8450704225352113,
          0.8450704225352113,
          0.8450704225352113,
          0.8450704225352113,
          0.8450704225352113,
          0.8450704225352113,
          0.8450704225352113,
          0.8450704225352113,
          0.8450704225352113,
          0.8450704225352113,
          0.8450704225352113,
          0.8450704225352113,
          0.8450704225352113,
          0.8450704225352113,
          0.8450704225352113,
          0.8450704225352113,
          0.8450704225352113,
          0.8450704225352113,
          0.8450704225352113,
          0.8450704225352113,
          0.8450704225352113,
          0.8450704225352113,
          0.8450704225352113,
          0.852112676056338,
          0.852112676056338,
          0.852112676056338,
          0.852112676056338,
          0.852112676056338,
          0.852112676056338,
          0.852112676056338,
          0.852112676056338,
          0.852112676056338,
          0.852112676056338,
          0.852112676056338,
          0.852112676056338,
          0.852112676056338,
          0.852112676056338,
          0.852112676056338,
          0.852112676056338,
          0.852112676056338,
          0.852112676056338,
          0.852112676056338,
          0.852112676056338,
          0.852112676056338,
          0.852112676056338,
          0.852112676056338,
          0.852112676056338,
          0.852112676056338,
          0.852112676056338,
          0.852112676056338,
          0.852112676056338,
          0.852112676056338,
          0.852112676056338,
          0.852112676056338,
          0.852112676056338,
          0.852112676056338,
          0.852112676056338,
          0.852112676056338,
          0.852112676056338,
          0.852112676056338,
          0.852112676056338,
          0.852112676056338
         ]
        },
        {
         "marker": {
          "color": "#cccccc"
         },
         "mode": "markers",
         "name": "Infeasible Trial",
         "showlegend": false,
         "type": "scatter",
         "x": [],
         "y": []
        }
       ],
       "layout": {
        "template": {
         "data": {
          "bar": [
           {
            "error_x": {
             "color": "#2a3f5f"
            },
            "error_y": {
             "color": "#2a3f5f"
            },
            "marker": {
             "line": {
              "color": "#E5ECF6",
              "width": 0.5
             },
             "pattern": {
              "fillmode": "overlay",
              "size": 10,
              "solidity": 0.2
             }
            },
            "type": "bar"
           }
          ],
          "barpolar": [
           {
            "marker": {
             "line": {
              "color": "#E5ECF6",
              "width": 0.5
             },
             "pattern": {
              "fillmode": "overlay",
              "size": 10,
              "solidity": 0.2
             }
            },
            "type": "barpolar"
           }
          ],
          "carpet": [
           {
            "aaxis": {
             "endlinecolor": "#2a3f5f",
             "gridcolor": "white",
             "linecolor": "white",
             "minorgridcolor": "white",
             "startlinecolor": "#2a3f5f"
            },
            "baxis": {
             "endlinecolor": "#2a3f5f",
             "gridcolor": "white",
             "linecolor": "white",
             "minorgridcolor": "white",
             "startlinecolor": "#2a3f5f"
            },
            "type": "carpet"
           }
          ],
          "choropleth": [
           {
            "colorbar": {
             "outlinewidth": 0,
             "ticks": ""
            },
            "type": "choropleth"
           }
          ],
          "contour": [
           {
            "colorbar": {
             "outlinewidth": 0,
             "ticks": ""
            },
            "colorscale": [
             [
              0,
              "#0d0887"
             ],
             [
              0.1111111111111111,
              "#46039f"
             ],
             [
              0.2222222222222222,
              "#7201a8"
             ],
             [
              0.3333333333333333,
              "#9c179e"
             ],
             [
              0.4444444444444444,
              "#bd3786"
             ],
             [
              0.5555555555555556,
              "#d8576b"
             ],
             [
              0.6666666666666666,
              "#ed7953"
             ],
             [
              0.7777777777777778,
              "#fb9f3a"
             ],
             [
              0.8888888888888888,
              "#fdca26"
             ],
             [
              1,
              "#f0f921"
             ]
            ],
            "type": "contour"
           }
          ],
          "contourcarpet": [
           {
            "colorbar": {
             "outlinewidth": 0,
             "ticks": ""
            },
            "type": "contourcarpet"
           }
          ],
          "heatmap": [
           {
            "colorbar": {
             "outlinewidth": 0,
             "ticks": ""
            },
            "colorscale": [
             [
              0,
              "#0d0887"
             ],
             [
              0.1111111111111111,
              "#46039f"
             ],
             [
              0.2222222222222222,
              "#7201a8"
             ],
             [
              0.3333333333333333,
              "#9c179e"
             ],
             [
              0.4444444444444444,
              "#bd3786"
             ],
             [
              0.5555555555555556,
              "#d8576b"
             ],
             [
              0.6666666666666666,
              "#ed7953"
             ],
             [
              0.7777777777777778,
              "#fb9f3a"
             ],
             [
              0.8888888888888888,
              "#fdca26"
             ],
             [
              1,
              "#f0f921"
             ]
            ],
            "type": "heatmap"
           }
          ],
          "histogram": [
           {
            "marker": {
             "pattern": {
              "fillmode": "overlay",
              "size": 10,
              "solidity": 0.2
             }
            },
            "type": "histogram"
           }
          ],
          "histogram2d": [
           {
            "colorbar": {
             "outlinewidth": 0,
             "ticks": ""
            },
            "colorscale": [
             [
              0,
              "#0d0887"
             ],
             [
              0.1111111111111111,
              "#46039f"
             ],
             [
              0.2222222222222222,
              "#7201a8"
             ],
             [
              0.3333333333333333,
              "#9c179e"
             ],
             [
              0.4444444444444444,
              "#bd3786"
             ],
             [
              0.5555555555555556,
              "#d8576b"
             ],
             [
              0.6666666666666666,
              "#ed7953"
             ],
             [
              0.7777777777777778,
              "#fb9f3a"
             ],
             [
              0.8888888888888888,
              "#fdca26"
             ],
             [
              1,
              "#f0f921"
             ]
            ],
            "type": "histogram2d"
           }
          ],
          "histogram2dcontour": [
           {
            "colorbar": {
             "outlinewidth": 0,
             "ticks": ""
            },
            "colorscale": [
             [
              0,
              "#0d0887"
             ],
             [
              0.1111111111111111,
              "#46039f"
             ],
             [
              0.2222222222222222,
              "#7201a8"
             ],
             [
              0.3333333333333333,
              "#9c179e"
             ],
             [
              0.4444444444444444,
              "#bd3786"
             ],
             [
              0.5555555555555556,
              "#d8576b"
             ],
             [
              0.6666666666666666,
              "#ed7953"
             ],
             [
              0.7777777777777778,
              "#fb9f3a"
             ],
             [
              0.8888888888888888,
              "#fdca26"
             ],
             [
              1,
              "#f0f921"
             ]
            ],
            "type": "histogram2dcontour"
           }
          ],
          "mesh3d": [
           {
            "colorbar": {
             "outlinewidth": 0,
             "ticks": ""
            },
            "type": "mesh3d"
           }
          ],
          "parcoords": [
           {
            "line": {
             "colorbar": {
              "outlinewidth": 0,
              "ticks": ""
             }
            },
            "type": "parcoords"
           }
          ],
          "pie": [
           {
            "automargin": true,
            "type": "pie"
           }
          ],
          "scatter": [
           {
            "fillpattern": {
             "fillmode": "overlay",
             "size": 10,
             "solidity": 0.2
            },
            "type": "scatter"
           }
          ],
          "scatter3d": [
           {
            "line": {
             "colorbar": {
              "outlinewidth": 0,
              "ticks": ""
             }
            },
            "marker": {
             "colorbar": {
              "outlinewidth": 0,
              "ticks": ""
             }
            },
            "type": "scatter3d"
           }
          ],
          "scattercarpet": [
           {
            "marker": {
             "colorbar": {
              "outlinewidth": 0,
              "ticks": ""
             }
            },
            "type": "scattercarpet"
           }
          ],
          "scattergeo": [
           {
            "marker": {
             "colorbar": {
              "outlinewidth": 0,
              "ticks": ""
             }
            },
            "type": "scattergeo"
           }
          ],
          "scattergl": [
           {
            "marker": {
             "colorbar": {
              "outlinewidth": 0,
              "ticks": ""
             }
            },
            "type": "scattergl"
           }
          ],
          "scattermap": [
           {
            "marker": {
             "colorbar": {
              "outlinewidth": 0,
              "ticks": ""
             }
            },
            "type": "scattermap"
           }
          ],
          "scattermapbox": [
           {
            "marker": {
             "colorbar": {
              "outlinewidth": 0,
              "ticks": ""
             }
            },
            "type": "scattermapbox"
           }
          ],
          "scatterpolar": [
           {
            "marker": {
             "colorbar": {
              "outlinewidth": 0,
              "ticks": ""
             }
            },
            "type": "scatterpolar"
           }
          ],
          "scatterpolargl": [
           {
            "marker": {
             "colorbar": {
              "outlinewidth": 0,
              "ticks": ""
             }
            },
            "type": "scatterpolargl"
           }
          ],
          "scatterternary": [
           {
            "marker": {
             "colorbar": {
              "outlinewidth": 0,
              "ticks": ""
             }
            },
            "type": "scatterternary"
           }
          ],
          "surface": [
           {
            "colorbar": {
             "outlinewidth": 0,
             "ticks": ""
            },
            "colorscale": [
             [
              0,
              "#0d0887"
             ],
             [
              0.1111111111111111,
              "#46039f"
             ],
             [
              0.2222222222222222,
              "#7201a8"
             ],
             [
              0.3333333333333333,
              "#9c179e"
             ],
             [
              0.4444444444444444,
              "#bd3786"
             ],
             [
              0.5555555555555556,
              "#d8576b"
             ],
             [
              0.6666666666666666,
              "#ed7953"
             ],
             [
              0.7777777777777778,
              "#fb9f3a"
             ],
             [
              0.8888888888888888,
              "#fdca26"
             ],
             [
              1,
              "#f0f921"
             ]
            ],
            "type": "surface"
           }
          ],
          "table": [
           {
            "cells": {
             "fill": {
              "color": "#EBF0F8"
             },
             "line": {
              "color": "white"
             }
            },
            "header": {
             "fill": {
              "color": "#C8D4E3"
             },
             "line": {
              "color": "white"
             }
            },
            "type": "table"
           }
          ]
         },
         "layout": {
          "annotationdefaults": {
           "arrowcolor": "#2a3f5f",
           "arrowhead": 0,
           "arrowwidth": 1
          },
          "autotypenumbers": "strict",
          "coloraxis": {
           "colorbar": {
            "outlinewidth": 0,
            "ticks": ""
           }
          },
          "colorscale": {
           "diverging": [
            [
             0,
             "#8e0152"
            ],
            [
             0.1,
             "#c51b7d"
            ],
            [
             0.2,
             "#de77ae"
            ],
            [
             0.3,
             "#f1b6da"
            ],
            [
             0.4,
             "#fde0ef"
            ],
            [
             0.5,
             "#f7f7f7"
            ],
            [
             0.6,
             "#e6f5d0"
            ],
            [
             0.7,
             "#b8e186"
            ],
            [
             0.8,
             "#7fbc41"
            ],
            [
             0.9,
             "#4d9221"
            ],
            [
             1,
             "#276419"
            ]
           ],
           "sequential": [
            [
             0,
             "#0d0887"
            ],
            [
             0.1111111111111111,
             "#46039f"
            ],
            [
             0.2222222222222222,
             "#7201a8"
            ],
            [
             0.3333333333333333,
             "#9c179e"
            ],
            [
             0.4444444444444444,
             "#bd3786"
            ],
            [
             0.5555555555555556,
             "#d8576b"
            ],
            [
             0.6666666666666666,
             "#ed7953"
            ],
            [
             0.7777777777777778,
             "#fb9f3a"
            ],
            [
             0.8888888888888888,
             "#fdca26"
            ],
            [
             1,
             "#f0f921"
            ]
           ],
           "sequentialminus": [
            [
             0,
             "#0d0887"
            ],
            [
             0.1111111111111111,
             "#46039f"
            ],
            [
             0.2222222222222222,
             "#7201a8"
            ],
            [
             0.3333333333333333,
             "#9c179e"
            ],
            [
             0.4444444444444444,
             "#bd3786"
            ],
            [
             0.5555555555555556,
             "#d8576b"
            ],
            [
             0.6666666666666666,
             "#ed7953"
            ],
            [
             0.7777777777777778,
             "#fb9f3a"
            ],
            [
             0.8888888888888888,
             "#fdca26"
            ],
            [
             1,
             "#f0f921"
            ]
           ]
          },
          "colorway": [
           "#636efa",
           "#EF553B",
           "#00cc96",
           "#ab63fa",
           "#FFA15A",
           "#19d3f3",
           "#FF6692",
           "#B6E880",
           "#FF97FF",
           "#FECB52"
          ],
          "font": {
           "color": "#2a3f5f"
          },
          "geo": {
           "bgcolor": "white",
           "lakecolor": "white",
           "landcolor": "#E5ECF6",
           "showlakes": true,
           "showland": true,
           "subunitcolor": "white"
          },
          "hoverlabel": {
           "align": "left"
          },
          "hovermode": "closest",
          "mapbox": {
           "style": "light"
          },
          "paper_bgcolor": "white",
          "plot_bgcolor": "#E5ECF6",
          "polar": {
           "angularaxis": {
            "gridcolor": "white",
            "linecolor": "white",
            "ticks": ""
           },
           "bgcolor": "#E5ECF6",
           "radialaxis": {
            "gridcolor": "white",
            "linecolor": "white",
            "ticks": ""
           }
          },
          "scene": {
           "xaxis": {
            "backgroundcolor": "#E5ECF6",
            "gridcolor": "white",
            "gridwidth": 2,
            "linecolor": "white",
            "showbackground": true,
            "ticks": "",
            "zerolinecolor": "white"
           },
           "yaxis": {
            "backgroundcolor": "#E5ECF6",
            "gridcolor": "white",
            "gridwidth": 2,
            "linecolor": "white",
            "showbackground": true,
            "ticks": "",
            "zerolinecolor": "white"
           },
           "zaxis": {
            "backgroundcolor": "#E5ECF6",
            "gridcolor": "white",
            "gridwidth": 2,
            "linecolor": "white",
            "showbackground": true,
            "ticks": "",
            "zerolinecolor": "white"
           }
          },
          "shapedefaults": {
           "line": {
            "color": "#2a3f5f"
           }
          },
          "ternary": {
           "aaxis": {
            "gridcolor": "white",
            "linecolor": "white",
            "ticks": ""
           },
           "baxis": {
            "gridcolor": "white",
            "linecolor": "white",
            "ticks": ""
           },
           "bgcolor": "#E5ECF6",
           "caxis": {
            "gridcolor": "white",
            "linecolor": "white",
            "ticks": ""
           }
          },
          "title": {
           "x": 0.05
          },
          "xaxis": {
           "automargin": true,
           "gridcolor": "white",
           "linecolor": "white",
           "ticks": "",
           "title": {
            "standoff": 15
           },
           "zerolinecolor": "white",
           "zerolinewidth": 2
          },
          "yaxis": {
           "automargin": true,
           "gridcolor": "white",
           "linecolor": "white",
           "ticks": "",
           "title": {
            "standoff": 15
           },
           "zerolinecolor": "white",
           "zerolinewidth": 2
          }
         }
        },
        "title": {
         "text": "Optimization History Plot"
        },
        "xaxis": {
         "title": {
          "text": "Trial"
         }
        },
        "yaxis": {
         "title": {
          "text": "Objective Value"
         }
        }
       }
      }
     },
     "metadata": {},
     "output_type": "display_data"
    },
    {
     "data": {
      "application/vnd.plotly.v1+json": {
       "config": {
        "plotlyServerURL": "https://plot.ly"
       },
       "data": [
        {
         "cliponaxis": false,
         "hovertemplate": [
          "max_depth (IntDistribution): 0.027636041102764436<extra></extra>",
          "subsample (FloatDistribution): 0.034742060990401426<extra></extra>",
          "colsample_bytree (FloatDistribution): 0.05634788810215825<extra></extra>",
          "n_estimators (IntDistribution): 0.26419255250627366<extra></extra>",
          "learning_rate (FloatDistribution): 0.6170814572984022<extra></extra>"
         ],
         "name": "Objective Value",
         "orientation": "h",
         "text": [
          "0.03",
          "0.03",
          "0.06",
          "0.26",
          "0.62"
         ],
         "textposition": "outside",
         "type": "bar",
         "x": [
          0.027636041102764436,
          0.034742060990401426,
          0.05634788810215825,
          0.26419255250627366,
          0.6170814572984022
         ],
         "y": [
          "max_depth",
          "subsample",
          "colsample_bytree",
          "n_estimators",
          "learning_rate"
         ]
        }
       ],
       "layout": {
        "template": {
         "data": {
          "bar": [
           {
            "error_x": {
             "color": "#2a3f5f"
            },
            "error_y": {
             "color": "#2a3f5f"
            },
            "marker": {
             "line": {
              "color": "#E5ECF6",
              "width": 0.5
             },
             "pattern": {
              "fillmode": "overlay",
              "size": 10,
              "solidity": 0.2
             }
            },
            "type": "bar"
           }
          ],
          "barpolar": [
           {
            "marker": {
             "line": {
              "color": "#E5ECF6",
              "width": 0.5
             },
             "pattern": {
              "fillmode": "overlay",
              "size": 10,
              "solidity": 0.2
             }
            },
            "type": "barpolar"
           }
          ],
          "carpet": [
           {
            "aaxis": {
             "endlinecolor": "#2a3f5f",
             "gridcolor": "white",
             "linecolor": "white",
             "minorgridcolor": "white",
             "startlinecolor": "#2a3f5f"
            },
            "baxis": {
             "endlinecolor": "#2a3f5f",
             "gridcolor": "white",
             "linecolor": "white",
             "minorgridcolor": "white",
             "startlinecolor": "#2a3f5f"
            },
            "type": "carpet"
           }
          ],
          "choropleth": [
           {
            "colorbar": {
             "outlinewidth": 0,
             "ticks": ""
            },
            "type": "choropleth"
           }
          ],
          "contour": [
           {
            "colorbar": {
             "outlinewidth": 0,
             "ticks": ""
            },
            "colorscale": [
             [
              0,
              "#0d0887"
             ],
             [
              0.1111111111111111,
              "#46039f"
             ],
             [
              0.2222222222222222,
              "#7201a8"
             ],
             [
              0.3333333333333333,
              "#9c179e"
             ],
             [
              0.4444444444444444,
              "#bd3786"
             ],
             [
              0.5555555555555556,
              "#d8576b"
             ],
             [
              0.6666666666666666,
              "#ed7953"
             ],
             [
              0.7777777777777778,
              "#fb9f3a"
             ],
             [
              0.8888888888888888,
              "#fdca26"
             ],
             [
              1,
              "#f0f921"
             ]
            ],
            "type": "contour"
           }
          ],
          "contourcarpet": [
           {
            "colorbar": {
             "outlinewidth": 0,
             "ticks": ""
            },
            "type": "contourcarpet"
           }
          ],
          "heatmap": [
           {
            "colorbar": {
             "outlinewidth": 0,
             "ticks": ""
            },
            "colorscale": [
             [
              0,
              "#0d0887"
             ],
             [
              0.1111111111111111,
              "#46039f"
             ],
             [
              0.2222222222222222,
              "#7201a8"
             ],
             [
              0.3333333333333333,
              "#9c179e"
             ],
             [
              0.4444444444444444,
              "#bd3786"
             ],
             [
              0.5555555555555556,
              "#d8576b"
             ],
             [
              0.6666666666666666,
              "#ed7953"
             ],
             [
              0.7777777777777778,
              "#fb9f3a"
             ],
             [
              0.8888888888888888,
              "#fdca26"
             ],
             [
              1,
              "#f0f921"
             ]
            ],
            "type": "heatmap"
           }
          ],
          "histogram": [
           {
            "marker": {
             "pattern": {
              "fillmode": "overlay",
              "size": 10,
              "solidity": 0.2
             }
            },
            "type": "histogram"
           }
          ],
          "histogram2d": [
           {
            "colorbar": {
             "outlinewidth": 0,
             "ticks": ""
            },
            "colorscale": [
             [
              0,
              "#0d0887"
             ],
             [
              0.1111111111111111,
              "#46039f"
             ],
             [
              0.2222222222222222,
              "#7201a8"
             ],
             [
              0.3333333333333333,
              "#9c179e"
             ],
             [
              0.4444444444444444,
              "#bd3786"
             ],
             [
              0.5555555555555556,
              "#d8576b"
             ],
             [
              0.6666666666666666,
              "#ed7953"
             ],
             [
              0.7777777777777778,
              "#fb9f3a"
             ],
             [
              0.8888888888888888,
              "#fdca26"
             ],
             [
              1,
              "#f0f921"
             ]
            ],
            "type": "histogram2d"
           }
          ],
          "histogram2dcontour": [
           {
            "colorbar": {
             "outlinewidth": 0,
             "ticks": ""
            },
            "colorscale": [
             [
              0,
              "#0d0887"
             ],
             [
              0.1111111111111111,
              "#46039f"
             ],
             [
              0.2222222222222222,
              "#7201a8"
             ],
             [
              0.3333333333333333,
              "#9c179e"
             ],
             [
              0.4444444444444444,
              "#bd3786"
             ],
             [
              0.5555555555555556,
              "#d8576b"
             ],
             [
              0.6666666666666666,
              "#ed7953"
             ],
             [
              0.7777777777777778,
              "#fb9f3a"
             ],
             [
              0.8888888888888888,
              "#fdca26"
             ],
             [
              1,
              "#f0f921"
             ]
            ],
            "type": "histogram2dcontour"
           }
          ],
          "mesh3d": [
           {
            "colorbar": {
             "outlinewidth": 0,
             "ticks": ""
            },
            "type": "mesh3d"
           }
          ],
          "parcoords": [
           {
            "line": {
             "colorbar": {
              "outlinewidth": 0,
              "ticks": ""
             }
            },
            "type": "parcoords"
           }
          ],
          "pie": [
           {
            "automargin": true,
            "type": "pie"
           }
          ],
          "scatter": [
           {
            "fillpattern": {
             "fillmode": "overlay",
             "size": 10,
             "solidity": 0.2
            },
            "type": "scatter"
           }
          ],
          "scatter3d": [
           {
            "line": {
             "colorbar": {
              "outlinewidth": 0,
              "ticks": ""
             }
            },
            "marker": {
             "colorbar": {
              "outlinewidth": 0,
              "ticks": ""
             }
            },
            "type": "scatter3d"
           }
          ],
          "scattercarpet": [
           {
            "marker": {
             "colorbar": {
              "outlinewidth": 0,
              "ticks": ""
             }
            },
            "type": "scattercarpet"
           }
          ],
          "scattergeo": [
           {
            "marker": {
             "colorbar": {
              "outlinewidth": 0,
              "ticks": ""
             }
            },
            "type": "scattergeo"
           }
          ],
          "scattergl": [
           {
            "marker": {
             "colorbar": {
              "outlinewidth": 0,
              "ticks": ""
             }
            },
            "type": "scattergl"
           }
          ],
          "scattermap": [
           {
            "marker": {
             "colorbar": {
              "outlinewidth": 0,
              "ticks": ""
             }
            },
            "type": "scattermap"
           }
          ],
          "scattermapbox": [
           {
            "marker": {
             "colorbar": {
              "outlinewidth": 0,
              "ticks": ""
             }
            },
            "type": "scattermapbox"
           }
          ],
          "scatterpolar": [
           {
            "marker": {
             "colorbar": {
              "outlinewidth": 0,
              "ticks": ""
             }
            },
            "type": "scatterpolar"
           }
          ],
          "scatterpolargl": [
           {
            "marker": {
             "colorbar": {
              "outlinewidth": 0,
              "ticks": ""
             }
            },
            "type": "scatterpolargl"
           }
          ],
          "scatterternary": [
           {
            "marker": {
             "colorbar": {
              "outlinewidth": 0,
              "ticks": ""
             }
            },
            "type": "scatterternary"
           }
          ],
          "surface": [
           {
            "colorbar": {
             "outlinewidth": 0,
             "ticks": ""
            },
            "colorscale": [
             [
              0,
              "#0d0887"
             ],
             [
              0.1111111111111111,
              "#46039f"
             ],
             [
              0.2222222222222222,
              "#7201a8"
             ],
             [
              0.3333333333333333,
              "#9c179e"
             ],
             [
              0.4444444444444444,
              "#bd3786"
             ],
             [
              0.5555555555555556,
              "#d8576b"
             ],
             [
              0.6666666666666666,
              "#ed7953"
             ],
             [
              0.7777777777777778,
              "#fb9f3a"
             ],
             [
              0.8888888888888888,
              "#fdca26"
             ],
             [
              1,
              "#f0f921"
             ]
            ],
            "type": "surface"
           }
          ],
          "table": [
           {
            "cells": {
             "fill": {
              "color": "#EBF0F8"
             },
             "line": {
              "color": "white"
             }
            },
            "header": {
             "fill": {
              "color": "#C8D4E3"
             },
             "line": {
              "color": "white"
             }
            },
            "type": "table"
           }
          ]
         },
         "layout": {
          "annotationdefaults": {
           "arrowcolor": "#2a3f5f",
           "arrowhead": 0,
           "arrowwidth": 1
          },
          "autotypenumbers": "strict",
          "coloraxis": {
           "colorbar": {
            "outlinewidth": 0,
            "ticks": ""
           }
          },
          "colorscale": {
           "diverging": [
            [
             0,
             "#8e0152"
            ],
            [
             0.1,
             "#c51b7d"
            ],
            [
             0.2,
             "#de77ae"
            ],
            [
             0.3,
             "#f1b6da"
            ],
            [
             0.4,
             "#fde0ef"
            ],
            [
             0.5,
             "#f7f7f7"
            ],
            [
             0.6,
             "#e6f5d0"
            ],
            [
             0.7,
             "#b8e186"
            ],
            [
             0.8,
             "#7fbc41"
            ],
            [
             0.9,
             "#4d9221"
            ],
            [
             1,
             "#276419"
            ]
           ],
           "sequential": [
            [
             0,
             "#0d0887"
            ],
            [
             0.1111111111111111,
             "#46039f"
            ],
            [
             0.2222222222222222,
             "#7201a8"
            ],
            [
             0.3333333333333333,
             "#9c179e"
            ],
            [
             0.4444444444444444,
             "#bd3786"
            ],
            [
             0.5555555555555556,
             "#d8576b"
            ],
            [
             0.6666666666666666,
             "#ed7953"
            ],
            [
             0.7777777777777778,
             "#fb9f3a"
            ],
            [
             0.8888888888888888,
             "#fdca26"
            ],
            [
             1,
             "#f0f921"
            ]
           ],
           "sequentialminus": [
            [
             0,
             "#0d0887"
            ],
            [
             0.1111111111111111,
             "#46039f"
            ],
            [
             0.2222222222222222,
             "#7201a8"
            ],
            [
             0.3333333333333333,
             "#9c179e"
            ],
            [
             0.4444444444444444,
             "#bd3786"
            ],
            [
             0.5555555555555556,
             "#d8576b"
            ],
            [
             0.6666666666666666,
             "#ed7953"
            ],
            [
             0.7777777777777778,
             "#fb9f3a"
            ],
            [
             0.8888888888888888,
             "#fdca26"
            ],
            [
             1,
             "#f0f921"
            ]
           ]
          },
          "colorway": [
           "#636efa",
           "#EF553B",
           "#00cc96",
           "#ab63fa",
           "#FFA15A",
           "#19d3f3",
           "#FF6692",
           "#B6E880",
           "#FF97FF",
           "#FECB52"
          ],
          "font": {
           "color": "#2a3f5f"
          },
          "geo": {
           "bgcolor": "white",
           "lakecolor": "white",
           "landcolor": "#E5ECF6",
           "showlakes": true,
           "showland": true,
           "subunitcolor": "white"
          },
          "hoverlabel": {
           "align": "left"
          },
          "hovermode": "closest",
          "mapbox": {
           "style": "light"
          },
          "paper_bgcolor": "white",
          "plot_bgcolor": "#E5ECF6",
          "polar": {
           "angularaxis": {
            "gridcolor": "white",
            "linecolor": "white",
            "ticks": ""
           },
           "bgcolor": "#E5ECF6",
           "radialaxis": {
            "gridcolor": "white",
            "linecolor": "white",
            "ticks": ""
           }
          },
          "scene": {
           "xaxis": {
            "backgroundcolor": "#E5ECF6",
            "gridcolor": "white",
            "gridwidth": 2,
            "linecolor": "white",
            "showbackground": true,
            "ticks": "",
            "zerolinecolor": "white"
           },
           "yaxis": {
            "backgroundcolor": "#E5ECF6",
            "gridcolor": "white",
            "gridwidth": 2,
            "linecolor": "white",
            "showbackground": true,
            "ticks": "",
            "zerolinecolor": "white"
           },
           "zaxis": {
            "backgroundcolor": "#E5ECF6",
            "gridcolor": "white",
            "gridwidth": 2,
            "linecolor": "white",
            "showbackground": true,
            "ticks": "",
            "zerolinecolor": "white"
           }
          },
          "shapedefaults": {
           "line": {
            "color": "#2a3f5f"
           }
          },
          "ternary": {
           "aaxis": {
            "gridcolor": "white",
            "linecolor": "white",
            "ticks": ""
           },
           "baxis": {
            "gridcolor": "white",
            "linecolor": "white",
            "ticks": ""
           },
           "bgcolor": "#E5ECF6",
           "caxis": {
            "gridcolor": "white",
            "linecolor": "white",
            "ticks": ""
           }
          },
          "title": {
           "x": 0.05
          },
          "xaxis": {
           "automargin": true,
           "gridcolor": "white",
           "linecolor": "white",
           "ticks": "",
           "title": {
            "standoff": 15
           },
           "zerolinecolor": "white",
           "zerolinewidth": 2
          },
          "yaxis": {
           "automargin": true,
           "gridcolor": "white",
           "linecolor": "white",
           "ticks": "",
           "title": {
            "standoff": 15
           },
           "zerolinecolor": "white",
           "zerolinewidth": 2
          }
         }
        },
        "title": {
         "text": "Hyperparameter Importances"
        },
        "xaxis": {
         "title": {
          "text": "Hyperparameter Importance"
         }
        },
        "yaxis": {
         "title": {
          "text": "Hyperparameter"
         }
        }
       }
      }
     },
     "metadata": {},
     "output_type": "display_data"
    },
    {
     "data": {
      "application/vnd.plotly.v1+json": {
       "config": {
        "plotlyServerURL": "https://plot.ly"
       },
       "data": [
        {
         "dimensions": [
          {
           "label": "Objective Value",
           "range": [
            0.795774647887324,
            0.852112676056338
           ],
           "values": [
            0.8098591549295775,
            0.8309859154929577,
            0.823943661971831,
            0.8380281690140845,
            0.823943661971831,
            0.8309859154929577,
            0.8169014084507042,
            0.8450704225352113,
            0.8098591549295775,
            0.8309859154929577,
            0.8309859154929577,
            0.8380281690140845,
            0.8028169014084507,
            0.8380281690140845,
            0.8450704225352113,
            0.8450704225352113,
            0.8380281690140845,
            0.8380281690140845,
            0.8309859154929577,
            0.8380281690140845,
            0.823943661971831,
            0.8309859154929577,
            0.8380281690140845,
            0.8309859154929577,
            0.8309859154929577,
            0.8309859154929577,
            0.8380281690140845,
            0.8309859154929577,
            0.795774647887324,
            0.8309859154929577,
            0.8380281690140845,
            0.8309859154929577,
            0.8380281690140845,
            0.8309859154929577,
            0.8380281690140845,
            0.8169014084507042,
            0.8380281690140845,
            0.8380281690140845,
            0.8251748251748252,
            0.8450704225352113,
            0.823943661971831,
            0.8450704225352113,
            0.8309859154929577,
            0.8450704225352113,
            0.8309859154929577,
            0.8450704225352113,
            0.8380281690140845,
            0.8380281690140845,
            0.8380281690140845,
            0.8309859154929577,
            0.8380281690140845,
            0.8450704225352113,
            0.8450704225352113,
            0.8450704225352113,
            0.8450704225352113,
            0.8450704225352113,
            0.823943661971831,
            0.823943661971831,
            0.8380281690140845,
            0.8309859154929577,
            0.8380281690140845,
            0.852112676056338,
            0.8380281690140845,
            0.8309859154929577,
            0.8450704225352113,
            0.8169014084507042,
            0.8309859154929577,
            0.8309859154929577,
            0.8309859154929577,
            0.8380281690140845,
            0.8380281690140845,
            0.8450704225352113,
            0.8450704225352113,
            0.8169014084507042,
            0.8450704225352113,
            0.8380281690140845,
            0.8380281690140845,
            0.8380281690140845,
            0.8380281690140845,
            0.8380281690140845,
            0.8309859154929577,
            0.8450704225352113,
            0.8450704225352113,
            0.8309859154929577,
            0.8450704225352113,
            0.8450704225352113,
            0.8380281690140845,
            0.8450704225352113,
            0.8450704225352113,
            0.8028169014084507,
            0.8450704225352113,
            0.8450704225352113,
            0.8450704225352113,
            0.8380281690140845,
            0.8450704225352113,
            0.8450704225352113,
            0.8450704225352113,
            0.8450704225352113,
            0.8450704225352113,
            0.8450704225352113
           ]
          },
          {
           "label": "colsample_bytree",
           "range": [
            0.5157674739488656,
            0.9994724582082004
           ],
           "values": [
            0.5780093202212182,
            0.8540362888980227,
            0.5909124836035503,
            0.645614570099021,
            0.728034992108518,
            0.5232252063599989,
            0.9828160165372797,
            0.7200762468698007,
            0.6293899908000085,
            0.5924272277627636,
            0.8200442512337782,
            0.6898021217101118,
            0.7975192782750699,
            0.6921539470813262,
            0.8859620061900357,
            0.9311583528393178,
            0.8989974345395086,
            0.7522385470087106,
            0.870576595589974,
            0.7827510604166051,
            0.9624056002161828,
            0.9298249375977756,
            0.921788237671752,
            0.8522020057265056,
            0.9887827522130592,
            0.9466796914072458,
            0.8993662006115332,
            0.8244029099113045,
            0.7586762826070335,
            0.7116319534267631,
            0.65477426123904,
            0.6614811680408486,
            0.5564146727008817,
            0.6367861393932244,
            0.7305883778847562,
            0.866759733500174,
            0.6224387478942691,
            0.7752804854529181,
            0.5157674739488656,
            0.8256455659982395,
            0.825009365415675,
            0.9054165921402635,
            0.8940592932171196,
            0.8491656842905384,
            0.9295295849365484,
            0.8808759747015826,
            0.9597977223447893,
            0.8077367903119201,
            0.8408341986775607,
            0.9000752925333774,
            0.9168125739745253,
            0.8491025429747603,
            0.7841884643995147,
            0.870756939467581,
            0.9447516338866102,
            0.8378010840312999,
            0.9663958406308553,
            0.9994724582082004,
            0.8844908733823711,
            0.7378756622077791,
            0.8052721759516218,
            0.9140606511470843,
            0.9128373780744458,
            0.938157450300917,
            0.8627866693423607,
            0.7047546874378824,
            0.9098143868202186,
            0.971905899540489,
            0.7679327698332195,
            0.8827511053116965,
            0.6760140488592351,
            0.8897618031828173,
            0.8751470150423281,
            0.9508086213891045,
            0.8562945835507294,
            0.9268923259049098,
            0.840971174318096,
            0.9050573723072872,
            0.8246053686217729,
            0.7924975361297093,
            0.8806344739649296,
            0.8547627705728429,
            0.8444796974047261,
            0.9327489610103952,
            0.810084266972672,
            0.8692281564168292,
            0.8942595055053877,
            0.919737998594125,
            0.7462765670100503,
            0.7247904931847367,
            0.8338814121336199,
            0.7910111495191129,
            0.7770520879087924,
            0.8498210262055008,
            0.8112587427455769,
            0.7574670869766996,
            0.8618877718136829,
            0.8239484553732427,
            0.8998524028700169,
            0.9112903244305539
           ]
          },
          {
           "label": "learning_rate",
           "range": [
            -1.9920048791718998,
            -0.5284543102037459
           ],
           "ticktext": [
            "0.0102",
            "0.1",
            "0.296"
           ],
           "tickvals": [
            -1.9920048791718998,
            -1,
            -0.5284543102037459
           ],
           "values": [
            -0.9187561902243455,
            -0.7205528047446865,
            -0.7703812819387316,
            -1.224871121285176,
            -1.5684669301960237,
            -1.240413381110425,
            -1.9039109093480708,
            -1.8557264444077681,
            -1.9492039845423346,
            -1.23179647201826,
            -1.6305305250797173,
            -1.5194038315610687,
            -1.0561173346474297,
            -1.3739306390974542,
            -1.6922480869180454,
            -1.764801352903713,
            -1.750599905815136,
            -1.9782263128766637,
            -1.4333305683421065,
            -1.748938745661182,
            -1.8042212484909623,
            -1.6846247250447148,
            -1.8490144795166827,
            -1.4578015938268742,
            -1.6400217991401203,
            -1.8255421357639603,
            -1.9837800996304726,
            -1.6983969709949247,
            -0.5284543102037459,
            -1.337945701347821,
            -1.566126097804433,
            -1.1686306128183055,
            -1.0944082986021313,
            -0.962370900862431,
            -1.8749787754279197,
            -1.364977487030465,
            -1.4915310438912317,
            -1.2826039573331707,
            -0.8056114481137451,
            -1.6202150847803833,
            -1.601980005274247,
            -1.771338355029842,
            -1.7606543740401932,
            -1.9052820843644824,
            -1.5504396019756046,
            -1.687455840749931,
            -1.7795343219783977,
            -1.9190453353686292,
            -1.6362429096677569,
            -1.7086059223397203,
            -1.8166383443506995,
            -1.92307716799281,
            -1.8752839898267242,
            -1.9676635781611704,
            -1.7525343490223555,
            -1.8684889026423084,
            -1.8101198775135297,
            -1.6334063305145172,
            -1.9920048791718998,
            -1.9174645057111264,
            -1.4240616821486949,
            -1.685694126073294,
            -1.5083084465853398,
            -1.706067103231072,
            -1.7376693163540256,
            -1.5917972730398386,
            -1.8428190686375492,
            -1.7888293781895166,
            -1.633632160448221,
            -1.667384143693748,
            -1.7221198623847485,
            -1.6976462048551337,
            -1.6613360350020632,
            -1.5418737981887454,
            -1.8822219668618567,
            -1.7776340076278665,
            -1.5992180288788416,
            -1.8301902655428048,
            -1.9513595864308217,
            -1.7387369758847673,
            -1.4783675031445656,
            -1.8926295641248012,
            -1.8508621240563252,
            -1.9318213010497751,
            -1.7969104324167073,
            -1.675171158927828,
            -1.9073015444263008,
            -1.7624081919151984,
            -1.826464568559377,
            -0.6427237667497416,
            -1.9419382445952653,
            -1.8697960541374907,
            -1.9906527610796294,
            -1.8953379720015742,
            -1.807514654935102,
            -1.856480844790144,
            -1.7286073906327744,
            -1.9510298017445977,
            -1.7790125647871682,
            -1.6736283716895286
           ]
          },
          {
           "label": "max_depth",
           "range": [
            3,
            12
           ],
           "values": [
            12,
            3,
            12,
            6,
            4,
            4,
            4,
            6,
            7,
            6,
            9,
            9,
            6,
            8,
            6,
            10,
            5,
            8,
            7,
            5,
            10,
            11,
            10,
            7,
            9,
            5,
            8,
            6,
            10,
            11,
            3,
            6,
            7,
            6,
            5,
            4,
            5,
            7,
            12,
            6,
            3,
            6,
            6,
            7,
            4,
            6,
            8,
            5,
            7,
            5,
            6,
            7,
            6,
            8,
            7,
            9,
            7,
            11,
            6,
            5,
            8,
            6,
            6,
            7,
            6,
            5,
            7,
            6,
            8,
            5,
            6,
            6,
            6,
            7,
            6,
            5,
            7,
            6,
            5,
            12,
            6,
            7,
            7,
            9,
            6,
            7,
            7,
            6,
            8,
            5,
            11,
            6,
            6,
            6,
            10,
            7,
            6,
            5,
            7,
            6
           ]
          },
          {
           "label": "n_estimators",
           "range": [
            15,
            300
           ],
           "values": [
            118,
            55,
            15,
            63,
            188,
            238,
            186,
            245,
            45,
            202,
            294,
            110,
            298,
            119,
            240,
            244,
            247,
            261,
            159,
            217,
            272,
            221,
            160,
            273,
            224,
            248,
            184,
            282,
            253,
            129,
            209,
            91,
            87,
            34,
            139,
            71,
            230,
            176,
            18,
            205,
            195,
            236,
            232,
            262,
            241,
            207,
            174,
            261,
            292,
            239,
            214,
            267,
            253,
            279,
            196,
            259,
            227,
            286,
            239,
            268,
            247,
            206,
            218,
            205,
            231,
            196,
            254,
            218,
            300,
            275,
            149,
            209,
            184,
            245,
            225,
            170,
            236,
            190,
            210,
            200,
            264,
            267,
            287,
            257,
            247,
            222,
            241,
            273,
            231,
            250,
            262,
            253,
            239,
            279,
            269,
            213,
            254,
            225,
            234,
            292
           ]
          },
          {
           "label": "subsample",
           "range": [
            0.5089809378074099,
            0.9971509633507086
           ],
           "values": [
            0.7993292420985183,
            0.8005575058716043,
            0.6061695553391381,
            0.7159725093210578,
            0.6831809216468459,
            0.7962072844310213,
            0.9744427686266666,
            0.8421165132560784,
            0.954660201039391,
            0.7733551396716398,
            0.5089809378074099,
            0.8918148105745085,
            0.6671311467835576,
            0.8738214287354173,
            0.6887471426927589,
            0.5978208375617697,
            0.8720186609673024,
            0.6230628168654155,
            0.7301462409376311,
            0.5373950309322091,
            0.9218160365433353,
            0.5851844040992088,
            0.6588403743401356,
            0.5573815453984086,
            0.8338962247920463,
            0.6353370453665218,
            0.7004831188261247,
            0.8363864832487758,
            0.7445812646625429,
            0.5829605220258023,
            0.7620229686292194,
            0.7146835996085172,
            0.6483900816759381,
            0.8159032427681245,
            0.6920791313744391,
            0.7896337135178552,
            0.6013736036651918,
            0.7189076174834867,
            0.673312544821966,
            0.7524568723261787,
            0.7793644003515997,
            0.7554102656794237,
            0.7451557584706547,
            0.8167720193327904,
            0.7617264270904869,
            0.8586368885331196,
            0.9204108318272379,
            0.5100502826467302,
            0.69356178200848,
            0.6220780895967333,
            0.7367416257548233,
            0.8127098334188235,
            0.8439136035944987,
            0.8092709071843074,
            0.7881745740400199,
            0.8808737076999045,
            0.9145707141828788,
            0.8226531652524641,
            0.7681295075869926,
            0.8572906393500376,
            0.7168027650161596,
            0.8578309891148542,
            0.8016264135141453,
            0.9006387799314797,
            0.8493651115070588,
            0.5501542128556914,
            0.9508275792231645,
            0.8279854405665151,
            0.8749042272433865,
            0.7537486558757365,
            0.9971509633507086,
            0.8604553773885233,
            0.8630775586703864,
            0.783908897821245,
            0.8381431336939995,
            0.9053461696011876,
            0.8857127404433014,
            0.6539993418871073,
            0.9364952265385391,
            0.7975456421346283,
            0.5865731437198545,
            0.8178406613580704,
            0.7313476120061094,
            0.8072843357031458,
            0.7764506577728291,
            0.6717933761404966,
            0.829867720384205,
            0.8464427684527361,
            0.7614816203467102,
            0.8645216396734208,
            0.8929746453387287,
            0.8489350482031993,
            0.8415194869285665,
            0.7082191818374388,
            0.64012985477051,
            0.8177663263234113,
            0.7968741387744946,
            0.8102806650055774,
            0.6834180059657913,
            0.8545083182989888
           ]
          }
         ],
         "labelangle": 30,
         "labelside": "bottom",
         "line": {
          "color": [
           0.8098591549295775,
           0.8309859154929577,
           0.823943661971831,
           0.8380281690140845,
           0.823943661971831,
           0.8309859154929577,
           0.8169014084507042,
           0.8450704225352113,
           0.8098591549295775,
           0.8309859154929577,
           0.8309859154929577,
           0.8380281690140845,
           0.8028169014084507,
           0.8380281690140845,
           0.8450704225352113,
           0.8450704225352113,
           0.8380281690140845,
           0.8380281690140845,
           0.8309859154929577,
           0.8380281690140845,
           0.823943661971831,
           0.8309859154929577,
           0.8380281690140845,
           0.8309859154929577,
           0.8309859154929577,
           0.8309859154929577,
           0.8380281690140845,
           0.8309859154929577,
           0.795774647887324,
           0.8309859154929577,
           0.8380281690140845,
           0.8309859154929577,
           0.8380281690140845,
           0.8309859154929577,
           0.8380281690140845,
           0.8169014084507042,
           0.8380281690140845,
           0.8380281690140845,
           0.8251748251748252,
           0.8450704225352113,
           0.823943661971831,
           0.8450704225352113,
           0.8309859154929577,
           0.8450704225352113,
           0.8309859154929577,
           0.8450704225352113,
           0.8380281690140845,
           0.8380281690140845,
           0.8380281690140845,
           0.8309859154929577,
           0.8380281690140845,
           0.8450704225352113,
           0.8450704225352113,
           0.8450704225352113,
           0.8450704225352113,
           0.8450704225352113,
           0.823943661971831,
           0.823943661971831,
           0.8380281690140845,
           0.8309859154929577,
           0.8380281690140845,
           0.852112676056338,
           0.8380281690140845,
           0.8309859154929577,
           0.8450704225352113,
           0.8169014084507042,
           0.8309859154929577,
           0.8309859154929577,
           0.8309859154929577,
           0.8380281690140845,
           0.8380281690140845,
           0.8450704225352113,
           0.8450704225352113,
           0.8169014084507042,
           0.8450704225352113,
           0.8380281690140845,
           0.8380281690140845,
           0.8380281690140845,
           0.8380281690140845,
           0.8380281690140845,
           0.8309859154929577,
           0.8450704225352113,
           0.8450704225352113,
           0.8309859154929577,
           0.8450704225352113,
           0.8450704225352113,
           0.8380281690140845,
           0.8450704225352113,
           0.8450704225352113,
           0.8028169014084507,
           0.8450704225352113,
           0.8450704225352113,
           0.8450704225352113,
           0.8380281690140845,
           0.8450704225352113,
           0.8450704225352113,
           0.8450704225352113,
           0.8450704225352113,
           0.8450704225352113,
           0.8450704225352113
          ],
          "colorbar": {
           "title": {
            "text": "Objective Value"
           }
          },
          "colorscale": [
           [
            0,
            "rgb(247,251,255)"
           ],
           [
            0.125,
            "rgb(222,235,247)"
           ],
           [
            0.25,
            "rgb(198,219,239)"
           ],
           [
            0.375,
            "rgb(158,202,225)"
           ],
           [
            0.5,
            "rgb(107,174,214)"
           ],
           [
            0.625,
            "rgb(66,146,198)"
           ],
           [
            0.75,
            "rgb(33,113,181)"
           ],
           [
            0.875,
            "rgb(8,81,156)"
           ],
           [
            1,
            "rgb(8,48,107)"
           ]
          ],
          "reversescale": false,
          "showscale": true
         },
         "type": "parcoords"
        }
       ],
       "layout": {
        "template": {
         "data": {
          "bar": [
           {
            "error_x": {
             "color": "#2a3f5f"
            },
            "error_y": {
             "color": "#2a3f5f"
            },
            "marker": {
             "line": {
              "color": "#E5ECF6",
              "width": 0.5
             },
             "pattern": {
              "fillmode": "overlay",
              "size": 10,
              "solidity": 0.2
             }
            },
            "type": "bar"
           }
          ],
          "barpolar": [
           {
            "marker": {
             "line": {
              "color": "#E5ECF6",
              "width": 0.5
             },
             "pattern": {
              "fillmode": "overlay",
              "size": 10,
              "solidity": 0.2
             }
            },
            "type": "barpolar"
           }
          ],
          "carpet": [
           {
            "aaxis": {
             "endlinecolor": "#2a3f5f",
             "gridcolor": "white",
             "linecolor": "white",
             "minorgridcolor": "white",
             "startlinecolor": "#2a3f5f"
            },
            "baxis": {
             "endlinecolor": "#2a3f5f",
             "gridcolor": "white",
             "linecolor": "white",
             "minorgridcolor": "white",
             "startlinecolor": "#2a3f5f"
            },
            "type": "carpet"
           }
          ],
          "choropleth": [
           {
            "colorbar": {
             "outlinewidth": 0,
             "ticks": ""
            },
            "type": "choropleth"
           }
          ],
          "contour": [
           {
            "colorbar": {
             "outlinewidth": 0,
             "ticks": ""
            },
            "colorscale": [
             [
              0,
              "#0d0887"
             ],
             [
              0.1111111111111111,
              "#46039f"
             ],
             [
              0.2222222222222222,
              "#7201a8"
             ],
             [
              0.3333333333333333,
              "#9c179e"
             ],
             [
              0.4444444444444444,
              "#bd3786"
             ],
             [
              0.5555555555555556,
              "#d8576b"
             ],
             [
              0.6666666666666666,
              "#ed7953"
             ],
             [
              0.7777777777777778,
              "#fb9f3a"
             ],
             [
              0.8888888888888888,
              "#fdca26"
             ],
             [
              1,
              "#f0f921"
             ]
            ],
            "type": "contour"
           }
          ],
          "contourcarpet": [
           {
            "colorbar": {
             "outlinewidth": 0,
             "ticks": ""
            },
            "type": "contourcarpet"
           }
          ],
          "heatmap": [
           {
            "colorbar": {
             "outlinewidth": 0,
             "ticks": ""
            },
            "colorscale": [
             [
              0,
              "#0d0887"
             ],
             [
              0.1111111111111111,
              "#46039f"
             ],
             [
              0.2222222222222222,
              "#7201a8"
             ],
             [
              0.3333333333333333,
              "#9c179e"
             ],
             [
              0.4444444444444444,
              "#bd3786"
             ],
             [
              0.5555555555555556,
              "#d8576b"
             ],
             [
              0.6666666666666666,
              "#ed7953"
             ],
             [
              0.7777777777777778,
              "#fb9f3a"
             ],
             [
              0.8888888888888888,
              "#fdca26"
             ],
             [
              1,
              "#f0f921"
             ]
            ],
            "type": "heatmap"
           }
          ],
          "histogram": [
           {
            "marker": {
             "pattern": {
              "fillmode": "overlay",
              "size": 10,
              "solidity": 0.2
             }
            },
            "type": "histogram"
           }
          ],
          "histogram2d": [
           {
            "colorbar": {
             "outlinewidth": 0,
             "ticks": ""
            },
            "colorscale": [
             [
              0,
              "#0d0887"
             ],
             [
              0.1111111111111111,
              "#46039f"
             ],
             [
              0.2222222222222222,
              "#7201a8"
             ],
             [
              0.3333333333333333,
              "#9c179e"
             ],
             [
              0.4444444444444444,
              "#bd3786"
             ],
             [
              0.5555555555555556,
              "#d8576b"
             ],
             [
              0.6666666666666666,
              "#ed7953"
             ],
             [
              0.7777777777777778,
              "#fb9f3a"
             ],
             [
              0.8888888888888888,
              "#fdca26"
             ],
             [
              1,
              "#f0f921"
             ]
            ],
            "type": "histogram2d"
           }
          ],
          "histogram2dcontour": [
           {
            "colorbar": {
             "outlinewidth": 0,
             "ticks": ""
            },
            "colorscale": [
             [
              0,
              "#0d0887"
             ],
             [
              0.1111111111111111,
              "#46039f"
             ],
             [
              0.2222222222222222,
              "#7201a8"
             ],
             [
              0.3333333333333333,
              "#9c179e"
             ],
             [
              0.4444444444444444,
              "#bd3786"
             ],
             [
              0.5555555555555556,
              "#d8576b"
             ],
             [
              0.6666666666666666,
              "#ed7953"
             ],
             [
              0.7777777777777778,
              "#fb9f3a"
             ],
             [
              0.8888888888888888,
              "#fdca26"
             ],
             [
              1,
              "#f0f921"
             ]
            ],
            "type": "histogram2dcontour"
           }
          ],
          "mesh3d": [
           {
            "colorbar": {
             "outlinewidth": 0,
             "ticks": ""
            },
            "type": "mesh3d"
           }
          ],
          "parcoords": [
           {
            "line": {
             "colorbar": {
              "outlinewidth": 0,
              "ticks": ""
             }
            },
            "type": "parcoords"
           }
          ],
          "pie": [
           {
            "automargin": true,
            "type": "pie"
           }
          ],
          "scatter": [
           {
            "fillpattern": {
             "fillmode": "overlay",
             "size": 10,
             "solidity": 0.2
            },
            "type": "scatter"
           }
          ],
          "scatter3d": [
           {
            "line": {
             "colorbar": {
              "outlinewidth": 0,
              "ticks": ""
             }
            },
            "marker": {
             "colorbar": {
              "outlinewidth": 0,
              "ticks": ""
             }
            },
            "type": "scatter3d"
           }
          ],
          "scattercarpet": [
           {
            "marker": {
             "colorbar": {
              "outlinewidth": 0,
              "ticks": ""
             }
            },
            "type": "scattercarpet"
           }
          ],
          "scattergeo": [
           {
            "marker": {
             "colorbar": {
              "outlinewidth": 0,
              "ticks": ""
             }
            },
            "type": "scattergeo"
           }
          ],
          "scattergl": [
           {
            "marker": {
             "colorbar": {
              "outlinewidth": 0,
              "ticks": ""
             }
            },
            "type": "scattergl"
           }
          ],
          "scattermap": [
           {
            "marker": {
             "colorbar": {
              "outlinewidth": 0,
              "ticks": ""
             }
            },
            "type": "scattermap"
           }
          ],
          "scattermapbox": [
           {
            "marker": {
             "colorbar": {
              "outlinewidth": 0,
              "ticks": ""
             }
            },
            "type": "scattermapbox"
           }
          ],
          "scatterpolar": [
           {
            "marker": {
             "colorbar": {
              "outlinewidth": 0,
              "ticks": ""
             }
            },
            "type": "scatterpolar"
           }
          ],
          "scatterpolargl": [
           {
            "marker": {
             "colorbar": {
              "outlinewidth": 0,
              "ticks": ""
             }
            },
            "type": "scatterpolargl"
           }
          ],
          "scatterternary": [
           {
            "marker": {
             "colorbar": {
              "outlinewidth": 0,
              "ticks": ""
             }
            },
            "type": "scatterternary"
           }
          ],
          "surface": [
           {
            "colorbar": {
             "outlinewidth": 0,
             "ticks": ""
            },
            "colorscale": [
             [
              0,
              "#0d0887"
             ],
             [
              0.1111111111111111,
              "#46039f"
             ],
             [
              0.2222222222222222,
              "#7201a8"
             ],
             [
              0.3333333333333333,
              "#9c179e"
             ],
             [
              0.4444444444444444,
              "#bd3786"
             ],
             [
              0.5555555555555556,
              "#d8576b"
             ],
             [
              0.6666666666666666,
              "#ed7953"
             ],
             [
              0.7777777777777778,
              "#fb9f3a"
             ],
             [
              0.8888888888888888,
              "#fdca26"
             ],
             [
              1,
              "#f0f921"
             ]
            ],
            "type": "surface"
           }
          ],
          "table": [
           {
            "cells": {
             "fill": {
              "color": "#EBF0F8"
             },
             "line": {
              "color": "white"
             }
            },
            "header": {
             "fill": {
              "color": "#C8D4E3"
             },
             "line": {
              "color": "white"
             }
            },
            "type": "table"
           }
          ]
         },
         "layout": {
          "annotationdefaults": {
           "arrowcolor": "#2a3f5f",
           "arrowhead": 0,
           "arrowwidth": 1
          },
          "autotypenumbers": "strict",
          "coloraxis": {
           "colorbar": {
            "outlinewidth": 0,
            "ticks": ""
           }
          },
          "colorscale": {
           "diverging": [
            [
             0,
             "#8e0152"
            ],
            [
             0.1,
             "#c51b7d"
            ],
            [
             0.2,
             "#de77ae"
            ],
            [
             0.3,
             "#f1b6da"
            ],
            [
             0.4,
             "#fde0ef"
            ],
            [
             0.5,
             "#f7f7f7"
            ],
            [
             0.6,
             "#e6f5d0"
            ],
            [
             0.7,
             "#b8e186"
            ],
            [
             0.8,
             "#7fbc41"
            ],
            [
             0.9,
             "#4d9221"
            ],
            [
             1,
             "#276419"
            ]
           ],
           "sequential": [
            [
             0,
             "#0d0887"
            ],
            [
             0.1111111111111111,
             "#46039f"
            ],
            [
             0.2222222222222222,
             "#7201a8"
            ],
            [
             0.3333333333333333,
             "#9c179e"
            ],
            [
             0.4444444444444444,
             "#bd3786"
            ],
            [
             0.5555555555555556,
             "#d8576b"
            ],
            [
             0.6666666666666666,
             "#ed7953"
            ],
            [
             0.7777777777777778,
             "#fb9f3a"
            ],
            [
             0.8888888888888888,
             "#fdca26"
            ],
            [
             1,
             "#f0f921"
            ]
           ],
           "sequentialminus": [
            [
             0,
             "#0d0887"
            ],
            [
             0.1111111111111111,
             "#46039f"
            ],
            [
             0.2222222222222222,
             "#7201a8"
            ],
            [
             0.3333333333333333,
             "#9c179e"
            ],
            [
             0.4444444444444444,
             "#bd3786"
            ],
            [
             0.5555555555555556,
             "#d8576b"
            ],
            [
             0.6666666666666666,
             "#ed7953"
            ],
            [
             0.7777777777777778,
             "#fb9f3a"
            ],
            [
             0.8888888888888888,
             "#fdca26"
            ],
            [
             1,
             "#f0f921"
            ]
           ]
          },
          "colorway": [
           "#636efa",
           "#EF553B",
           "#00cc96",
           "#ab63fa",
           "#FFA15A",
           "#19d3f3",
           "#FF6692",
           "#B6E880",
           "#FF97FF",
           "#FECB52"
          ],
          "font": {
           "color": "#2a3f5f"
          },
          "geo": {
           "bgcolor": "white",
           "lakecolor": "white",
           "landcolor": "#E5ECF6",
           "showlakes": true,
           "showland": true,
           "subunitcolor": "white"
          },
          "hoverlabel": {
           "align": "left"
          },
          "hovermode": "closest",
          "mapbox": {
           "style": "light"
          },
          "paper_bgcolor": "white",
          "plot_bgcolor": "#E5ECF6",
          "polar": {
           "angularaxis": {
            "gridcolor": "white",
            "linecolor": "white",
            "ticks": ""
           },
           "bgcolor": "#E5ECF6",
           "radialaxis": {
            "gridcolor": "white",
            "linecolor": "white",
            "ticks": ""
           }
          },
          "scene": {
           "xaxis": {
            "backgroundcolor": "#E5ECF6",
            "gridcolor": "white",
            "gridwidth": 2,
            "linecolor": "white",
            "showbackground": true,
            "ticks": "",
            "zerolinecolor": "white"
           },
           "yaxis": {
            "backgroundcolor": "#E5ECF6",
            "gridcolor": "white",
            "gridwidth": 2,
            "linecolor": "white",
            "showbackground": true,
            "ticks": "",
            "zerolinecolor": "white"
           },
           "zaxis": {
            "backgroundcolor": "#E5ECF6",
            "gridcolor": "white",
            "gridwidth": 2,
            "linecolor": "white",
            "showbackground": true,
            "ticks": "",
            "zerolinecolor": "white"
           }
          },
          "shapedefaults": {
           "line": {
            "color": "#2a3f5f"
           }
          },
          "ternary": {
           "aaxis": {
            "gridcolor": "white",
            "linecolor": "white",
            "ticks": ""
           },
           "baxis": {
            "gridcolor": "white",
            "linecolor": "white",
            "ticks": ""
           },
           "bgcolor": "#E5ECF6",
           "caxis": {
            "gridcolor": "white",
            "linecolor": "white",
            "ticks": ""
           }
          },
          "title": {
           "x": 0.05
          },
          "xaxis": {
           "automargin": true,
           "gridcolor": "white",
           "linecolor": "white",
           "ticks": "",
           "title": {
            "standoff": 15
           },
           "zerolinecolor": "white",
           "zerolinewidth": 2
          },
          "yaxis": {
           "automargin": true,
           "gridcolor": "white",
           "linecolor": "white",
           "ticks": "",
           "title": {
            "standoff": 15
           },
           "zerolinecolor": "white",
           "zerolinewidth": 2
          }
         }
        },
        "title": {
         "text": "Parallel Coordinate Plot"
        }
       }
      }
     },
     "metadata": {},
     "output_type": "display_data"
    }
   ],
   "source": [
    "optuna.visualization.plot_optimization_history(study).show()\n",
    "optuna.visualization.plot_param_importances(study).show()\n",
    "optuna.visualization.plot_parallel_coordinate(study).show()"
   ]
  },
  {
   "cell_type": "code",
   "execution_count": 324,
   "id": "7976b2fd",
   "metadata": {},
   "outputs": [
    {
     "data": {
      "text/html": [
       "<div>\n",
       "<style scoped>\n",
       "    .dataframe tbody tr th:only-of-type {\n",
       "        vertical-align: middle;\n",
       "    }\n",
       "\n",
       "    .dataframe tbody tr th {\n",
       "        vertical-align: top;\n",
       "    }\n",
       "\n",
       "    .dataframe thead th {\n",
       "        text-align: right;\n",
       "    }\n",
       "</style>\n",
       "<table border=\"1\" class=\"dataframe\">\n",
       "  <thead>\n",
       "    <tr style=\"text-align: right;\">\n",
       "      <th></th>\n",
       "      <th>Accuracy</th>\n",
       "      <th>Precision</th>\n",
       "      <th>Recall</th>\n",
       "      <th>F1-score</th>\n",
       "      <th>ROC AUC</th>\n",
       "    </tr>\n",
       "  </thead>\n",
       "  <tbody>\n",
       "    <tr>\n",
       "      <th>score</th>\n",
       "      <td>0.860335</td>\n",
       "      <td>0.865672</td>\n",
       "      <td>0.783784</td>\n",
       "      <td>0.822695</td>\n",
       "      <td>0.907722</td>\n",
       "    </tr>\n",
       "  </tbody>\n",
       "</table>\n",
       "</div>"
      ],
      "text/plain": [
       "       Accuracy  Precision    Recall  F1-score   ROC AUC\n",
       "score  0.860335   0.865672  0.783784  0.822695  0.907722"
      ]
     },
     "execution_count": 324,
     "metadata": {},
     "output_type": "execute_result"
    }
   ],
   "source": [
    "evaluate_classification(y_proba, y_valid)"
   ]
  },
  {
   "cell_type": "code",
   "execution_count": 325,
   "id": "fc145506",
   "metadata": {},
   "outputs": [
    {
     "data": {
      "image/png": "[encoded data removed]",
      "text/plain": [
       "<Figure size 640x480 with 1 Axes>"
      ]
     },
     "metadata": {},
     "output_type": "display_data"
    }
   ],
   "source": [
    "plot_confusion_matrix(y_valid, y_pred)"
   ]
  },
  {
   "cell_type": "code",
   "execution_count": 333,
   "id": "8a31e479",
   "metadata": {},
   "outputs": [
    {
     "data": {
      "image/png": "[encoded data removed]",
      "text/plain": [
       "<Figure size 1000x600 with 1 Axes>"
      ]
     },
     "metadata": {},
     "output_type": "display_data"
    }
   ],
   "source": [
    "importance_dict = model.get_booster().get_score(importance_type=\"gain\")\n",
    "\n",
    "importance_df = pd.DataFrame(\n",
    "    {\n",
    "        \"feature\": list(importance_dict.keys()),\n",
    "        \"importance\": list(importance_dict.values()),\n",
    "    }\n",
    ")\n",
    "\n",
    "plot_feature_importance(importance_df)"
   ]
  },
  {
   "cell_type": "markdown",
   "id": "ca5f22ec",
   "metadata": {},
   "source": [
    "### 🧠 Final Model Training"
   ]
  },
  {
   "cell_type": "code",
   "execution_count": 327,
   "id": "be3667c3",
   "metadata": {
    "execution": {
     "iopub.execute_input": "2025-07-30T17:26:22.551139Z",
     "iopub.status.busy": "2025-07-30T17:26:22.550274Z",
     "iopub.status.idle": "2025-07-30T17:26:22.568200Z",
     "shell.execute_reply": "2025-07-30T17:26:22.567147Z"
    },
    "papermill": {
     "duration": 0.040704,
     "end_time": "2025-07-30T17:26:22.570058",
     "exception": false,
     "start_time": "2025-07-30T17:26:22.529354",
     "status": "completed"
    },
    "tags": []
   },
   "outputs": [
    {
     "name": "stdout",
     "output_type": "stream",
     "text": [
      "\u001b[32mSubmission was successfully saved!\u001b[0m\n"
     ]
    }
   ],
   "source": [
    "final_model = xgb.XGBClassifier(\n",
    "    **study.best_params, eval_metric=\"logloss\", random_state=42\n",
    ")\n",
    "final_model.fit(X, y)\n",
    "\n",
    "submission_predictions = final_model.predict(dm.test_df[features])\n",
    "\n",
    "if should_save_submission:\n",
    "    submission_df = pd.DataFrame(\n",
    "        {\"PassengerId\": dm.test_df[\"PassengerId\"], \"Survived\": submission_predictions}\n",
    "    )\n",
    "    submission_df.to_csv(\"submission.csv\", index=False)\n",
    "    print(f\"{Fore.GREEN}Submission was successfully saved!{Style.RESET_ALL}\")\n",
    "else:\n",
    "    print(f\"{Fore.YELLOW}Submission not saved.{Style.RESET_ALL}\")"
   ]
  }
 ],
 "metadata": {
  "kaggle": {
   "accelerator": "none",
   "dataSources": [
    {
     "databundleVersionId": 26502,
     "sourceId": 3136,
     "sourceType": "competition"
    }
   ],
   "dockerImageVersionId": 31089,
   "isGpuEnabled": false,
   "isInternetEnabled": false,
   "language": "python",
   "sourceType": "notebook"
  },
  "kernelspec": {
   "display_name": "python-project-template-py3.13",
   "language": "python",
   "name": "python3"
  },
  "language_info": {
   "codemirror_mode": {
    "name": "ipython",
    "version": 3
   },
   "file_extension": ".py",
   "mimetype": "text/x-python",
   "name": "python",
   "nbconvert_exporter": "python",
   "pygments_lexer": "ipython3",
   "version": "3.13.3"
  },
  "papermill": {
   "default_parameters": {},
   "duration": 47.222052,
   "end_time": "2025-07-30T17:26:23.412466",
   "environment_variables": {},
   "exception": null,
   "input_path": "__notebook__.ipynb",
   "output_path": "__notebook__.ipynb",
   "parameters": {},
   "start_time": "2025-07-30T17:25:36.190414",
   "version": "2.6.0"
  }
 },
 "nbformat": 4,
 "nbformat_minor": 5
}
