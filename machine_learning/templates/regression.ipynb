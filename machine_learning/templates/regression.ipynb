{
 "cells": [
  {
   "cell_type": "markdown",
   "id": "4b0c2d39",
   "metadata": {},
   "source": [
    "# 📈 Regression Template\n",
    "\n",
    "In this notebook, we explore regression using:\n",
    "\n",
    "- **Synthetic data** with Gaussian noise\n",
    "  \n",
    "Evaluation metrics and visualizations are included to compare both implementations."
   ]
  },
  {
   "cell_type": "code",
   "execution_count": 1,
   "id": "60f0d242",
   "metadata": {},
   "outputs": [],
   "source": [
    "import matplotlib.pyplot as plt\n",
    "import numpy as np\n",
    "import seaborn as sns\n",
    "from colorama import Fore, Style\n",
    "from numpy.typing import NDArray\n",
    "from sklearn.metrics import mean_absolute_error, mean_squared_error, r2_score\n",
    "from sklearn.model_selection import train_test_split"
   ]
  },
  {
   "cell_type": "markdown",
   "id": "68abacfa",
   "metadata": {},
   "source": [
    "## 🛠️ Utils"
   ]
  },
  {
   "cell_type": "code",
   "execution_count": 2,
   "id": "0b0714ed",
   "metadata": {},
   "outputs": [],
   "source": [
    "def evaluate_regression(\n",
    "    y_true: NDArray[np.float64], y_pred: NDArray[np.float64]\n",
    ") -> dict[str, float]:\n",
    "    \"\"\"Compute and print regression evaluation metrics.\n",
    "\n",
    "    Args:\n",
    "        y_true (NDArray[np.float64]): True target values.\n",
    "        y_pred (NDArray[np.float64]): Predicted target values.\n",
    "\n",
    "    Returns:\n",
    "        dict[str, float]: MAE, MSE, and R² score.\n",
    "    \"\"\"\n",
    "    mae = mean_absolute_error(y_true, y_pred)\n",
    "    mse = mean_squared_error(y_true, y_pred)\n",
    "    r2 = r2_score(y_true, y_pred)\n",
    "\n",
    "    print(f\"{Fore.CYAN}Mean Absolute Error (MAE):{Style.RESET_ALL} {mae:.4f}\")\n",
    "    print(f\"{Fore.CYAN}Mean Squared Error (MSE):{Style.RESET_ALL} {mse:.4f}\")\n",
    "    print(f\"{Fore.CYAN}R² Score:{Style.RESET_ALL} {r2:.4f}\")\n",
    "\n",
    "    return {\"mae\": mae, \"mse\": mse, \"r2\": r2}"
   ]
  },
  {
   "cell_type": "code",
   "execution_count": 3,
   "id": "e9073d38",
   "metadata": {},
   "outputs": [],
   "source": [
    "def plot_regression_results(\n",
    "    x: NDArray[np.float64],\n",
    "    y: NDArray[np.float64],\n",
    "    X_test: NDArray[np.float64],\n",
    "    y_pred: NDArray[np.float64],\n",
    "    w: float,\n",
    "    b: float,\n",
    "    title: str = \"Regression Plot\",\n",
    ") -> None:\n",
    "    \"\"\"Plot noisy data points, model predictions, and the original regression line.\n",
    "\n",
    "    Args:\n",
    "        x (NDArray[np.float64]): Full input features used to generate noisy data.\n",
    "        y (NDArray[np.float64]): Noisy target values.\n",
    "        X_test (NDArray[np.float64]): Test feature values used for predictions.\n",
    "        y_pred (NDArray[np.float64]): Predicted values from the regression model.\n",
    "        w (float): True slope of the underlying model (for reference line).\n",
    "        b (float): True intercept of the underlying model.\n",
    "        title (str): Title of the plot. Default is \"Regression Plot\".\n",
    "    \"\"\"\n",
    "    x_range = np.linspace(min(x), max(x), 100).reshape(-1, 1)\n",
    "    y_line = b + x_range * w\n",
    "\n",
    "    sns.scatterplot(x=x.flatten(), y=y.flatten(), alpha=0.3, label=\"Noisy data points\")\n",
    "    sns.lineplot(\n",
    "        x=X_test.flatten(),\n",
    "        y=y_pred.flatten(),\n",
    "        color=\"red\",\n",
    "        label=\"Regression line (prediction)\",\n",
    "    )\n",
    "    sns.lineplot(\n",
    "        x=x_range.flatten(),\n",
    "        y=y_line.flatten(),\n",
    "        color=\"green\",\n",
    "        label=\"Original regression line (no noise)\",\n",
    "    )\n",
    "    plt.title(title)\n",
    "    plt.legend()\n",
    "    plt.show()"
   ]
  },
  {
   "cell_type": "markdown",
   "id": "deab1a0e",
   "metadata": {},
   "source": [
    "## 📊 Generate Dataset"
   ]
  },
  {
   "cell_type": "code",
   "execution_count": 4,
   "id": "a85ad8f5",
   "metadata": {},
   "outputs": [],
   "source": [
    "def generate_data(\n",
    "    n: int, w: float, b: float, noise_level: float = 1.0, seed: int = 42\n",
    ") -> tuple[NDArray[np.float64], NDArray[np.float64]]:\n",
    "    \"\"\"Generate synthetic linear data with Gaussian noise.\n",
    "\n",
    "    Args:\n",
    "        n (int): Number of data points to generate.\n",
    "        w (float): Slope of the linear function.\n",
    "        b (float): Intercept of the linear function.\n",
    "        noise_level (float): Standard deviation of Gaussian noise added to the data.\n",
    "        seed (int): Seed for the random number generator.\n",
    "\n",
    "    Returns:\n",
    "        tuple[NDArray[np.float64], NDArray[np.float64]]: Tuple containing the list of x\n",
    "        values and corresponding noisy y values.\n",
    "    \"\"\"\n",
    "    rng = np.random.default_rng(seed)\n",
    "    x = rng.uniform(0, 25, n)\n",
    "    y = w * x + b + rng.normal(0, noise_level, n)\n",
    "    return x, y\n",
    "\n",
    "\n",
    "# Set true parameters of the linear relationship\n",
    "w = 2.5  # Slope coefficient\n",
    "b = 1.5  # Intercept (bias term)\n",
    "\n",
    "# Generate dataset\n",
    "x, y = generate_data(n=1000, w=w, b=b, noise_level=4.5)"
   ]
  },
  {
   "cell_type": "code",
   "execution_count": 5,
   "id": "3272a44c",
   "metadata": {},
   "outputs": [],
   "source": [
    "# Split data into training and testing sets\n",
    "X_train, X_test, y_train, y_test = train_test_split(\n",
    "    x, y, test_size=0.2, random_state=42\n",
    ")\n",
    "\n",
    "# Convert lists to numpy arrays with correct shape for sklearn\n",
    "X_train_np = np.array(X_train).reshape(-1, 1)\n",
    "X_test_np = np.array(X_test).reshape(-1, 1)"
   ]
  }
 ],
 "metadata": {
  "kernelspec": {
   "display_name": ".venv",
   "language": "python",
   "name": "python3"
  },
  "language_info": {
   "codemirror_mode": {
    "name": "ipython",
    "version": 3
   },
   "file_extension": ".py",
   "mimetype": "text/x-python",
   "name": "python",
   "nbconvert_exporter": "python",
   "pygments_lexer": "ipython3",
   "version": "3.12.8"
  }
 },
 "nbformat": 4,
 "nbformat_minor": 5
}
