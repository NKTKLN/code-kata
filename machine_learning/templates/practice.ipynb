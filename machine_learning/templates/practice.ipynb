{
 "cells": [
  {
   "cell_type": "markdown",
   "id": "45b6f184",
   "metadata": {
    "papermill": {
     "duration": 0.006438,
     "end_time": "2025-07-30T17:25:41.202587",
     "exception": false,
     "start_time": "2025-07-30T17:25:41.196149",
     "status": "completed"
    },
    "tags": []
   },
   "source": [
    "# "
   ]
  },
  {
   "cell_type": "markdown",
   "id": "c7b2b922",
   "metadata": {},
   "source": [
    "### ⚙️ Importing Libraries & Environment Setup"
   ]
  },
  {
   "cell_type": "code",
   "execution_count": null,
   "id": "6d1ee72d",
   "metadata": {
    "execution": {
     "iopub.execute_input": "2025-07-30T17:25:43.105382Z",
     "iopub.status.busy": "2025-07-30T17:25:43.104981Z",
     "iopub.status.idle": "2025-07-30T17:25:46.742335Z",
     "shell.execute_reply": "2025-07-30T17:25:46.741410Z"
    },
    "papermill": {
     "duration": 3.645523,
     "end_time": "2025-07-30T17:25:46.744005",
     "exception": false,
     "start_time": "2025-07-30T17:25:43.098482",
     "status": "completed"
    },
    "tags": []
   },
   "outputs": [],
   "source": [
    "import os\n",
    "from typing import Any, Callable\n",
    "\n",
    "import pandas as pd\n",
    "from colorama import Fore, Style\n",
    "from sklearn.model_selection import (\n",
    "    train_test_split,\n",
    ")"
   ]
  },
  {
   "cell_type": "code",
   "execution_count": null,
   "id": "f5b9b09a",
   "metadata": {},
   "outputs": [],
   "source": [
    "%matplotlib inline\n",
    "\n",
    "pd.set_option(\"display.width\", 175)\n",
    "pd.set_option(\"display.max_rows\", 100)\n",
    "pd.set_option(\"display.max_columns\", None)"
   ]
  },
  {
   "cell_type": "code",
   "execution_count": null,
   "id": "7cfaae9e",
   "metadata": {},
   "outputs": [],
   "source": [
    "should_save_submission = True\n",
    "\n",
    "# Determine dataset directory based on environment\n",
    "if os.path.exists(\"/kaggle/input/titanic\"):\n",
    "    dataset_path = \"/kaggle/input/titanic\"  # Kaggle\n",
    "    should_save_submission = True\n",
    "elif os.path.exists(\"./dataset\"):\n",
    "    dataset_path = \"./dataset\"  # Local\n",
    "else:\n",
    "    raise FileNotFoundError(\"Dataset directory not found.\")"
   ]
  },
  {
   "cell_type": "markdown",
   "id": "0ce779c0",
   "metadata": {
    "papermill": {
     "duration": 0.00588,
     "end_time": "2025-07-30T17:25:46.755856",
     "exception": false,
     "start_time": "2025-07-30T17:25:46.749976",
     "status": "completed"
    },
    "tags": []
   },
   "source": [
    "## 🛠️ Utility Functions"
   ]
  },
  {
   "cell_type": "code",
   "execution_count": null,
   "id": "5e95e0a6",
   "metadata": {},
   "outputs": [],
   "source": []
  },
  {
   "cell_type": "code",
   "execution_count": null,
   "id": "2b978a41",
   "metadata": {},
   "outputs": [],
   "source": [
    "class PandasProxy:\n",
    "    \"\"\"A proxy class that provides controlled access to a pandas DataFrame.\"\"\"\n",
    "\n",
    "    def __init__(\n",
    "        self, get_df: Callable[[], pd.DataFrame], set_df: Callable[[pd.DataFrame], None]\n",
    "    ) -> None:\n",
    "        \"\"\"Initialize the proxy with getter and setter functions.\n",
    "\n",
    "        Args:\n",
    "            get_df (Callable[[], pd.DataFrame]): Function to retrieve the DataFrame.\n",
    "            set_df (Callable[[pd.DataFrame], None]): Function to set/update the\n",
    "                DataFrame.\n",
    "        \"\"\"\n",
    "        self._get_df = get_df\n",
    "        self._set_df = set_df\n",
    "\n",
    "    def __getitem__(self, key: Any) -> Any:\n",
    "        \"\"\"Retrieve an item from the proxied DataFrame.\"\"\"\n",
    "        return self._get_df()[key]\n",
    "\n",
    "    def __setitem__(self, key: Any, value: Any) -> None:\n",
    "        \"\"\"Set a value in the proxied DataFrame and update it.\"\"\"\n",
    "        df = self._get_df()\n",
    "        df[key] = value\n",
    "        self._set_df(df)\n",
    "\n",
    "    def __getattr__(self, name: str) -> Any:\n",
    "        \"\"\"Forward attribute access to the proxied DataFrame.\"\"\"\n",
    "        return getattr(self._get_df(), name)\n",
    "\n",
    "\n",
    "class DatasetManager:\n",
    "    \"\"\"Manages training and testing datasets.\n",
    "\n",
    "    This class maintains synchronization between the separate train/test DataFrames and\n",
    "    their concatenated form. Updating the combined DataFrame automatically updates\n",
    "    the individual train and test DataFrames.\n",
    "    \"\"\"\n",
    "\n",
    "    def __init__(self, train_df: pd.DataFrame, test_df: pd.DataFrame) -> None:\n",
    "        \"\"\"Initialize DatasetManager with train and test DataFrames.\n",
    "\n",
    "        Args:\n",
    "            train_df (pd.DataFrame): Training data.\n",
    "            test_df (pd.DataFrame): Testing data.\n",
    "        \"\"\"\n",
    "        self._train_df = train_df.reset_index(drop=True)\n",
    "        self._test_df = test_df.reset_index(drop=True)\n",
    "\n",
    "        self._train_size = len(self._train_df)\n",
    "        self._columns_to_drop_from_test = list(\n",
    "            set(self._train_df.columns) - set(self._test_df.columns)\n",
    "        )\n",
    "        self._combined_df = pd.concat([self._train_df, self._test_df]).reset_index(\n",
    "            drop=True\n",
    "        )\n",
    "\n",
    "        self._combined_df_proxy = PandasProxy(\n",
    "            self._get_combined_df, self._set_combined_df\n",
    "        )\n",
    "\n",
    "        self._assign_names()\n",
    "\n",
    "    def _assign_names(self) -> None:\n",
    "        \"\"\"Assign descriptive names to train, test, and combined DataFrames.\"\"\"\n",
    "        self._train_df.name = \"Training Set\"\n",
    "        self._test_df.name = \"Test Set\"\n",
    "        self._combined_df.name = \"Combined Set\"\n",
    "\n",
    "    def _get_combined_df(self) -> pd.DataFrame:\n",
    "        \"\"\"Get the combined DataFrame of train and test datasets.\n",
    "\n",
    "        Returns:\n",
    "            pd.DataFrame: Concatenated DataFrame of train and test sets.\n",
    "        \"\"\"\n",
    "        return self._combined_df\n",
    "\n",
    "    def _set_combined_df(self, new_combined_df: pd.DataFrame) -> None:\n",
    "        \"\"\"Set the combined DataFrame and update the train and test DataFrames.\n",
    "\n",
    "        Args:\n",
    "            new_combined_df (pd.DataFrame): New combined DataFrame.\n",
    "        \"\"\"\n",
    "        self._combined_df = new_combined_df\n",
    "        self._train_df = self._combined_df.iloc[: self._train_size].reset_index(\n",
    "            drop=True\n",
    "        )\n",
    "        self._test_df = (\n",
    "            self._combined_df.iloc[self._train_size :]\n",
    "            .drop(self._columns_to_drop_from_test, axis=1)\n",
    "            .reset_index(drop=True)\n",
    "        )\n",
    "        self._assign_names()\n",
    "\n",
    "    @property\n",
    "    def combined_df(self) -> PandasProxy:\n",
    "        \"\"\"Get a proxy to the combined DataFrame of train and test datasets.\n",
    "\n",
    "        Returns:\n",
    "            PandasProxy: Proxy object allowing controlled access to the DataFrame.\n",
    "        \"\"\"\n",
    "        return self._combined_df_proxy\n",
    "\n",
    "    @combined_df.setter\n",
    "    def combined_df(self, new_combined_df: pd.DataFrame) -> None:\n",
    "        \"\"\"Set the combined DataFrame and update the train and test DataFrames.\n",
    "\n",
    "        Args:\n",
    "            new_combined_df (pd.DataFrame): New combined DataFrame.\n",
    "        \"\"\"\n",
    "        self._set_combined_df(new_combined_df)\n",
    "\n",
    "    @property\n",
    "    def train_df(self) -> pd.DataFrame:\n",
    "        \"\"\"Get the training DataFrame.\n",
    "\n",
    "        Returns:\n",
    "            pd.DataFrame: Training dataset.\n",
    "        \"\"\"\n",
    "        return self._train_df\n",
    "\n",
    "    @property\n",
    "    def test_df(self) -> pd.DataFrame:\n",
    "        \"\"\"Get the testing DataFrame.\n",
    "\n",
    "        Returns:\n",
    "            pd.DataFrame: Testing dataset.\n",
    "        \"\"\"\n",
    "        return self._test_df\n",
    "\n",
    "    @property\n",
    "    def train_test_dfs(self) -> tuple[pd.DataFrame, pd.DataFrame]:\n",
    "        \"\"\"Get the separate train and test DataFrames.\n",
    "\n",
    "        Returns:\n",
    "            tuple[pd.DataFrame, pd.DataFrame]: Tuple containing (train_df, test_df).\n",
    "        \"\"\"\n",
    "        return self._train_df, self._test_df"
   ]
  },
  {
   "cell_type": "markdown",
   "id": "e6bef9f5",
   "metadata": {
    "papermill": {
     "duration": 0.005726,
     "end_time": "2025-07-30T17:25:46.808594",
     "exception": false,
     "start_time": "2025-07-30T17:25:46.802868",
     "status": "completed"
    },
    "tags": []
   },
   "source": [
    "## 📥 Load and Inspect Dataset"
   ]
  },
  {
   "cell_type": "code",
   "execution_count": null,
   "id": "412c81a2",
   "metadata": {
    "execution": {
     "iopub.execute_input": "2025-07-30T17:25:46.820347Z",
     "iopub.status.busy": "2025-07-30T17:25:46.820009Z",
     "iopub.status.idle": "2025-07-30T17:25:46.848470Z",
     "shell.execute_reply": "2025-07-30T17:25:46.847710Z"
    },
    "papermill": {
     "duration": 0.036542,
     "end_time": "2025-07-30T17:25:46.850287",
     "exception": false,
     "start_time": "2025-07-30T17:25:46.813745",
     "status": "completed"
    },
    "tags": []
   },
   "outputs": [],
   "source": [
    "train_df = pd.read_csv(f\"{dataset_path}/train.csv\")\n",
    "test_df = pd.read_csv(f\"{dataset_path}/test.csv\")\n",
    "dm = DatasetManager(train_df, test_df)"
   ]
  },
  {
   "cell_type": "code",
   "execution_count": null,
   "id": "9bedc9f4",
   "metadata": {
    "execution": {
     "iopub.execute_input": "2025-07-30T17:25:46.862578Z",
     "iopub.status.busy": "2025-07-30T17:25:46.861739Z",
     "iopub.status.idle": "2025-07-30T17:25:46.889529Z",
     "shell.execute_reply": "2025-07-30T17:25:46.888513Z"
    },
    "papermill": {
     "duration": 0.035384,
     "end_time": "2025-07-30T17:25:46.891131",
     "exception": false,
     "start_time": "2025-07-30T17:25:46.855747",
     "status": "completed"
    },
    "tags": []
   },
   "outputs": [],
   "source": [
    "print(f\"{Fore.MAGENTA}DataFrame Info:{Style.RESET_ALL}\")\n",
    "for df in dm.train_test_dfs:\n",
    "    print(f\"\\n{Fore.CYAN}====== {df.name} ======{Style.RESET_ALL}\")\n",
    "    df.info()"
   ]
  },
  {
   "cell_type": "code",
   "execution_count": null,
   "id": "6a67c9f3",
   "metadata": {
    "execution": {
     "iopub.execute_input": "2025-07-30T17:25:46.903781Z",
     "iopub.status.busy": "2025-07-30T17:25:46.903438Z",
     "iopub.status.idle": "2025-07-30T17:25:46.947232Z",
     "shell.execute_reply": "2025-07-30T17:25:46.945962Z"
    },
    "papermill": {
     "duration": 0.052223,
     "end_time": "2025-07-30T17:25:46.949100",
     "exception": false,
     "start_time": "2025-07-30T17:25:46.896877",
     "status": "completed"
    },
    "tags": []
   },
   "outputs": [],
   "source": [
    "print(f\"{Fore.GREEN}DataFrame Description:{Style.RESET_ALL}\")\n",
    "for df in dm.train_test_dfs:\n",
    "    print(f\"\\n{Fore.CYAN}====== {df.name} ======{Style.RESET_ALL}\")\n",
    "    print(df.describe(include=\"all\"))"
   ]
  },
  {
   "cell_type": "code",
   "execution_count": null,
   "id": "89b23743",
   "metadata": {
    "execution": {
     "iopub.execute_input": "2025-07-30T17:25:46.962538Z",
     "iopub.status.busy": "2025-07-30T17:25:46.961617Z",
     "iopub.status.idle": "2025-07-30T17:25:46.970801Z",
     "shell.execute_reply": "2025-07-30T17:25:46.969822Z"
    },
    "papermill": {
     "duration": 0.017265,
     "end_time": "2025-07-30T17:25:46.972228",
     "exception": false,
     "start_time": "2025-07-30T17:25:46.954963",
     "status": "completed"
    },
    "tags": []
   },
   "outputs": [],
   "source": [
    "print(f\"{Fore.YELLOW}First Rows of DataFrame:{Style.RESET_ALL}\")\n",
    "for df in dm.train_test_dfs:\n",
    "    print(f\"\\n{Fore.CYAN}====== {df.name} ======{Style.RESET_ALL}\")\n",
    "    print(df.head())"
   ]
  },
  {
   "cell_type": "code",
   "execution_count": null,
   "id": "8e5ce496",
   "metadata": {
    "execution": {
     "iopub.execute_input": "2025-07-30T17:25:46.984718Z",
     "iopub.status.busy": "2025-07-30T17:25:46.984413Z",
     "iopub.status.idle": "2025-07-30T17:25:46.991105Z",
     "shell.execute_reply": "2025-07-30T17:25:46.990082Z"
    },
    "papermill": {
     "duration": 0.014554,
     "end_time": "2025-07-30T17:25:46.992540",
     "exception": false,
     "start_time": "2025-07-30T17:25:46.977986",
     "status": "completed"
    },
    "tags": []
   },
   "outputs": [],
   "source": [
    "print(f\"{Fore.RED}Missing Values in Each Column:{Style.RESET_ALL}\")\n",
    "for df in dm.train_test_dfs:\n",
    "    print(f\"\\n{Fore.CYAN}====== {df.name} ======{Style.RESET_ALL}\")\n",
    "    print(df.isnull().sum())"
   ]
  },
  {
   "cell_type": "markdown",
   "id": "d1ae0e47",
   "metadata": {
    "papermill": {
     "duration": 0.005642,
     "end_time": "2025-07-30T17:25:47.017203",
     "exception": false,
     "start_time": "2025-07-30T17:25:47.011561",
     "status": "completed"
    },
    "tags": []
   },
   "source": [
    "## 🧹 Feature Engineering"
   ]
  },
  {
   "cell_type": "code",
   "execution_count": null,
   "id": "87375bfc",
   "metadata": {},
   "outputs": [],
   "source": []
  },
  {
   "cell_type": "markdown",
   "id": "c3571442",
   "metadata": {},
   "source": [
    "---"
   ]
  },
  {
   "cell_type": "code",
   "execution_count": null,
   "id": "d5442f33",
   "metadata": {},
   "outputs": [],
   "source": [
    "print(f\"{Fore.RED}Missing Values in Each Column:{Style.RESET_ALL}\")\n",
    "for df in dm.train_test_dfs:\n",
    "    print(f\"\\n{Fore.CYAN}====== {df.name} ======{Style.RESET_ALL}\")\n",
    "    print(df.isnull().sum())"
   ]
  },
  {
   "cell_type": "markdown",
   "id": "af306126",
   "metadata": {
    "papermill": {
     "duration": 0.005455,
     "end_time": "2025-07-30T17:25:47.431948",
     "exception": false,
     "start_time": "2025-07-30T17:25:47.426493",
     "status": "completed"
    },
    "tags": []
   },
   "source": [
    "## 📊 Exploratory Data Visualizations"
   ]
  },
  {
   "cell_type": "code",
   "execution_count": null,
   "id": "cab405d6",
   "metadata": {},
   "outputs": [],
   "source": []
  },
  {
   "cell_type": "markdown",
   "id": "df2e94a2",
   "metadata": {
    "papermill": {
     "duration": 0.011751,
     "end_time": "2025-07-30T17:25:49.879213",
     "exception": false,
     "start_time": "2025-07-30T17:25:49.867462",
     "status": "completed"
    },
    "tags": []
   },
   "source": [
    "## 🧪 Model Training"
   ]
  },
  {
   "cell_type": "code",
   "execution_count": null,
   "id": "e37b887d",
   "metadata": {},
   "outputs": [],
   "source": [
    "features = []\n",
    "\n",
    "X, y = dm.train_df[features], dm.train_df[\"\"]\n",
    "\n",
    "X_train, X_valid, y_train, y_valid = train_test_split(\n",
    "    X, y, test_size=0.2, random_state=42\n",
    ")"
   ]
  },
  {
   "cell_type": "code",
   "execution_count": null,
   "id": "705b47f8",
   "metadata": {},
   "outputs": [],
   "source": []
  },
  {
   "cell_type": "markdown",
   "id": "dd674f6f",
   "metadata": {},
   "source": [
    "### 📊 Model Evaluation"
   ]
  },
  {
   "cell_type": "code",
   "execution_count": null,
   "id": "8a31e479",
   "metadata": {},
   "outputs": [],
   "source": []
  },
  {
   "cell_type": "markdown",
   "id": "ca5f22ec",
   "metadata": {},
   "source": [
    "### 🧠 Final Model Training"
   ]
  },
  {
   "cell_type": "code",
   "execution_count": null,
   "id": "be3667c3",
   "metadata": {
    "execution": {
     "iopub.execute_input": "2025-07-30T17:26:22.551139Z",
     "iopub.status.busy": "2025-07-30T17:26:22.550274Z",
     "iopub.status.idle": "2025-07-30T17:26:22.568200Z",
     "shell.execute_reply": "2025-07-30T17:26:22.567147Z"
    },
    "papermill": {
     "duration": 0.040704,
     "end_time": "2025-07-30T17:26:22.570058",
     "exception": false,
     "start_time": "2025-07-30T17:26:22.529354",
     "status": "completed"
    },
    "tags": []
   },
   "outputs": [],
   "source": [
    "final_model = None\n",
    "final_model.fit(X, y)\n",
    "\n",
    "submission_predictions = final_model.predict(dm.test_df[features])\n",
    "\n",
    "if should_save_submission:\n",
    "    submission_df = pd.DataFrame(\n",
    "        {\"PassengerId\": dm.test_df[\"PassengerId\"], \"Survived\": submission_predictions}\n",
    "    )\n",
    "    submission_df.to_csv(\"submission.csv\", index=False)\n",
    "    print(f\"{Fore.GREEN}Submission was successfully saved!{Style.RESET_ALL}\")\n",
    "else:\n",
    "    print(f\"{Fore.YELLOW}Submission not saved.{Style.RESET_ALL}\")"
   ]
  }
 ],
 "metadata": {
  "kaggle": {
   "accelerator": "none",
   "dataSources": [
    {
     "databundleVersionId": 26502,
     "sourceId": 3136,
     "sourceType": "competition"
    }
   ],
   "dockerImageVersionId": 31089,
   "isGpuEnabled": false,
   "isInternetEnabled": false,
   "language": "python",
   "sourceType": "notebook"
  },
  "kernelspec": {
   "display_name": "python-project-template-py3.13",
   "language": "python",
   "name": "python3"
  },
  "language_info": {
   "codemirror_mode": {
    "name": "ipython",
    "version": 3
   },
   "file_extension": ".py",
   "mimetype": "text/x-python",
   "name": "python",
   "nbconvert_exporter": "python",
   "pygments_lexer": "ipython3",
   "version": "3.13.3"
  },
  "papermill": {
   "default_parameters": {},
   "duration": 47.222052,
   "end_time": "2025-07-30T17:26:23.412466",
   "environment_variables": {},
   "exception": null,
   "input_path": "__notebook__.ipynb",
   "output_path": "__notebook__.ipynb",
   "parameters": {},
   "start_time": "2025-07-30T17:25:36.190414",
   "version": "2.6.0"
  }
 },
 "nbformat": 4,
 "nbformat_minor": 5
}
